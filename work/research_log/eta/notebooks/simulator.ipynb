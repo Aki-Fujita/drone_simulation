{
 "cells": [
  {
   "attachments": {},
   "cell_type": "markdown",
   "metadata": {},
   "source": [
    "### ETAのシミュレーション\n",
    "自動運転車が道路を走る際、\n",
    "\n",
    "Strategic（運行前計画） => Tactical（運行時の計画） => Ground（細かいセンシングなど）\n",
    "\n",
    "の3つのフェーズがある。本研究では2つ目のTacticalフェーズにおける、車両の間隔制御を目的とする。まず、Strategicフェーズでは、だいたい何時頃に何台が到着するかがわかる。それを受けてTacticalフェーズでは実際に道路に到着した車に走路の事前予約（以下、CWP Reservation）を行わせ、その通りに運行する。このシミュレーションはCWP Reservationのアルゴリズムについての研究である。\n",
    "\n",
    "ここでは大きく3つのオブジェクトが登場する\n",
    "\n",
    "1. CWPTable: 予約管理をするテーブル\n",
    "2. Car: 到着時刻に基づきCWPTableに希望時刻を打刻する。\n",
    "3. Simulation: 帯域密度や到着間隔の管理を行う。"
   ]
  },
  {
   "cell_type": "code",
   "execution_count": 10,
   "metadata": {},
   "outputs": [],
   "source": [
    "import random\n",
    "import sys\n",
    "sys.path.append(\"../../../\")\n",
    "from simulation_classes.eta.car import Cars\n",
    "from simulation_classes.eta.CWPTable import CWPTable"
   ]
  },
  {
   "cell_type": "code",
   "execution_count": 11,
   "metadata": {},
   "outputs": [],
   "source": [
    "# 初期設定（独立変数群）\n",
    "CAR_NUM = 4 #時間窓内の車の総数\n",
    "START_TIME = 0\n",
    "GLOBAL_TIME_WINDOW = 20 # Strategic Phaseでの時間幅\n",
    "TOTAL_LENGTH = 2000 # 入り口から出口までの距離 [m]\n",
    "WAYPOINTS_NUM = 20 #constrained way pointの数\n",
    "MEAN_SPEED = 30 # 秒速[m/s]として定義\n",
    "SCALE_FACTOR = 20 #シミュレーション上で距離を変換するための係数\n",
    "TIME_STEP = 1\n",
    "TOTAL_TIME = 1000\n",
    "\n",
    "# 従属的に決まるもの\n",
    "SIMULATION_STEPS = int(TOTAL_TIME / TIME_STEP)\n",
    "WAYPOINTS = [{\"waypoint_idx\": i+1, \"x\": TOTAL_LENGTH / WAYPOINTS_NUM * (i+1)} for i in range(WAYPOINTS_NUM)]\n",
    "\n",
    "\n",
    "arrival_times = sorted([random.uniform(0, GLOBAL_TIME_WINDOW) for _ in range(CAR_NUM)])\n",
    "\n",
    "CARS = [Cars(arrival_time=time, index=index, mean_speed=MEAN_SPEED) for index, time in enumerate(arrival_times)]\n",
    "# for i in range(CAR_NUM):\n",
    "    "
   ]
  },
  {
   "cell_type": "code",
   "execution_count": 12,
   "metadata": {},
   "outputs": [
    {
     "name": "stdout",
     "output_type": "stream",
     "text": [
      "初回\n"
     ]
    }
   ],
   "source": [
    "# 一旦雑にsimulation開始\n",
    "cwp_table = CWPTable(waypoints = WAYPOINTS)\n",
    "\n",
    "for i in range(SIMULATION_STEPS):\n",
    "    t = i * TIME_STEP\n",
    "\n",
    "    for car in CARS:\n",
    "        # この時間に到着する車がいれば打刻する\n",
    "        if car.arrival_time >= t and car.arrival_time < t + TIME_STEP:\n",
    "            desired_list = car.create_desired_list(WAYPOINTS)\n",
    "            # print(desired_list)\n",
    "            is_valid = cwp_table.validate(desired_list)\n",
    "            if is_valid:\n",
    "                cwp_table.register(desired_list)\n",
    "            else:\n",
    "                calibrated_list = cwp_table.calibrate_list(desired_list)\n",
    "                cwp_table.register(calibrated_list)\n",
    "            continue\n",
    "        \n",
    "        # そうでない車は普通に進む\n",
    "        car.proceed(time_step=TIME_STEP)\n",
    "            \n",
    "                \n",
    "\n",
    "\n"
   ]
  },
  {
   "cell_type": "code",
   "execution_count": 22,
   "metadata": {},
   "outputs": [
    {
     "name": "stdout",
     "output_type": "stream",
     "text": [
      "    waypoint_idx       x        eta  car_idx\n",
      "0              1   100.0   7.339641        0\n",
      "1              2   200.0  10.672974        0\n",
      "2              3   300.0  14.006307        0\n",
      "3              4   400.0  17.339641        0\n",
      "4              5   500.0  20.672974        0\n",
      "5              6   600.0  24.006307        0\n",
      "6              7   700.0  27.339641        0\n",
      "7              8   800.0  30.672974        0\n",
      "8              9   900.0  34.006307        0\n",
      "9             10  1000.0  37.339641        0\n",
      "10            11  1100.0  40.672974        0\n",
      "11            12  1200.0  44.006307        0\n",
      "12            13  1300.0  47.339641        0\n",
      "13            14  1400.0  50.672974        0\n",
      "14            15  1500.0  54.006307        0\n",
      "15            16  1600.0  57.339641        0\n",
      "16            17  1700.0  60.672974        0\n",
      "17            18  1800.0  64.006307        0\n",
      "18            19  1900.0  67.339641        0\n",
      "19            20  2000.0  70.672974        0\n",
      "    waypoint_idx       x        eta  car_idx\n",
      "0              1   100.0  10.359202        1\n",
      "1              2   200.0  13.692535        1\n",
      "2              3   300.0  17.025868        1\n",
      "3              4   400.0  20.359202        1\n",
      "4              5   500.0  23.692535        1\n",
      "5              6   600.0  27.025868        1\n",
      "6              7   700.0  30.359202        1\n",
      "7              8   800.0  33.692535        1\n",
      "8              9   900.0  37.025868        1\n",
      "9             10  1000.0  40.359202        1\n",
      "10            11  1100.0  43.692535        1\n",
      "11            12  1200.0  47.025868        1\n",
      "12            13  1300.0  50.359202        1\n",
      "13            14  1400.0  53.692535        1\n",
      "14            15  1500.0  57.025868        1\n",
      "15            16  1600.0  60.359202        1\n",
      "16            17  1700.0  63.692535        1\n",
      "17            18  1800.0  67.025868        1\n",
      "18            19  1900.0  70.359202        1\n",
      "19            20  2000.0  73.692535        1\n"
     ]
    }
   ],
   "source": [
    "df = cwp_table.waypoint_table\n",
    "print(df[df['car_idx'] == 0])\n",
    "print(df[df['car_idx'] == 1])"
   ]
  },
  {
   "cell_type": "code",
   "execution_count": null,
   "metadata": {},
   "outputs": [],
   "source": []
  }
 ],
 "metadata": {
  "kernelspec": {
   "display_name": "Python 3 (ipykernel)",
   "language": "python",
   "name": "python3"
  },
  "language_info": {
   "codemirror_mode": {
    "name": "ipython",
    "version": 3
   },
   "file_extension": ".py",
   "mimetype": "text/x-python",
   "name": "python",
   "nbconvert_exporter": "python",
   "pygments_lexer": "ipython3",
   "version": "3.11.4"
  }
 },
 "nbformat": 4,
 "nbformat_minor": 4
}
