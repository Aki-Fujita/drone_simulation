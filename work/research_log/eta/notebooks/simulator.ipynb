{
 "cells": [
  {
   "attachments": {},
   "cell_type": "markdown",
   "metadata": {},
   "source": [
    "### ETAのシミュレーション\n",
    "自動運転車が道路を走る際、\n",
    "\n",
    "Strategic（運行前計画） => Tactical（運行時の計画） => Ground（細かいセンシングなど）\n",
    "\n",
    "の3つのフェーズがある。本研究では2つ目のTacticalフェーズにおける、車両の間隔制御を目的とする。まず、Strategicフェーズでは、だいたい何時頃に何台が到着するかがわかる。それを受けてTacticalフェーズでは実際に道路に到着した車に走路の事前予約（以下、CWP Reservation）を行わせ、その通りに運行する。このシミュレーションはCWP Reservationのアルゴリズムについての研究である。\n",
    "\n",
    "ここでは大きく3つのオブジェクトが登場する\n",
    "\n",
    "1. CWPTable: 予約管理をするテーブル\n",
    "2. Car: 到着時刻に基づきCWPTableに希望時刻を打刻する。\n",
    "3. Simulation: 帯域密度や到着間隔の管理を行う。"
   ]
  },
  {
   "cell_type": "code",
   "execution_count": 1,
   "metadata": {},
   "outputs": [],
   "source": [
    "import random\n",
    "import sys\n",
    "sys.path.append(\"../../../\")\n",
    "from simulation_classes.eta.car import Cars\n",
    "from simulation_classes.eta.CWPTable import CWPTable\n",
    "sys.path.append(\"../\")\n",
    "from utils import find_delta_v_list, find_delta_x_list"
   ]
  },
  {
   "cell_type": "markdown",
   "metadata": {},
   "source": [
    "### パラメータ\n",
    "\n",
    "- Global Density: 大域密度. 単位時間あたりの流入量\n",
    "- Total_time_window: チケットを売っている時間の合計秒数\n",
    "- window_size: チケット販売を分割する際の時間窓\n",
    "- partition_num: チケット販売の分割数. 1だったら分割なしということ。\n",
    "\n",
    "  ```Total_time_window = window_size * partition_num```\n",
    "  が成立する。"
   ]
  },
  {
   "cell_type": "code",
   "execution_count": 2,
   "metadata": {},
   "outputs": [],
   "source": [
    "# 初期設定（独立変数群）\n",
    "CAR_NUM = 4 #時間窓内の車の総数\n",
    "START_TIME = 0\n",
    "TOTAL_LENGTH = 2000 # 入り口から出口までの距離 [m]\n",
    "WAYPOINTS_NUM = 10 #constrained way pointの数\n",
    "ORIFITH_LENGTH = 5 # 整流区間長さ. 最後のCWPのindexで指定。\n",
    "MEAN_SPEED = 20 # 秒速[m/s]として定義\n",
    "SCALE_FACTOR = 20 #シミュレーション上で距離を変換するための係数\n",
    "TIME_STEP = 1\n",
    "TOTAL_TIME = 100\n",
    "V_MAX = 40\n",
    "\n",
    "# ETAに関する設定\n",
    "GLOBAL_TIME_WINDOW = 20  # Strategic Phaseでの時間幅\n",
    "BATCH_NUM = 3\n",
    "WINDOW_SIZE = (GLOBAL_TIME_WINDOW / BATCH_NUM)\n",
    "DESIRED_TTC = 3 # 目標とする車間時間 [s]\n",
    "DESIRED_SPEED = 25 # 目標とする車間時間 [s]\n",
    "\n",
    "\n",
    "# ETA割り当てのアルゴリズム\n",
    "\"\"\"\n",
    "KISS: 基本的には車のdesiredに合わせる、最初のWaypointからTTCの分だけ空ける\n",
    "CONTROLLED: 全体最適になるように調整\n",
    "\"\"\"\n",
    "ALGORITHM_LIST = [\"KISS\", \"CONTROLLED\", ]\n",
    "ALGORITHM = ALGORITHM_LIST[1]\n",
    "\n",
    "# 車のパラメータ\n",
    "MAX_ACC_REAL_WORLD = 2 # 0.2Gくらい\n",
    "MIN_ACC_REAL_WORLD = 2 # 0.5Gくらい\n",
    "FRONT_BRAKE_REAL_WORLD = 8 # 0.8Gくらい\n",
    "\n",
    "helly_params = {\n",
    "    \"max_accel\":  MAX_ACC_REAL_WORLD,\n",
    "    \"min_accel\": 2,\n",
    "    \"front_car_brake\":FRONT_BRAKE_REAL_WORLD / SCALE_FACTOR,\n",
    "    \"rear_brake_acc\":2,\n",
    "    \"response_time\":0.5, #秒で入れる,\n",
    "    \"lambda_1\": 0.2,\n",
    "    \"lambda_2\": 0.4,\n",
    "    \"d\": 0.499,\n",
    "    \"T_des\": 1.1,\n",
    "    \"isRss\":False\n",
    "  }\n",
    "rss_params = {\n",
    "    \"max_accel\":  MAX_ACC_REAL_WORLD,\n",
    "    \"min_accel\": 2,\n",
    "    \"front_car_brake\":FRONT_BRAKE_REAL_WORLD / SCALE_FACTOR,\n",
    "    \"rear_brake_acc\":2,\n",
    "    \"response_time\":0.5, \n",
    "    \"lambda_1\": 0.2,\n",
    "    \"lambda_2\": 0.4,\n",
    "    \"d\": 0.499,\n",
    "    \"T_des\": 1.1,\n",
    "    \"isRss\":True,\n",
    "  }\n",
    "    "
   ]
  },
  {
   "cell_type": "code",
   "execution_count": 3,
   "metadata": {},
   "outputs": [
    {
     "name": "stdout",
     "output_type": "stream",
     "text": [
      "6.666666666666667\n"
     ]
    }
   ],
   "source": [
    "# 従属的に決まるもの\n",
    "SIMULATION_STEPS = int(TOTAL_TIME / TIME_STEP)\n",
    "WAYPOINTS = [{\"waypoint_idx\": i, \"x\": TOTAL_LENGTH / WAYPOINTS_NUM * (i)} for i in range(WAYPOINTS_NUM+1)]\n",
    "group_id = 0\n",
    "\n",
    "arrival_times = sorted([random.uniform(0, GLOBAL_TIME_WINDOW) for _ in range(CAR_NUM)])\n",
    "\n",
    "CARS = [Cars(arrival_time=time, index=index, mean_speed=MEAN_SPEED, \\\n",
    "              helly_params=helly_params, group_id=group_id, order_in_group=index)\n",
    "              for index, time in enumerate(arrival_times)]\n",
    "# for i in range(CAR_NUM):\n",
    "cwp_table = CWPTable(waypoints = WAYPOINTS, algorithm = ALGORITHM, \\\n",
    "                     global_params={\"WINDOW_SIZE\":WINDOW_SIZE, \"START_TIME\":START_TIME, \"DESIRED_TTC\":DESIRED_TTC, \\\n",
    "                                   \"ORIFITH_EXIT_INDEX\":ORIFITH_LENGTH, \"DESIRED_SPEED\": DESIRED_SPEED, \"V_MAX\":V_MAX})\n"
   ]
  },
  {
   "cell_type": "code",
   "execution_count": 4,
   "metadata": {},
   "outputs": [
    {
     "name": "stdout",
     "output_type": "stream",
     "text": [
      "idx=0, 到着時刻=8.283457928543317\n",
      "control\n",
      "理想到着時刻 40.0\n",
      "{'v_0': 20, 'v_lim': 40, 'v_exit': 25, 'a_max': 2, 'a_dec': 2, 't_0': 8.283457928543317, 't_end': 40.0, 'length': 1000.0}\n",
      "{'is_possible': True, 'Reason': 'OK'}\n",
      "ACD_MAX= 1112.4116828582673\n",
      "CAC_MAX=786.66, course_length=1000.00\n",
      "PROFILE:  ACD\n",
      "m1の解=6.77\n",
      "距離:999.71\n",
      "[{'ACC': 2, 'duration': 6.77001953125, 'initial_speed': 20}, {'ACC': 0, 'duration': 20.676503008956683, 'initial_speed': 33.5400390625}, {'ACC': -2, 'duration': 4.27001953125, 'initial_speed': 33.5400390625}]\n",
      "\n",
      "出口到達時刻:  40.011692318279515\n",
      "出口到達時刻:  40.011692318279515\n",
      "出口到達時刻:  40.011692318279515\n",
      "出口到達時刻:  40.011692318279515\n",
      "出口到達時刻:  40.011692318279515\n",
      "[{'waypoint_idx': 0, 'x': 0.0, 'eta': 8.283457928543317, 'car_idx': 0, 'group_id': 0, 'order_in_group': 0}, {'waypoint_idx': 1, 'x': 200.0, 'eta': 15.61300110514517, 'car_idx': 0, 'group_id': 0, 'order_in_group': 0}, {'waypoint_idx': 2, 'x': 400.0, 'eta': 21.576023379129737, 'car_idx': 0, 'group_id': 0, 'order_in_group': 0}, {'waypoint_idx': 3, 'x': 600.0, 'eta': 27.539045653114307, 'car_idx': 0, 'group_id': 0, 'order_in_group': 0}, {'waypoint_idx': 4, 'x': 800.0, 'eta': 33.50206792709888, 'car_idx': 0, 'group_id': 0, 'order_in_group': 0}, {'waypoint_idx': 5, 'x': 1000.0, 'eta': 40.011692318279515, 'car_idx': 0, 'group_id': 0, 'order_in_group': 0}, {'waypoint_idx': 6, 'x': 1200.0, 'eta': 48.011692318279515, 'car_idx': 0, 'group_id': 0, 'order_in_group': 0}, {'waypoint_idx': 7, 'x': 1400.0, 'eta': 48.011692318279515, 'car_idx': 0, 'group_id': 0, 'order_in_group': 0}, {'waypoint_idx': 8, 'x': 1600.0, 'eta': 48.011692318279515, 'car_idx': 0, 'group_id': 0, 'order_in_group': 0}, {'waypoint_idx': 9, 'x': 1800.0, 'eta': 48.011692318279515, 'car_idx': 0, 'group_id': 0, 'order_in_group': 0}, {'waypoint_idx': 10, 'x': 2000.0, 'eta': 48.011692318279515, 'car_idx': 0, 'group_id': 0, 'order_in_group': 0}]\n",
      "idx=1, 到着時刻=9.829536488995478\n",
      "control\n",
      "理想到着時刻 43.0\n",
      "{'v_0': 20, 'v_lim': 40, 'v_exit': 25, 'a_max': 2, 'a_dec': 2, 't_0': 9.829536488995478, 't_end': 43.0, 'length': 1000.0}\n",
      "{'is_possible': True, 'Reason': 'OK'}\n",
      "ACD_MAX= 1170.5685404401809\n",
      "CAC_MAX=823.01, course_length=1000.00\n",
      "PROFILE:  ACD\n",
      "m1の解=5.73\n",
      "距離:1000.28\n",
      "[{'ACC': 2, 'duration': 5.72998046875, 'initial_speed': 20}, {'ACC': 0, 'duration': 24.21050257350452, 'initial_speed': 31.4599609375}, {'ACC': -2, 'duration': 3.22998046875, 'initial_speed': 31.4599609375}]\n",
      "\n",
      "出口到達時刻:  42.98896341887658\n",
      "出口到達時刻:  42.98896341887658\n",
      "出口到達時刻:  42.98896341887658\n",
      "出口到達時刻:  42.98896341887658\n",
      "出口到達時刻:  42.98896341887658\n",
      "[{'waypoint_idx': 0, 'x': 0.0, 'eta': 9.829536488995478, 'car_idx': 1, 'group_id': 0, 'order_in_group': 1}, {'waypoint_idx': 1, 'x': 200.0, 'eta': 17.230457190544154, 'car_idx': 1, 'group_id': 0, 'order_in_group': 1}, {'waypoint_idx': 2, 'x': 400.0, 'eta': 23.58774416865994, 'car_idx': 1, 'group_id': 0, 'order_in_group': 1}, {'waypoint_idx': 3, 'x': 600.0, 'eta': 29.945031146775726, 'car_idx': 1, 'group_id': 0, 'order_in_group': 1}, {'waypoint_idx': 4, 'x': 800.0, 'eta': 36.30231812489151, 'car_idx': 1, 'group_id': 0, 'order_in_group': 1}, {'waypoint_idx': 5, 'x': 1000.0, 'eta': 42.98896341887658, 'car_idx': 1, 'group_id': 0, 'order_in_group': 1}, {'waypoint_idx': 6, 'x': 1200.0, 'eta': 50.98896341887658, 'car_idx': 1, 'group_id': 0, 'order_in_group': 1}, {'waypoint_idx': 7, 'x': 1400.0, 'eta': 50.98896341887658, 'car_idx': 1, 'group_id': 0, 'order_in_group': 1}, {'waypoint_idx': 8, 'x': 1600.0, 'eta': 50.98896341887658, 'car_idx': 1, 'group_id': 0, 'order_in_group': 1}, {'waypoint_idx': 9, 'x': 1800.0, 'eta': 50.98896341887658, 'car_idx': 1, 'group_id': 0, 'order_in_group': 1}, {'waypoint_idx': 10, 'x': 2000.0, 'eta': 50.98896341887658, 'car_idx': 1, 'group_id': 0, 'order_in_group': 1}]\n",
      "idx=2, 到着時刻=16.610010572158767\n",
      "control\n",
      "理想到着時刻 46.0\n",
      "{'v_0': 20, 'v_lim': 40, 'v_exit': 25, 'a_max': 2, 'a_dec': 2, 't_0': 16.610010572158767, 't_end': 46.0, 'length': 1000.0}\n",
      "{'is_possible': True, 'Reason': 'OK'}\n",
      "ACD_MAX= 1019.3495771136493\n",
      "CAC_MAX=728.50, course_length=1000.00\n",
      "PROFILE:  ACD\n",
      "m1の解=9.23\n",
      "距離:999.88\n",
      "[{'ACC': 2, 'duration': 9.23095703125, 'initial_speed': 20}, {'ACC': 0, 'duration': 13.428075365341233, 'initial_speed': 38.4619140625}, {'ACC': -2, 'duration': 6.73095703125, 'initial_speed': 38.4619140625}]\n",
      "\n",
      "出口到達時刻:  46.004845042893805\n",
      "出口到達時刻:  46.004845042893805\n",
      "出口到達時刻:  46.004845042893805\n",
      "出口到達時刻:  46.004845042893805\n",
      "出口到達時刻:  46.004845042893805\n",
      "[{'waypoint_idx': 0, 'x': 0.0, 'eta': 16.610010572158767, 'car_idx': 2, 'group_id': 0, 'order_in_group': 2}, {'waypoint_idx': 1, 'x': 200.0, 'eta': 23.930518647847542, 'car_idx': 2, 'group_id': 0, 'order_in_group': 2}, {'waypoint_idx': 2, 'x': 400.0, 'eta': 29.225362135898532, 'car_idx': 2, 'group_id': 0, 'order_in_group': 2}, {'waypoint_idx': 3, 'x': 600.0, 'eta': 34.42531135514444, 'car_idx': 2, 'group_id': 0, 'order_in_group': 2}, {'waypoint_idx': 4, 'x': 800.0, 'eta': 39.62862227069535, 'car_idx': 2, 'group_id': 0, 'order_in_group': 2}, {'waypoint_idx': 5, 'x': 1000.0, 'eta': 46.004845042893805, 'car_idx': 2, 'group_id': 0, 'order_in_group': 2}, {'waypoint_idx': 6, 'x': 1200.0, 'eta': 54.004845042893805, 'car_idx': 2, 'group_id': 0, 'order_in_group': 2}, {'waypoint_idx': 7, 'x': 1400.0, 'eta': 54.004845042893805, 'car_idx': 2, 'group_id': 0, 'order_in_group': 2}, {'waypoint_idx': 8, 'x': 1600.0, 'eta': 54.004845042893805, 'car_idx': 2, 'group_id': 0, 'order_in_group': 2}, {'waypoint_idx': 9, 'x': 1800.0, 'eta': 54.004845042893805, 'car_idx': 2, 'group_id': 0, 'order_in_group': 2}, {'waypoint_idx': 10, 'x': 2000.0, 'eta': 54.004845042893805, 'car_idx': 2, 'group_id': 0, 'order_in_group': 2}]\n",
      "idx=3, 到着時刻=16.75028801348343\n",
      "control\n",
      "理想到着時刻 49.0\n",
      "{'v_0': 20, 'v_lim': 40, 'v_exit': 25, 'a_max': 2, 'a_dec': 2, 't_0': 16.75028801348343, 't_end': 49.0, 'length': 1000.0}\n",
      "{'is_possible': True, 'Reason': 'OK'}\n",
      "ACD_MAX= 1133.7384794606628\n",
      "CAC_MAX=799.99, course_length=1000.00\n",
      "PROFILE:  ACD\n",
      "m1の解=6.36\n",
      "距離:999.86\n",
      "[{'ACC': 2, 'duration': 6.35986328125, 'initial_speed': 20}, {'ACC': 0, 'duration': 22.029985424016573, 'initial_speed': 32.7197265625}, {'ACC': -2, 'duration': 3.85986328125, 'initial_speed': 32.7197265625}]\n",
      "\n",
      "出口到達時刻:  49.00578724320468\n",
      "出口到達時刻:  49.00578724320468\n",
      "出口到達時刻:  49.00578724320468\n",
      "出口到達時刻:  49.00578724320468\n",
      "出口到達時刻:  49.00578724320468\n",
      "[{'waypoint_idx': 0, 'x': 0.0, 'eta': 16.75028801348343, 'car_idx': 3, 'group_id': 0, 'order_in_group': 3}, {'waypoint_idx': 1, 'x': 200.0, 'eta': 24.09900043309664, 'car_idx': 3, 'group_id': 0, 'order_in_group': 3}, {'waypoint_idx': 2, 'x': 400.0, 'eta': 30.211520952422116, 'car_idx': 3, 'group_id': 0, 'order_in_group': 3}, {'waypoint_idx': 3, 'x': 600.0, 'eta': 36.32404147174759, 'car_idx': 3, 'group_id': 0, 'order_in_group': 3}, {'waypoint_idx': 4, 'x': 800.0, 'eta': 42.43656199107306, 'car_idx': 3, 'group_id': 0, 'order_in_group': 3}, {'waypoint_idx': 5, 'x': 1000.0, 'eta': 49.00578724320468, 'car_idx': 3, 'group_id': 0, 'order_in_group': 3}, {'waypoint_idx': 6, 'x': 1200.0, 'eta': 57.00578724320468, 'car_idx': 3, 'group_id': 0, 'order_in_group': 3}, {'waypoint_idx': 7, 'x': 1400.0, 'eta': 57.00578724320468, 'car_idx': 3, 'group_id': 0, 'order_in_group': 3}, {'waypoint_idx': 8, 'x': 1600.0, 'eta': 57.00578724320468, 'car_idx': 3, 'group_id': 0, 'order_in_group': 3}, {'waypoint_idx': 9, 'x': 1800.0, 'eta': 57.00578724320468, 'car_idx': 3, 'group_id': 0, 'order_in_group': 3}, {'waypoint_idx': 10, 'x': 2000.0, 'eta': 57.00578724320468, 'car_idx': 3, 'group_id': 0, 'order_in_group': 3}]\n"
     ]
    }
   ],
   "source": [
    "# 一旦雑にsimulation開始\n",
    "\n",
    "for i in range(SIMULATION_STEPS):\n",
    "    t = i * TIME_STEP\n",
    "    delta_x_list = find_delta_x_list(CARS)\n",
    "    delta_v_list = find_delta_v_list(CARS)\n",
    "\n",
    "    for idx, car in enumerate(CARS):\n",
    "        # この時間に到着する車がいれば打刻する\n",
    "        if car.arrival_time >= t and car.arrival_time < t + TIME_STEP:\n",
    "            print(\"idx={0}, 到着時刻={1}\".format(idx, car.arrival_time))\n",
    "            desired_list = car.create_desired_list(WAYPOINTS)\n",
    "            # print(desired_list)\n",
    "            is_valid = cwp_table.validate(desired_list)\n",
    "            if is_valid:\n",
    "                cwp_table.register(desired_list)\n",
    "            else:\n",
    "                calibration_info = {\"desired_list\":desired_list, \"enter_speed\": car.mean_speed, \\\n",
    "                                   \"max_acc\": car.helly_params[\"max_accel\"],  \"max_dec\": car.helly_params[\"rear_brake_acc\"]}\n",
    "                calibrated_list = cwp_table.calibrate_list(**calibration_info)\n",
    "                print(calibrated_list)\n",
    "                cwp_table.register(calibrated_list)\n",
    "            continue\n",
    "        \n",
    "        # そうでない車は普通に進む\n",
    "        # delta_x = delta_x_list[idx]\n",
    "        # delta_v = delta_v_list[idx]\n",
    "        # speed = car.decide_speed(TIME_STEP, delta_x, delta_v)\n",
    "        # print(\"idx:\",idx, \" speed:\",speed)\n",
    "        # print(delta_x_list)\n",
    "        # print(delta_v_list)\n",
    "\n",
    "        # delta_xとdelta_vの計算を移動前にやっているので実質pararellになっている\n",
    "        # car.proceed(time_step=TIME_STEP)\n",
    "        # car.record()\n",
    "            \n",
    "                \n"
   ]
  },
  {
   "cell_type": "code",
   "execution_count": 5,
   "metadata": {},
   "outputs": [
    {
     "name": "stdout",
     "output_type": "stream",
     "text": [
      "    waypoint_idx       x        eta  car_idx  group_id  order_in_group\n",
      "0              0     0.0   8.283458        0         0               0\n",
      "1              1   200.0  15.613001        0         0               0\n",
      "2              2   400.0  21.576023        0         0               0\n",
      "3              3   600.0  27.539046        0         0               0\n",
      "4              4   800.0  33.502068        0         0               0\n",
      "5              5  1000.0  40.011692        0         0               0\n",
      "6              6  1200.0  48.011692        0         0               0\n",
      "7              7  1400.0  48.011692        0         0               0\n",
      "8              8  1600.0  48.011692        0         0               0\n",
      "9              9  1800.0  48.011692        0         0               0\n",
      "10            10  2000.0  48.011692        0         0               0\n",
      "    waypoint_idx       x        eta  car_idx  group_id  order_in_group\n",
      "0              0     0.0   9.829536        1         0               1\n",
      "1              1   200.0  17.230457        1         0               1\n",
      "2              2   400.0  23.587744        1         0               1\n",
      "3              3   600.0  29.945031        1         0               1\n",
      "4              4   800.0  36.302318        1         0               1\n",
      "5              5  1000.0  42.988963        1         0               1\n",
      "6              6  1200.0  50.988963        1         0               1\n",
      "7              7  1400.0  50.988963        1         0               1\n",
      "8              8  1600.0  50.988963        1         0               1\n",
      "9              9  1800.0  50.988963        1         0               1\n",
      "10            10  2000.0  50.988963        1         0               1\n",
      "9.829536488995478\n"
     ]
    }
   ],
   "source": [
    "df = cwp_table.waypoint_table\n",
    "print(df[df['car_idx'] == 0])\n",
    "print(df[df['car_idx'] == 1])\n",
    "print(CARS[1].arrival_time)"
   ]
  },
  {
   "cell_type": "code",
   "execution_count": 6,
   "metadata": {},
   "outputs": [
    {
     "data": {
      "image/png": "[encoded data removed]",
      "text/plain": [
       "<Figure size 600x600 with 1 Axes>"
      ]
     },
     "metadata": {},
     "output_type": "display_data"
    }
   ],
   "source": [
    "cwp_table.plot()"
   ]
  },
  {
   "cell_type": "code",
   "execution_count": 7,
   "metadata": {},
   "outputs": [
    {
     "data": {
      "text/plain": [
       "[{'waypoint_idx': 0, 'x': 0.0},\n",
       " {'waypoint_idx': 1, 'x': 200.0},\n",
       " {'waypoint_idx': 2, 'x': 400.0},\n",
       " {'waypoint_idx': 3, 'x': 600.0},\n",
       " {'waypoint_idx': 4, 'x': 800.0},\n",
       " {'waypoint_idx': 5, 'x': 1000.0},\n",
       " {'waypoint_idx': 6, 'x': 1200.0},\n",
       " {'waypoint_idx': 7, 'x': 1400.0},\n",
       " {'waypoint_idx': 8, 'x': 1600.0},\n",
       " {'waypoint_idx': 9, 'x': 1800.0},\n",
       " {'waypoint_idx': 10, 'x': 2000.0}]"
      ]
     },
     "execution_count": 7,
     "metadata": {},
     "output_type": "execute_result"
    }
   ],
   "source": [
    "cwp_table.waypoints"
   ]
  },
  {
   "cell_type": "code",
   "execution_count": 7,
   "metadata": {},
   "outputs": [
    {
     "ename": "TypeError",
     "evalue": "'NoneType' object is not subscriptable",
     "output_type": "error",
     "traceback": [
      "\u001b[0;31m---------------------------------------------------------------------------\u001b[0m",
      "\u001b[0;31mTypeError\u001b[0m                                 Traceback (most recent call last)",
      "Cell \u001b[0;32mIn[7], line 2\u001b[0m\n\u001b[1;32m      1\u001b[0m a \u001b[38;5;241m=\u001b[39m \u001b[38;5;28;01mNone\u001b[39;00m\n\u001b[0;32m----> 2\u001b[0m \u001b[43ma\u001b[49m\u001b[43m[\u001b[49m\u001b[38;5;241;43m0\u001b[39;49m\u001b[43m]\u001b[49m\n",
      "\u001b[0;31mTypeError\u001b[0m: 'NoneType' object is not subscriptable"
     ]
    }
   ],
   "source": [
    "a = None\n",
    "a[0]"
   ]
  },
  {
   "cell_type": "code",
   "execution_count": null,
   "metadata": {},
   "outputs": [],
   "source": []
  }
 ],
 "metadata": {
  "kernelspec": {
   "display_name": "Python 3 (ipykernel)",
   "language": "python",
   "name": "python3"
  },
  "language_info": {
   "codemirror_mode": {
    "name": "ipython",
    "version": 3
   },
   "file_extension": ".py",
   "mimetype": "text/x-python",
   "name": "python",
   "nbconvert_exporter": "python",
   "pygments_lexer": "ipython3",
   "version": "3.11.4"
  }
 },
 "nbformat": 4,
 "nbformat_minor": 4
}
