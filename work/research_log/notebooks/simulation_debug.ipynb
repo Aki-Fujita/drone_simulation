{
 "cells": [
  {
   "cell_type": "code",
   "execution_count": 4,
   "metadata": {},
   "outputs": [],
   "source": [
    "import sys\n",
    "sys.path.append(\"../../\")\n",
    "from simulation_classes.drones import Drones\n",
    "from simulation_classes.simulation_setting import SimulationSettings\n",
    "import numpy as np\n",
    "%matplotlib inline\n",
    "import matplotlib.pyplot as plt"
   ]
  },
  {
   "cell_type": "code",
   "execution_count": 5,
   "metadata": {},
   "outputs": [
    {
     "name": "stdout",
     "output_type": "stream",
     "text": [
      "この設定だと法定速度は時速216.0km\n",
      "巡航距離は1.5kmです\n"
     ]
    }
   ],
   "source": [
    "TOTAL_TIME = 100\n",
    "time_step = 0.1\n",
    "simulation_steps = int(TOTAL_TIME / time_step)\n",
    "scale_factor = 30\n",
    "legal_speed = 1.5\n",
    "real_legal_speed = max(2, legal_speed) * scale_factor * 3.6\n",
    "TOTAL_DISTANCE = 50\n",
    "boundary_condition = \"FIXED\"\n",
    "UPDATE_RULE = \"parallel\"\n",
    "\n",
    "\n",
    "print(f\"この設定だと法定速度は時速{real_legal_speed}km\")\n",
    "print(f\"巡航距離は{TOTAL_DISTANCE * scale_factor /1000}kmです\")"
   ]
  },
  {
   "cell_type": "code",
   "execution_count": 6,
   "metadata": {},
   "outputs": [
    {
     "name": "stdout",
     "output_type": "stream",
     "text": [
      "最大加速度は0.61G\n",
      "最小加速度は0.46G\n",
      "減速区間の長さは450.00m\n",
      "全区間の長さは1.50km\n"
     ]
    }
   ],
   "source": [
    "DRONE_NUM = 10\n",
    "v_0 = 0\n",
    "a = 1\n",
    "c = 2\n",
    "max_acc = 0.2 \n",
    "min_acc = 0.15 if boundary_condition ==\"FIXED\" else -1\n",
    "x_end = TOTAL_DISTANCE if boundary_condition ==\"FIXED\" else 1e6\n",
    "\n",
    "drone_list_1 = [Drones(xcor=i * (-1),\n",
    "                     ycor=0, \n",
    "                     v_0=0,\n",
    "                     a=a,\n",
    "                     c=c,\n",
    "                     legal_speed=legal_speed, \n",
    "                     scale_factor=scale_factor,\n",
    "                     drone_idx = i,\n",
    "                     min_acc=min_acc,\n",
    "                     x_end = x_end )\n",
    "               for i in range(DRONE_NUM)]\n",
    "\n",
    "drone_list_2 = [Drones(xcor=i * (-1),\n",
    "                     ycor=0, \n",
    "                     v_0=0,\n",
    "                     a=a,\n",
    "                     c=c,\n",
    "                     legal_speed=legal_speed, \n",
    "                     scale_factor=scale_factor,\n",
    "                     drone_idx = i,\n",
    "                     min_acc=min_acc,\n",
    "                     x_end = x_end )\n",
    "               for i in range(DRONE_NUM)]\n",
    "print(\"最大加速度は{:.2f}G\".format(max_acc * scale_factor / 9.8))\n",
    "print(\"最小加速度は{:.2f}G\".format(min_acc * scale_factor / 9.8))\n",
    "print(\"減速区間の長さは{:.2f}m\".format((legal_speed**2 / min_acc) * scale_factor))\n",
    "if (TOTAL_DISTANCE is not None):\n",
    "    print(\"全区間の長さは{:.2f}km\".format(TOTAL_DISTANCE* scale_factor/1000))\n",
    "\n"
   ]
  },
  {
   "cell_type": "code",
   "execution_count": 7,
   "metadata": {},
   "outputs": [],
   "source": [
    "simulation = SimulationSettings(\n",
    "    TOTAL_TIME=TOTAL_TIME, \n",
    "    time_step=time_step, \n",
    "    scale_factor=scale_factor,\n",
    "    drone_list=drone_list_1,\n",
    "    boundary_condition=boundary_condition,\n",
    "    TOTAL_DISTANCE=TOTAL_DISTANCE,\n",
    "    UPDATE_RULE=\"parallel\" )\n",
    "\n",
    "simulation_2 = SimulationSettings(\n",
    "    TOTAL_TIME=TOTAL_TIME, \n",
    "    time_step=time_step, \n",
    "    scale_factor=scale_factor,\n",
    "    drone_list=drone_list_2,\n",
    "    boundary_condition=boundary_condition,\n",
    "    TOTAL_DISTANCE=TOTAL_DISTANCE,\n",
    "    UPDATE_RULE=\"sequential\" )"
   ]
  },
  {
   "cell_type": "code",
   "execution_count": 8,
   "metadata": {},
   "outputs": [
    {
     "name": "stdout",
     "output_type": "stream",
     "text": [
      "===PARALLEL実行===\n",
      "===Sequential実行===\n"
     ]
    }
   ],
   "source": [
    "simulation.run()\n",
    "simulation_2.run()"
   ]
  },
  {
   "cell_type": "code",
   "execution_count": 24,
   "metadata": {},
   "outputs": [
    {
     "name": "stdout",
     "output_type": "stream",
     "text": [
      "1001 1001\n",
      "[0. 0. 0. 0. 0. 0. 0. 0. 0. 0. 0. 0. 0. 0. 0. 0. 0. 0. 0. 0. 0. 0. 0. 0.\n",
      " 0. 0. 0. 0. 0. 0. 0. 0. 0. 0. 0. 0. 0. 0. 0. 0. 0. 0. 0. 0. 0. 0. 0. 0.\n",
      " 0. 0.]\n",
      "[49.4609     49.4999     49.5374     49.5734     49.6079     49.6409\n",
      " 49.6724     49.7024     49.7309     49.7579     49.7834     49.8074\n",
      " 49.82990467 49.85092059 49.87045519 49.88851694 49.90511556 49.92026234\n",
      " 49.9339705  49.94625571 49.9571368  49.96663678 49.97478422 49.98161541\n",
      " 49.98717746 49.98717746 49.98717746 49.98717746 49.98717746 49.98717746\n",
      " 49.98717746 49.98717746 49.98717746 49.98717746 49.98717746 49.98717746\n",
      " 49.98717746 49.98717746 49.98717746 49.98717746 49.98717746 49.98717746\n",
      " 49.98717746 49.98717746 49.98717746 49.98717746 49.98717746 49.98717746\n",
      " 49.98717746 49.98717746 49.98717746 49.98717746 49.98717746 49.98717746\n",
      " 49.98717746 49.98717746 49.98717746 49.98717746 49.98717746 49.98717746\n",
      " 49.98717746 49.98717746 49.98717746 49.98717746 49.98717746 49.98717746\n",
      " 49.98717746 49.98717746 49.98717746 49.98717746 49.98717746 49.98717746\n",
      " 49.98717746 49.98717746 49.98717746 49.98717746 49.98717746 49.98717746\n",
      " 49.98717746 49.98717746 49.98717746 49.98717746 49.98717746 49.98717746\n",
      " 49.98717746 49.98717746 49.98717746 49.98717746 49.98717746 49.98717746\n",
      " 49.98717746 49.98717746 49.98717746 49.98717746 49.98717746 49.98717746\n",
      " 49.98717746 49.98717746 49.98717746 49.98717746]\n"
     ]
    }
   ],
   "source": [
    "drones = simulation.drone_list\n",
    "drone_0_1 = drone_list_1[0]\n",
    "drone_1_1 = drone_list_1[1]\n",
    "drone_2_1 = drone_list_1[2]\n",
    "\n",
    "drone_0_2 = drone_list_2[0]\n",
    "drone_1_2 = drone_list_2[1]\n",
    "drone_2_2 = drone_list_2[2]\n",
    "\n",
    "a = np.array(drone_0_1.xcorList) \n",
    "b = np.array(drone_0_2.xcorList) \n",
    "print(len(a), len(b))\n",
    "print(np.array(a-b)[400:450])\n",
    "print(a[450:550])\n",
    "print(a[450:550])\n"
   ]
  },
  {
   "cell_type": "code",
   "execution_count": null,
   "metadata": {},
   "outputs": [],
   "source": []
  }
 ],
 "metadata": {
  "kernelspec": {
   "display_name": "Python 3",
   "language": "python",
   "name": "python3"
  },
  "language_info": {
   "codemirror_mode": {
    "name": "ipython",
    "version": 3
   },
   "file_extension": ".py",
   "mimetype": "text/x-python",
   "name": "python",
   "nbconvert_exporter": "python",
   "pygments_lexer": "ipython3",
   "version": "3.11.2"
  },
  "orig_nbformat": 4,
  "vscode": {
   "interpreter": {
    "hash": "949777d72b0d2535278d3dc13498b2535136f6dfe0678499012e853ee9abcab1"
   }
  }
 },
 "nbformat": 4,
 "nbformat_minor": 2
}
