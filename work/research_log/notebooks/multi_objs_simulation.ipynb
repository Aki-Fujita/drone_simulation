{
 "cells": [
  {
   "cell_type": "code",
   "execution_count": 2,
   "metadata": {},
   "outputs": [],
   "source": [
    "import sys\n",
    "sys.path.append(\"../../\")\n",
    "from simulation_classes.drones import Drones\n",
    "import numpy as np\n",
    "%matplotlib inline\n",
    "import matplotlib.pyplot as plt"
   ]
  },
  {
   "attachments": {},
   "cell_type": "markdown",
   "metadata": {},
   "source": [
    "続いてドローンの初期化を行う。\n",
    "複数台の巡行をシミュレートする。\n",
    "\n",
    "N: ドローン台数"
   ]
  },
  {
   "cell_type": "code",
   "execution_count": 14,
   "metadata": {},
   "outputs": [],
   "source": [
    "N = 3\n",
    "T = 30\n",
    "delta_t = 0.1\n",
    "d_0 = Drones(2,0,1,1,1)\n",
    "d_1 = Drones(1,0,0,1,1)\n",
    "d_2 = Drones(0,0,0,1,1)\n",
    "\n",
    "drone_list = [d_0,d_1,d_2]\n",
    "\n",
    "for i in range(T):\n",
    "  for idx,drone_i in enumerate(drone_list):\n",
    "    if idx == 0:\n",
    "      leader = drone_list[idx]\n",
    "      leader.leader_update(delta_t)\n",
    "      leader.record()\n",
    "    else:\n",
    "      follower = drone_list[idx]\n",
    "      delta_x = drone_list[idx-1].xcor - follower.xcor\n",
    "      follower.update(delta_t,delta_x )\n",
    "      follower.record()\n"
   ]
  },
  {
   "cell_type": "code",
   "execution_count": 18,
   "metadata": {},
   "outputs": [
    {
     "name": "stdout",
     "output_type": "stream",
     "text": [
      "31 31\n"
     ]
    }
   ],
   "source": [
    "t = np.linspace(0,delta_t*(T+1), T+1)\n",
    "print(len(t), len(d_0.xcorList))"
   ]
  },
  {
   "cell_type": "code",
   "execution_count": 20,
   "metadata": {},
   "outputs": [
    {
     "data": {
      "text/plain": [
       "(array([-0.5,  0. ,  0.5,  1. ,  1.5,  2. ,  2.5,  3. ,  3.5]),\n",
       " [Text(-0.5, 0, '−0.5'),\n",
       "  Text(0.0, 0, '0.0'),\n",
       "  Text(0.5, 0, '0.5'),\n",
       "  Text(1.0, 0, '1.0'),\n",
       "  Text(1.5, 0, '1.5'),\n",
       "  Text(2.0, 0, '2.0'),\n",
       "  Text(2.5, 0, '2.5'),\n",
       "  Text(3.0, 0, '3.0'),\n",
       "  Text(3.5, 0, '3.5')])"
      ]
     },
     "execution_count": 20,
     "metadata": {},
     "output_type": "execute_result"
    },
    {
     "data": {
      "image/png": "[encoded data removed]",
      "text/plain": [
       "<Figure size 400x240 with 1 Axes>"
      ]
     },
     "metadata": {},
     "output_type": "display_data"
    }
   ],
   "source": [
    "\n",
    "\n",
    "plt.figure(figsize=(4,2.4))\n",
    "for drone in drone_list:\n",
    "    plt.plot(t,np.array(drone.xcorList))\n",
    "plt.yticks(fontsize=8)\n",
    "plt.xticks(fontsize=8)"
   ]
  },
  {
   "cell_type": "code",
   "execution_count": null,
   "metadata": {},
   "outputs": [],
   "source": []
  }
 ],
 "metadata": {
  "kernelspec": {
   "display_name": "Python 3",
   "language": "python",
   "name": "python3"
  },
  "language_info": {
   "codemirror_mode": {
    "name": "ipython",
    "version": 3
   },
   "file_extension": ".py",
   "mimetype": "text/x-python",
   "name": "python",
   "nbconvert_exporter": "python",
   "pygments_lexer": "ipython3",
   "version": "3.11.2"
  },
  "orig_nbformat": 4,
  "vscode": {
   "interpreter": {
    "hash": "949777d72b0d2535278d3dc13498b2535136f6dfe0678499012e853ee9abcab1"
   }
  }
 },
 "nbformat": 4,
 "nbformat_minor": 2
}
