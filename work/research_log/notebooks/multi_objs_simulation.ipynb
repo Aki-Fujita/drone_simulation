{
 "cells": [
  {
   "cell_type": "code",
   "execution_count": 1,
   "metadata": {},
   "outputs": [],
   "source": [
    "import sys\n",
    "sys.path.append(\"../../\")\n",
    "from simulation_classes.drones import Drones\n",
    "import numpy as np\n",
    "%matplotlib inline\n",
    "import matplotlib.pyplot as plt"
   ]
  },
  {
   "attachments": {},
   "cell_type": "markdown",
   "metadata": {},
   "source": [
    "続いてドローンの初期化を行う。\n",
    "複数台の巡行をシミュレートする。\n",
    "\n",
    "N: ドローン台数"
   ]
  },
  {
   "cell_type": "code",
   "execution_count": 6,
   "metadata": {},
   "outputs": [],
   "source": [
    "N = 40\n",
    "T = 800\n",
    "delta_t = 0.1\n",
    "initial_delta_x = 0.1\n",
    "drone_list = []\n",
    "\n",
    "# ここで一気に初期化\n",
    "for i in range(N):\n",
    "  xcor = initial_delta_x * (N -i)\n",
    "  v = 1 if i==0 else 0\n",
    "  drone = Drones(xcor, 0, v, 0.2, 1, 1.7)\n",
    "  drone_list.append(drone)"
   ]
  },
  {
   "cell_type": "code",
   "execution_count": 7,
   "metadata": {},
   "outputs": [
    {
     "ename": "NameError",
     "evalue": "name 'enumarate' is not defined",
     "output_type": "error",
     "traceback": [
      "\u001b[0;31m---------------------------------------------------------------------------\u001b[0m",
      "\u001b[0;31mNameError\u001b[0m                                 Traceback (most recent call last)",
      "Cell \u001b[0;32mIn[7], line 5\u001b[0m\n\u001b[1;32m      3\u001b[0m \u001b[39mif\u001b[39;00m i \u001b[39m==\u001b[39m \u001b[39m300\u001b[39m:\n\u001b[1;32m      4\u001b[0m   wind_speed \u001b[39m=\u001b[39m \u001b[39m0.4\u001b[39m\n\u001b[0;32m----> 5\u001b[0m   \u001b[39mfor\u001b[39;00m idx, drone_i \u001b[39min\u001b[39;00m enumarate(drone_list):\n\u001b[1;32m      6\u001b[0m     \u001b[39mif\u001b[39;00m idx \u001b[39m==\u001b[39m \u001b[39m0\u001b[39m:\n\u001b[1;32m      7\u001b[0m       next_speed \u001b[39m=\u001b[39m \u001b[39mmax\u001b[39m(drone_i\u001b[39m.\u001b[39mv_x \u001b[39m-\u001b[39m wind_speed, \u001b[39m0\u001b[39m)\n",
      "\u001b[0;31mNameError\u001b[0m: name 'enumarate' is not defined"
     ]
    }
   ],
   "source": [
    "# ここからシミュレーション開始\n",
    "for i in range(T):\n",
    "  if i == 300:\n",
    "    wind_speed = 0.4\n",
    "    for idx, drone_i in enumerate(drone_list):\n",
    "      if idx == 0:\n",
    "        next_speed = max(drone_i.v_x - wind_speed, 0)\n",
    "        drone_i.force_velocity_change(next_speed)\n",
    "    \n",
    "  for idx,drone_i in enumerate(drone_list):\n",
    "    if idx == 0:\n",
    "      leader = drone_list[idx]\n",
    "      leader.leader_update(delta_t)\n",
    "      leader.record()\n",
    "    else:\n",
    "      follower = drone_list[idx]\n",
    "      delta_x = drone_list[idx-1].xcor - follower.xcor\n",
    "      follower.update(delta_t,delta_x )\n",
    "      follower.record()\n"
   ]
  },
  {
   "cell_type": "code",
   "execution_count": 8,
   "metadata": {},
   "outputs": [
    {
     "ename": "ValueError",
     "evalue": "x and y must have same first dimension, but have shapes (801,) and (301,)",
     "output_type": "error",
     "traceback": [
      "\u001b[0;31m---------------------------------------------------------------------------\u001b[0m",
      "\u001b[0;31mValueError\u001b[0m                                Traceback (most recent call last)",
      "Cell \u001b[0;32mIn[8], line 5\u001b[0m\n\u001b[1;32m      3\u001b[0m plt\u001b[39m.\u001b[39mfigure(figsize\u001b[39m=\u001b[39m(\u001b[39m5\u001b[39m,\u001b[39m3\u001b[39m))\n\u001b[1;32m      4\u001b[0m \u001b[39mfor\u001b[39;00m drone \u001b[39min\u001b[39;00m drone_list:\n\u001b[0;32m----> 5\u001b[0m     plt\u001b[39m.\u001b[39;49mplot(t,np\u001b[39m.\u001b[39;49marray(drone\u001b[39m.\u001b[39;49mxcorList), color\u001b[39m=\u001b[39;49m\u001b[39m\"\u001b[39;49m\u001b[39mgray\u001b[39;49m\u001b[39m\"\u001b[39;49m)\n\u001b[1;32m      6\u001b[0m plt\u001b[39m.\u001b[39myticks(fontsize\u001b[39m=\u001b[39m\u001b[39m8\u001b[39m)\n\u001b[1;32m      7\u001b[0m plt\u001b[39m.\u001b[39mxticks(fontsize\u001b[39m=\u001b[39m\u001b[39m8\u001b[39m)\n",
      "File \u001b[0;32m/usr/local/lib/python3.11/site-packages/matplotlib/pyplot.py:2812\u001b[0m, in \u001b[0;36mplot\u001b[0;34m(scalex, scaley, data, *args, **kwargs)\u001b[0m\n\u001b[1;32m   2810\u001b[0m \u001b[39m@_copy_docstring_and_deprecators\u001b[39m(Axes\u001b[39m.\u001b[39mplot)\n\u001b[1;32m   2811\u001b[0m \u001b[39mdef\u001b[39;00m \u001b[39mplot\u001b[39m(\u001b[39m*\u001b[39margs, scalex\u001b[39m=\u001b[39m\u001b[39mTrue\u001b[39;00m, scaley\u001b[39m=\u001b[39m\u001b[39mTrue\u001b[39;00m, data\u001b[39m=\u001b[39m\u001b[39mNone\u001b[39;00m, \u001b[39m*\u001b[39m\u001b[39m*\u001b[39mkwargs):\n\u001b[0;32m-> 2812\u001b[0m     \u001b[39mreturn\u001b[39;00m gca()\u001b[39m.\u001b[39;49mplot(\n\u001b[1;32m   2813\u001b[0m         \u001b[39m*\u001b[39;49margs, scalex\u001b[39m=\u001b[39;49mscalex, scaley\u001b[39m=\u001b[39;49mscaley,\n\u001b[1;32m   2814\u001b[0m         \u001b[39m*\u001b[39;49m\u001b[39m*\u001b[39;49m({\u001b[39m\"\u001b[39;49m\u001b[39mdata\u001b[39;49m\u001b[39m\"\u001b[39;49m: data} \u001b[39mif\u001b[39;49;00m data \u001b[39mis\u001b[39;49;00m \u001b[39mnot\u001b[39;49;00m \u001b[39mNone\u001b[39;49;00m \u001b[39melse\u001b[39;49;00m {}), \u001b[39m*\u001b[39;49m\u001b[39m*\u001b[39;49mkwargs)\n",
      "File \u001b[0;32m/usr/local/lib/python3.11/site-packages/matplotlib/axes/_axes.py:1688\u001b[0m, in \u001b[0;36mAxes.plot\u001b[0;34m(self, scalex, scaley, data, *args, **kwargs)\u001b[0m\n\u001b[1;32m   1445\u001b[0m \u001b[39m\u001b[39m\u001b[39m\"\"\"\u001b[39;00m\n\u001b[1;32m   1446\u001b[0m \u001b[39mPlot y versus x as lines and/or markers.\u001b[39;00m\n\u001b[1;32m   1447\u001b[0m \n\u001b[0;32m   (...)\u001b[0m\n\u001b[1;32m   1685\u001b[0m \u001b[39m(``'green'``) or hex strings (``'#008000'``).\u001b[39;00m\n\u001b[1;32m   1686\u001b[0m \u001b[39m\"\"\"\u001b[39;00m\n\u001b[1;32m   1687\u001b[0m kwargs \u001b[39m=\u001b[39m cbook\u001b[39m.\u001b[39mnormalize_kwargs(kwargs, mlines\u001b[39m.\u001b[39mLine2D)\n\u001b[0;32m-> 1688\u001b[0m lines \u001b[39m=\u001b[39m [\u001b[39m*\u001b[39m\u001b[39mself\u001b[39m\u001b[39m.\u001b[39m_get_lines(\u001b[39m*\u001b[39margs, data\u001b[39m=\u001b[39mdata, \u001b[39m*\u001b[39m\u001b[39m*\u001b[39mkwargs)]\n\u001b[1;32m   1689\u001b[0m \u001b[39mfor\u001b[39;00m line \u001b[39min\u001b[39;00m lines:\n\u001b[1;32m   1690\u001b[0m     \u001b[39mself\u001b[39m\u001b[39m.\u001b[39madd_line(line)\n",
      "File \u001b[0;32m/usr/local/lib/python3.11/site-packages/matplotlib/axes/_base.py:311\u001b[0m, in \u001b[0;36m_process_plot_var_args.__call__\u001b[0;34m(self, data, *args, **kwargs)\u001b[0m\n\u001b[1;32m    309\u001b[0m     this \u001b[39m+\u001b[39m\u001b[39m=\u001b[39m args[\u001b[39m0\u001b[39m],\n\u001b[1;32m    310\u001b[0m     args \u001b[39m=\u001b[39m args[\u001b[39m1\u001b[39m:]\n\u001b[0;32m--> 311\u001b[0m \u001b[39myield from\u001b[39;00m \u001b[39mself\u001b[39;49m\u001b[39m.\u001b[39;49m_plot_args(\n\u001b[1;32m    312\u001b[0m     this, kwargs, ambiguous_fmt_datakey\u001b[39m=\u001b[39;49mambiguous_fmt_datakey)\n",
      "File \u001b[0;32m/usr/local/lib/python3.11/site-packages/matplotlib/axes/_base.py:504\u001b[0m, in \u001b[0;36m_process_plot_var_args._plot_args\u001b[0;34m(self, tup, kwargs, return_kwargs, ambiguous_fmt_datakey)\u001b[0m\n\u001b[1;32m    501\u001b[0m     \u001b[39mself\u001b[39m\u001b[39m.\u001b[39maxes\u001b[39m.\u001b[39myaxis\u001b[39m.\u001b[39mupdate_units(y)\n\u001b[1;32m    503\u001b[0m \u001b[39mif\u001b[39;00m x\u001b[39m.\u001b[39mshape[\u001b[39m0\u001b[39m] \u001b[39m!=\u001b[39m y\u001b[39m.\u001b[39mshape[\u001b[39m0\u001b[39m]:\n\u001b[0;32m--> 504\u001b[0m     \u001b[39mraise\u001b[39;00m \u001b[39mValueError\u001b[39;00m(\u001b[39mf\u001b[39m\u001b[39m\"\u001b[39m\u001b[39mx and y must have same first dimension, but \u001b[39m\u001b[39m\"\u001b[39m\n\u001b[1;32m    505\u001b[0m                      \u001b[39mf\u001b[39m\u001b[39m\"\u001b[39m\u001b[39mhave shapes \u001b[39m\u001b[39m{\u001b[39;00mx\u001b[39m.\u001b[39mshape\u001b[39m}\u001b[39;00m\u001b[39m and \u001b[39m\u001b[39m{\u001b[39;00my\u001b[39m.\u001b[39mshape\u001b[39m}\u001b[39;00m\u001b[39m\"\u001b[39m)\n\u001b[1;32m    506\u001b[0m \u001b[39mif\u001b[39;00m x\u001b[39m.\u001b[39mndim \u001b[39m>\u001b[39m \u001b[39m2\u001b[39m \u001b[39mor\u001b[39;00m y\u001b[39m.\u001b[39mndim \u001b[39m>\u001b[39m \u001b[39m2\u001b[39m:\n\u001b[1;32m    507\u001b[0m     \u001b[39mraise\u001b[39;00m \u001b[39mValueError\u001b[39;00m(\u001b[39mf\u001b[39m\u001b[39m\"\u001b[39m\u001b[39mx and y can be no greater than 2D, but have \u001b[39m\u001b[39m\"\u001b[39m\n\u001b[1;32m    508\u001b[0m                      \u001b[39mf\u001b[39m\u001b[39m\"\u001b[39m\u001b[39mshapes \u001b[39m\u001b[39m{\u001b[39;00mx\u001b[39m.\u001b[39mshape\u001b[39m}\u001b[39;00m\u001b[39m and \u001b[39m\u001b[39m{\u001b[39;00my\u001b[39m.\u001b[39mshape\u001b[39m}\u001b[39;00m\u001b[39m\"\u001b[39m)\n",
      "\u001b[0;31mValueError\u001b[0m: x and y must have same first dimension, but have shapes (801,) and (301,)"
     ]
    },
    {
     "data": {
      "image/png": "[encoded data removed]",
      "text/plain": [
       "<Figure size 500x300 with 1 Axes>"
      ]
     },
     "metadata": {},
     "output_type": "display_data"
    }
   ],
   "source": [
    "t = np.linspace(0,delta_t*(T+1), T+1)\n",
    "\n",
    "plt.figure(figsize=(5,3))\n",
    "for drone in drone_list:\n",
    "    plt.plot(t,np.array(drone.xcorList), color=\"gray\")\n",
    "plt.yticks(fontsize=8)\n",
    "plt.xticks(fontsize=8)\n",
    "plt.xlabel(\"time\", fontsize=8)\n",
    "\n",
    "plt.figure(figsize=(5,3))\n",
    "for drone in drone_list:\n",
    "    plt.plot(t,np.array(drone.v_xList), color=\"gray\")\n",
    "plt.yticks(fontsize=8)\n",
    "plt.xticks(fontsize=8)\n",
    "plt.xlabel(\"time\", fontsize=8)"
   ]
  },
  {
   "cell_type": "code",
   "execution_count": 9,
   "metadata": {},
   "outputs": [
    {
     "name": "stdout",
     "output_type": "stream",
     "text": [
      "[0, 0.001947278121399055, 0.0050721195895447975, 0.00952529777656602, 0.015455707310619047, 0.023000877456438366, 0.032276030861226476, 0.043362993316752155, 0.05630069429928395, 0.07107904071772056, 0.08763746893363172, 0.10586856470646645, 0.12562608008708936, 0.14673583931949696, 0.1690076697621805, 0.19224665229353946, 0.2162624954203147, 0.24087645888939627, 0.26592578954252527, 0.2912659870549594, 0.31677138353038176, 0.34233454388839574, 0.3678649323209468, 0.39328719322049144, 0.4185392952428324, 0.4435707012277354, 0.46834066029776106, 0.49281667113870714, 0.5169731340419359, 0.5407901898849897, 0.5642527332997171, 0.5873495819894369, 0.6100727824141347, 0.6324170324077085, 0.6543792027573556, 0.6759579417499747, 0.6971533488048145, 0.7179667053568147, 0.7384002530244533, 0.758457010745018, 0.7781406239809758, 0.7974552403051828, 0.8164054066812632, 0.8349959845932863, 0.8532320798706431, 0.871118984622797, 0.8886621291648612, 0.9058670421964776, 0.9227393178082907, 0.9392845881450342, 0.9555085007623279, 0.9714166998843173, 0.9870148109083424, 1.0023084276166283, 1.017303101648261, 1.0320043338612284, 1.0464175672771923, 1.0605481813533932, 1.0744014873687528, 1.0879827247464422, 1.1012970581643216, 1.1143495753287802, 1.1271452853075383, 1.1396891173336279, 1.1519859200066394, 1.1640404608289014, 1.1758574260239396, 1.187441420592664, 1.198796968569541, 1.2099285134467173, 1.2208404187388802, 1.2315369686656998, 1.242022368932124, 1.2523007475897046, 1.2623761559645947, 1.2722525696399423, 1.281933889482187, 1.2914239427022798, 1.3007264839441344, 1.3098451963937272, 1.3187836929032009, 1.327545517125141, 1.3361341446528852, 1.3445529841633237, 1.3528053785591596, 1.3608946061080407, 1.3688238815763563, 1.376596357355819, 1.384215124581238, 1.3916832142381301, 1.399003598259039, 1.4061791906076009, 1.4132128483495712, 1.4201073727101514, 1.4268655101170855, 1.4334899532290928, 1.4399833419492976, 1.4463482644233963, 1.452587258022365, 1.458702810309578, 1.464697359992251, 1.4705732978571735, 1.476332967690731, 1.4819786671832496, 1.4875126488177282, 1.4929371207430453, 1.4982542476317502, 1.5034661515225654, 1.508574912647747, 1.5135825702454566, 1.5184911233573148, 1.5233025316113147, 1.5280187159902807, 1.532641559586065, 1.5371729083396792, 1.5416145717675651, 1.5459683236742074, 1.550235902851299, 1.5544190137636658, 1.5585193272221642, 1.5625384810437624, 1.5664780806990153, 1.5703396999471464, 1.574124881458946, 1.5778351374276953, 1.5814719501683256, 1.5850367727050165, 1.5885310293474413, 1.5919561162558602, 1.595313401995263, 1.598604228078759, 1.6018299095004098, 1.6049917352577023, 1.608090968863846, 1.6111288488500906, 1.6141065892582438, 1.6170253801235768, 1.6198863879482943, 1.6226907561657482, 1.6254396055955709, 1.6281340348898972, 1.630775120970847, 1.633363919459434, 1.6359014650960633, 1.638388772152779, 1.6408268348374222, 1.6432166276898514, 1.6455591059703798, 1.6478552060405796, 1.6501058457365991, 1.6523119247351403, 1.6544743249122345, 1.6565939106949596, 1.6586715294062353, 1.6607080116028268, 1.6627041714066948, 1.6646608068298174, 1.666578700092611, 1.668458617936078, 1.6703013119278, 1.6721075187618992, 1.6738779605530842, 1.6756133451248982, 1.6773143662922794, 1.6789817041385477, 1.6806160252869269, 1.6822179831667072, 1.6837882182741557, 1.6853273584282753, 1.6868360190215164, 1.6883148032655364, 1.6897643024321083, 1.6911850960892696, 1.6925777523328094, 1.6939428280131816, 1.6952808689579362, 1.696592410189756, 1.6978779761401859, 1.699138080859138, 1.700373228220259, 1.701583912122236, 1.7027706166861265, 1.703933816448787, 1.705073976552478, 1.7061915529307223, 1.707286992490487, 1.7083607332907662, 1.7094132047176316, 1.710444827655822, 1.7114560146569409, 1.7124471701043271, 1.713418690374666, 1.714370963996404, 1.7153043718050311, 1.7162192870952913, 1.7171160757703832, 1.7179950964882096, 1.718856700804734, 1.7197012333145019, 1.7205290317883817, 1.7213404273085815, 1.7221357444009948, 1.7229153011649276, 1.7236794094002597, 1.7244283747320885, 1.7251624967329098, 1.7258820690423777, 1.7265873794846975, 1.7272787101836944, 1.7279563376756057, 1.7286205330196411, 1.7292715619063552, 1.7299096847638753, 1.730535156862027, 1.7311482284143997, 1.731749144678391, 1.7323381460532725, 1.7329154681763137, 1.733481342017004, 1.7340359939694099, 1.7345796459427034, 1.7351125154498996, 1.7356348156948371, 1.736146755657437, 1.7366485401772744, 1.7371403700354955, 1.7376224420351123, 1.7380949490797095, 1.7385580802505918, 1.7390120208824045, 1.739456952637257, 1.739893053577379, 1.7403204982363378, 1.7407394576888462, 1.7411500996191878, 1.7415525883882876, 1.7419470850994552, 1.742333747662825, 1.7427127308585215, 1.7430841863985747, 1.7434482629876067, 1.743805106382319, 1.7441548594498015, 1.7444976622246857, 1.744833651965167, 1.7451629632079175, 1.7454857278219107, 1.7458020750611807, 1.7461121316165364, 1.7464160216662519, 1.7467138669257516, 1.7470057866963125, 1.7472918979128014, 1.747572315190466, 1.7478471508708007, 1.7481165150665012, 1.7483805157055312, 1.7486392585743151, 1.748892847360074, 1.7491413836923249, 1.749384967183556, 1.7496236954690974, 1.7498576642462007, 1.7500869673123451, 1.7503116966027843, 1.7505319422273484, 1.7507477925065187, 1.750959334006785, 1.7511666515753046, 1.7513698283738723, 1.7515689459122183, 1.7517640840806465, 1.7519553211820245, 1.7521427339631406, 1.7523263976454388, 1.752506385955145, 1.752682771152795, 1.7528556240621775, 1.753025014098704, 1.753191009297215, 1.753353676339235, 1.7535130805796888, 1.7536692860730847, 1.7538223555991819, 1.7539723506881462, 1.754119331645208, 1.7542633575748308, 1.7544044864044008, 1.7545427749074456, 1.754678278726393, 1.7548110523948777, 1.7549411493596054, 1.755068622001784, 1.7551935216581278, 1.7553158986414463, 1.7554358022608234, 1.7555532808413963, 1.7556683817437415, 1.7557811513828765, 1.7558916352468839, 1.7559998779151649]\n"
     ]
    }
   ],
   "source": [
    "#vars(drone_list[1])\n",
    "print(drone_list[1].v_xList)"
   ]
  },
  {
   "cell_type": "code",
   "execution_count": null,
   "metadata": {},
   "outputs": [],
   "source": []
  }
 ],
 "metadata": {
  "kernelspec": {
   "display_name": "Python 3",
   "language": "python",
   "name": "python3"
  },
  "language_info": {
   "codemirror_mode": {
    "name": "ipython",
    "version": 3
   },
   "file_extension": ".py",
   "mimetype": "text/x-python",
   "name": "python",
   "nbconvert_exporter": "python",
   "pygments_lexer": "ipython3",
   "version": "3.11.2"
  },
  "orig_nbformat": 4,
  "vscode": {
   "interpreter": {
    "hash": "949777d72b0d2535278d3dc13498b2535136f6dfe0678499012e853ee9abcab1"
   }
  }
 },
 "nbformat": 4,
 "nbformat_minor": 2
}
