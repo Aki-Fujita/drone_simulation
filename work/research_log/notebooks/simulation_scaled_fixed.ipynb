{
 "cells": [
  {
   "cell_type": "code",
   "execution_count": 1,
   "metadata": {},
   "outputs": [],
   "source": [
    "import sys\n",
    "sys.path.append(\"../../\")\n",
    "from simulation_classes.drones import Drones\n",
    "from simulation_classes.simulation_setting import SimulationSettings\n",
    "import numpy as np\n",
    "%matplotlib inline\n",
    "import matplotlib.pyplot as plt"
   ]
  },
  {
   "attachments": {},
   "cell_type": "markdown",
   "metadata": {},
   "source": [
    "#### シミュレーターの設定(スケーリング含む)に必要な各種パラメータ\n",
    "- 時間系\n",
    "  - TOTAL_TIME: シミュレートする秒数\n",
    "  - delta_t: 時間間隔\n",
    "  - simulation_steps: 総ステップ数\n",
    "- 距離のスケール\n",
    "  - SCALING_FACTOR: [unit]を[m]に直すための係数。一旦これは定数で20にする。なので、simulation内で記述される速度 1 [unit/s]は20[m/s]に相当するということ。\n",
    "- シミュレーションに関する変数\n",
    "  - boundary_condition: 境界条件を決定する。\n",
    "    - `OPEN`: 開放境界(デフォルト)。始点のみ定まっていて自由に飛ぶ（渋滞しにくい）\n",
    "    - `FIXED`: 固定境界条件。始点と終点が定まっている。万博などのユースケースに近い。この条件下では機体は終点で速度0にならなければならない。\n",
    "  - TOTAL_DISTANCE: ゴールまでの距離(`FIXED`の条件では必須)\n",
    "  \n",
    "- その他（運転系）\n",
    "  - ドローン内に定義される変数ではあるが、max加速度とmin加速度は指定しても良いかもしれない。\n"
   ]
  },
  {
   "cell_type": "code",
   "execution_count": 17,
   "metadata": {},
   "outputs": [
    {
     "name": "stdout",
     "output_type": "stream",
     "text": [
      "この設定だと法定速度は時速216.0km\n",
      "巡航距離は1.5kmです\n"
     ]
    }
   ],
   "source": [
    "TOTAL_TIME = 10\n",
    "time_step = 0.1\n",
    "simulation_steps = int(TOTAL_TIME / time_step)\n",
    "scale_factor = 30\n",
    "legal_speed = 1.5\n",
    "real_legal_speed = max(2, legal_speed) * scale_factor * 3.6\n",
    "TOTAL_DISTANCE = 50\n",
    "boundary_condition = \"FIXED\"\n",
    "UPDATE_RULE = \"parallel\"\n",
    "\n",
    "\n",
    "print(f\"この設定だと法定速度は時速{real_legal_speed}km\")\n",
    "print(f\"巡航距離は{TOTAL_DISTANCE * scale_factor /1000}kmです\")"
   ]
  },
  {
   "attachments": {},
   "cell_type": "markdown",
   "metadata": {},
   "source": [
    "\n",
    "#### ドローンに関する設定の変数一覧\n",
    "- 速度に関するもの\n",
    "  - v_0: 初速度 (v_xの初期値として代入される)\n",
    "  - legal_speed: 法定速度(その機体が出せる最高速度)\n",
    "    - ※ そもそもOVモデルの最適速度関数内で、最大速度が2になっているので、legal_speedは2以上になっても結局2になる。なので、2以下で設定し、あとはscale_factorで調整するのが良いかも。\n",
    "  - a: 感応度(最適速度に対してどのくらい近づこうとするかのパラメータ. 高いほど速度の収束が早い)\n",
    "  - c: OVモデルに必要。おそらく車間距離に関するパラメタ\n",
    "- 加速度に関するもの\n",
    "  - max_acc: 最大加速度(一般的には)\n",
    "  - min_acc: 最小加速度(一般的には)\n",
    "\n",
    "- その他、シミュレーション条件に相当するもの\n",
    "  - xcor, ycor: 初期位置\n",
    "  - volume（未実装）: 機体サイズ\n",
    "  - end: ゴールのx座標"
   ]
  },
  {
   "cell_type": "code",
   "execution_count": 18,
   "metadata": {},
   "outputs": [
    {
     "name": "stdout",
     "output_type": "stream",
     "text": [
      "最大加速度は0.61G\n",
      "最小加速度は0.46G\n",
      "減速区間の長さは450.00m\n",
      "全区間の長さは1.50km\n"
     ]
    }
   ],
   "source": [
    "DRONE_NUM = 10\n",
    "v_0 = 0\n",
    "a = 1\n",
    "c = 2\n",
    "max_acc = 0.2 \n",
    "min_acc = 0.15 if boundary_condition ==\"FIXED\" else -1\n",
    "x_end = TOTAL_DISTANCE if boundary_condition ==\"FIXED\" else 1e6\n",
    "\n",
    "drone_list = [Drones(xcor=i * (-1),\n",
    "                     ycor=0, \n",
    "                     v_0=0,\n",
    "                     a=a,\n",
    "                     c=c,\n",
    "                     legal_speed=legal_speed, \n",
    "                     scale_factor=scale_factor,\n",
    "                     drone_idx = i,\n",
    "                     min_acc=min_acc,\n",
    "                     x_end = x_end )\n",
    "               for i in range(DRONE_NUM)]\n",
    "print(\"最大加速度は{:.2f}G\".format(max_acc * scale_factor / 9.8))\n",
    "print(\"最小加速度は{:.2f}G\".format(min_acc * scale_factor / 9.8))\n",
    "print(\"減速区間の長さは{:.2f}m\".format((legal_speed**2 / min_acc) * scale_factor))\n",
    "if (TOTAL_DISTANCE is not None):\n",
    "    print(\"全区間の長さは{:.2f}km\".format(TOTAL_DISTANCE* scale_factor/1000))\n"
   ]
  },
  {
   "cell_type": "code",
   "execution_count": 19,
   "metadata": {},
   "outputs": [],
   "source": [
    "simulation = SimulationSettings(\n",
    "    TOTAL_TIME=TOTAL_TIME, \n",
    "    time_step=time_step, \n",
    "    scale_factor=scale_factor,\n",
    "    drone_list=drone_list,\n",
    "    boundary_condition=boundary_condition,\n",
    "    TOTAL_DISTANCE=TOTAL_DISTANCE,\n",
    "    UPDATE_RULE=UPDATE_RULE )"
   ]
  },
  {
   "cell_type": "code",
   "execution_count": 20,
   "metadata": {},
   "outputs": [
    {
     "name": "stdout",
     "output_type": "stream",
     "text": [
      "===PARALLEL実行===\n"
     ]
    }
   ],
   "source": [
    "simulation.run()\n",
    "\n",
    "# print(simulation.drones[0].xcorList)"
   ]
  },
  {
   "cell_type": "code",
   "execution_count": 14,
   "metadata": {},
   "outputs": [
    {
     "name": "stdout",
     "output_type": "stream",
     "text": [
      "===Sequential実行===\n"
     ]
    }
   ],
   "source": [
    "simulation2.run()\n"
   ]
  },
  {
   "cell_type": "code",
   "execution_count": 15,
   "metadata": {},
   "outputs": [
    {
     "data": {
      "text/plain": [
       "'parallel'"
      ]
     },
     "execution_count": 15,
     "metadata": {},
     "output_type": "execute_result"
    }
   ],
   "source": [
    "simulation.UPDATE_RULE"
   ]
  },
  {
   "cell_type": "code",
   "execution_count": 21,
   "metadata": {},
   "outputs": [
    {
     "name": "stdout",
     "output_type": "stream",
     "text": [
      "101\n",
      "101\n"
     ]
    }
   ],
   "source": [
    "drones = simulation.drone_list\n",
    "drone_0 = drone_list[0]\n",
    "drone_1 = drone_list[1]\n",
    "drone_2 = drone_list[2]\n",
    "\n",
    "drones = simulation2.drone_list\n",
    "drone_0_2 = drone_list[0]\n",
    "drone_1_2 = drone_list[1]\n",
    "drone_2_2 = drone_list[2]\n",
    "\n",
    "a = np.array(drone_1.xcorList) - np.array(drone_1_2.xcorList)\n",
    "print(len(a))\n",
    "print(len(drone_1_2.xcorList))"
   ]
  },
  {
   "cell_type": "code",
   "execution_count": 9,
   "metadata": {},
   "outputs": [
    {
     "ename": "ValueError",
     "evalue": "x and y must have same first dimension, but have shapes (1001,) and (2001,)",
     "output_type": "error",
     "traceback": [
      "\u001b[0;31m---------------------------------------------------------------------------\u001b[0m",
      "\u001b[0;31mValueError\u001b[0m                                Traceback (most recent call last)",
      "Cell \u001b[0;32mIn[9], line 1\u001b[0m\n\u001b[0;32m----> 1\u001b[0m simulation\u001b[39m.\u001b[39;49mgraph_show_scaled()\n",
      "File \u001b[0;32m/work/research_log/notebooks/../../simulation_classes/simulation_setting.py:123\u001b[0m, in \u001b[0;36mSimulationSettings.graph_show_scaled\u001b[0;34m(self)\u001b[0m\n\u001b[1;32m    121\u001b[0m plt\u001b[39m.\u001b[39msubplot(\u001b[39m2\u001b[39m, \u001b[39m1\u001b[39m, \u001b[39m1\u001b[39m)\n\u001b[1;32m    122\u001b[0m \u001b[39mfor\u001b[39;00m drone \u001b[39min\u001b[39;00m drone_list:\n\u001b[0;32m--> 123\u001b[0m     plt\u001b[39m.\u001b[39;49mplot(t, np\u001b[39m.\u001b[39;49marray(drone\u001b[39m.\u001b[39;49mxcorList) \u001b[39m*\u001b[39;49m \u001b[39mself\u001b[39;49m\u001b[39m.\u001b[39;49mscale_factor, color\u001b[39m=\u001b[39;49m\u001b[39m\"\u001b[39;49m\u001b[39mgray\u001b[39;49m\u001b[39m\"\u001b[39;49m, linewidth\u001b[39m=\u001b[39;49m\u001b[39m0.5\u001b[39;49m)\n\u001b[1;32m    124\u001b[0m plt\u001b[39m.\u001b[39mplot(t, np\u001b[39m.\u001b[39marray(drone_list[\u001b[39m0\u001b[39m]\u001b[39m.\u001b[39mxcorList) \u001b[39m*\u001b[39m \u001b[39mself\u001b[39m\u001b[39m.\u001b[39mscale_factor, color\u001b[39m=\u001b[39m\u001b[39m\"\u001b[39m\u001b[39mred\u001b[39m\u001b[39m\"\u001b[39m, linewidth\u001b[39m=\u001b[39m\u001b[39m0.5\u001b[39m)\n\u001b[1;32m    125\u001b[0m plt\u001b[39m.\u001b[39myticks(fontsize\u001b[39m=\u001b[39m\u001b[39m8\u001b[39m)\n",
      "File \u001b[0;32m/usr/local/lib/python3.11/site-packages/matplotlib/pyplot.py:2812\u001b[0m, in \u001b[0;36mplot\u001b[0;34m(scalex, scaley, data, *args, **kwargs)\u001b[0m\n\u001b[1;32m   2810\u001b[0m \u001b[39m@_copy_docstring_and_deprecators\u001b[39m(Axes\u001b[39m.\u001b[39mplot)\n\u001b[1;32m   2811\u001b[0m \u001b[39mdef\u001b[39;00m \u001b[39mplot\u001b[39m(\u001b[39m*\u001b[39margs, scalex\u001b[39m=\u001b[39m\u001b[39mTrue\u001b[39;00m, scaley\u001b[39m=\u001b[39m\u001b[39mTrue\u001b[39;00m, data\u001b[39m=\u001b[39m\u001b[39mNone\u001b[39;00m, \u001b[39m*\u001b[39m\u001b[39m*\u001b[39mkwargs):\n\u001b[0;32m-> 2812\u001b[0m     \u001b[39mreturn\u001b[39;00m gca()\u001b[39m.\u001b[39;49mplot(\n\u001b[1;32m   2813\u001b[0m         \u001b[39m*\u001b[39;49margs, scalex\u001b[39m=\u001b[39;49mscalex, scaley\u001b[39m=\u001b[39;49mscaley,\n\u001b[1;32m   2814\u001b[0m         \u001b[39m*\u001b[39;49m\u001b[39m*\u001b[39;49m({\u001b[39m\"\u001b[39;49m\u001b[39mdata\u001b[39;49m\u001b[39m\"\u001b[39;49m: data} \u001b[39mif\u001b[39;49;00m data \u001b[39mis\u001b[39;49;00m \u001b[39mnot\u001b[39;49;00m \u001b[39mNone\u001b[39;49;00m \u001b[39melse\u001b[39;49;00m {}), \u001b[39m*\u001b[39;49m\u001b[39m*\u001b[39;49mkwargs)\n",
      "File \u001b[0;32m/usr/local/lib/python3.11/site-packages/matplotlib/axes/_axes.py:1688\u001b[0m, in \u001b[0;36mAxes.plot\u001b[0;34m(self, scalex, scaley, data, *args, **kwargs)\u001b[0m\n\u001b[1;32m   1445\u001b[0m \u001b[39m\u001b[39m\u001b[39m\"\"\"\u001b[39;00m\n\u001b[1;32m   1446\u001b[0m \u001b[39mPlot y versus x as lines and/or markers.\u001b[39;00m\n\u001b[1;32m   1447\u001b[0m \n\u001b[0;32m   (...)\u001b[0m\n\u001b[1;32m   1685\u001b[0m \u001b[39m(``'green'``) or hex strings (``'#008000'``).\u001b[39;00m\n\u001b[1;32m   1686\u001b[0m \u001b[39m\"\"\"\u001b[39;00m\n\u001b[1;32m   1687\u001b[0m kwargs \u001b[39m=\u001b[39m cbook\u001b[39m.\u001b[39mnormalize_kwargs(kwargs, mlines\u001b[39m.\u001b[39mLine2D)\n\u001b[0;32m-> 1688\u001b[0m lines \u001b[39m=\u001b[39m [\u001b[39m*\u001b[39m\u001b[39mself\u001b[39m\u001b[39m.\u001b[39m_get_lines(\u001b[39m*\u001b[39margs, data\u001b[39m=\u001b[39mdata, \u001b[39m*\u001b[39m\u001b[39m*\u001b[39mkwargs)]\n\u001b[1;32m   1689\u001b[0m \u001b[39mfor\u001b[39;00m line \u001b[39min\u001b[39;00m lines:\n\u001b[1;32m   1690\u001b[0m     \u001b[39mself\u001b[39m\u001b[39m.\u001b[39madd_line(line)\n",
      "File \u001b[0;32m/usr/local/lib/python3.11/site-packages/matplotlib/axes/_base.py:311\u001b[0m, in \u001b[0;36m_process_plot_var_args.__call__\u001b[0;34m(self, data, *args, **kwargs)\u001b[0m\n\u001b[1;32m    309\u001b[0m     this \u001b[39m+\u001b[39m\u001b[39m=\u001b[39m args[\u001b[39m0\u001b[39m],\n\u001b[1;32m    310\u001b[0m     args \u001b[39m=\u001b[39m args[\u001b[39m1\u001b[39m:]\n\u001b[0;32m--> 311\u001b[0m \u001b[39myield from\u001b[39;00m \u001b[39mself\u001b[39;49m\u001b[39m.\u001b[39;49m_plot_args(\n\u001b[1;32m    312\u001b[0m     this, kwargs, ambiguous_fmt_datakey\u001b[39m=\u001b[39;49mambiguous_fmt_datakey)\n",
      "File \u001b[0;32m/usr/local/lib/python3.11/site-packages/matplotlib/axes/_base.py:504\u001b[0m, in \u001b[0;36m_process_plot_var_args._plot_args\u001b[0;34m(self, tup, kwargs, return_kwargs, ambiguous_fmt_datakey)\u001b[0m\n\u001b[1;32m    501\u001b[0m     \u001b[39mself\u001b[39m\u001b[39m.\u001b[39maxes\u001b[39m.\u001b[39myaxis\u001b[39m.\u001b[39mupdate_units(y)\n\u001b[1;32m    503\u001b[0m \u001b[39mif\u001b[39;00m x\u001b[39m.\u001b[39mshape[\u001b[39m0\u001b[39m] \u001b[39m!=\u001b[39m y\u001b[39m.\u001b[39mshape[\u001b[39m0\u001b[39m]:\n\u001b[0;32m--> 504\u001b[0m     \u001b[39mraise\u001b[39;00m \u001b[39mValueError\u001b[39;00m(\u001b[39mf\u001b[39m\u001b[39m\"\u001b[39m\u001b[39mx and y must have same first dimension, but \u001b[39m\u001b[39m\"\u001b[39m\n\u001b[1;32m    505\u001b[0m                      \u001b[39mf\u001b[39m\u001b[39m\"\u001b[39m\u001b[39mhave shapes \u001b[39m\u001b[39m{\u001b[39;00mx\u001b[39m.\u001b[39mshape\u001b[39m}\u001b[39;00m\u001b[39m and \u001b[39m\u001b[39m{\u001b[39;00my\u001b[39m.\u001b[39mshape\u001b[39m}\u001b[39;00m\u001b[39m\"\u001b[39m)\n\u001b[1;32m    506\u001b[0m \u001b[39mif\u001b[39;00m x\u001b[39m.\u001b[39mndim \u001b[39m>\u001b[39m \u001b[39m2\u001b[39m \u001b[39mor\u001b[39;00m y\u001b[39m.\u001b[39mndim \u001b[39m>\u001b[39m \u001b[39m2\u001b[39m:\n\u001b[1;32m    507\u001b[0m     \u001b[39mraise\u001b[39;00m \u001b[39mValueError\u001b[39;00m(\u001b[39mf\u001b[39m\u001b[39m\"\u001b[39m\u001b[39mx and y can be no greater than 2D, but have \u001b[39m\u001b[39m\"\u001b[39m\n\u001b[1;32m    508\u001b[0m                      \u001b[39mf\u001b[39m\u001b[39m\"\u001b[39m\u001b[39mshapes \u001b[39m\u001b[39m{\u001b[39;00mx\u001b[39m.\u001b[39mshape\u001b[39m}\u001b[39;00m\u001b[39m and \u001b[39m\u001b[39m{\u001b[39;00my\u001b[39m.\u001b[39mshape\u001b[39m}\u001b[39;00m\u001b[39m\"\u001b[39m)\n",
      "\u001b[0;31mValueError\u001b[0m: x and y must have same first dimension, but have shapes (1001,) and (2001,)"
     ]
    },
    {
     "data": {
      "image/png": "[encoded data removed]",
      "text/plain": [
       "<Figure size 500x700 with 1 Axes>"
      ]
     },
     "metadata": {},
     "output_type": "display_data"
    }
   ],
   "source": [
    "simulation.graph_show_scaled()"
   ]
  },
  {
   "cell_type": "code",
   "execution_count": 10,
   "metadata": {},
   "outputs": [
    {
     "name": "stdout",
     "output_type": "stream",
     "text": [
      "0.15\n",
      "7.5\n"
     ]
    }
   ],
   "source": [
    "l = simulation.drone_list[0]\n",
    "print(l.min_acc)\n",
    "print(l.stop_distance)\n",
    "# l.plot_history(time_step=time_step)"
   ]
  },
  {
   "cell_type": "code",
   "execution_count": 6,
   "metadata": {},
   "outputs": [],
   "source": [
    "simulation.create_video()"
   ]
  },
  {
   "attachments": {},
   "cell_type": "markdown",
   "metadata": {},
   "source": [
    "### ここから下は動画を作るためのコード\n",
    "\n",
    "・計算時間が結構長いのでそんなに頻繁に動かさない方が良いかも？"
   ]
  },
  {
   "cell_type": "code",
   "execution_count": null,
   "metadata": {},
   "outputs": [],
   "source": [
    "import cv2\n",
    "import os\n",
    "\n",
    "images = []\n",
    "frames = simulation.simulation_steps\n",
    "drones = simulation.drone_list\n",
    "\n",
    "for i in range(frames):\n",
    "    if (i%4 ==1):\n",
    "        continue\n",
    "    plt.figure(figsize=(4,2.4))\n",
    "    for (droneNum, drone) in enumerate(drones):\n",
    "        if (droneNum == 0):\n",
    "            plt.scatter(drone.xcorList[int(i)], 0, color=\"red\", s=6)\n",
    "        else:\n",
    "            plt.scatter(drone.xcorList[int(i)], 0, color=\"grey\", s=6)\n",
    "    plt.xlim(drones[-1].xcorList[0], drones[0].xcorList[-1] )\n",
    "    plt.savefig(f\"tmp/frame_{i}.png\")\n",
    "    plt.close()\n",
    "\n",
    "    filename = 'tmp/frame_{}.png'.format(i)\n",
    "    img = cv2.imread(filename)\n",
    "    images.append(img)\n",
    "    os.remove(f\"tmp/frame_{i}.png\")\n",
    "    if (i%100 == 0):\n",
    "        print(f\"frame_{i}__Done\")\n",
    "\n",
    "print(\"動画作成開始\")\n",
    "output_file = 'tmp/output.mp4'\n",
    "fps = 60\n",
    "size = (images[0].shape[1], images[0].shape[0])\n",
    "\n",
    "# 動画を保存するためのオブジェクトを生成する\n",
    "fourcc = cv2.VideoWriter_fourcc(*'XVID')\n",
    "out = cv2.VideoWriter(output_file, fourcc, fps, size)\n",
    "\n",
    "# 100枚の画像を動画に書き込む\n",
    "for i in range(len(images)):\n",
    "    out.write(images[i])\n",
    "\n",
    "# 動画を保存するための処理を終了する\n",
    "out.release()\n",
    "print(\"END\")\n",
    "\n"
   ]
  },
  {
   "cell_type": "code",
   "execution_count": 9,
   "metadata": {},
   "outputs": [
    {
     "name": "stdout",
     "output_type": "stream",
     "text": [
      "7.5\n",
      "[3.34149999999903, 3.2424999999990263, 3.1449999999990297, 3.048999999999026, 2.9544999999990296, 2.861499999999026, 2.7699999999990297, 2.6799999999990263, 2.59149999999903, 2.5044999999990267, 2.4189999999990306, 2.3349999999990274, 2.2524999999990314, 2.1714999999990283, 2.0919999999990324, 2.0139999999990295, 1.9374999999990334, 1.8624999999990308, 1.7889999999990351, 1.7169999999990324, 1.6464999999990368, 1.5774999999990342, 1.5099999999990388, 1.4439999999990363, 1.379499999999041, 1.3164999999990386, 1.2549999999990433, 1.194999999999041, 1.136499999999046, 1.0794999999990438, 1.0239999999990488, 0.9699999999990467, 0.9174999999990519, 0.8664999999990499, 0.8169999999990551, 0.7689995410027279, 0.7224971609654887, 0.6774913067735895, 0.6339803255721534, 0.5919624549679554, 0.5514358119199159, 0.5123983800921508, 0.47484799539695643, 0.43878232939535167, 0.40419887014752476, 0.371094900009993, 0.3394674697532736, 0.30931336821547006, 0.28062908649954466, 0.25341077544942436, 0.22765419477580906, 0.2033546517128002, 0.18050692641764954, 0.1591051804029746, 0.13914284299623603, 0.12061246898106504, 0.1035055579131523, 0.08781232168639974, 0.07352138105176209, 0.06061936280474356, 0.049090355318185175, 0.038915157686574275, 0.030070221230772628, 0.02252612157805345, 0, 0, 0, 0, 0, 0, 0, 0, 0, 0, 0, 0, 0, 0, 0, 0, 0, 0, 0, 0, 0, 0, 0, 0, 0, 0, 0, 0, 0, 0, 0, 0, 0, 0, 0, 0]\n",
      "[96.75750000000097, 96.85500000000097, 96.95100000000097, 97.04550000000097, 97.13850000000097, 97.23000000000097, 97.32000000000097, 97.40850000000097, 97.49550000000097, 97.58100000000097, 97.66500000000097, 97.74750000000097, 97.82850000000097, 97.90800000000097, 97.98600000000097, 98.06250000000097, 98.13750000000097, 98.21100000000096, 98.28300000000097, 98.35350000000096, 98.42250000000097, 98.49000000000096, 98.55600000000096, 98.62050000000096, 98.68350000000096, 98.74500000000096, 98.80500000000096, 98.86350000000095, 98.92050000000096, 98.97600000000095, 99.03000000000095, 99.08250000000095, 99.13350000000095, 99.18300000000094, 99.23100045899727, 99.27750283903451, 99.32250869322641, 99.36601967442785, 99.40803754503204, 99.44856418808008, 99.48760161990785, 99.52515200460304, 99.56121767060465, 99.59580112985248, 99.62890509999, 99.66053253024673, 99.69068663178453, 99.71937091350046, 99.74658922455058, 99.77234580522419, 99.7966453482872, 99.81949307358235, 99.84089481959703, 99.86085715700376, 99.87938753101893, 99.89649444208685, 99.9121876783136, 99.92647861894824, 99.93938063719526, 99.95090964468181, 99.96108484231343, 99.96992977876923, 99.97747387842195, 99.98375470158535, 1000000.0, 1000000.0, 1000000.0, 1000000.0, 1000000.0, 1000000.0, 1000000.0, 1000000.0, 1000000.0, 1000000.0, 1000000.0, 1000000.0, 1000000.0, 1000000.0, 1000000.0, 1000000.0, 1000000.0, 1000000.0, 1000000.0, 1000000.0, 1000000.0, 1000000.0, 1000000.0, 1000000.0, 1000000.0, 1000000.0, 1000000.0, 1000000.0, 1000000.0, 1000000.0, 1000000.0, 1000000.0, 1000000.0, 1000000.0, 1000000.0, 1000000.0]\n"
     ]
    }
   ],
   "source": [
    "drones = simulation.drone_list\n",
    "print(drones[0].target_height)\n",
    "print(drones[0].ycorList[660:760])\n",
    "print(drones[0].xcorList[660:760])\n"
   ]
  },
  {
   "cell_type": "code",
   "execution_count": 28,
   "metadata": {},
   "outputs": [
    {
     "name": "stdout",
     "output_type": "stream",
     "text": [
      "frame_0__Done\n",
      "frame_100__Done\n",
      "frame_200__Done\n",
      "frame_300__Done\n",
      "frame_400__Done\n",
      "frame_500__Done\n",
      "frame_600__Done\n",
      "frame_700__Done\n",
      "frame_800__Done\n",
      "frame_900__Done\n",
      "動画作成開始\n"
     ]
    },
    {
     "name": "stderr",
     "output_type": "stream",
     "text": [
      "OpenCV: FFMPEG: tag 0x44495658/'XVID' is not supported with codec id 12 and format 'mp4 / MP4 (MPEG-4 Part 14)'\n",
      "OpenCV: FFMPEG: fallback to use tag 0x7634706d/'mp4v'\n"
     ]
    },
    {
     "name": "stdout",
     "output_type": "stream",
     "text": [
      "END\n"
     ]
    }
   ],
   "source": [
    "import cv2\n",
    "import os\n",
    "\n",
    "if simulation.boundary_condition != \"FIXED\":\n",
    "    raise ValueError(\"この境界条件では使えません\")\n",
    "\n",
    "images = []\n",
    "frames = simulation.simulation_steps\n",
    "drones = simulation.drone_list\n",
    "\n",
    "\n",
    "for i in range(frames):\n",
    "    if (i%4 ==1):\n",
    "        continue\n",
    "    plt.figure(figsize=(5,3))\n",
    "    for (droneNum, drone) in enumerate(drones):\n",
    "        if (droneNum == 0):\n",
    "            plt.scatter(drone.xcorList[int(i)], drone.ycorList[int(i)], color=\"red\", s=6)\n",
    "        else:\n",
    "            plt.scatter(drone.xcorList[int(i)], drone.ycorList[int(i)], color=\"grey\", s=6)\n",
    "    plt.xlim(drones[-1].xcorList[0], TOTAL_DISTANCE )\n",
    "    plt.ylim(0, drones[0].target_height*1.1 )\n",
    "    plt.yticks(fontsize=8)\n",
    "    plt.xticks(fontsize=8)\n",
    "    plt.xlabel(\"Distance\", fontsize=8)\n",
    "    plt.ylabel(\"Height\", fontsize=8)\n",
    "    plt.savefig(f\"tmp/frame_{i}.png\")\n",
    "    plt.close()\n",
    "\n",
    "    filename = 'tmp/frame_{}.png'.format(i)\n",
    "    img = cv2.imread(filename)\n",
    "    images.append(img)\n",
    "    os.remove(f\"tmp/frame_{i}.png\")\n",
    "    if (i%100 == 0):\n",
    "        print(f\"frame_{i}__Done\")\n",
    "\n",
    "print(\"動画作成開始\")\n",
    "output_file = 'tmp/output_ycor.mp4'\n",
    "fps = 60\n",
    "size = (images[0].shape[1], images[0].shape[0])\n",
    "\n",
    "# 動画を保存するためのオブジェクトを生成する\n",
    "fourcc = cv2.VideoWriter_fourcc(*'XVID')\n",
    "out = cv2.VideoWriter(output_file, fourcc, fps, size)\n",
    "\n",
    "# 100枚の画像を動画に書き込む\n",
    "for i in range(len(images)):\n",
    "    out.write(images[i])\n",
    "\n",
    "# 動画を保存するための処理を終了する\n",
    "out.release()\n",
    "print(\"END\")\n",
    "\n"
   ]
  },
  {
   "cell_type": "code",
   "execution_count": 5,
   "metadata": {},
   "outputs": [
    {
     "data": {
      "text/plain": [
       "(array([-10.,   0.,  10.,  20.,  30.,  40.,  50.,  60.,  70.]),\n",
       " [Text(-10.0, 0, '−10'),\n",
       "  Text(0.0, 0, '0'),\n",
       "  Text(10.0, 0, '10'),\n",
       "  Text(20.0, 0, '20'),\n",
       "  Text(30.0, 0, '30'),\n",
       "  Text(40.0, 0, '40'),\n",
       "  Text(50.0, 0, '50'),\n",
       "  Text(60.0, 0, '60'),\n",
       "  Text(70.0, 0, '70')])"
      ]
     },
     "execution_count": 5,
     "metadata": {},
     "output_type": "execute_result"
    },
    {
     "data": {
      "image/png": "[encoded data removed]",
      "text/plain": [
       "<Figure size 400x240 with 1 Axes>"
      ]
     },
     "metadata": {},
     "output_type": "display_data"
    }
   ],
   "source": [
    "ax_list = np.diff(np.array(leader.v_xList))\n",
    "t = np.linspace(0,time_step*(simulation_steps), simulation_steps)\n",
    "\n",
    "plt.figure(figsize=(4,2.4))\n",
    "plt.plot(t,ax_list)\n",
    "plt.yticks(fontsize=8)\n",
    "plt.xticks(fontsize=8)"
   ]
  },
  {
   "cell_type": "code",
   "execution_count": null,
   "metadata": {},
   "outputs": [],
   "source": []
  }
 ],
 "metadata": {
  "kernelspec": {
   "display_name": "Python 3",
   "language": "python",
   "name": "python3"
  },
  "language_info": {
   "codemirror_mode": {
    "name": "ipython",
    "version": 3
   },
   "file_extension": ".py",
   "mimetype": "text/x-python",
   "name": "python",
   "nbconvert_exporter": "python",
   "pygments_lexer": "ipython3",
   "version": "3.11.2"
  },
  "orig_nbformat": 4,
  "vscode": {
   "interpreter": {
    "hash": "949777d72b0d2535278d3dc13498b2535136f6dfe0678499012e853ee9abcab1"
   }
  }
 },
 "nbformat": 4,
 "nbformat_minor": 2
}
