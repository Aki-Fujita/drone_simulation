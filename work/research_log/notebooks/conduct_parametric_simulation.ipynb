{
 "cells": [
  {
   "cell_type": "code",
   "execution_count": 1,
   "metadata": {},
   "outputs": [],
   "source": [
    "import sys\n",
    "sys.path.append(\"../../\")\n",
    "from simulation_classes.flying_cars import FlyingCars\n",
    "from simulation_classes.simulation_periodic import SimulationPeriodic\n",
    "import numpy as np\n",
    "%matplotlib inline\n",
    "import matplotlib.pyplot as plt"
   ]
  },
  {
   "cell_type": "code",
   "execution_count": 2,
   "metadata": {},
   "outputs": [],
   "source": [
    "\"\"\"\n",
    "シミュレーションの基本的な設定\n",
    "基本的には ./periodic_simulation.ipynbを参考にしている。\n",
    "DRONE_NUMについてfor文を回すためのファイル\n",
    "\"\"\"\n",
    "\n",
    "TOTAL_TIME = 100\n",
    "time_step = 0.2\n",
    "simulation_steps = int(TOTAL_TIME / time_step)\n",
    "scale_factor = 20\n",
    "legal_speed = 1.5\n",
    "real_legal_speed = min(2, legal_speed) * scale_factor * 3.6\n",
    "TOTAL_DISTANCE = 100\n",
    "boundary_condition = \"PERIODIC\"\n",
    "UPDATE_RULE = \"parallel\"\n",
    "MAX_ACC_REAL_WORLD = 2 # 0.2Gくらい\n",
    "MIN_ACC_REAL_WORLD = 5 # 0.5Gくらい\n",
    "\n",
    "# 先頭の車が前になるように置く(一番後ろの車はx=0でスタート)\n",
    "def scatter_cars_around(total_distance, car_num, idx, should_scatter=False):\n",
    "    delta = total_distance / car_num\n",
    "    return total_distance - delta * (idx+1)"
   ]
  },
  {
   "cell_type": "code",
   "execution_count": 3,
   "metadata": {},
   "outputs": [
    {
     "name": "stdout",
     "output_type": "stream",
     "text": [
      "最大ドローン台数：100台\n"
     ]
    }
   ],
   "source": [
    "result_obj = {}\n",
    "\n",
    "min_headway = 20 # 一番密度が高い時の車間距離を [m] で設定\n",
    "drone_num_for_max_density = int(TOTAL_DISTANCE * scale_factor / min_headway) #その時のドローン台数\n",
    "print(f\"最大ドローン台数：{drone_num_for_max_density}台\")\n",
    "increment = 5"
   ]
  },
  {
   "attachments": {},
   "cell_type": "markdown",
   "metadata": {},
   "source": [
    "### ここからシミュレーション開始。"
   ]
  },
  {
   "cell_type": "code",
   "execution_count": 5,
   "metadata": {},
   "outputs": [
    {
     "name": "stdout",
     "output_type": "stream",
     "text": [
      "5\n",
      "===PARALLEL実行===\n",
      "FINISHED\n",
      "10\n",
      "===PARALLEL実行===\n",
      "FINISHED\n",
      "15\n",
      "===PARALLEL実行===\n",
      "FINISHED\n"
     ]
    }
   ],
   "source": [
    "max_acc = MAX_ACC_REAL_WORLD / scale_factor # ルンゲクッタの時に加速度にdelta_tがかかることに注意\n",
    "min_acc = MIN_ACC_REAL_WORLD / scale_factor\n",
    "\n",
    "helly_params = {\n",
    "    \"max_accel\": max_acc,\n",
    "    \"min_accel\": min_acc,\n",
    "    \"lambda_1\": 0.2,\n",
    "    \"lambda_2\": 0.4,\n",
    "    \"d\": 0.5,\n",
    "    \"T_des\": 1,\n",
    "  }\n",
    "\n",
    "simulation_list = []\n",
    "\n",
    "for i in range(int(drone_num_for_max_density / increment)):\n",
    "    DRONE_NUM = (i+1) * increment\n",
    "    if (DRONE_NUM >15):\n",
    "        break\n",
    "    cars_list = [FlyingCars(xcor=scatter_cars_around(TOTAL_DISTANCE, DRONE_NUM, i),\n",
    "                     ycor=0, \n",
    "                     v_0=0,\n",
    "                     legal_speed=legal_speed, \n",
    "                     scale_factor=scale_factor,\n",
    "                     drone_idx = i,\n",
    "                     helly_params=helly_params,\n",
    "                     )\n",
    "               for i in range(DRONE_NUM)]\n",
    "    print(DRONE_NUM)\n",
    "    simulation = SimulationPeriodic(\n",
    "        TOTAL_TIME=TOTAL_TIME, \n",
    "        time_step=time_step, \n",
    "        scale_factor=scale_factor,\n",
    "        drone_list=cars_list,\n",
    "        TOTAL_DISTANCE=TOTAL_DISTANCE,\n",
    "        UPDATE_RULE=UPDATE_RULE )\n",
    "    simulation.run()\n",
    "    simulation_list.append(simulation)\n",
    "\n",
    "    "
   ]
  },
  {
   "attachments": {},
   "cell_type": "markdown",
   "metadata": {},
   "source": [
    "### ここからは解析に入る"
   ]
  },
  {
   "cell_type": "code",
   "execution_count": 11,
   "metadata": {},
   "outputs": [
    {
     "name": "stdout",
     "output_type": "stream",
     "text": [
      "[1.5, 1.5, 1.5, 1.5, 1.5]\n",
      "平均速度は1.5\n",
      "[1.5, 1.5, 1.5, 1.5, 1.5, 1.5, 1.5, 1.5, 1.5, 1.5]\n",
      "平均速度は1.5\n",
      "[1.5, 1.5, 1.5, 1.5, 1.5, 1.5, 1.5, 1.5, 1.5, 1.5, 1.5, 1.5, 1.5, 1.5, 1.5]\n",
      "平均速度は1.5\n"
     ]
    }
   ],
   "source": [
    "dataList = []\n",
    "for simulation in simulation_list:\n",
    "    cars = simulation.drone_list\n",
    "    # 流量を計算する\n",
    "    velocity_list = []\n",
    "    for car in cars:\n",
    "        snap_frame = int(simulation_steps * 0.95)\n",
    "        velocity_list.append(car.v_xList[snap_frame])\n",
    "    mean_velocity = np.mean(np.array(velocity_list))\n",
    "    print(velocity_list)\n",
    "    print(f\"平均速度は{mean_velocity}\")\n",
    "\n",
    "    # 密度：1km当たりの台数\n",
    "    rho = (len(cars) / TOTAL_DISTANCE * scale_factor) * 1000\n",
    "    flow = rho * mean_velocity\n",
    "\n",
    "    # プロット用に保存\n",
    "    dataToSave = {\n",
    "        \"density\":rho,\n",
    "        \"flow\":flow,\n",
    "        \"mean_velocity\":mean_velocity,\n",
    "        \"start_position\":\"unscattered\",\n",
    "    }"
   ]
  },
  {
   "cell_type": "code",
   "execution_count": null,
   "metadata": {},
   "outputs": [],
   "source": [
    "import pandas as pd\n",
    "\n",
    "dataList = []\n",
    "for simulation in simulation_list:\n",
    "    cars = simulation.drone_list\n",
    "    # 流量を計算する\n",
    "    velocity_list = []\n",
    "    for car in cars:\n",
    "        snap_frame = int(simulation_steps * 0.95)\n",
    "        velocity_list.append(car.v_xList[snap_frame])\n",
    "    mean_velocity = np.mean(np.array(velocity_list))\n",
    "\n",
    "    # 密度：1km当たりの台数\n",
    "    rho = len(cars) / (TOTAL_DISTANCE * scale_factor)  * 1000\n",
    "    flow = rho * mean_velocity\n",
    "\n",
    "    # プロット用に保存\n",
    "    dataToSave = {\n",
    "        \"density\":rho,\n",
    "        \"flow\":flow,\n",
    "        \"mean_velocity\":mean_velocity,\n",
    "        \"start_position\":\"unscattered\",\n",
    "        \"drone_num\":len(cars),\n",
    "        \"model\":\"Helly\"\n",
    "    }\n",
    "    dataList.append(dataToSave)\n",
    "\n",
    "df = pd.DataFrame(dataList)\n",
    "df.head()\n",
    "\n",
    "# 折れ線グラフを描画\n",
    "plt.plot(df[\"density\"], df[\"flow\"], marker='o')\n",
    "plt.xlabel('Density')\n",
    "plt.ylabel('Flow')\n",
    "plt.title('Fundamental Diagram')\n",
    "plt.grid(True)\n",
    "plt.show()\n"
   ]
  },
  {
   "cell_type": "code",
   "execution_count": null,
   "metadata": {},
   "outputs": [],
   "source": []
  }
 ],
 "metadata": {
  "kernelspec": {
   "display_name": "Python 3 (ipykernel)",
   "language": "python",
   "name": "python3"
  },
  "language_info": {
   "codemirror_mode": {
    "name": "ipython",
    "version": 3
   },
   "file_extension": ".py",
   "mimetype": "text/x-python",
   "name": "python",
   "nbconvert_exporter": "python",
   "pygments_lexer": "ipython3",
   "version": "3.8.9 (default, May 17 2022, 12:55:41) \n[Clang 13.1.6 (clang-1316.0.21.2.5)]"
  },
  "vscode": {
   "interpreter": {
    "hash": "31f2aee4e71d21fbe5cf8b01ff0e069b9275f58929596ceb00d14d90e3e16cd6"
   }
  }
 },
 "nbformat": 4,
 "nbformat_minor": 4
}
