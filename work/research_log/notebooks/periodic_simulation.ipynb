{
 "cells": [
  {
   "cell_type": "code",
   "execution_count": 1,
   "metadata": {},
   "outputs": [],
   "source": [
    "import sys\n",
    "sys.path.append(\"../../\")\n",
    "from simulation_classes.drones_helly import FlyingCars\n",
    "from simulation_classes.simulation_periodic import SimulationPeriodic\n",
    "import numpy as np\n",
    "%matplotlib inline\n",
    "import matplotlib.pyplot as plt"
   ]
  },
  {
   "attachments": {},
   "cell_type": "markdown",
   "metadata": {},
   "source": [
    "### このファイルでは、Hellyモデルで基本図を書くことを目的とする。\n",
    "\n"
   ]
  },
  {
   "cell_type": "code",
   "execution_count": 2,
   "metadata": {},
   "outputs": [
    {
     "name": "stdout",
     "output_type": "stream",
     "text": [
      "この設定だと法定速度は時速162.0km\n",
      "巡航距離は0.0kmです\n"
     ]
    }
   ],
   "source": [
    "TOTAL_TIME = 100\n",
    "time_step = 0.1\n",
    "simulation_steps = int(TOTAL_TIME / time_step)\n",
    "scale_factor = 30\n",
    "legal_speed = 1.5\n",
    "real_legal_speed = min(2, legal_speed) * scale_factor * 3.6\n",
    "TOTAL_DISTANCE = 0\n",
    "boundary_condition = \"PERIODIC\"\n",
    "UPDATE_RULE = \"parallel\"\n",
    "\n",
    "print(f\"この設定だと法定速度は時速{real_legal_speed}km\")\n",
    "print(f\"巡航距離は{TOTAL_DISTANCE * scale_factor /1000}kmです\")"
   ]
  },
  {
   "cell_type": "code",
   "execution_count": 4,
   "metadata": {},
   "outputs": [
    {
     "name": "stdout",
     "output_type": "stream",
     "text": [
      "最大加速度は0.61G\n",
      "最小加速度は-3.06G\n"
     ]
    }
   ],
   "source": [
    "DRONE_NUM = 1\n",
    "v_0 = 0\n",
    "a = 0.6\n",
    "c = 2\n",
    "max_acc = 0.2 \n",
    "min_acc = 0.15 if boundary_condition ==\"FIXED\" else -1\n",
    "x_end = TOTAL_DISTANCE if boundary_condition ==\"FIXED\" else 1e6\n",
    "\n",
    "cars_list = [FlyingCars(xcor=i * (-1),\n",
    "                     ycor=0, \n",
    "                     v_0=0,\n",
    "                     legal_speed=legal_speed, \n",
    "                     scale_factor=scale_factor,\n",
    "                     drone_idx = i,\n",
    "                     min_acc=min_acc,\n",
    "                     boundary_condition=boundary_condition\n",
    "                     )\n",
    "               for i in range(DRONE_NUM)]\n",
    "print(\"最大加速度は{:.2f}G\".format(max_acc * scale_factor / 9.8))\n",
    "print(\"最小加速度は{:.2f}G\".format(min_acc * scale_factor / 9.8))"
   ]
  },
  {
   "cell_type": "code",
   "execution_count": null,
   "metadata": {},
   "outputs": [],
   "source": [
    "simulation = SimulationSettings(\n",
    "    TOTAL_TIME=TOTAL_TIME, \n",
    "    time_step=time_step, \n",
    "    scale_factor=scale_factor,\n",
    "    drone_list=drone_list,\n",
    "    boundary_condition=boundary_condition,\n",
    "    TOTAL_DISTANCE=TOTAL_DISTANCE,\n",
    "    UPDATE_RULE=UPDATE_RULE )"
   ]
  },
  {
   "cell_type": "markdown",
   "metadata": {},
   "source": []
  }
 ],
 "metadata": {
  "kernelspec": {
   "display_name": "Python 3",
   "language": "python",
   "name": "python3"
  },
  "language_info": {
   "codemirror_mode": {
    "name": "ipython",
    "version": 3
   },
   "file_extension": ".py",
   "mimetype": "text/x-python",
   "name": "python",
   "nbconvert_exporter": "python",
   "pygments_lexer": "ipython3",
   "version": "3.11.2"
  },
  "orig_nbformat": 4,
  "vscode": {
   "interpreter": {
    "hash": "949777d72b0d2535278d3dc13498b2535136f6dfe0678499012e853ee9abcab1"
   }
  }
 },
 "nbformat": 4,
 "nbformat_minor": 2
}
