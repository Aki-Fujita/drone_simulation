{
 "cells": [
  {
   "cell_type": "code",
   "execution_count": 1,
   "metadata": {},
   "outputs": [],
   "source": [
    "import sys\n",
    "sys.path.append(\"../../\")\n",
    "from simulation_classes.drones import Drones\n",
    "from simulation_classes.simulation_setting import SimulationSettings\n",
    "import numpy as np\n",
    "%matplotlib inline\n",
    "import matplotlib.pyplot as plt"
   ]
  },
  {
   "attachments": {},
   "cell_type": "markdown",
   "metadata": {},
   "source": [
    "### シミュレーションの基本的な設定\n",
    "基本的には `./periodic_simulation.ipynb` を参考にしている。"
   ]
  },
  {
   "cell_type": "code",
   "execution_count": 2,
   "metadata": {},
   "outputs": [],
   "source": [
    "TOTAL_TIME = 100\n",
    "time_step = 0.2\n",
    "simulation_steps = int(TOTAL_TIME / time_step)\n",
    "scale_factor = 20\n",
    "legal_speed = 1.5\n",
    "real_legal_speed = min(2, legal_speed) * scale_factor * 3.6\n",
    "TOTAL_DISTANCE = 100\n",
    "boundary_condition = \"PERIODIC\"\n",
    "UPDATE_RULE = \"parallel\"\n",
    "MAX_ACC_REAL_WORLD = 2 # 0.2Gくらい\",\n",
    "MIN_ACC_REAL_WORLD = 5 # 0.5Gくらい\",\n",
    "\n",
    "# 先頭の車が前になるように置く(一番後ろの車はx=0でスタート)\",\n",
    "def scatter_cars_around(total_distance, car_num, idx, should_scatter=False):\n",
    "    delta = total_distance / car_num\n",
    "    return total_distance - delta * (idx+1)"
   ]
  },
  {
   "cell_type": "code",
   "execution_count": null,
   "metadata": {},
   "outputs": [],
   "source": []
  }
 ],
 "metadata": {
  "kernelspec": {
   "display_name": "Python 3 (ipykernel)",
   "language": "python",
   "name": "python3"
  },
  "language_info": {
   "codemirror_mode": {
    "name": "ipython",
    "version": 3
   },
   "file_extension": ".py",
   "mimetype": "text/x-python",
   "name": "python",
   "nbconvert_exporter": "python",
   "pygments_lexer": "ipython3",
   "version": "3.11.4"
  }
 },
 "nbformat": 4,
 "nbformat_minor": 4
}
