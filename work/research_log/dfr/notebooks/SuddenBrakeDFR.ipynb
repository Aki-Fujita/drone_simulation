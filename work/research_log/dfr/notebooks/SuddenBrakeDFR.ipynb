{
 "cells": [
  {
   "cell_type": "code",
   "execution_count": 1,
   "id": "01416869-ad84-41d5-b5ee-b0d37af6c83e",
   "metadata": {},
   "outputs": [
    {
     "name": "stdout",
     "output_type": "stream",
     "text": [
      "797\n"
     ]
    }
   ],
   "source": [
    "import random\n",
    "import numpy as np\n",
    "from matplotlib.animation import FuncAnimation\n",
    "import matplotlib.pyplot as plt\n",
    "import pandas as pd\n",
    "import sys\n",
    "import io\n",
    "import copy\n",
    "from tqdm.notebook import tqdm  # tqdm.notebookをインポート\n",
    "from IPython.display import display, HTML\n",
    "import cProfile\n",
    "\n",
    "\n",
    "sys.path.append(\"../\")\n",
    "from models import Cars, ReservationTable, DFRSimulation, VFRSimulation, SuddenStopDFRSimulation, SuddenStopVFRSimulation\n",
    "from utils import check_multiple_noise_effect, validate_with_ttc, generate_arrival_times_poisson, print_formatted_dict_list\n",
    "\n",
    "# ↑↑↑↑↑↑↑↑↑この部分は別セルでも良い↑↑↑↑↑↑↑↑↑\n",
    "\n",
    "def create_arrival_times_arithmetic_seq(step, n_max):\n",
    "    return [i * step for i in range(n_max)]\n",
    "\n",
    "def arithmetic_sequence(first_term, common_difference, num_terms):\n",
    "    return [first_term + common_difference * n for n in range(num_terms)]\n",
    "\n",
    "# 初期設定（独立変数群）\n",
    "CAR_NUM = 400 #時間窓内の車の総数\n",
    "START_TIME = 0\n",
    "TOTAL_LENGTH = 4000 # 入り口から出口までの距離 [m]\n",
    "NOISE_START_X = 3110\n",
    "OBSERVATION_POINTS = [NOISE_START_X - 1015, NOISE_START_X-5]\n",
    "\n",
    "# 流量カウント用\n",
    "flow_count_interval = 60\n",
    "SEGMENT_LENGTH=1000\n",
    "flow_calc_start = 100 # 何秒後から流量の計測を始めるか\n",
    "\n",
    "\n",
    "WAYPOINTS_NUM = 40 #constrained way pointの数\n",
    "MEAN_SPEED = 20 # 秒速[m/s]として定義\n",
    "MAX_SPEED = 25 # 秒速[m/s]として定義\n",
    "MAX_ACC = 3 # m/s^sで定義, maxは0.3gにした\n",
    "TIME_STEP = 0.1\n",
    "PLOT_CONDITION=[\"noise_continue\", \"noise_created\"]\n",
    "# TOTAL_TIME = 100 # シミュレーション時間\n",
    "\n",
    "# 研究用のパラメータ\n",
    "TTC = 1.6 #車間時間を暫定的に定義\n",
    "COMMUNICATION_SPEED = 0\n",
    "LAMBDA = 2 # 台数密度を車間時間として定義\n",
    "\n",
    "# ノイズ関連のパラメ-タ\n",
    "NOISE_FREQUENCY = 11\n",
    "\n",
    "arrival_times = create_arrival_times_arithmetic_seq(LAMBDA, CAR_NUM)\n",
    "# arrival_times = [2.805611314755843, 4.8056113147558435, 12.45418334124825, 17.61211498044407, 21.674961724245826, 23.674961724245826, 25.674961724245826, 31.01738642384915, 33.0355321495912, 35.0355321495912, 37.0355321495912, 50.72232545890806, 53.28195113722663, 58.643046837549164, 60.643046837549164, 62.643046837549164, 66.3180561603613, 69.90570543546659, 71.90570543546659, 75.80826562583078, 83.18906347590797, 85.85451992305059, 87.85451992305059, 92.5756159681414, 94.5756159681414, 96.5756159681414, 98.5756159681414, 101.6651765089501, 103.6651765089501, 110.05413309381916, 113.78187314652725, 120.70411201001693, 124.5444753695085, 128.69066124619636, 130.69066124619636, 132.9643533178792, 136.10646274385812, 138.10646274385812, 140.10646274385812, 142.10646274385812, 144.21750870897847, 146.21750870897847, 149.8726371315692, 154.36629397943378, 157.73429300337168, 159.73429300337168, 166.10515448927555, 170.76587981468654, 177.6172249091577, 181.20674538328223, 183.20674538328223, 191.0856979310541, 195.7951292631883, 197.7951292631883, 199.7951292631883, 201.7951292631883, 203.7951292631883, 205.7951292631883, 210.84675914652456, 213.02016499169758, 216.13196411790912, 221.7631507383874, 223.7631507383874, 229.86053417345707, 231.86053417345707, 234.6564081083129, 240.25195126297137, 242.25195126297137, 244.7410730950167, 246.7410730950167, 250.32172232537462, 252.32172232537462, 254.79385093464091, 259.7887572694224, 261.7887572694224, 263.7887572694224, 265.7887572694224, 267.7887572694224, 269.7887572694224, 271.7887572694224, 277.411112520444, 281.9025054780484, 285.3708119307591, 288.9544430319777, 291.3127945778801, 293.3127945778801, 295.7890822041264, 299.79472825514387, 301.79472825514387, 303.79472825514387, 305.79472825514387, 307.8751945681391, 319.9547903024209, 322.1483555447243, 331.8288493420763, 348.5939101025975, 350.5939101025975, 352.5939101025975, 358.8615012107836, 360.8615012107836, 362.8615012107836, 365.69176010087796, 367.69176010087796, 380.8372263074677, 382.8372263074677, 385.691319886154, 394.9881156170315, 396.9881156170315, 400.68180490817275, 405.72720568461085, 409.7007037873151, 411.7007037873151, 415.1521106057683, 423.02322621117526, 428.3079852334132, 430.3079852334132, 434.31030792257644, 439.17473045212006, 441.30347417169185, 451.2960346943851, 459.8101482411158, 462.81830365416147, 464.81830365416147, 467.7967723288717, 469.7967723288717, 483.7104421950171, 485.7104421950171, 492.8950625540238, 494.8950625540238, 496.8950625540238, 498.92755939791897, 500.92755939791897, 508.5657624659219, 521.0310470290151, 523.1386398660222, 525.3410414471647, 554.3929044421307, 556.3929044421307, 558.3929044421307, 560.3929044421307, 562.3929044421307, 564.3929044421307, 567.9024564446015, 583.0467713239962, 585.0467713239962, 587.0467713239962, 592.27702203698, 596.8457966827882, 599.677970487058, 601.677970487058, 603.677970487058, 605.677970487058, 613.1543429045331, 619.879002414836, 624.5867848690966, 630.0694935928452, 632.0694935928452, 634.0694935928452, 639.7658686039352, 641.7658686039352, 666.6771781072678, 668.6771781072678, 670.6771781072678, 672.6771781072678, 682.2497900086923, 686.0672401944468, 692.6521960547575, 702.7151508374712, 705.7258074984599, 709.6871632249706, 713.2132603948002, 715.2132603948002, 720.1206752688595, 722.1206752688595, 729.8852133346647, 732.0306195109456, 734.0306195109456, 737.7301500421327, 739.7301500421327, 747.1990405287322, 749.8085855513195, 752.5008968312366, 756.9351794690243, 759.5399850821067, 762.8033006845096, 764.8033006845096, 770.182583910496, 772.182583910496, 774.3256284907151, 788.7507398509098, 790.7507398509098, 792.7507398509098, 795.4177302451491, 797.4177302451491, 800.3675501176599, 802.3675501176599, 804.3675501176599, 811.2721607726187, 813.2721607726187, 815.3417210412985]\n",
    "\n",
    "car_params = {\"v_mean\":MEAN_SPEED, \"v_max\": MAX_SPEED, \"a_max\":MAX_ACC, \"a_min\":MAX_ACC}\n",
    "\n",
    "noise_params ={\"NOISE_FREQUENCY\":NOISE_FREQUENCY, \"NOISE_START_X\":NOISE_START_X}\n",
    "brake_params={ \"decel\": -2, \"acc\":2, \"coast_time\":3, \"period\": 2}\n",
    "\n",
    "def register_initial_eta(cars):\n",
    "    for idx, car in enumerate(CARS):\n",
    "        desired_eta_list = car.create_desired_eta(WAYPOINTS)\n",
    "        is_valid = reservation_table.validate(desired_eta_list)\n",
    "        if is_valid:\n",
    "            reservation_table.register(desired_eta_list)\n",
    "        else:\n",
    "            calibration_info = {\"desired_list\": desired_eta_list}\n",
    "            calibrated_list, _ = reservation_table.calibrate_list(**calibration_info)\n",
    "            # print(calibrated_list)\n",
    "            # print()\n",
    "            reservation_table.register(calibrated_list)\n",
    "            car.my_list = calibrated_list\n",
    "\n",
    "print(arrival_times[-1]-1)\n",
    "TOTAL_TIME = min(arrival_times[-1]-1, 800)\n",
    "\n",
    "def format_flow_dataframe(data):\n",
    "    rows = []\n",
    "    for point, metrics in data.items():\n",
    "        for i in range(len(metrics['time'])):\n",
    "            row = {\n",
    "                'point': point,\n",
    "                'density': metrics['density'][i],\n",
    "                'time': metrics['time'][i],\n",
    "                'flow': metrics['flow'][i],\n",
    "                'flow_calculated': metrics['flow_calculated'][i],\n",
    "                'density_calculated': metrics['density_calculated'][i]\n",
    "            }\n",
    "            rows.append(row)\n",
    "    df = pd.DataFrame(rows)\n",
    "    return df"
   ]
  },
  {
   "cell_type": "code",
   "execution_count": 2,
   "id": "3ade8c2f-0df2-45e5-bb0d-d475fa3ea76f",
   "metadata": {},
   "outputs": [],
   "source": [
    "# ここからDFRのシミュレーション\n",
    "# 従属的に決まるもの\n",
    "WAYPOINTS = [{\"waypoint_idx\": i, \"x\": TOTAL_LENGTH / WAYPOINTS_NUM * (i)} for i in range(WAYPOINTS_NUM+1)]\n",
    "group_id = 0\n",
    "CARS = [Cars(arrival_time=time, index=index, v_mean=MEAN_SPEED, v_max = MAX_SPEED, a_max=MAX_ACC, a_min=MAX_ACC)\n",
    "              for index, time in enumerate(arrival_times)]\n",
    "\n",
    "reservation_table = ReservationTable(waypoints = WAYPOINTS, global_params = {\"DESIRED_TTC\":TTC})\n",
    "\n",
    "simulation = SuddenStopDFRSimulation(TOTAL_TIME = TOTAL_TIME, TIME_STEP = TIME_STEP, TOTAL_LENGTH = TOTAL_LENGTH, CARS = CARS, TTC=TTC, \\\n",
    "                          reservation_table = reservation_table, noise_params=noise_params, brake_params=brake_params, COMMUNICATION_SPEED=COMMUNICATION_SPEED, DENSITY=LAMBDA, \\\n",
    "                          observation_points = OBSERVATION_POINTS, segment_length=SEGMENT_LENGTH, flow_count_interval=flow_count_interval)\n",
    "\n",
    "# simulation.conduct_simulation(should_plot=False, plot_start=100, plot_finish=200)\n"
   ]
  },
  {
   "cell_type": "code",
   "execution_count": 13,
   "id": "5f95d1cc-78bd-4909-a724-86d046e907e8",
   "metadata": {},
   "outputs": [
    {
     "data": {
      "application/vnd.jupyter.widget-view+json": {
       "model_id": "aadfc1f3bcbe43559c03883b13e0c6cc",
       "version_major": 2,
       "version_minor": 0
      },
      "text/plain": [
       "Simulation Progress DFR, density=2:   0%|          | 0/7970 [00:00<?, ?it/s]"
      ]
     },
     "metadata": {},
     "output_type": "display_data"
    }
   ],
   "source": [
    "simulation.conduct_simulation(should_plot=False, plot_start=200, plot_finish=300)\n",
    "#cProfile.run('simulation.conduct_simulation(should_plot=True, plot_start=400, plot_finish=500)', 'profile_result.prof')\n",
    "# import pstats\n",
    "# stats = pstats.Stats('profile_result.prof')\n",
    "# stats.strip_dirs().sort_stats('cumulative').print_stats(20)  # 上位20件を表示"
   ]
  },
  {
   "cell_type": "code",
   "execution_count": 23,
   "id": "29a464a1-fcdf-4d2c-8265-b2334e60e776",
   "metadata": {},
   "outputs": [
    {
     "name": "stdout",
     "output_type": "stream",
     "text": [
      "{2095: {'flow': [0, 8, 30, 25, 28, 24, 27, 18, 28, 30, 27, 22, 28], 'density': [0.165, 17.06677796327212, 25.409015025041736, 26.257095158597664, 27.963272120200333, 29.31051752921536, 32.151919866444075, 34.040066777963276, 39.47078464106845, 39.41068447412354, 38.36727879799666, 37.56260434056761, 39.108514190317194], 'time': [60.0, 120.0, 180.0, 240.0, 300.0, 360.0, 420.0, 480.0, 540.0, 600.0, 660.0, 720.0, 780.0], 'flow_calculated': [0.014705871539800339, 0.49179313555875753, 0.4779782659264591, 0.4802906774369353, 0.3960084339839719, 0.48175240389442736, 0.40818295563740037, 0.387870126173813, 0.49835907274396285, 0.4038690208917764, 0.5182083989242025, 0.42946714296149097, 0.36285888196464405], 'density_calculated': [0.0007352935769900169, 0.02499937501562474, 0.025505260805033198, 0.028223221434367618, 0.026256019711607195, 0.031662442881074976, 0.032390863279438846, 0.03668851011851045, 0.03978848200963908, 0.0388472495362167, 0.03857808933566412, 0.039034407767803384, 0.0400859237083766]}, 3105: {'flow': [0, 0, 9, 24, 25, 24, 22, 25, 25, 27, 27, 26, 24], 'density': [0.0, 1.008347245409015, 20.554257095158597, 28.823038397328883, 30.353923205342237, 32.95158597662771, 34.52587646076795, 34.784641068447414, 31.26711185308848, 35.86143572621035, 36.989983305509185, 34.779632721202006, 34.85809682804675], 'time': [60.0, 120.0, 180.0, 240.0, 300.0, 360.0, 420.0, 480.0, 540.0, 600.0, 660.0, 720.0, 780.0], 'flow_calculated': [0.0, 0.0349930537213542, 0.48596837826635564, 0.43965118823087607, 0.4217610546834539, 0.4622840882049354, 0.43754452285991985, 0.3885136841067864, 0.45749731068873717, 0.4234805820867618, 0.5024232512295782, 0.39948015513261587, 0.36038780770746465], 'density_calculated': [9.999999900000001e-06, 0.001871522911833411, 0.02828172110492351, 0.029501138947828895, 0.03312793713642091, 0.03297137504185245, 0.03750926847223403, 0.031187823663404578, 0.034059474794505815, 0.03648139279019738, 0.036649982778361886, 0.032083120776031655, 0.036120263353885414]}}\n"
     ]
    },
    {
     "data": {
      "text/html": [
       "<div>\n",
       "<style scoped>\n",
       "    .dataframe tbody tr th:only-of-type {\n",
       "        vertical-align: middle;\n",
       "    }\n",
       "\n",
       "    .dataframe tbody tr th {\n",
       "        vertical-align: top;\n",
       "    }\n",
       "\n",
       "    .dataframe thead th {\n",
       "        text-align: right;\n",
       "    }\n",
       "</style>\n",
       "<table border=\"1\" class=\"dataframe\">\n",
       "  <thead>\n",
       "    <tr style=\"text-align: right;\">\n",
       "      <th></th>\n",
       "      <th>point</th>\n",
       "      <th>density</th>\n",
       "      <th>time</th>\n",
       "      <th>flow</th>\n",
       "      <th>flow_calculated</th>\n",
       "      <th>density_calculated</th>\n",
       "    </tr>\n",
       "  </thead>\n",
       "  <tbody>\n",
       "    <tr>\n",
       "      <th>0</th>\n",
       "      <td>2095</td>\n",
       "      <td>0.165000</td>\n",
       "      <td>60.0</td>\n",
       "      <td>0</td>\n",
       "      <td>0.014706</td>\n",
       "      <td>0.000735</td>\n",
       "    </tr>\n",
       "    <tr>\n",
       "      <th>1</th>\n",
       "      <td>2095</td>\n",
       "      <td>17.066778</td>\n",
       "      <td>120.0</td>\n",
       "      <td>8</td>\n",
       "      <td>0.491793</td>\n",
       "      <td>0.024999</td>\n",
       "    </tr>\n",
       "    <tr>\n",
       "      <th>2</th>\n",
       "      <td>2095</td>\n",
       "      <td>25.409015</td>\n",
       "      <td>180.0</td>\n",
       "      <td>30</td>\n",
       "      <td>0.477978</td>\n",
       "      <td>0.025505</td>\n",
       "    </tr>\n",
       "    <tr>\n",
       "      <th>3</th>\n",
       "      <td>2095</td>\n",
       "      <td>26.257095</td>\n",
       "      <td>240.0</td>\n",
       "      <td>25</td>\n",
       "      <td>0.480291</td>\n",
       "      <td>0.028223</td>\n",
       "    </tr>\n",
       "    <tr>\n",
       "      <th>4</th>\n",
       "      <td>2095</td>\n",
       "      <td>27.963272</td>\n",
       "      <td>300.0</td>\n",
       "      <td>28</td>\n",
       "      <td>0.396008</td>\n",
       "      <td>0.026256</td>\n",
       "    </tr>\n",
       "    <tr>\n",
       "      <th>5</th>\n",
       "      <td>2095</td>\n",
       "      <td>29.310518</td>\n",
       "      <td>360.0</td>\n",
       "      <td>24</td>\n",
       "      <td>0.481752</td>\n",
       "      <td>0.031662</td>\n",
       "    </tr>\n",
       "    <tr>\n",
       "      <th>6</th>\n",
       "      <td>2095</td>\n",
       "      <td>32.151920</td>\n",
       "      <td>420.0</td>\n",
       "      <td>27</td>\n",
       "      <td>0.408183</td>\n",
       "      <td>0.032391</td>\n",
       "    </tr>\n",
       "    <tr>\n",
       "      <th>7</th>\n",
       "      <td>2095</td>\n",
       "      <td>34.040067</td>\n",
       "      <td>480.0</td>\n",
       "      <td>18</td>\n",
       "      <td>0.387870</td>\n",
       "      <td>0.036689</td>\n",
       "    </tr>\n",
       "    <tr>\n",
       "      <th>8</th>\n",
       "      <td>2095</td>\n",
       "      <td>39.470785</td>\n",
       "      <td>540.0</td>\n",
       "      <td>28</td>\n",
       "      <td>0.498359</td>\n",
       "      <td>0.039788</td>\n",
       "    </tr>\n",
       "    <tr>\n",
       "      <th>9</th>\n",
       "      <td>2095</td>\n",
       "      <td>39.410684</td>\n",
       "      <td>600.0</td>\n",
       "      <td>30</td>\n",
       "      <td>0.403869</td>\n",
       "      <td>0.038847</td>\n",
       "    </tr>\n",
       "    <tr>\n",
       "      <th>10</th>\n",
       "      <td>2095</td>\n",
       "      <td>38.367279</td>\n",
       "      <td>660.0</td>\n",
       "      <td>27</td>\n",
       "      <td>0.518208</td>\n",
       "      <td>0.038578</td>\n",
       "    </tr>\n",
       "    <tr>\n",
       "      <th>11</th>\n",
       "      <td>2095</td>\n",
       "      <td>37.562604</td>\n",
       "      <td>720.0</td>\n",
       "      <td>22</td>\n",
       "      <td>0.429467</td>\n",
       "      <td>0.039034</td>\n",
       "    </tr>\n",
       "    <tr>\n",
       "      <th>12</th>\n",
       "      <td>2095</td>\n",
       "      <td>39.108514</td>\n",
       "      <td>780.0</td>\n",
       "      <td>28</td>\n",
       "      <td>0.362859</td>\n",
       "      <td>0.040086</td>\n",
       "    </tr>\n",
       "    <tr>\n",
       "      <th>13</th>\n",
       "      <td>3105</td>\n",
       "      <td>0.000000</td>\n",
       "      <td>60.0</td>\n",
       "      <td>0</td>\n",
       "      <td>0.000000</td>\n",
       "      <td>0.000010</td>\n",
       "    </tr>\n",
       "    <tr>\n",
       "      <th>14</th>\n",
       "      <td>3105</td>\n",
       "      <td>1.008347</td>\n",
       "      <td>120.0</td>\n",
       "      <td>0</td>\n",
       "      <td>0.034993</td>\n",
       "      <td>0.001872</td>\n",
       "    </tr>\n",
       "    <tr>\n",
       "      <th>15</th>\n",
       "      <td>3105</td>\n",
       "      <td>20.554257</td>\n",
       "      <td>180.0</td>\n",
       "      <td>9</td>\n",
       "      <td>0.485968</td>\n",
       "      <td>0.028282</td>\n",
       "    </tr>\n",
       "    <tr>\n",
       "      <th>16</th>\n",
       "      <td>3105</td>\n",
       "      <td>28.823038</td>\n",
       "      <td>240.0</td>\n",
       "      <td>24</td>\n",
       "      <td>0.439651</td>\n",
       "      <td>0.029501</td>\n",
       "    </tr>\n",
       "    <tr>\n",
       "      <th>17</th>\n",
       "      <td>3105</td>\n",
       "      <td>30.353923</td>\n",
       "      <td>300.0</td>\n",
       "      <td>25</td>\n",
       "      <td>0.421761</td>\n",
       "      <td>0.033128</td>\n",
       "    </tr>\n",
       "    <tr>\n",
       "      <th>18</th>\n",
       "      <td>3105</td>\n",
       "      <td>32.951586</td>\n",
       "      <td>360.0</td>\n",
       "      <td>24</td>\n",
       "      <td>0.462284</td>\n",
       "      <td>0.032971</td>\n",
       "    </tr>\n",
       "    <tr>\n",
       "      <th>19</th>\n",
       "      <td>3105</td>\n",
       "      <td>34.525876</td>\n",
       "      <td>420.0</td>\n",
       "      <td>22</td>\n",
       "      <td>0.437545</td>\n",
       "      <td>0.037509</td>\n",
       "    </tr>\n",
       "    <tr>\n",
       "      <th>20</th>\n",
       "      <td>3105</td>\n",
       "      <td>34.784641</td>\n",
       "      <td>480.0</td>\n",
       "      <td>25</td>\n",
       "      <td>0.388514</td>\n",
       "      <td>0.031188</td>\n",
       "    </tr>\n",
       "    <tr>\n",
       "      <th>21</th>\n",
       "      <td>3105</td>\n",
       "      <td>31.267112</td>\n",
       "      <td>540.0</td>\n",
       "      <td>25</td>\n",
       "      <td>0.457497</td>\n",
       "      <td>0.034059</td>\n",
       "    </tr>\n",
       "    <tr>\n",
       "      <th>22</th>\n",
       "      <td>3105</td>\n",
       "      <td>35.861436</td>\n",
       "      <td>600.0</td>\n",
       "      <td>27</td>\n",
       "      <td>0.423481</td>\n",
       "      <td>0.036481</td>\n",
       "    </tr>\n",
       "    <tr>\n",
       "      <th>23</th>\n",
       "      <td>3105</td>\n",
       "      <td>36.989983</td>\n",
       "      <td>660.0</td>\n",
       "      <td>27</td>\n",
       "      <td>0.502423</td>\n",
       "      <td>0.036650</td>\n",
       "    </tr>\n",
       "    <tr>\n",
       "      <th>24</th>\n",
       "      <td>3105</td>\n",
       "      <td>34.779633</td>\n",
       "      <td>720.0</td>\n",
       "      <td>26</td>\n",
       "      <td>0.399480</td>\n",
       "      <td>0.032083</td>\n",
       "    </tr>\n",
       "    <tr>\n",
       "      <th>25</th>\n",
       "      <td>3105</td>\n",
       "      <td>34.858097</td>\n",
       "      <td>780.0</td>\n",
       "      <td>24</td>\n",
       "      <td>0.360388</td>\n",
       "      <td>0.036120</td>\n",
       "    </tr>\n",
       "  </tbody>\n",
       "</table>\n",
       "</div>"
      ],
      "text/plain": [
       "    point    density   time  flow  flow_calculated  density_calculated\n",
       "0    2095   0.165000   60.0     0         0.014706            0.000735\n",
       "1    2095  17.066778  120.0     8         0.491793            0.024999\n",
       "2    2095  25.409015  180.0    30         0.477978            0.025505\n",
       "3    2095  26.257095  240.0    25         0.480291            0.028223\n",
       "4    2095  27.963272  300.0    28         0.396008            0.026256\n",
       "5    2095  29.310518  360.0    24         0.481752            0.031662\n",
       "6    2095  32.151920  420.0    27         0.408183            0.032391\n",
       "7    2095  34.040067  480.0    18         0.387870            0.036689\n",
       "8    2095  39.470785  540.0    28         0.498359            0.039788\n",
       "9    2095  39.410684  600.0    30         0.403869            0.038847\n",
       "10   2095  38.367279  660.0    27         0.518208            0.038578\n",
       "11   2095  37.562604  720.0    22         0.429467            0.039034\n",
       "12   2095  39.108514  780.0    28         0.362859            0.040086\n",
       "13   3105   0.000000   60.0     0         0.000000            0.000010\n",
       "14   3105   1.008347  120.0     0         0.034993            0.001872\n",
       "15   3105  20.554257  180.0     9         0.485968            0.028282\n",
       "16   3105  28.823038  240.0    24         0.439651            0.029501\n",
       "17   3105  30.353923  300.0    25         0.421761            0.033128\n",
       "18   3105  32.951586  360.0    24         0.462284            0.032971\n",
       "19   3105  34.525876  420.0    22         0.437545            0.037509\n",
       "20   3105  34.784641  480.0    25         0.388514            0.031188\n",
       "21   3105  31.267112  540.0    25         0.457497            0.034059\n",
       "22   3105  35.861436  600.0    27         0.423481            0.036481\n",
       "23   3105  36.989983  660.0    27         0.502423            0.036650\n",
       "24   3105  34.779633  720.0    26         0.399480            0.032083\n",
       "25   3105  34.858097  780.0    24         0.360388            0.036120"
      ]
     },
     "execution_count": 23,
     "metadata": {},
     "output_type": "execute_result"
    }
   ],
   "source": [
    "print((simulation.flow_results))\n",
    "format_flow_data_frame(simulation.flow_results)"
   ]
  },
  {
   "cell_type": "code",
   "execution_count": 6,
   "id": "f796f40d-3950-4499-8b5c-095990d6e212",
   "metadata": {},
   "outputs": [
    {
     "ename": "KeyError",
     "evalue": "'car_idx'",
     "output_type": "error",
     "traceback": [
      "\u001b[0;31m---------------------------------------------------------------------------\u001b[0m",
      "\u001b[0;31mKeyError\u001b[0m                                  Traceback (most recent call last)",
      "Cell \u001b[0;32mIn[6], line 2\u001b[0m\n\u001b[1;32m      1\u001b[0m df \u001b[38;5;241m=\u001b[39m simulation\u001b[38;5;241m.\u001b[39mreservation_table\u001b[38;5;241m.\u001b[39meta_table\n\u001b[0;32m----> 2\u001b[0m df \u001b[38;5;241m=\u001b[39m df[\u001b[43mdf\u001b[49m\u001b[43m[\u001b[49m\u001b[38;5;124;43m\"\u001b[39;49m\u001b[38;5;124;43mcar_idx\u001b[39;49m\u001b[38;5;124;43m\"\u001b[39;49m\u001b[43m]\u001b[49m \u001b[38;5;241m==\u001b[39m \u001b[38;5;241m2\u001b[39m]\n\u001b[1;32m      3\u001b[0m goal_times \u001b[38;5;241m=\u001b[39m simulation\u001b[38;5;241m.\u001b[39mgoal_time\n\u001b[1;32m      4\u001b[0m \u001b[38;5;66;03m# print(goal_times)\u001b[39;00m\n",
      "File \u001b[0;32m/usr/local/lib/python3.12/site-packages/pandas/core/frame.py:3896\u001b[0m, in \u001b[0;36mDataFrame.__getitem__\u001b[0;34m(self, key)\u001b[0m\n\u001b[1;32m   3894\u001b[0m \u001b[38;5;28;01mif\u001b[39;00m \u001b[38;5;28mself\u001b[39m\u001b[38;5;241m.\u001b[39mcolumns\u001b[38;5;241m.\u001b[39mnlevels \u001b[38;5;241m>\u001b[39m \u001b[38;5;241m1\u001b[39m:\n\u001b[1;32m   3895\u001b[0m     \u001b[38;5;28;01mreturn\u001b[39;00m \u001b[38;5;28mself\u001b[39m\u001b[38;5;241m.\u001b[39m_getitem_multilevel(key)\n\u001b[0;32m-> 3896\u001b[0m indexer \u001b[38;5;241m=\u001b[39m \u001b[38;5;28;43mself\u001b[39;49m\u001b[38;5;241;43m.\u001b[39;49m\u001b[43mcolumns\u001b[49m\u001b[38;5;241;43m.\u001b[39;49m\u001b[43mget_loc\u001b[49m\u001b[43m(\u001b[49m\u001b[43mkey\u001b[49m\u001b[43m)\u001b[49m\n\u001b[1;32m   3897\u001b[0m \u001b[38;5;28;01mif\u001b[39;00m is_integer(indexer):\n\u001b[1;32m   3898\u001b[0m     indexer \u001b[38;5;241m=\u001b[39m [indexer]\n",
      "File \u001b[0;32m/usr/local/lib/python3.12/site-packages/pandas/core/indexes/range.py:418\u001b[0m, in \u001b[0;36mRangeIndex.get_loc\u001b[0;34m(self, key)\u001b[0m\n\u001b[1;32m    416\u001b[0m         \u001b[38;5;28;01mraise\u001b[39;00m \u001b[38;5;167;01mKeyError\u001b[39;00m(key) \u001b[38;5;28;01mfrom\u001b[39;00m \u001b[38;5;21;01merr\u001b[39;00m\n\u001b[1;32m    417\u001b[0m \u001b[38;5;28;01mif\u001b[39;00m \u001b[38;5;28misinstance\u001b[39m(key, Hashable):\n\u001b[0;32m--> 418\u001b[0m     \u001b[38;5;28;01mraise\u001b[39;00m \u001b[38;5;167;01mKeyError\u001b[39;00m(key)\n\u001b[1;32m    419\u001b[0m \u001b[38;5;28mself\u001b[39m\u001b[38;5;241m.\u001b[39m_check_indexing_error(key)\n\u001b[1;32m    420\u001b[0m \u001b[38;5;28;01mraise\u001b[39;00m \u001b[38;5;167;01mKeyError\u001b[39;00m(key)\n",
      "\u001b[0;31mKeyError\u001b[0m: 'car_idx'"
     ]
    }
   ],
   "source": [
    "df = simulation.reservation_table.eta_table\n",
    "df = df[df[\"car_idx\"] == 2]\n",
    "goal_times = simulation.goal_time\n",
    "# print(goal_times)\n",
    "def calc_diff(input_list):\n",
    "    retList = []\n",
    "    for i, val in enumerate(input_list):\n",
    "        if i < len(input_list)-1:\n",
    "            delta = input_list[i+1] - val\n",
    "            retList.append({str(int(val*10)/10): int(delta * 100) / 100})\n",
    "    return retList\n",
    "print(calc_diff(goal_times))\n",
    "\n",
    "car = simulation.CARS[8]\n",
    "# for a in car.acc_itinerary:\n",
    "#      print(f\"t_start: {a[\"t_start\"]:.2f}, v_0: {a[\"v_0\"]:.2f}, t_end: {a[\"t_end\"]:.2f}, acc: {a[\"acc\"]:.2f}\")\n",
    "\n",
    "\n",
    "        "
   ]
  },
  {
   "cell_type": "code",
   "execution_count": 9,
   "id": "31b939cc-d87b-49a4-99b9-f6f4961827c5",
   "metadata": {},
   "outputs": [
    {
     "name": "stdout",
     "output_type": "stream",
     "text": [
      "{ 'acc': 0, 't_start': 6, 'v_0': 20, 't_end': 11.000, 'x_start': 0 }\n",
      "\n",
      "{ 't_start': 11.000, 'acc': -3, 'x_start': 100.000, 'v_0': 20.000, 't_end': 11.500 }\n",
      "\n",
      "{ 't_start': 11.500, 'acc': 0, 'x_start': 109.625, 'v_0': 18.500, 't_end': 21.791 }\n",
      "\n",
      "{ 't_start': 21.791, 'acc': 2, 'x_start': 300.000, 'v_0': 18.500, 't_end': 22.000 }\n",
      "\n",
      "{ 't_start': 22.000, 'acc': 0, 'x_start': 303.974, 'v_0': 18.719, 't_end': 29.801 }\n",
      "\n",
      "{ 't_start': 29.801, 'acc': 2, 'x_start': 450.000, 'v_0': 18.719, 't_end': 30.001 }\n",
      "\n",
      "{ 't_start': 30.001, 'acc': 0, 'v_0': 19.119, 't_end': 33.000, 'x_start': 453.783 }\n",
      "\n",
      "{ 't_start': 33.000, 'acc': -3, 'x_start': 511.122, 'v_0': 19.119, 't_end': 33.500 }\n",
      "\n",
      "{ 't_start': 33.500, 'acc': 0, 'x_start': 520.306, 'v_0': 17.619, 't_end': 38.023 }\n",
      "\n",
      "{ 't_start': 38.023, 'acc': -3, 'x_start': 600.000, 'v_0': 17.619, 't_end': 38.523 }\n",
      "\n",
      "{ 't_start': 38.523, 'acc': 0, 'x_start': 608.434, 'v_0': 16.119, 't_end': 44.000 }\n",
      "\n",
      "{ 't_start': 44.000, 'acc': 0, 'x_start': 696.865, 'v_0': 16.119, 't_end': 44.000 }\n",
      "\n",
      "{ 't_start': 44.000, 'acc': 2, 'x_start': 696.865, 'v_0': 16.119, 't_end': 45.800 }\n",
      "\n",
      "{ 't_start': 45.800, 'acc': 0, 'v_0': 19.719, 't_end': 55.000, 'x_start': 729.119 }\n",
      "\n",
      "{ 't_start': 55.000, 'acc': -3, 'x_start': 910.353, 'v_0': 19.719, 't_end': 55.500 }\n",
      "\n",
      "{ 't_start': 55.500, 'acc': 0, 'x_start': 919.837, 'v_0': 18.219, 't_end': 62.644 }\n",
      "\n",
      "{ 't_start': 62.644, 'acc': 2, 'x_start': 1050.000, 'v_0': 18.219, 't_end': 62.844 }\n",
      "\n",
      "{ 't_start': 62.844, 'acc': 0, 'v_0': 18.619, 't_end': 66.000, 'x_start': 1053.684 }\n",
      "\n",
      "{ 't_start': 66.000, 'acc': 0, 'x_start': 1112.493, 'v_0': 18.619, 't_end': 77.000 }\n",
      "\n",
      "{ 't_start': 77.000, 'acc': -3, 'x_start': 1317.301, 'v_0': 18.619, 't_end': 77.500 }\n",
      "\n",
      "{ 't_start': 77.500, 'acc': 0, 'x_start': 1326.236, 'v_0': 17.119, 't_end': 87.650 }\n",
      "\n",
      "{ 't_start': 87.650, 'acc': 2, 'x_start': 1500.000, 'v_0': 17.119, 't_end': 88.000 }\n",
      "\n",
      "{ 't_start': 88.000, 'acc': 0, 'x_start': 1506.149, 'v_0': 17.618, 't_end': 88.000 }\n",
      "\n",
      "{ 't_start': 88.000, 'acc': 2, 'x_start': 1506.149, 'v_0': 17.618, 't_end': 88.400 }\n",
      "\n",
      "{ 't_start': 88.400, 'acc': 0, 'v_0': 18.418, 't_end': 95.819, 'x_start': 1513.356 }\n",
      "\n",
      "{ 't_start': 95.819, 'acc': 2, 'x_start': 1650.000, 'v_0': 18.418, 't_end': 96.019 }\n",
      "\n",
      "{ 't_start': 96.019, 'acc': 0, 'v_0': 18.818, 't_end': 99.000, 'x_start': 1653.723 }\n",
      "\n",
      "{ 't_start': 99.000, 'acc': 0, 'x_start': 1709.781, 'v_0': 18.818, 't_end': 110.000 }\n",
      "\n",
      "{ 't_start': 110.000, 'acc': -3, 'x_start': 1916.779, 'v_0': 18.818, 't_end': 110.500 }\n",
      "\n",
      "{ 't_start': 110.500, 'acc': 0, 'x_start': 1925.814, 'v_0': 17.318, 't_end': 120.558 }\n",
      "\n",
      "{ 't_start': 120.558, 'acc': 2, 'x_start': 2100.000, 'v_0': 17.318, 't_end': 121.000 }\n",
      "\n",
      "{ 't_start': 121.000, 't_end': 123.000, 'acc': -2, 'v_0': 18.002, 'x_start': 2107.882 }\n",
      "\n",
      "{ 't_start': 123.000, 't_end': 126.000, 'acc': 0, 'v_0': 14.002, 'x_start': 2139.886 }\n",
      "\n",
      "{ 't_start': 126.000, 't_end': 128.000, 'acc': 2, 'v_0': 14.002, 'x_start': 2181.892 }\n",
      "\n",
      "{ 't_start': 128.000, 'acc': 0, 'x_start': 2107.882, 'v_0': 18.002, 't_end': 128.000 }\n",
      "\n",
      "{ 't_start': 128.000, 'acc': 2, 'x_start': 2107.882, 'v_0': 18.002, 't_end': 131.000 }\n",
      "\n",
      "{ 't_start': 131.000, 'acc': 0, 'v_0': 24.002, 't_end': 146.795, 'x_start': 2170.888 }\n",
      "\n",
      "{ 't_start': 146.795, 'acc': 2, 'x_start': 2550.000, 'v_0': 24.002, 't_end': 146.995 }\n",
      "\n",
      "{ 't_start': 146.995, 'acc': 0, 'v_0': 24.402, 't_end': 165.238, 'x_start': 2554.839 }\n",
      "\n"
     ]
    }
   ],
   "source": [
    "car = simulation.CARS[3]\n",
    "# car.my_etas\n",
    "print_formatted_dict_list(car.acc_itinerary)"
   ]
  },
  {
   "cell_type": "code",
   "execution_count": 1,
   "id": "6a83f166-3b4e-4c37-afaf-a972d269bc63",
   "metadata": {},
   "outputs": [
    {
     "ename": "NameError",
     "evalue": "name 'simulation' is not defined",
     "output_type": "error",
     "traceback": [
      "\u001b[0;31m---------------------------------------------------------------------------\u001b[0m",
      "\u001b[0;31mNameError\u001b[0m                                 Traceback (most recent call last)",
      "Cell \u001b[0;32mIn[1], line 1\u001b[0m\n\u001b[0;32m----> 1\u001b[0m car_1 \u001b[38;5;241m=\u001b[39m \u001b[43msimulation\u001b[49m\u001b[38;5;241m.\u001b[39mCARS[\u001b[38;5;241m2\u001b[39m]\n\u001b[1;32m      2\u001b[0m \u001b[38;5;66;03m# print(car_1.acc_itinerary)\u001b[39;00m\n\u001b[1;32m      3\u001b[0m \u001b[38;5;28mlen\u001b[39m(simulation\u001b[38;5;241m.\u001b[39mCARS)\n",
      "\u001b[0;31mNameError\u001b[0m: name 'simulation' is not defined"
     ]
    }
   ],
   "source": [
    "car_1 = simulation.CARS[2]\n",
    "# print(car_1.acc_itinerary)\n",
    "len(simulation.CARS)"
   ]
  },
  {
   "cell_type": "code",
   "execution_count": 3,
   "id": "a450aed1-3046-4ac6-9951-a7a32fd1a96b",
   "metadata": {},
   "outputs": [
    {
     "name": "stdout",
     "output_type": "stream",
     "text": [
      "noise_freq: 15, noise_x: 2110, thresh_speed: 6\n"
     ]
    },
    {
     "data": {
      "application/vnd.jupyter.widget-view+json": {
       "model_id": "ce6ca255e7e94301ba9cd1e7a9988322",
       "version_major": 2,
       "version_minor": 0
      },
      "text/plain": [
       "Simulation Progress VFR:   0%|          | 0/5970 [00:00<?, ?it/s]"
      ]
     },
     "metadata": {},
     "output_type": "display_data"
    }
   ],
   "source": [
    "# 同じ条件でVFRをデバッグ\n",
    "vfr_simulation = SuddenStopVFRSimulation(TOTAL_TIME = 500, TIME_STEP = TIME_STEP, TOTAL_LENGTH = TOTAL_LENGTH, dfr_reference=simulation, car_params=car_params)\n",
    "vfr_simulation.conduct_simulation(should_plot=True, plot_start=300, plot_finish=400)"
   ]
  },
  {
   "cell_type": "code",
   "execution_count": 5,
   "id": "5ea854f8-e0e2-4a9d-8e4f-2bb7dc863d9a",
   "metadata": {},
   "outputs": [
    {
     "ename": "NameError",
     "evalue": "name 'vfr_headway_logs' is not defined",
     "output_type": "error",
     "traceback": [
      "\u001b[0;31m---------------------------------------------------------------------------\u001b[0m",
      "\u001b[0;31mNameError\u001b[0m                                 Traceback (most recent call last)",
      "Cell \u001b[0;32mIn[5], line 5\u001b[0m\n\u001b[1;32m      1\u001b[0m \u001b[38;5;66;03m# (vfr_headway_logs)\u001b[39;00m\n\u001b[1;32m      2\u001b[0m \u001b[38;5;66;03m# print(v_mean_log_vfr)\u001b[39;00m\n\u001b[1;32m      3\u001b[0m \u001b[38;5;28;01mimport\u001b[39;00m \u001b[38;5;21;01mmatplotlib\u001b[39;00m\u001b[38;5;21;01m.\u001b[39;00m\u001b[38;5;21;01mpyplot\u001b[39;00m \u001b[38;5;28;01mas\u001b[39;00m \u001b[38;5;21;01mplt\u001b[39;00m\n\u001b[0;32m----> 5\u001b[0m df_vfr \u001b[38;5;241m=\u001b[39m pd\u001b[38;5;241m.\u001b[39mDataFrame(\u001b[43mvfr_headway_logs\u001b[49m)\n\u001b[1;32m      6\u001b[0m df_vfr[\u001b[38;5;124m\"\u001b[39m\u001b[38;5;124mflight\u001b[39m\u001b[38;5;124m\"\u001b[39m] \u001b[38;5;241m=\u001b[39m \u001b[38;5;124m\"\u001b[39m\u001b[38;5;124mvfr\u001b[39m\u001b[38;5;124m\"\u001b[39m\n\u001b[1;32m      8\u001b[0m df_dfr \u001b[38;5;241m=\u001b[39m pd\u001b[38;5;241m.\u001b[39mDataFrame(dfr_headway_logs)\n",
      "\u001b[0;31mNameError\u001b[0m: name 'vfr_headway_logs' is not defined"
     ]
    }
   ],
   "source": [
    "# (vfr_headway_logs)\n",
    "# print(v_mean_log_vfr)\n",
    "import matplotlib.pyplot as plt\n",
    "\n",
    "df_vfr = pd.DataFrame(vfr_headway_logs)\n",
    "df_vfr[\"flight\"] = \"vfr\"\n",
    "\n",
    "df_dfr = pd.DataFrame(dfr_headway_logs)\n",
    "df_dfr[\"flight\"] = \"dfr\"\n",
    "df_all = pd.concat([df_vfr, df_dfr], ignore_index=True)\n",
    "df_all = df_all[df_all[\"time\"]%1 == 0]\n",
    "\n",
    "print(df_all.head())\n",
    "\n",
    "import matplotlib.pyplot as plt\n",
    "import pandas as pd\n",
    "\n",
    "def plot_fundamental_diagram(df, split_key, savePath=None):\n",
    "    \"\"\"\n",
    "    渋滞の基本図（交通流の基本図）をプロットする関数です。\n",
    "    \n",
    "    Parameters\n",
    "    ----------\n",
    "    df : pandas.DataFrame\n",
    "        データソースとなるデータフレーム。少なくとも以下のカラムを含むこと:\n",
    "         - 'headway' : 車間距離\n",
    "         - 'v_x'     : 走行速度\n",
    "         - 'flight'  : フライトの種類（例：\"vfr\" または \"dfr\"）\n",
    "         - split_keyで指定されるカラム（例：\"communication_speed\" など）\n",
    "    split_key : str\n",
    "        データを分割する基準となるカラム名。対象カラムのユニークな値ごとにサブプロットを作成する。\n",
    "    savePath : str or None, optional\n",
    "        プロット画像の保存先パス。None の場合は保存せずに表示のみ行う。\n",
    "    \"\"\"\n",
    "    # headwayが0の行は除外\n",
    "    df_valid = df[df[\"headway\"] >4].copy()\n",
    "    \n",
    "    # density = 1 / headway, Flow = density * v_x を計算（新たなカラムとして追加）\n",
    "    df_valid[\"density\"] = 1 / df_valid[\"headway\"]\n",
    "    df_valid[\"flow\"] = df_valid[\"density\"] * df_valid[\"v_x\"]\n",
    "    \n",
    "    # 全体の最大density, flowを取得（余裕をもたせて1.1倍）\n",
    "    max_density = df_valid[\"density\"].max() * 1.1\n",
    "    max_flow = df_valid[\"flow\"].max() * 1.1\n",
    "    \n",
    "    # split_key のユニークな値を抽出し、サブプロット数（列数）とする\n",
    "    unique_vals = sorted(df_valid[split_key].unique())\n",
    "    n_cols = len(unique_vals)\n",
    "    n_rows = 1\n",
    "    \n",
    "    # サブプロットの作成\n",
    "    fig, axes = plt.subplots(n_rows, n_cols, figsize=(8 * n_cols, 5))\n",
    "    if n_cols == 1:\n",
    "        axes = [axes]  # サブプロットが1つの場合もリストにする\n",
    "    \n",
    "    # flightごとの色を指定\n",
    "    flight_colors = {\n",
    "        \"vfr\": \"blue\",\n",
    "        \"dfr\": \"red\"\n",
    "    }\n",
    "    \n",
    "    # 各ユニークなsplit_keyの値に対してサブプロットを作成\n",
    "    for idx, val in enumerate(unique_vals):\n",
    "        ax = axes[idx]\n",
    "        # 該当するsplit_keyの値でデータをフィルタリング\n",
    "        df_subset = df_valid[df_valid[split_key] == val]\n",
    "        \n",
    "        # flightの種類ごとに scatter プロット\n",
    "        for flight in [\"vfr\", \"dfr\"]:\n",
    "            df_flight = df_subset[df_subset[\"flight\"] == flight]\n",
    "            ax.scatter(df_flight[\"density\"], df_flight[\"flow\"],\n",
    "                       label=flight.upper(),\n",
    "                       color=flight_colors.get(flight, \"gray\"),\n",
    "                       alpha=0.5)\n",
    "        \n",
    "        # 軸ラベル、タイトル、グリッド、凡例の設定\n",
    "        ax.set_xlabel(\"Density (1 / headway)\")\n",
    "        ax.set_ylabel(\"Flow (density * v_x)\")\n",
    "        ax.set_title(f\"{split_key}: {val}\")\n",
    "        ax.set_xlim(0, max_density)\n",
    "        ax.set_ylim(0, max_flow)\n",
    "        ax.grid(True, axis=\"y\")\n",
    "        ax.legend(loc=\"upper left\", bbox_to_anchor=(1.05, 1), borderaxespad=0)\n",
    "    \n",
    "    plt.tight_layout()\n",
    "    if savePath is not None:\n",
    "        plt.savefig(split_key+\"_\"+savePath, dpi=300)\n",
    "    plt.show()\n",
    "\n",
    "\n",
    "plot_fundamental_diagram(df_all, split_key=\"noise_forecast_time\", savePath=\"fundamental_diagram.png\")"
   ]
  },
  {
   "cell_type": "code",
   "execution_count": null,
   "id": "c0b85465-5e49-4301-b0e0-3c9d088cbfcc",
   "metadata": {},
   "outputs": [
    {
     "data": {
      "application/vnd.jupyter.widget-view+json": {
       "model_id": "4566b0fd8dd44a348d3f62ffba388f3b",
       "version_major": 2,
       "version_minor": 0
      },
      "text/plain": [
       "  0%|          | 0/27 [00:00<?, ?it/s]"
      ]
     },
     "metadata": {},
     "output_type": "display_data"
    },
    {
     "name": "stdout",
     "output_type": "stream",
     "text": [
      "Running simulation with LAMBDA=40.0, communication_speed=0, TTC=1.6, noise_freq=10\n"
     ]
    },
    {
     "data": {
      "application/vnd.jupyter.widget-view+json": {
       "model_id": "d6789decacea4928baab9eb2044a28e6",
       "version_major": 2,
       "version_minor": 0
      },
      "text/plain": [
       "Simulation Progress DFR, density=40.0:   0%|          | 0/25000 [00:00<?, ?it/s]"
      ]
     },
     "metadata": {},
     "output_type": "display_data"
    },
    {
     "name": "stdout",
     "output_type": "stream",
     "text": [
      "conducting vfr\n",
      "noise_freq: 11, noise_x: 3110, thresh_speed: 4\n"
     ]
    },
    {
     "data": {
      "application/vnd.jupyter.widget-view+json": {
       "model_id": "e6305240ebc44d16a5f13756dd276fd7",
       "version_major": 2,
       "version_minor": 0
      },
      "text/plain": [
       "Simulation Progress VFR:   0%|          | 0/25000 [00:00<?, ?it/s]"
      ]
     },
     "metadata": {},
     "output_type": "display_data"
    },
    {
     "name": "stdout",
     "output_type": "stream",
     "text": [
      "Running simulation with LAMBDA=20.0, communication_speed=0, TTC=1.6, noise_freq=10\n"
     ]
    },
    {
     "data": {
      "application/vnd.jupyter.widget-view+json": {
       "model_id": "9653acdeac7845698de1c043f81889ee",
       "version_major": 2,
       "version_minor": 0
      },
      "text/plain": [
       "Simulation Progress DFR, density=20.0:   0%|          | 0/25000 [00:00<?, ?it/s]"
      ]
     },
     "metadata": {},
     "output_type": "display_data"
    },
    {
     "name": "stdout",
     "output_type": "stream",
     "text": [
      "conducting vfr\n",
      "noise_freq: 11, noise_x: 3110, thresh_speed: 4\n"
     ]
    },
    {
     "data": {
      "application/vnd.jupyter.widget-view+json": {
       "model_id": "9d74e8765d0140f2a5eaeea3d58711c7",
       "version_major": 2,
       "version_minor": 0
      },
      "text/plain": [
       "Simulation Progress VFR:   0%|          | 0/25000 [00:00<?, ?it/s]"
      ]
     },
     "metadata": {},
     "output_type": "display_data"
    },
    {
     "name": "stdout",
     "output_type": "stream",
     "text": [
      "Running simulation with LAMBDA=13.333333333333332, communication_speed=0, TTC=1.6, noise_freq=10\n"
     ]
    },
    {
     "data": {
      "application/vnd.jupyter.widget-view+json": {
       "model_id": "7d02ff3b69b6412bad2bfe09f9064fe5",
       "version_major": 2,
       "version_minor": 0
      },
      "text/plain": [
       "Simulation Progress DFR, density=13.333333333333332:   0%|          | 0/25000 [00:00<?, ?it/s]"
      ]
     },
     "metadata": {},
     "output_type": "display_data"
    },
    {
     "name": "stdout",
     "output_type": "stream",
     "text": [
      "conducting vfr\n",
      "noise_freq: 11, noise_x: 3110, thresh_speed: 4\n"
     ]
    },
    {
     "data": {
      "application/vnd.jupyter.widget-view+json": {
       "model_id": "7fc2e0e45aed495bae95b9ee1f7b9bb7",
       "version_major": 2,
       "version_minor": 0
      },
      "text/plain": [
       "Simulation Progress VFR:   0%|          | 0/25000 [00:00<?, ?it/s]"
      ]
     },
     "metadata": {},
     "output_type": "display_data"
    },
    {
     "name": "stdout",
     "output_type": "stream",
     "text": [
      "Running simulation with LAMBDA=10.0, communication_speed=0, TTC=1.6, noise_freq=10\n"
     ]
    },
    {
     "data": {
      "application/vnd.jupyter.widget-view+json": {
       "model_id": "ad708b11519e43a9a8f18c15b0d1f9ca",
       "version_major": 2,
       "version_minor": 0
      },
      "text/plain": [
       "Simulation Progress DFR, density=10.0:   0%|          | 0/25000 [00:00<?, ?it/s]"
      ]
     },
     "metadata": {},
     "output_type": "display_data"
    },
    {
     "name": "stdout",
     "output_type": "stream",
     "text": [
      "conducting vfr\n",
      "noise_freq: 11, noise_x: 3110, thresh_speed: 4\n"
     ]
    },
    {
     "data": {
      "application/vnd.jupyter.widget-view+json": {
       "model_id": "9b2a5e94333842e499c42a8c847eef10",
       "version_major": 2,
       "version_minor": 0
      },
      "text/plain": [
       "Simulation Progress VFR:   0%|          | 0/25000 [00:00<?, ?it/s]"
      ]
     },
     "metadata": {},
     "output_type": "display_data"
    },
    {
     "name": "stdout",
     "output_type": "stream",
     "text": [
      "Running simulation with LAMBDA=8.0, communication_speed=0, TTC=1.6, noise_freq=10\n"
     ]
    },
    {
     "data": {
      "application/vnd.jupyter.widget-view+json": {
       "model_id": "e816c23c98ae4b49bbfd458dfb3379ad",
       "version_major": 2,
       "version_minor": 0
      },
      "text/plain": [
       "Simulation Progress DFR, density=8.0:   0%|          | 0/25000 [00:00<?, ?it/s]"
      ]
     },
     "metadata": {},
     "output_type": "display_data"
    },
    {
     "name": "stdout",
     "output_type": "stream",
     "text": [
      "conducting vfr\n",
      "noise_freq: 11, noise_x: 3110, thresh_speed: 4\n"
     ]
    },
    {
     "data": {
      "application/vnd.jupyter.widget-view+json": {
       "model_id": "9b9e7bcd046b42bda84faefa91128d49",
       "version_major": 2,
       "version_minor": 0
      },
      "text/plain": [
       "Simulation Progress VFR:   0%|          | 0/25000 [00:00<?, ?it/s]"
      ]
     },
     "metadata": {},
     "output_type": "display_data"
    },
    {
     "name": "stdout",
     "output_type": "stream",
     "text": [
      "Running simulation with LAMBDA=6.666666666666667, communication_speed=0, TTC=1.6, noise_freq=10\n"
     ]
    },
    {
     "data": {
      "application/vnd.jupyter.widget-view+json": {
       "model_id": "45977405b6dc44f182ec68903aec9031",
       "version_major": 2,
       "version_minor": 0
      },
      "text/plain": [
       "Simulation Progress DFR, density=6.666666666666667:   0%|          | 0/25000 [00:00<?, ?it/s]"
      ]
     },
     "metadata": {},
     "output_type": "display_data"
    },
    {
     "name": "stdout",
     "output_type": "stream",
     "text": [
      "conducting vfr\n",
      "noise_freq: 11, noise_x: 3110, thresh_speed: 4\n"
     ]
    },
    {
     "data": {
      "application/vnd.jupyter.widget-view+json": {
       "model_id": "3126144d5a544b158b948a15f8346cba",
       "version_major": 2,
       "version_minor": 0
      },
      "text/plain": [
       "Simulation Progress VFR:   0%|          | 0/25000 [00:00<?, ?it/s]"
      ]
     },
     "metadata": {},
     "output_type": "display_data"
    },
    {
     "name": "stdout",
     "output_type": "stream",
     "text": [
      "Running simulation with LAMBDA=5.7142857142857135, communication_speed=0, TTC=1.6, noise_freq=10\n"
     ]
    },
    {
     "data": {
      "application/vnd.jupyter.widget-view+json": {
       "model_id": "d6db750c94444e52889f126236a4e55f",
       "version_major": 2,
       "version_minor": 0
      },
      "text/plain": [
       "Simulation Progress DFR, density=5.7142857142857135:   0%|          | 0/25000 [00:00<?, ?it/s]"
      ]
     },
     "metadata": {},
     "output_type": "display_data"
    },
    {
     "name": "stdout",
     "output_type": "stream",
     "text": [
      "conducting vfr\n",
      "noise_freq: 11, noise_x: 3110, thresh_speed: 4\n"
     ]
    },
    {
     "data": {
      "application/vnd.jupyter.widget-view+json": {
       "model_id": "f827f7363a724388a448b953f145543f",
       "version_major": 2,
       "version_minor": 0
      },
      "text/plain": [
       "Simulation Progress VFR:   0%|          | 0/25000 [00:00<?, ?it/s]"
      ]
     },
     "metadata": {},
     "output_type": "display_data"
    },
    {
     "name": "stdout",
     "output_type": "stream",
     "text": [
      "Running simulation with LAMBDA=5.0, communication_speed=0, TTC=1.6, noise_freq=10\n"
     ]
    },
    {
     "data": {
      "application/vnd.jupyter.widget-view+json": {
       "model_id": "243a66ae78f242adbfe42dc2742d9ce3",
       "version_major": 2,
       "version_minor": 0
      },
      "text/plain": [
       "Simulation Progress DFR, density=5.0:   0%|          | 0/25000 [00:00<?, ?it/s]"
      ]
     },
     "metadata": {},
     "output_type": "display_data"
    },
    {
     "name": "stdout",
     "output_type": "stream",
     "text": [
      "conducting vfr\n",
      "noise_freq: 11, noise_x: 3110, thresh_speed: 4\n"
     ]
    },
    {
     "data": {
      "application/vnd.jupyter.widget-view+json": {
       "model_id": "0a379d80db03477590a4ed14579dc764",
       "version_major": 2,
       "version_minor": 0
      },
      "text/plain": [
       "Simulation Progress VFR:   0%|          | 0/25000 [00:00<?, ?it/s]"
      ]
     },
     "metadata": {},
     "output_type": "display_data"
    },
    {
     "name": "stdout",
     "output_type": "stream",
     "text": [
      "Running simulation with LAMBDA=4.444444444444445, communication_speed=0, TTC=1.6, noise_freq=10\n"
     ]
    },
    {
     "data": {
      "application/vnd.jupyter.widget-view+json": {
       "model_id": "626af0708d6d44508cd35bccd5af18b3",
       "version_major": 2,
       "version_minor": 0
      },
      "text/plain": [
       "Simulation Progress DFR, density=4.444444444444445:   0%|          | 0/25000 [00:00<?, ?it/s]"
      ]
     },
     "metadata": {},
     "output_type": "display_data"
    },
    {
     "name": "stdout",
     "output_type": "stream",
     "text": [
      "conducting vfr\n",
      "noise_freq: 11, noise_x: 3110, thresh_speed: 4\n"
     ]
    },
    {
     "data": {
      "application/vnd.jupyter.widget-view+json": {
       "model_id": "6e604f4a7d5c42fab9523df85c72adcb",
       "version_major": 2,
       "version_minor": 0
      },
      "text/plain": [
       "Simulation Progress VFR:   0%|          | 0/25000 [00:00<?, ?it/s]"
      ]
     },
     "metadata": {},
     "output_type": "display_data"
    },
    {
     "name": "stdout",
     "output_type": "stream",
     "text": [
      "Running simulation with LAMBDA=4.0, communication_speed=0, TTC=1.6, noise_freq=10\n"
     ]
    },
    {
     "data": {
      "application/vnd.jupyter.widget-view+json": {
       "model_id": "883e14a9a3df4485a6af36925e3c7c76",
       "version_major": 2,
       "version_minor": 0
      },
      "text/plain": [
       "Simulation Progress DFR, density=4.0:   0%|          | 0/25000 [00:00<?, ?it/s]"
      ]
     },
     "metadata": {},
     "output_type": "display_data"
    },
    {
     "name": "stdout",
     "output_type": "stream",
     "text": [
      "conducting vfr\n",
      "noise_freq: 11, noise_x: 3110, thresh_speed: 4\n"
     ]
    },
    {
     "data": {
      "application/vnd.jupyter.widget-view+json": {
       "model_id": "c367efe3a92f4bf4ba37836ef5e489e4",
       "version_major": 2,
       "version_minor": 0
      },
      "text/plain": [
       "Simulation Progress VFR:   0%|          | 0/25000 [00:00<?, ?it/s]"
      ]
     },
     "metadata": {},
     "output_type": "display_data"
    },
    {
     "name": "stdout",
     "output_type": "stream",
     "text": [
      "Running simulation with LAMBDA=3.6363636363636362, communication_speed=0, TTC=1.6, noise_freq=10\n"
     ]
    },
    {
     "data": {
      "application/vnd.jupyter.widget-view+json": {
       "model_id": "2e2679e8f16b4584a014753c74f60381",
       "version_major": 2,
       "version_minor": 0
      },
      "text/plain": [
       "Simulation Progress DFR, density=3.6363636363636362:   0%|          | 0/25000 [00:00<?, ?it/s]"
      ]
     },
     "metadata": {},
     "output_type": "display_data"
    },
    {
     "name": "stdout",
     "output_type": "stream",
     "text": [
      "conducting vfr\n",
      "noise_freq: 11, noise_x: 3110, thresh_speed: 4\n"
     ]
    },
    {
     "data": {
      "application/vnd.jupyter.widget-view+json": {
       "model_id": "fb61e1a6cfb1455d87f909c50ff3a2b5",
       "version_major": 2,
       "version_minor": 0
      },
      "text/plain": [
       "Simulation Progress VFR:   0%|          | 0/25000 [00:00<?, ?it/s]"
      ]
     },
     "metadata": {},
     "output_type": "display_data"
    },
    {
     "name": "stdout",
     "output_type": "stream",
     "text": [
      "Running simulation with LAMBDA=3.333333333333333, communication_speed=0, TTC=1.6, noise_freq=10\n"
     ]
    },
    {
     "data": {
      "application/vnd.jupyter.widget-view+json": {
       "model_id": "d93959d4c77f40ca8edcc4751ec3815f",
       "version_major": 2,
       "version_minor": 0
      },
      "text/plain": [
       "Simulation Progress DFR, density=3.333333333333333:   0%|          | 0/25000 [00:00<?, ?it/s]"
      ]
     },
     "metadata": {},
     "output_type": "display_data"
    },
    {
     "name": "stdout",
     "output_type": "stream",
     "text": [
      "conducting vfr\n",
      "noise_freq: 11, noise_x: 3110, thresh_speed: 4\n"
     ]
    },
    {
     "data": {
      "application/vnd.jupyter.widget-view+json": {
       "model_id": "8f3e5c510fc3415aa437e74f0278232c",
       "version_major": 2,
       "version_minor": 0
      },
      "text/plain": [
       "Simulation Progress VFR:   0%|          | 0/25000 [00:00<?, ?it/s]"
      ]
     },
     "metadata": {},
     "output_type": "display_data"
    },
    {
     "name": "stdout",
     "output_type": "stream",
     "text": [
      "Running simulation with LAMBDA=3.076923076923076, communication_speed=0, TTC=1.6, noise_freq=10\n"
     ]
    },
    {
     "data": {
      "application/vnd.jupyter.widget-view+json": {
       "model_id": "2b4024523a974fabb9fd8c068aae8048",
       "version_major": 2,
       "version_minor": 0
      },
      "text/plain": [
       "Simulation Progress DFR, density=3.076923076923076:   0%|          | 0/25000 [00:00<?, ?it/s]"
      ]
     },
     "metadata": {},
     "output_type": "display_data"
    },
    {
     "name": "stdout",
     "output_type": "stream",
     "text": [
      "conducting vfr\n",
      "noise_freq: 11, noise_x: 3110, thresh_speed: 4\n"
     ]
    },
    {
     "data": {
      "application/vnd.jupyter.widget-view+json": {
       "model_id": "02ea89f0360c430ea4f0a49cbbe1b47a",
       "version_major": 2,
       "version_minor": 0
      },
      "text/plain": [
       "Simulation Progress VFR:   0%|          | 0/25000 [00:00<?, ?it/s]"
      ]
     },
     "metadata": {},
     "output_type": "display_data"
    },
    {
     "name": "stdout",
     "output_type": "stream",
     "text": [
      "Running simulation with LAMBDA=2.8571428571428568, communication_speed=0, TTC=1.6, noise_freq=10\n"
     ]
    },
    {
     "data": {
      "application/vnd.jupyter.widget-view+json": {
       "model_id": "0fd9186458bd4dcc83549209f552ad4b",
       "version_major": 2,
       "version_minor": 0
      },
      "text/plain": [
       "Simulation Progress DFR, density=2.8571428571428568:   0%|          | 0/25000 [00:00<?, ?it/s]"
      ]
     },
     "metadata": {},
     "output_type": "display_data"
    },
    {
     "name": "stdout",
     "output_type": "stream",
     "text": [
      "conducting vfr\n",
      "noise_freq: 11, noise_x: 3110, thresh_speed: 4\n"
     ]
    },
    {
     "data": {
      "application/vnd.jupyter.widget-view+json": {
       "model_id": "d0258a0a8f7240d3909dc95821ffc588",
       "version_major": 2,
       "version_minor": 0
      },
      "text/plain": [
       "Simulation Progress VFR:   0%|          | 0/25000 [00:00<?, ?it/s]"
      ]
     },
     "metadata": {},
     "output_type": "display_data"
    },
    {
     "name": "stdout",
     "output_type": "stream",
     "text": [
      "Running simulation with LAMBDA=2.666666666666666, communication_speed=0, TTC=1.6, noise_freq=10\n"
     ]
    },
    {
     "data": {
      "application/vnd.jupyter.widget-view+json": {
       "model_id": "55063c313b2b43d58f71c664762f6ad2",
       "version_major": 2,
       "version_minor": 0
      },
      "text/plain": [
       "Simulation Progress DFR, density=2.666666666666666:   0%|          | 0/25000 [00:00<?, ?it/s]"
      ]
     },
     "metadata": {},
     "output_type": "display_data"
    },
    {
     "name": "stdout",
     "output_type": "stream",
     "text": [
      "conducting vfr\n",
      "noise_freq: 11, noise_x: 3110, thresh_speed: 4\n"
     ]
    },
    {
     "data": {
      "application/vnd.jupyter.widget-view+json": {
       "model_id": "caecbdc59a9e4f00a1dad789e3d411f4",
       "version_major": 2,
       "version_minor": 0
      },
      "text/plain": [
       "Simulation Progress VFR:   0%|          | 0/25000 [00:00<?, ?it/s]"
      ]
     },
     "metadata": {},
     "output_type": "display_data"
    },
    {
     "name": "stdout",
     "output_type": "stream",
     "text": [
      "Running simulation with LAMBDA=2.5, communication_speed=0, TTC=1.6, noise_freq=10\n"
     ]
    },
    {
     "data": {
      "application/vnd.jupyter.widget-view+json": {
       "model_id": "42ca7fc3b52a417e9094e7ebcd36166d",
       "version_major": 2,
       "version_minor": 0
      },
      "text/plain": [
       "Simulation Progress DFR, density=2.5:   0%|          | 0/25000 [00:00<?, ?it/s]"
      ]
     },
     "metadata": {},
     "output_type": "display_data"
    },
    {
     "name": "stdout",
     "output_type": "stream",
     "text": [
      "conducting vfr\n",
      "noise_freq: 11, noise_x: 3110, thresh_speed: 4\n"
     ]
    },
    {
     "data": {
      "application/vnd.jupyter.widget-view+json": {
       "model_id": "177739e94a2c4f53a1bc7f60b6eaa40d",
       "version_major": 2,
       "version_minor": 0
      },
      "text/plain": [
       "Simulation Progress VFR:   0%|          | 0/25000 [00:00<?, ?it/s]"
      ]
     },
     "metadata": {},
     "output_type": "display_data"
    },
    {
     "name": "stdout",
     "output_type": "stream",
     "text": [
      "Running simulation with LAMBDA=2.352941176470588, communication_speed=0, TTC=1.6, noise_freq=10\n"
     ]
    },
    {
     "data": {
      "application/vnd.jupyter.widget-view+json": {
       "model_id": "f3b95ffe60014147a7cea889c70c112b",
       "version_major": 2,
       "version_minor": 0
      },
      "text/plain": [
       "Simulation Progress DFR, density=2.352941176470588:   0%|          | 0/25000 [00:00<?, ?it/s]"
      ]
     },
     "metadata": {},
     "output_type": "display_data"
    },
    {
     "name": "stdout",
     "output_type": "stream",
     "text": [
      "conducting vfr\n",
      "noise_freq: 11, noise_x: 3110, thresh_speed: 4\n"
     ]
    },
    {
     "data": {
      "application/vnd.jupyter.widget-view+json": {
       "model_id": "483151b06d454ff198b61ffb9be06793",
       "version_major": 2,
       "version_minor": 0
      },
      "text/plain": [
       "Simulation Progress VFR:   0%|          | 0/25000 [00:00<?, ?it/s]"
      ]
     },
     "metadata": {},
     "output_type": "display_data"
    },
    {
     "name": "stdout",
     "output_type": "stream",
     "text": [
      "Running simulation with LAMBDA=2.222222222222222, communication_speed=0, TTC=1.6, noise_freq=10\n"
     ]
    },
    {
     "data": {
      "application/vnd.jupyter.widget-view+json": {
       "model_id": "e4a12c5b543f41098e1a43c67a4d82c1",
       "version_major": 2,
       "version_minor": 0
      },
      "text/plain": [
       "Simulation Progress DFR, density=2.222222222222222:   0%|          | 0/25000 [00:00<?, ?it/s]"
      ]
     },
     "metadata": {},
     "output_type": "display_data"
    },
    {
     "name": "stdout",
     "output_type": "stream",
     "text": [
      "conducting vfr\n",
      "noise_freq: 11, noise_x: 3110, thresh_speed: 4\n"
     ]
    },
    {
     "data": {
      "application/vnd.jupyter.widget-view+json": {
       "model_id": "1edb889b4d8e48b78e5a31339f23a5d7",
       "version_major": 2,
       "version_minor": 0
      },
      "text/plain": [
       "Simulation Progress VFR:   0%|          | 0/25000 [00:00<?, ?it/s]"
      ]
     },
     "metadata": {},
     "output_type": "display_data"
    },
    {
     "name": "stdout",
     "output_type": "stream",
     "text": [
      "Running simulation with LAMBDA=2.1052631578947367, communication_speed=0, TTC=1.6, noise_freq=10\n"
     ]
    },
    {
     "data": {
      "application/vnd.jupyter.widget-view+json": {
       "model_id": "07c489dbc8144789bb4cfac31f610b0e",
       "version_major": 2,
       "version_minor": 0
      },
      "text/plain": [
       "Simulation Progress DFR, density=2.1052631578947367:   0%|          | 0/25000 [00:00<?, ?it/s]"
      ]
     },
     "metadata": {},
     "output_type": "display_data"
    },
    {
     "name": "stdout",
     "output_type": "stream",
     "text": [
      "DFR simulation failed: どうやってもETAを満たせない\n",
      "conducting vfr\n",
      "noise_freq: 11, noise_x: 3110, thresh_speed: 4\n"
     ]
    },
    {
     "data": {
      "application/vnd.jupyter.widget-view+json": {
       "model_id": "db406b0576f04040aa805de19c0a6604",
       "version_major": 2,
       "version_minor": 0
      },
      "text/plain": [
       "Simulation Progress VFR:   0%|          | 0/25000 [00:00<?, ?it/s]"
      ]
     },
     "metadata": {},
     "output_type": "display_data"
    },
    {
     "name": "stdout",
     "output_type": "stream",
     "text": [
      "Running simulation with LAMBDA=2.0, communication_speed=0, TTC=1.6, noise_freq=10\n"
     ]
    },
    {
     "data": {
      "application/vnd.jupyter.widget-view+json": {
       "model_id": "1c36a60f3a3d46dea373ddc410747788",
       "version_major": 2,
       "version_minor": 0
      },
      "text/plain": [
       "Simulation Progress DFR, density=2.0:   0%|          | 0/23970 [00:00<?, ?it/s]"
      ]
     },
     "metadata": {},
     "output_type": "display_data"
    },
    {
     "name": "stdout",
     "output_type": "stream",
     "text": [
      "conducting vfr\n",
      "noise_freq: 11, noise_x: 3110, thresh_speed: 4\n"
     ]
    },
    {
     "data": {
      "application/vnd.jupyter.widget-view+json": {
       "model_id": "b87825a7c34442c8b323ebcec8724138",
       "version_major": 2,
       "version_minor": 0
      },
      "text/plain": [
       "Simulation Progress VFR:   0%|          | 0/23970 [00:00<?, ?it/s]"
      ]
     },
     "metadata": {},
     "output_type": "display_data"
    },
    {
     "name": "stdout",
     "output_type": "stream",
     "text": [
      "Running simulation with LAMBDA=1.9047619047619047, communication_speed=0, TTC=1.6, noise_freq=10\n"
     ]
    },
    {
     "data": {
      "application/vnd.jupyter.widget-view+json": {
       "model_id": "63e863d522b94b08813d9d4f06c49c44",
       "version_major": 2,
       "version_minor": 0
      },
      "text/plain": [
       "Simulation Progress DFR, density=1.9047619047619047:   0%|          | 0/22828 [00:00<?, ?it/s]"
      ]
     },
     "metadata": {},
     "output_type": "display_data"
    },
    {
     "name": "stdout",
     "output_type": "stream",
     "text": [
      "DFR simulation failed: どうやってもETAを満たせない\n",
      "conducting vfr\n",
      "noise_freq: 11, noise_x: 3110, thresh_speed: 4\n"
     ]
    },
    {
     "data": {
      "application/vnd.jupyter.widget-view+json": {
       "model_id": "c664d1c8d18945888b97a0b883d5593a",
       "version_major": 2,
       "version_minor": 0
      },
      "text/plain": [
       "Simulation Progress VFR:   0%|          | 0/22828 [00:00<?, ?it/s]"
      ]
     },
     "metadata": {},
     "output_type": "display_data"
    },
    {
     "name": "stdout",
     "output_type": "stream",
     "text": [
      "Running simulation with LAMBDA=1.8181818181818181, communication_speed=0, TTC=1.6, noise_freq=10\n"
     ]
    },
    {
     "data": {
      "application/vnd.jupyter.widget-view+json": {
       "model_id": "210598ae252d4571bb598a81e0b607d2",
       "version_major": 2,
       "version_minor": 0
      },
      "text/plain": [
       "Simulation Progress DFR, density=1.8181818181818181:   0%|          | 0/21790 [00:00<?, ?it/s]"
      ]
     },
     "metadata": {},
     "output_type": "display_data"
    },
    {
     "name": "stdout",
     "output_type": "stream",
     "text": [
      "DFR simulation failed: どうやってもETAを満たせない\n",
      "conducting vfr\n",
      "noise_freq: 11, noise_x: 3110, thresh_speed: 4\n"
     ]
    },
    {
     "data": {
      "application/vnd.jupyter.widget-view+json": {
       "model_id": "7891089807fb42e0852b8b7353c74ff1",
       "version_major": 2,
       "version_minor": 0
      },
      "text/plain": [
       "Simulation Progress VFR:   0%|          | 0/21790 [00:00<?, ?it/s]"
      ]
     },
     "metadata": {},
     "output_type": "display_data"
    },
    {
     "name": "stdout",
     "output_type": "stream",
     "text": [
      "Running simulation with LAMBDA=1.7391304347826084, communication_speed=0, TTC=1.6, noise_freq=10\n"
     ]
    },
    {
     "data": {
      "application/vnd.jupyter.widget-view+json": {
       "model_id": "7eff6d7e32604b129507f10cef303d51",
       "version_major": 2,
       "version_minor": 0
      },
      "text/plain": [
       "Simulation Progress DFR, density=1.7391304347826084:   0%|          | 0/20842 [00:00<?, ?it/s]"
      ]
     },
     "metadata": {},
     "output_type": "display_data"
    },
    {
     "name": "stdout",
     "output_type": "stream",
     "text": [
      "DFR simulation failed: どうやってもETAを満たせない\n",
      "conducting vfr\n",
      "noise_freq: 11, noise_x: 3110, thresh_speed: 4\n"
     ]
    },
    {
     "data": {
      "application/vnd.jupyter.widget-view+json": {
       "model_id": "2f8f243c102d4456901ba0311b2f220c",
       "version_major": 2,
       "version_minor": 0
      },
      "text/plain": [
       "Simulation Progress VFR:   0%|          | 0/20842 [00:00<?, ?it/s]"
      ]
     },
     "metadata": {},
     "output_type": "display_data"
    },
    {
     "name": "stdout",
     "output_type": "stream",
     "text": [
      "Running simulation with LAMBDA=1.6666666666666665, communication_speed=0, TTC=1.6, noise_freq=10\n"
     ]
    },
    {
     "data": {
      "application/vnd.jupyter.widget-view+json": {
       "model_id": "f167831696754102910cf737b0c117cd",
       "version_major": 2,
       "version_minor": 0
      },
      "text/plain": [
       "Simulation Progress DFR, density=1.6666666666666665:   0%|          | 0/19973 [00:00<?, ?it/s]"
      ]
     },
     "metadata": {},
     "output_type": "display_data"
    }
   ],
   "source": [
    "# VFRのFlowの図を作る\n",
    "import math\n",
    "\n",
    "def conduct_parametric_study(**kwargs):\n",
    "    # density_list = arithmetic_sequence(0.05, 0.05, 12) # さらっとやる時\n",
    "    # density_list = arithmetic_sequence(0.1, 0.1, 6) # さらっとやる時\n",
    "    # density_list = arithmetic_sequence(0.2, 0.2, 3) # さらっとやる時\n",
    "    density_list = arithmetic_sequence(0.025, 0.025, 24) # ガチでシミュレーションする時\n",
    "    #density_list = [0.3, 0.4, 0.5, 0.55]\n",
    "    # DFR_LAMBDA_LIST = [5, 2.5, 2, 1.818, 1.6666]\n",
    "    # DFR_LAMBDA_LIST = [5, 2.5, 2, 1.818, ]\n",
    "    # density_list = [0.1, 0.2, 0.4, 0.3, 0.5]\n",
    "    density_list += [0.22, 0.24, 0.19]\n",
    "    \n",
    "    arrival_time_log = [] \n",
    "    MAX_TIME = 2500\n",
    "    WAYPOINTS_NUM = 40 #constrained way pointの数\n",
    "    TOTAL_LENGTH = 4000 # 入り口から出口までの距離 [m]\n",
    "    WAYPOINTS = [{\"waypoint_idx\": i, \"x\": TOTAL_LENGTH / WAYPOINTS_NUM * (i)} for i in range(WAYPOINTS_NUM+1)]\n",
    "    LAMBDA_LIST = [1/d for d in density_list ]\n",
    "    # LAMBDA_LIST = [10,  2]\n",
    "    # LAMBDA_LIST = [2.4]\n",
    "    NOISE_START_X = 3110\n",
    "    # COMMU_SPEED_LIST = [0.2, 0.6, 1, 1.4]\n",
    "    COMMU_SPEED_LIST = [0]\n",
    "    TTC_LIST = [1.6]\n",
    "    v_mean_log_dfr = []\n",
    "    v_mean_log_vfr = []\n",
    "    # TTC = 1.5\n",
    "    CAR_NUM = 1200\n",
    "    NOISE_FREQUENCY_LIST = [10]\n",
    "    brake_params={ \"decel\": -2, \"acc\":2, \"coast_time\":2, \"period\": 2}\n",
    "\n",
    "    # 流量計測用の変数\n",
    "    OBSERVATION_POINTS = [NOISE_START_X - 1015, NOISE_START_X-5, TOTAL_LENGTH-1]\n",
    "    flow_count_interval = 120\n",
    "\n",
    "    # ログ用の変数\n",
    "    log_interval = kwargs.get(\"log_interval\", 0.5)\n",
    "    goal_time_dict = []\n",
    "    dfr_headway_logs = []\n",
    "    vfr_headway_logs = []\n",
    "    flow_df_all = []\n",
    "    \n",
    "    total_iterations =  len(COMMU_SPEED_LIST) * len(LAMBDA_LIST) * len(NOISE_FREQUENCY_LIST) * len(TTC_LIST)\n",
    "    with tqdm(total=total_iterations) as pbar:\n",
    "        for noise_frequency in NOISE_FREQUENCY_LIST:\n",
    "            for communication_speed in COMMU_SPEED_LIST:\n",
    "                for TTC in TTC_LIST:\n",
    "                    for idx, LAMBDA in enumerate(LAMBDA_LIST):\n",
    "                        noise_params ={\"NOISE_FREQUENCY\":NOISE_FREQUENCY, \"NOISE_START_X\":NOISE_START_X}\n",
    "                            \n",
    "                        print(f\"Running simulation with LAMBDA={LAMBDA}, communication_speed={communication_speed}, TTC={TTC}, noise_freq={noise_frequency}\")\n",
    "                    \n",
    "                        # arrival_times = generate_arrival_times_poisson(LAMBDA, TTC, CAR_NUM)\n",
    "                        arrival_times = create_arrival_times_arithmetic_seq(LAMBDA, CAR_NUM)\n",
    "                        CARS = [Cars(arrival_time=time, index=index, v_mean=MEAN_SPEED, v_max = MAX_SPEED, a_max=MAX_ACC, a_min=MAX_ACC)\n",
    "                                  for index, time in enumerate(arrival_times)]\n",
    "                        TOTAL_TIME = min(arrival_times[-1]-1, MAX_TIME)\n",
    "\n",
    "                        eta_table = ReservationTable(waypoints = WAYPOINTS, global_params = {\"DESIRED_TTC\":TTC})\n",
    "\n",
    "                        try:\n",
    "                            dfr_simulation = SuddenStopDFRSimulation(TOTAL_TIME = TOTAL_TIME, TIME_STEP = TIME_STEP, TOTAL_LENGTH = TOTAL_LENGTH, CARS = CARS, TTC=TTC, \\\n",
    "                                                  reservation_table = eta_table, noise_params=noise_params, brake_params=brake_params, COMMUNICATION_SPEED=COMMUNICATION_SPEED, DENSITY=LAMBDA, \\\n",
    "                                                  observation_points = OBSERVATION_POINTS, segment_length=SEGMENT_LENGTH, flow_count_interval=flow_count_interval)\n",
    "                            if True:\n",
    "                            # if False:\n",
    "                                dfr_simulation.conduct_simulation(should_plot=False)\n",
    "                                v_mean_log = [{\"is_success\": True, \"communication_speed\":communication_speed,\"TTC\":TTC, \"lambda\": LAMBDA,\"NOISE_FREQUENCY\":noise_frequency, **log} for log in dfr_simulation.v_mean_log if log[\"time\"] % log_interval == 0]\n",
    "                                v_mean_log_dfr += v_mean_log\n",
    "                                arrival_time_log.append({\"lambda\": LAMBDA, \"arrival_times\":arrival_times, \"communication_speed\":communication_speed,\"TTC\":TTC,\"NOISE_FREQUENCY\":noise_frequency, \"is_success\":True})\n",
    "                                # effective_lambda = arrival_time_log[-1] / len(arrival_time_log)\n",
    "                                headway_log = [entry for entry in dfr_simulation.headway_log if entry[\"time\"] % 7 == 0 and abs(entry[\"xcoor\"] - NOISE_START_X) > 50 and entry[\"headway\"] < 300  and entry[\"headway\"]>3 ]\n",
    "                                headway_log = [{**entry,\n",
    "                                                     'noise_frequency': noise_frequency,\n",
    "                                                     'LAMBDA': LAMBDA,\n",
    "                                                     'communication_speed': communication_speed}\n",
    "                                                    for entry in headway_log]\n",
    "                                flow_data = dfr_simulation.flow_results\n",
    "                                df = format_flow_dataframe(flow_data)\n",
    "                                df[\"lambda\"] = LAMBDA\n",
    "                                df[\"type\"] = \"dfr\"\n",
    "                                flow_df_all.append(df)\n",
    "                                \n",
    "\n",
    "                                dfr_headway_logs += headway_log\n",
    "\n",
    "                                goal_time_dict.append({\n",
    "                                        'noise_frequency': noise_frequency,\n",
    "                                        'communication_speed': communication_speed,\n",
    "                                        'TTC': TTC,\n",
    "                                        'LAMBDA': LAMBDA,\n",
    "                                        'goal_times': dfr_simulation.goal_time,\n",
    "                                        \"flight\":\"dfr\",\n",
    "                                        # \"effective_lambda\":effective_lambda,\n",
    "                                    })\n",
    "\n",
    "        \n",
    "                        except Exception as e:\n",
    "                            print(\"DFR simulation failed:\", e)\n",
    "                            # headway_log = [entry for entry in dfr_simulation.headway_log if entry[\"time\"] % 6 == 0 and abs(entry[\"xcoor\"] - NOISE_START_X) > 50 and entry[\"headway\"] < 300 and entry[\"headway\"]>3]\n",
    "                            dfr_headway_logs += headway_log\n",
    "                            goal_time_dict.append({\n",
    "                                    'noise_frequency': noise_frequency,\n",
    "                                    'communication_speed': communication_speed,\n",
    "                                    'TTC': TTC,\n",
    "                                    'LAMBDA': LAMBDA,\n",
    "                                    'goal_times': dfr_simulation.goal_time,\n",
    "                                    # \"effective_lambda\":effective_lambda,\n",
    "                                    \"flight\":\"dfr\",\n",
    "                                })\n",
    "                            # print({\"is_success\": False, \"details\": str(e),\"noise_forecast_time\":noise_forecast_time, \"noise_period\":noise_period, \"communication_speed\":communication_speed, \"TTC\":TTC, \"lambda\": LAMBDA})\n",
    "                            # v_mean_log = [{\"is_success\": False, \"details\": str(e),\"noise_forecast_time\":noise_forecast_time, \"noise_period\":noise_period, \"communication_speed\":communication_speed, \"lambda\": LAMBDA,\"TTC\":TTC,\"NOISE_FREQUENCY\":noise_frequency, **log} for log in dfr_simulation.v_mean_log  if log[\"time\"] % log_interval == 0]\n",
    "                            # v_mean_log_dfr += v_mean_log\n",
    "                            flow_data = dfr_simulation.flow_results\n",
    "                            df = format_flow_dataframe(flow_data)\n",
    "                            df[\"lambda\"] = LAMBDA\n",
    "                            df[\"type\"] = \"dfr\"\n",
    "                            flow_df_all.append(df)    \n",
    "\n",
    "\n",
    "                        try:\n",
    "                            print(\"conducting vfr\")\n",
    "                            vfr_simulation = SuddenStopVFRSimulation(TOTAL_TIME = TOTAL_TIME, TIME_STEP = TIME_STEP, TOTAL_LENGTH = TOTAL_LENGTH, dfr_reference=dfr_simulation, car_params=car_params)\n",
    "                            vfr_simulation.conduct_simulation(should_plot=False)\n",
    "                            v_mean_log = [{\"NOISE_FREQUENCY\":noise_frequency, \"is_success\": True, **log} for log in vfr_simulation.v_mean_log if log[\"time\"] % log_interval == 0]\n",
    "                            v_mean_log_vfr += v_mean_log\n",
    "                            arrival_time_log = vfr_simulation.arrival_time_log\n",
    "                            effective_lambda = arrival_time_log[-1] / len(arrival_time_log)\n",
    "                            headway_log = vfr_simulation.headway_log\n",
    "                            headway_log = [entry for entry in headway_log if entry[\"time\"] % 7 == 0 and abs(entry[\"xcoor\"] - NOISE_START_X) > 50 and entry[\"headway\"] < 300 and entry[\"headway\"]>3]\n",
    "                            headway_log = [{**entry,\n",
    "                                                     'noise_frequency': noise_frequency,\n",
    "                                                     'LAMBDA': LAMBDA,\n",
    "                                                     'communication_speed': communication_speed}\n",
    "                                                    for entry in headway_log]\n",
    "                            \n",
    "                            vfr_headway_logs += headway_log\n",
    "                            \n",
    "                            goal_time_dict.append({\n",
    "                                    'noise_frequency': noise_frequency,\n",
    "                                    'communication_speed': communication_speed,\n",
    "                                    'TTC': TTC,\n",
    "                                    'LAMBDA': LAMBDA,\n",
    "                                    'goal_times': vfr_simulation.goal_time,\n",
    "                                    \"flight\":\"vfr\",\n",
    "                                    \"effective_lambda\":effective_lambda\n",
    "                                })\n",
    "\n",
    "                            flow_data = vfr_simulation.flow_results\n",
    "                            df = format_flow_dataframe(flow_data)\n",
    "                            df[\"lambda\"] = LAMBDA\n",
    "                            df[\"type\"] = \"vfr\"\n",
    "                            flow_df_all.append(df)   \n",
    "\n",
    "                        except Exception as e:\n",
    "                            print(\"VFR simulation failed:\", e)\n",
    "                            print({\"is_success\": False, \"details\": str(e),\"noise_forecast_time\":noise_forecast_time, \"noise_period\":noise_period, \"communication_speed\":communication_speed, \"lambda\": LAMBDA})\n",
    "                            arrival_time_log = vfr_simulation.arrival_time_log\n",
    "                            effective_lambda = arrival_time_log[-1] / len(arrival_time_log)\n",
    "                            goal_time_dict.append({\n",
    "                                    'noise_frequency': noise_frequency,\n",
    "                                    'communication_speed': communication_speed,\n",
    "                                    'TTC': TTC,\n",
    "                                    'LAMBDA': LAMBDA,\n",
    "                                    'goal_times': vfr_simulation.goal_time,\n",
    "                                    \"flight\":\"vfr\",\n",
    "                                    \"effective_lambda\":effective_lambda\n",
    "                                })\n",
    "                            flow_data = vfr_simulation.flow_results\n",
    "                            df = format_flow_dataframe(flow_data)\n",
    "                            df[\"lambda\"] = LAMBDA\n",
    "                            df[\"type\"] = \"vfr\"\n",
    "                            flow_df_all.append(df)   \n",
    "                            \n",
    "                        pbar.update(1)\n",
    "\n",
    "    flow_df = pd.concat(flow_df_all, ignore_index=True)\n",
    "                        \n",
    "    return v_mean_log_dfr, v_mean_log_vfr, arrival_time_log, goal_time_dict, dfr_headway_logs, vfr_headway_logs, flow_df\n",
    "\n",
    "\n",
    "v_mean_log_dfr ,v_mean_log_vfr, arrival_time_log, goal_time_dict, dfr_headway_logs, vfr_headway_logs, flow_df = conduct_parametric_study()\n"
   ]
  },
  {
   "cell_type": "code",
   "execution_count": 45,
   "id": "94d4c780-d94f-4375-a59b-da9b30bff994",
   "metadata": {},
   "outputs": [
    {
     "data": {
      "text/html": [
       "<div>\n",
       "<style scoped>\n",
       "    .dataframe tbody tr th:only-of-type {\n",
       "        vertical-align: middle;\n",
       "    }\n",
       "\n",
       "    .dataframe tbody tr th {\n",
       "        vertical-align: top;\n",
       "    }\n",
       "\n",
       "    .dataframe thead th {\n",
       "        text-align: right;\n",
       "    }\n",
       "</style>\n",
       "<table border=\"1\" class=\"dataframe\">\n",
       "  <thead>\n",
       "    <tr style=\"text-align: right;\">\n",
       "      <th></th>\n",
       "      <th>point</th>\n",
       "      <th>density</th>\n",
       "      <th>time</th>\n",
       "      <th>flow</th>\n",
       "      <th>flow_calculated</th>\n",
       "      <th>density_calculated</th>\n",
       "      <th>lambda</th>\n",
       "      <th>type</th>\n",
       "    </tr>\n",
       "  </thead>\n",
       "  <tbody>\n",
       "    <tr>\n",
       "      <th>0</th>\n",
       "      <td>2095</td>\n",
       "      <td>0.088333</td>\n",
       "      <td>60.0</td>\n",
       "      <td>0</td>\n",
       "      <td>0.005000</td>\n",
       "      <td>0.000250</td>\n",
       "      <td>20.0</td>\n",
       "      <td>dfr</td>\n",
       "    </tr>\n",
       "    <tr>\n",
       "      <th>1</th>\n",
       "      <td>2095</td>\n",
       "      <td>2.011686</td>\n",
       "      <td>120.0</td>\n",
       "      <td>1</td>\n",
       "      <td>0.050847</td>\n",
       "      <td>0.002542</td>\n",
       "      <td>20.0</td>\n",
       "      <td>dfr</td>\n",
       "    </tr>\n",
       "    <tr>\n",
       "      <th>2</th>\n",
       "      <td>2095</td>\n",
       "      <td>2.499165</td>\n",
       "      <td>180.0</td>\n",
       "      <td>3</td>\n",
       "      <td>0.050000</td>\n",
       "      <td>0.002500</td>\n",
       "      <td>20.0</td>\n",
       "      <td>dfr</td>\n",
       "    </tr>\n",
       "    <tr>\n",
       "      <th>3</th>\n",
       "      <td>2095</td>\n",
       "      <td>2.499165</td>\n",
       "      <td>240.0</td>\n",
       "      <td>3</td>\n",
       "      <td>0.050000</td>\n",
       "      <td>0.002500</td>\n",
       "      <td>20.0</td>\n",
       "      <td>dfr</td>\n",
       "    </tr>\n",
       "    <tr>\n",
       "      <th>4</th>\n",
       "      <td>2095</td>\n",
       "      <td>2.499165</td>\n",
       "      <td>300.0</td>\n",
       "      <td>3</td>\n",
       "      <td>0.050000</td>\n",
       "      <td>0.002500</td>\n",
       "      <td>20.0</td>\n",
       "      <td>dfr</td>\n",
       "    </tr>\n",
       "  </tbody>\n",
       "</table>\n",
       "</div>"
      ],
      "text/plain": [
       "   point   density   time  flow  flow_calculated  density_calculated  lambda  \\\n",
       "0   2095  0.088333   60.0     0         0.005000            0.000250    20.0   \n",
       "1   2095  2.011686  120.0     1         0.050847            0.002542    20.0   \n",
       "2   2095  2.499165  180.0     3         0.050000            0.002500    20.0   \n",
       "3   2095  2.499165  240.0     3         0.050000            0.002500    20.0   \n",
       "4   2095  2.499165  300.0     3         0.050000            0.002500    20.0   \n",
       "\n",
       "  type  \n",
       "0  dfr  \n",
       "1  dfr  \n",
       "2  dfr  \n",
       "3  dfr  \n",
       "4  dfr  "
      ]
     },
     "execution_count": 45,
     "metadata": {},
     "output_type": "execute_result"
    }
   ],
   "source": [
    "flow_df.head(5)"
   ]
  },
  {
   "cell_type": "code",
   "execution_count": 107,
   "id": "5d819d21-79f7-440b-8369-12330e6f5062",
   "metadata": {},
   "outputs": [
    {
     "data": {
      "image/png": "[encoded data removed]",
      "text/plain": [
       "<Figure size 2400x600 with 3 Axes>"
      ]
     },
     "metadata": {},
     "output_type": "display_data"
    }
   ],
   "source": [
    "import matplotlib.pyplot as plt\n",
    "\n",
    "def plot_flow_df(flow_df, xmax=60, ymax=60):\n",
    "    \"\"\"\n",
    "    flow_df は、'point', 'density', 'flow', 'type' などのカラムを含むデータフレームです。\n",
    "    各 point ごとにサブプロットを作成し、density を横軸、flow を縦軸にしてプロットします。\n",
    "    type が \"dfr\" の場合は赤色、\"vfr\" の場合は青色でプロットされます。\n",
    "    \n",
    "    引数:\n",
    "        flow_df: プロット対象のデータフレーム\n",
    "        xmax: x軸 (density) の最大値\n",
    "        ymax: y軸 (flow) の最大値\n",
    "    \"\"\"\n",
    "    # flow_df 内のユニークな point の値を取得\n",
    "    points = flow_df['point'].unique()\n",
    "    n_points = len(points)\n",
    "    \n",
    "    # 1行 n_points 列のサブプロットを作成（n_points が1の場合も考慮）\n",
    "    fig, axes = plt.subplots(nrows=1, ncols=n_points, figsize=(8 * n_points, 6))\n",
    "    if n_points == 1:\n",
    "        axes = [axes]\n",
    "    \n",
    "    # 各 point ごとにプロットを作成\n",
    "    for ax, point in zip(axes, points):\n",
    "        # pointでフィルタリング\n",
    "        df_point = flow_df[flow_df['point'] == point]\n",
    "        # typeごとにフィルタリング\n",
    "        dfr_df = df_point[df_point['type'] == 'dfr']\n",
    "        vfr_df = df_point[df_point['type'] == 'vfr']\n",
    "        \n",
    "        ax.scatter(dfr_df['density'], dfr_df['flow'], color='red', label='dfr', alpha=0.05)\n",
    "        ax.scatter(vfr_df['density'], vfr_df['flow'], color='blue', label='vfr',  alpha=0.05)\n",
    "        \n",
    "        ax.set_xlabel(\"Density \"+r\"$ [\\mathrm{km}^{-1}]$\")\n",
    "        ax.set_ylabel(\"Flow\")\n",
    "        ax.set_title(f\"Flow vs Density Plot (X= {point})\")\n",
    "        ax.legend()\n",
    "        \n",
    "        # x軸、y軸の最大値を設定\n",
    "        ax.set_xlim(0, xmax)\n",
    "        ax.set_ylim(0, ymax)\n",
    "    \n",
    "    plt.tight_layout()\n",
    "    plt.show()\n",
    "\n",
    "\n",
    "df = flow_df[flow_df[\"lambda\"] > 1.1]\n",
    "\n",
    "plot_flow_df(df)\n"
   ]
  },
  {
   "cell_type": "code",
   "execution_count": 97,
   "id": "5d1bfc1d-2a50-4f87-84ad-aea059a1f859",
   "metadata": {},
   "outputs": [
    {
     "name": "stdout",
     "output_type": "stream",
     "text": [
      "[{'noise_frequency': 10, 'communication_speed': 0, 'TTC': 1.6, 'LAMBDA': 40.0, 'goal_times_over_thresh': 36, 'flow': 0.02503999443555679, 'flight': 'dfr', 'effective_lambda': 40.0}, {'noise_frequency': 10, 'communication_speed': 0, 'TTC': 1.6, 'LAMBDA': 40.0, 'goal_times_over_thresh': 36, 'flow': 0.02547410133031418, 'flight': 'vfr', 'effective_lambda': 39.111111111111114}, {'noise_frequency': 10, 'communication_speed': 0, 'TTC': 1.6, 'LAMBDA': 20.0, 'goal_times_over_thresh': 73, 'flow': 0.05067333055671248, 'flight': 'dfr', 'effective_lambda': 20.0}, {'noise_frequency': 10, 'communication_speed': 0, 'TTC': 1.6, 'LAMBDA': 20.0, 'goal_times_over_thresh': 72, 'flow': 0.050160234081092374, 'flight': 'vfr', 'effective_lambda': 19.77777777777778}, {'noise_frequency': 10, 'communication_speed': 0, 'TTC': 1.6, 'LAMBDA': 13.333333333333332, 'goal_times_over_thresh': 109, 'flow': 0.07557897656358341, 'flight': 'dfr', 'effective_lambda': 13.333333333333332}, {'noise_frequency': 10, 'communication_speed': 0, 'TTC': 1.6, 'LAMBDA': 13.333333333333332, 'goal_times_over_thresh': 108, 'flow': 0.07501562825588665, 'flight': 'vfr', 'effective_lambda': 13.234814814814815}, {'noise_frequency': 10, 'communication_speed': 0, 'TTC': 1.6, 'LAMBDA': 10.0, 'goal_times_over_thresh': 145, 'flow': 0.10054084038274858, 'flight': 'dfr', 'effective_lambda': 10.0}, {'noise_frequency': 10, 'communication_speed': 0, 'TTC': 1.6, 'LAMBDA': 10.0, 'goal_times_over_thresh': 145, 'flow': 0.10051296270622487, 'flight': 'vfr', 'effective_lambda': 9.944444444444445}, {'noise_frequency': 10, 'communication_speed': 0, 'TTC': 1.6, 'LAMBDA': 8.0, 'goal_times_over_thresh': 182, 'flow': 0.12607370462732057, 'flight': 'dfr', 'effective_lambda': 8.0}, {'noise_frequency': 10, 'communication_speed': 0, 'TTC': 1.6, 'LAMBDA': 8.0, 'goal_times_over_thresh': 181, 'flow': 0.12531154804763223, 'flight': 'vfr', 'effective_lambda': 7.964444444444444}, {'noise_frequency': 10, 'communication_speed': 0, 'TTC': 1.6, 'LAMBDA': 6.666666666666667, 'goal_times_over_thresh': 218, 'flow': 0.15037593984962405, 'flight': 'dfr', 'effective_lambda': 6.666666666666667}, {'noise_frequency': 10, 'communication_speed': 0, 'TTC': 1.6, 'LAMBDA': 6.666666666666667, 'goal_times_over_thresh': 217, 'flow': 0.15022499134648667, 'flight': 'vfr', 'effective_lambda': 6.642222222222222}, {'noise_frequency': 10, 'communication_speed': 0, 'TTC': 1.6, 'LAMBDA': 5.7142857142857135, 'goal_times_over_thresh': 254, 'flow': 0.17518449548244705, 'flight': 'dfr', 'effective_lambda': 5.7142857142857135}, {'noise_frequency': 10, 'communication_speed': 0, 'TTC': 1.6, 'LAMBDA': 5.7142857142857135, 'goal_times_over_thresh': 254, 'flow': 0.17576638294927685, 'flight': 'vfr', 'effective_lambda': 5.696190476190477}, {'noise_frequency': 10, 'communication_speed': 0, 'TTC': 1.6, 'LAMBDA': 5.0, 'goal_times_over_thresh': 290, 'flow': 0.20001379405476238, 'flight': 'dfr', 'effective_lambda': 5.0}, {'noise_frequency': 10, 'communication_speed': 0, 'TTC': 1.6, 'LAMBDA': 5.0, 'goal_times_over_thresh': 290, 'flow': 0.20055325034578148, 'flight': 'vfr', 'effective_lambda': 4.986111111111111}, {'noise_frequency': 10, 'communication_speed': 0, 'TTC': 1.6, 'LAMBDA': 4.444444444444445, 'goal_times_over_thresh': 327, 'flow': 0.22553279536519757, 'flight': 'dfr', 'effective_lambda': 4.444444444444445}, {'noise_frequency': 10, 'communication_speed': 0, 'TTC': 1.6, 'LAMBDA': 4.444444444444445, 'goal_times_over_thresh': 326, 'flow': 0.22537158658831663, 'flight': 'vfr', 'effective_lambda': 4.43358024691358}, {'noise_frequency': 10, 'communication_speed': 0, 'TTC': 1.6, 'LAMBDA': 4.0, 'goal_times_over_thresh': 363, 'flow': 0.2503620939375129, 'flight': 'dfr', 'effective_lambda': 4.0}, {'noise_frequency': 10, 'communication_speed': 0, 'TTC': 1.6, 'LAMBDA': 4.0, 'goal_times_over_thresh': 362, 'flow': 0.2500690798563139, 'flight': 'vfr', 'effective_lambda': 3.991111111111111}, {'noise_frequency': 10, 'communication_speed': 0, 'TTC': 1.6, 'LAMBDA': 3.6363636363636362, 'goal_times_over_thresh': 399, 'flow': 0.27519139250982827, 'flight': 'dfr', 'effective_lambda': 3.6363636363636362}, {'noise_frequency': 10, 'communication_speed': 0, 'TTC': 1.6, 'LAMBDA': 3.6363636363636362, 'goal_times_over_thresh': 398, 'flow': 0.2748808619379791, 'flight': 'vfr', 'effective_lambda': 3.6290909090909094}, {'noise_frequency': 10, 'communication_speed': 0, 'TTC': 1.6, 'LAMBDA': 3.333333333333333, 'goal_times_over_thresh': 435, 'flow': 0.3000206910821436, 'flight': 'dfr', 'effective_lambda': 3.333333333333333}, {'noise_frequency': 10, 'communication_speed': 0, 'TTC': 1.6, 'LAMBDA': 3.333333333333333, 'goal_times_over_thresh': 435, 'flow': 0.3003936192251916, 'flight': 'vfr', 'effective_lambda': 3.3272222222222223}, {'noise_frequency': 10, 'communication_speed': 0, 'TTC': 1.6, 'LAMBDA': 3.076923076923076, 'goal_times_over_thresh': 472, 'flow': 0.3255396923925788, 'flight': 'dfr', 'effective_lambda': 3.076923076923076}, {'noise_frequency': 10, 'communication_speed': 0, 'TTC': 1.6, 'LAMBDA': 3.076923076923076, 'goal_times_over_thresh': 471, 'flow': 0.3251864125932063, 'flight': 'vfr', 'effective_lambda': 3.071794871794872}, {'noise_frequency': 10, 'communication_speed': 0, 'TTC': 1.6, 'LAMBDA': 2.8571428571428568, 'goal_times_over_thresh': 508, 'flow': 0.3503689909648941, 'flight': 'dfr', 'effective_lambda': 2.8571428571428568}, {'noise_frequency': 10, 'communication_speed': 0, 'TTC': 1.6, 'LAMBDA': 2.8571428571428568, 'goal_times_over_thresh': 507, 'flow': 0.35001725923369004, 'flight': 'vfr', 'effective_lambda': 2.852698412698413}, {'noise_frequency': 10, 'communication_speed': 0, 'TTC': 1.6, 'LAMBDA': 2.666666666666666, 'goal_times_over_thresh': 544, 'flow': 0.37519828953720946, 'flight': 'dfr', 'effective_lambda': 2.666666666666666}, {'noise_frequency': 10, 'communication_speed': 0, 'TTC': 1.6, 'LAMBDA': 2.666666666666666, 'goal_times_over_thresh': 549, 'flow': 0.3789604472975771, 'flight': 'vfr', 'effective_lambda': 2.6628148148148147}, {'noise_frequency': 10, 'communication_speed': 0, 'TTC': 1.6, 'LAMBDA': 2.5, 'goal_times_over_thresh': 580, 'flow': 0.40046951598425734, 'flight': 'dfr', 'effective_lambda': 2.5}, {'noise_frequency': 10, 'communication_speed': 0, 'TTC': 1.6, 'LAMBDA': 2.5, 'goal_times_over_thresh': 529, 'flow': 0.365432439900525, 'flight': 'vfr', 'effective_lambda': 2.4965277777777777}, {'noise_frequency': 10, 'communication_speed': 0, 'TTC': 1.6, 'LAMBDA': 2.352941176470588, 'goal_times_over_thresh': 617, 'flow': 0.42554658941996, 'flight': 'dfr', 'effective_lambda': 2.352941176470588}, {'noise_frequency': 10, 'communication_speed': 0, 'TTC': 1.6, 'LAMBDA': 2.352941176470588, 'goal_times_over_thresh': 529, 'flow': 0.36540719762381707, 'flight': 'vfr', 'effective_lambda': 2.349934640522876}, {'noise_frequency': 10, 'communication_speed': 0, 'TTC': 1.6, 'LAMBDA': 2.222222222222222, 'goal_times_over_thresh': 666, 'flow': 0.45962732919254656, 'flight': 'dfr', 'effective_lambda': 2.222222222222222}, {'noise_frequency': 10, 'communication_speed': 0, 'TTC': 1.6, 'LAMBDA': 2.222222222222222, 'goal_times_over_thresh': 529, 'flow': 0.36540719762381707, 'flight': 'vfr', 'effective_lambda': 2.2195061728395062}, {'noise_frequency': 10, 'communication_speed': 0, 'TTC': 1.6, 'LAMBDA': 2.1052631578947367, 'goal_times_over_thresh': 461, 'flow': 0.41882438448260195, 'flight': 'dfr', 'effective_lambda': 2.1052631578947367}, {'noise_frequency': 10, 'communication_speed': 0, 'TTC': 1.6, 'LAMBDA': 2.1052631578947367, 'goal_times_over_thresh': 529, 'flow': 0.36540719762381707, 'flight': 'vfr', 'effective_lambda': 2.1349168646080763}, {'noise_frequency': 10, 'communication_speed': 0, 'TTC': 1.6, 'LAMBDA': 2.0, 'goal_times_over_thresh': 531, 'flow': 0.43474701162600293, 'flight': 'dfr', 'effective_lambda': 2.0}, {'noise_frequency': 10, 'communication_speed': 0, 'TTC': 1.6, 'LAMBDA': 2.0, 'goal_times_over_thresh': 529, 'flow': 0.36540719762381707, 'flight': 'vfr', 'effective_lambda': 2.1351126927639386}, {'noise_frequency': 10, 'communication_speed': 0, 'TTC': 1.6, 'LAMBDA': 1.9047619047619047, 'goal_times_over_thresh': 347, 'flow': 0.42482859941234086, 'flight': 'dfr', 'effective_lambda': 1.9047619047619047}, {'noise_frequency': 10, 'communication_speed': 0, 'TTC': 1.6, 'LAMBDA': 1.9047619047619047, 'goal_times_over_thresh': 529, 'flow': 0.36540719762381707, 'flight': 'vfr', 'effective_lambda': 2.1351126927639386}, {'noise_frequency': 10, 'communication_speed': 0, 'TTC': 1.6, 'LAMBDA': 1.8181818181818181, 'goal_times_over_thresh': 265, 'flow': 0.4218401782871697, 'flight': 'dfr', 'effective_lambda': 1.8181818181818181}, {'noise_frequency': 10, 'communication_speed': 0, 'TTC': 1.6, 'LAMBDA': 1.8181818181818181, 'goal_times_over_thresh': 529, 'flow': 0.36540719762381707, 'flight': 'vfr', 'effective_lambda': 2.1351126927639386}, {'noise_frequency': 10, 'communication_speed': 0, 'TTC': 1.6, 'LAMBDA': 1.7391304347826084, 'goal_times_over_thresh': 505, 'flow': 0.365491785481653, 'flight': 'vfr', 'effective_lambda': 2.1265931372549023}, {'noise_frequency': 10, 'communication_speed': 0, 'TTC': 1.6, 'LAMBDA': 1.6666666666666665, 'goal_times_over_thresh': 158, 'flow': 0.3240360951599672, 'flight': 'dfr', 'effective_lambda': 1.6666666666666665}, {'noise_frequency': 10, 'communication_speed': 0, 'TTC': 1.6, 'LAMBDA': 1.6666666666666665, 'goal_times_over_thresh': 480, 'flow': 0.3654358583936049, 'flight': 'vfr', 'effective_lambda': 2.117961783439491}]\n",
      "Axes(0.125,0.11;0.775x0.77)\n"
     ]
    },
    {
     "data": {
      "image/png": "[encoded data removed]",
      "text/plain": [
       "<Figure size 800x500 with 1 Axes>"
      ]
     },
     "metadata": {},
     "output_type": "display_data"
    }
   ],
   "source": [
    "goal_thersh=350\n",
    "\n",
    "def calc_flow_by_goal_time(goal_time_dict, goal_thresh=200):\n",
    "    result = []\n",
    "    for goalObj in goal_time_dict:\n",
    "        filtered_goal_times = [t for t in goalObj[\"goal_times\"] if t > goal_thresh]\n",
    "        if len(filtered_goal_times) < 1:\n",
    "            # print(\"===該当なし====\")\n",
    "            # print(goalObj)\n",
    "            # print(\"=======\")\n",
    "            pass\n",
    "            \n",
    "        else:\n",
    "            result.append({\n",
    "                'noise_frequency': goalObj['noise_frequency'],\n",
    "                'communication_speed': goalObj['communication_speed'],\n",
    "                'TTC': goalObj['TTC'],\n",
    "                'LAMBDA': goalObj['LAMBDA'],\n",
    "                'goal_times_over_thresh': len(filtered_goal_times),  # goal_thresh超えの数\n",
    "                \"flow\":len(filtered_goal_times) / (filtered_goal_times[-1] -  goal_thresh),\n",
    "                \"flight\":goalObj['flight'],\n",
    "                \"effective_lambda\": goalObj.get('effective_lambda', goalObj['LAMBDA'])\n",
    "            })\n",
    "    return result\n",
    "    \n",
    "result = calc_flow_by_goal_time(goal_time_dict, goal_thersh)\n",
    "print(result)\n",
    "\n",
    "def plot_flow_vs_density(results, split_plot=False, split_key=\"communication_speed\", savePath=None):\n",
    "    \"\"\"\n",
    "    Lambdaの逆数 (Density) を横軸、Flowを縦軸に、flightごとに色分けしたグラフを作成する関数\n",
    "\n",
    "    Parameters\n",
    "    ----------\n",
    "    results : list of dict\n",
    "        calc_flow_by_goal_timeの出力結果。\n",
    "    split_by_communication_speed : bool, optional\n",
    "        Trueの場合、communication_speedごとにグラフを分割（デフォルトはFalse）\n",
    "\n",
    "\n",
    "    解釈\n",
    "    Flow: １秒あたりにゴールする車の数\n",
    "    Density: 流入レート, 1秒あたりにコースに入ってくる車の数. \n",
    "    \"\"\"\n",
    "\n",
    "    # flightごとの色を指定\n",
    "    flight_colors = {\n",
    "        \"vfr\": \"blue\",\n",
    "        \"dfr\": \"red\"\n",
    "    }\n",
    "\n",
    "    # communication_speedの値を抽出（重複なし）\n",
    "    split_key_values = sorted(set(item[split_key] for item in results))\n",
    "\n",
    "    # グラフの分割方法\n",
    "    n_cols = len(split_key_values) if split_plot else 1\n",
    "    n_rows = 1\n",
    "\n",
    "    fig, axes = plt.subplots(n_rows, n_cols, figsize=(8 * n_cols, 5))\n",
    "    print(axes)\n",
    "    if n_cols == 1:\n",
    "        axes = [axes]  # サブプロットが1つのときもリストに\n",
    "\n",
    "    # DensityとFlowの全体的な最大値を取得\n",
    "    all_density = [1 / item[\"effective_lambda\"] for item in results if item[\"effective_lambda\"] != 0]\n",
    "    all_flow = [item[\"flow\"] for item in results]\n",
    "\n",
    "    max_density = max(all_density) * 1.1  # 最大密度の1.05倍\n",
    "    max_flow = max(all_flow) * 1.1        # 最大流量の1.1倍\n",
    "\n",
    "    for idx, split_key_value in enumerate(split_key_values):\n",
    "        ax = axes[idx]\n",
    "\n",
    "        # 該当のsplit_keyのデータを抽出\n",
    "        filtered_results = [item for item in results if item[split_key] == split_key_value]\n",
    "\n",
    "        # flightごとにプロット\n",
    "        for flight in [\"vfr\", \"dfr\"]:\n",
    "            # flightに対応するデータを抽出\n",
    "            flight_data = [item for item in filtered_results if item[\"flight\"] == flight]\n",
    "\n",
    "            # Density（1 / LAMBDA）とFlowを抽出\n",
    "            density = [1 / item[\"effective_lambda\"] for item in flight_data if item[\"effective_lambda\"] != 0]\n",
    "            flow = [item[\"flow\"] for item in flight_data]\n",
    "\n",
    "            # プロット\n",
    "            ax.scatter(density, flow, label=f\"{flight.upper()}\", color=flight_colors.get(flight, \"gray\"), alpha=0.4)\n",
    "\n",
    "        # 軸ラベル・タイトル\n",
    "        ax.set_xlabel(\"Lambda\")\n",
    "        ax.set_ylabel(\"Flow\")\n",
    "        ax.set_title(f\"{split_key}: {split_key_value}\")\n",
    "        ax.legend()\n",
    "        ax.grid(True, axis=\"y\")\n",
    "        ax.set_xlim(0, max_density)  # 最大値の1.05倍まで\n",
    "        ax.set_ylim(0, max_flow)\n",
    "        ax.legend(loc=\"upper left\", bbox_to_anchor=(1.05, 1), borderaxespad=0)\n",
    "\n",
    "\n",
    "    plt.tight_layout()\n",
    "    if savePath is not None:\n",
    "        plt.savefig(savePath, dpi=300)\n",
    "    \n",
    "    plt.show()\n",
    "\n",
    "plot_flow_vs_density(result, split_plot=False)"
   ]
  },
  {
   "cell_type": "code",
   "execution_count": 30,
   "id": "c353f59d-ff30-4538-8648-de0938fd1165",
   "metadata": {},
   "outputs": [
    {
     "name": "stdout",
     "output_type": "stream",
     "text": [
      "22174\n",
      "     time     headway        v_x  car_idx        xcoor  noise_frequency  \\\n",
      "1    42.0  233.420000  25.000000        1   548.580000               11   \n",
      "4    63.0   88.420000  25.000000        1  1073.580000               11   \n",
      "7    84.0   37.780914  17.884955        1  1504.219086               11   \n",
      "11  105.0  259.378029  25.000000        2  1627.500000               11   \n",
      "26   21.0  128.420000  25.000000        1   273.580000               11   \n",
      "27   21.0  246.080000  25.000000        2    27.500000               11   \n",
      "33   42.0   40.524240  19.324529        1   741.475760               11   \n",
      "34   42.0  188.975760  25.000000        2   552.500000               11   \n",
      "35   42.0  250.000000  25.000000        3   302.500000               11   \n",
      "36   42.0  250.000000  25.000000        4    52.500000               11   \n",
      "\n",
      "    LAMBDA  communication_speed flight  \n",
      "1     20.0                    0    vfr  \n",
      "4     20.0                    0    vfr  \n",
      "7     20.0                    0    vfr  \n",
      "11    20.0                    0    vfr  \n",
      "26    10.0                    0    vfr  \n",
      "27    10.0                    0    vfr  \n",
      "33    10.0                    0    vfr  \n",
      "34    10.0                    0    vfr  \n",
      "35    10.0                    0    vfr  \n",
      "36    10.0                    0    vfr  \n"
     ]
    },
    {
     "data": {
      "image/png": "[encoded data removed]",
      "text/plain": [
       "<Figure size 800x500 with 1 Axes>"
      ]
     },
     "metadata": {},
     "output_type": "display_data"
    }
   ],
   "source": [
    "# (vfr_headway_logs)\n",
    "# print(v_mean_log_vfr)\n",
    "import matplotlib.pyplot as plt\n",
    "\n",
    "df_vfr = pd.DataFrame(vfr_headway_logs)\n",
    "df_vfr[\"flight\"] = \"vfr\"\n",
    "\n",
    "df_dfr = pd.DataFrame(dfr_headway_logs)\n",
    "df_dfr[\"flight\"] = \"dfr\"\n",
    "df_all = pd.concat([df_vfr, df_dfr], ignore_index=True)\n",
    "df_all = df_all[(df_all[\"time\"]%3 == 0) & (df_all[\"xcoor\"] < NOISE_START_X-300) & (df_all[\"LAMBDA\"]>1.5)]\n",
    "print(len(df_all))\n",
    "print(df_all.head(10))\n",
    "\n",
    "import matplotlib.pyplot as plt\n",
    "import pandas as pd\n",
    "\n",
    "def plot_fundamental_diagram(df, split_key, savePath=None):\n",
    "    \"\"\"\n",
    "    渋滞の基本図（交通流の基本図）をプロットする関数です。\n",
    "    \n",
    "    Parameters\n",
    "    ----------\n",
    "    df : pandas.DataFrame\n",
    "        データソースとなるデータフレーム。少なくとも以下のカラムを含むこと:\n",
    "         - 'headway' : 車間距離\n",
    "         - 'v_x'     : 走行速度\n",
    "         - 'flight'  : フライトの種類（例：\"vfr\" または \"dfr\"）\n",
    "         - split_keyで指定されるカラム（例：\"communication_speed\" など）\n",
    "    split_key : str\n",
    "        データを分割する基準となるカラム名。対象カラムのユニークな値ごとにサブプロットを作成する。\n",
    "    savePath : str or None, optional\n",
    "        プロット画像の保存先パス。None の場合は保存せずに表示のみ行う。\n",
    "    \"\"\"\n",
    "    # headwayが0の行は除外\n",
    "    df_valid = df[df[\"headway\"] >4].copy()\n",
    "    \n",
    "    # density = 1 / headway, Flow = density * v_x を計算（新たなカラムとして追加）\n",
    "    df_valid[\"density\"] = 1 / df_valid[\"headway\"]\n",
    "    df_valid[\"flow\"] = df_valid[\"density\"] * df_valid[\"v_x\"]\n",
    "    \n",
    "    # 全体の最大density, flowを取得（余裕をもたせて1.1倍）\n",
    "    max_density = df_valid[\"density\"].max() * 1.1\n",
    "    max_flow = df_valid[\"flow\"].max() * 1.1\n",
    "    \n",
    "    # split_key のユニークな値を抽出し、サブプロット数（列数）とする\n",
    "    unique_vals = sorted(df_valid[split_key].unique())\n",
    "    n_cols = len(unique_vals)\n",
    "    n_rows = 1\n",
    "    \n",
    "    # サブプロットの作成\n",
    "    fig, axes = plt.subplots(n_rows, n_cols, figsize=(8 * n_cols, 5))\n",
    "    if n_cols == 1:\n",
    "        axes = [axes]  # サブプロットが1つの場合もリストにする\n",
    "    \n",
    "    # flightごとの色を指定\n",
    "    flight_colors = {\n",
    "        \"vfr\": \"blue\",\n",
    "        \"dfr\": \"red\"\n",
    "    }\n",
    "    \n",
    "    # 各ユニークなsplit_keyの値に対してサブプロットを作成\n",
    "    for idx, val in enumerate(unique_vals):\n",
    "        ax = axes[idx]\n",
    "        # 該当するsplit_keyの値でデータをフィルタリング\n",
    "        df_subset = df_valid[df_valid[split_key] == val]\n",
    "        \n",
    "        # flightの種類ごとに scatter プロット\n",
    "        for flight in [\"vfr\", \"dfr\"]:\n",
    "            df_flight = df_subset[df_subset[\"flight\"] == flight]\n",
    "            ax.scatter(df_flight[\"density\"], df_flight[\"flow\"],\n",
    "                       label=flight.upper(),\n",
    "                       color=flight_colors.get(flight, \"gray\"),\n",
    "                       alpha=0.5)\n",
    "        \n",
    "        # 軸ラベル、タイトル、グリッド、凡例の設定\n",
    "        ax.set_xlabel(\"Density (1 / headway)\")\n",
    "        ax.set_ylabel(\"Flow (density * v_x)\")\n",
    "        ax.set_title(f\"{split_key}: {val}\")\n",
    "        ax.set_xlim(0, max_density)\n",
    "        ax.set_ylim(0, max_flow)\n",
    "        ax.grid(True, axis=\"y\")\n",
    "        ax.legend(loc=\"upper left\", bbox_to_anchor=(1.05, 1), borderaxespad=0)\n",
    "    \n",
    "    plt.tight_layout()\n",
    "    if savePath is not None:\n",
    "        plt.savefig(split_key+\"_\"+savePath, dpi=300)\n",
    "    plt.show()\n",
    "\n",
    "\n",
    "plot_fundamental_diagram(df_all, split_key=\"communication_speed\", savePath=\"suddenbrake_fundamental_diagram.png\")"
   ]
  },
  {
   "cell_type": "code",
   "execution_count": null,
   "id": "fb15f4a1-a74c-418b-a42b-7cc730b8ac51",
   "metadata": {},
   "outputs": [],
   "source": []
  }
 ],
 "metadata": {
  "kernelspec": {
   "display_name": "Python 3 (ipykernel)",
   "language": "python",
   "name": "python3"
  },
  "language_info": {
   "codemirror_mode": {
    "name": "ipython",
    "version": 3
   },
   "file_extension": ".py",
   "mimetype": "text/x-python",
   "name": "python",
   "nbconvert_exporter": "python",
   "pygments_lexer": "ipython3",
   "version": "3.12.0"
  }
 },
 "nbformat": 4,
 "nbformat_minor": 5
}
