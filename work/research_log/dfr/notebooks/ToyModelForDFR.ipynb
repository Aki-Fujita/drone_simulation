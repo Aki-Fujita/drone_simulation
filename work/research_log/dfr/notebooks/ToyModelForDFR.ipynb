{
 "cells": [
  {
   "cell_type": "markdown",
   "id": "542694f9-2e15-4f17-b663-9d4f0722e16f",
   "metadata": {},
   "source": [
    "### DFRでの飛行シミュレーションに相当するトイモデル\n",
    "\n",
    "#### ルール\n",
    "- 前の空いてるマスと同じだけ進む（MAX=2）.\n",
    "- パラレルアップデート\n",
    "- 参照可能な場合は、前の車の速度を参照しそれを元に自分の速度を決定して良い.\n",
    "  "
   ]
  },
  {
   "cell_type": "code",
   "execution_count": 238,
   "id": "fc65083a-e46e-4ec8-8cd1-af90c7c9b2cd",
   "metadata": {},
   "outputs": [],
   "source": [
    "import random\n",
    "import numpy as np"
   ]
  },
  {
   "cell_type": "code",
   "execution_count": 243,
   "id": "96afb199-ea09-419a-a1cd-881b7f7023a1",
   "metadata": {},
   "outputs": [],
   "source": [
    "class Car:\n",
    "    def __init__(self, idx, position):\n",
    "        self.id = idx\n",
    "        self.position = position\n",
    "        self.speed_log = [0]\n",
    "        self.position_log = [position]\n",
    "        self.is_active = True\n",
    "        self.speed = 0\n",
    "\n",
    "    def decide_speed(self, leader, noise_ratio, policy=\"simple\"):\n",
    "        \"\"\"\n",
    "        前に人がいない場合と十分に車間距離が空いている場合は速度2\n",
    "        \"\"\"\n",
    "        if leader == None:\n",
    "            if random.random() < noise_ratio:\n",
    "                self.speed = 0\n",
    "                return\n",
    "            self.speed = 2\n",
    "            return \n",
    "        if (leader.position - self.position) >= 3:\n",
    "            self.speed = 2\n",
    "            return\n",
    "\n",
    "        \"\"\"\n",
    "        それ以外の場合はPolicyに応じて前の車の速度を用いた速度決定. \n",
    "        \"\"\"\n",
    "        # DFRの場合\n",
    "        if policy == \"dfr\":\n",
    "            if(leader.position - self.position) >= 2:\n",
    "                self.speed = leader.speed\n",
    "                return\n",
    "            self.speed = leader.speed\n",
    "            return\n",
    "        \n",
    "        # ここは普通のASEPの進み方\n",
    "        if (leader.position - self.position) >= 2:\n",
    "            self.speed = 1\n",
    "            return \n",
    "        else:\n",
    "            self.speed = 0\n",
    "            return \n",
    "        return\n",
    "\n",
    "    def move(self, total_cell):\n",
    "        self.position += self.speed\n",
    "        self.position_log.append(self.position)\n",
    "        self.speed_log.append(self.speed)\n",
    "\n",
    "        if self.position > total_cell:\n",
    "            self.is_active = False\n",
    "            return self.id\n",
    "        return -1\n",
    "\n",
    "class DFRSimulation:\n",
    "\n",
    "    def __init__(self, **kwargs):\n",
    "        self.update_rule = kwargs.get(\"update_rule\", \"parallel\")\n",
    "        self.initial_position = kwargs.get(\"INITIAL_POSITION\",[])\n",
    "        self.cars = [Car(idx=idx, position=position) for idx, position in enumerate(self.initial_position)]\n",
    "        self.TOTAL_CELL = kwargs.get(\"TOTAL_CELL\",40)\n",
    "        self.TIME_STEPS = kwargs.get(\"TIME_STEPS\",1000)\n",
    "        self.GLOBAL_DENSITY = kwargs.get(\"GLOBAL_DENSITY\",None)\n",
    "        self.NOISE_RATIO = kwargs.get(\"NOISE_RATIO\",0.1)\n",
    "        self.POLICY = kwargs.get(\"POLICY\",\"simple\")\n",
    "\n",
    "        self.MEAN_SPEED_LOG = []\n",
    "        self.leading_car_idx = 0\n",
    "\n",
    "    def step(self):\n",
    "        \"\"\"\n",
    "        εの影響を考慮しない、ただの初等的なASEP.\n",
    "        \"\"\"\n",
    "    \n",
    "        if self.update_rule == \"parallel\":\n",
    "            for idx, car in enumerate(self.cars):\n",
    "                if idx == self.leading_car_idx:\n",
    "                    leader = None\n",
    "                else:\n",
    "                    leader = self.cars[int(idx-1)]\n",
    "                car.decide_speed(leader=leader, noise_ratio=self.NOISE_RATIO, policy=self.POLICY)\n",
    "            for car in self.cars:\n",
    "                finished_car = car.move(total_cell=self.TOTAL_CELL)\n",
    "                if finished_car >= 0:\n",
    "                    self.leading_car_idx = finished_car + 1\n",
    "\n",
    "        if self.update_rule == \"sequential\":\n",
    "            for car in self.cars:\n",
    "                car.decide_speed()\n",
    "                car.move(self.TOTAL_CELL)\n",
    "\n",
    "    def save_by_step(self):\n",
    "        active_cars = [car for car in self.cars if car.is_active]\n",
    "        mean_speed = np.mean([car.speed for car in active_cars])\n",
    "        self.MEAN_SPEED_LOG.append(mean_speed)  \n",
    "\n",
    "    def arrive(self):\n",
    "        if random.random() < self.GLOBAL_DENSITY:\n",
    "            new_car = Car(idx=len(self.cars), position=0)\n",
    "            self.cars.append(new_car)\n",
    "            \n",
    "    def simulate(self):\n",
    "        for time in range(self.TIME_STEPS):\n",
    "            if time%20 == 0:\n",
    "                print(\"t=\",time)\n",
    "            if self.cars[-1].position > 1:\n",
    "                self.arrive()\n",
    "            self.step()\n",
    "            self.save_by_step()\n",
    "            \n",
    "\n",
    "    \n"
   ]
  },
  {
   "cell_type": "code",
   "execution_count": 244,
   "id": "615385e1-c536-445c-bd39-479f7d7f914a",
   "metadata": {},
   "outputs": [],
   "source": [
    "CELL_NUM = 100\n",
    "NUM_CARS = 10\n",
    "GLOBAL_DENSITY = 0.5\n",
    "INITIAL_POSITION = sorted(random.sample(range(21), 10), reverse=True)\n",
    "NOISE_RATIO = 0.1\n"
   ]
  },
  {
   "cell_type": "code",
   "execution_count": 245,
   "id": "7307f618-9a27-4fdd-88bc-f511fd658d08",
   "metadata": {},
   "outputs": [],
   "source": [
    "args = {\"update_rule\":\"parallel\", \"INITIAL_POSITION\":INITIAL_POSITION, \"TIME_STEPS\":60, \"TOTAL_CELL\":CELL_NUM, \\\n",
    "       \"GLOBAL_DENSITY\":GLOBAL_DENSITY, \"NOISE_RATIO\":NOISE_RATIO}\n",
    "\n",
    "# 新しいキーと値を追加\n",
    "args_dfr = {**args, \"POLICY\": \"dfr\"}\n",
    "\n",
    "simulationObj = DFRSimulation(**args)\n",
    "simulationObj_dfr = DFRSimulation(**args_dfr)\n"
   ]
  },
  {
   "cell_type": "code",
   "execution_count": 246,
   "id": "5e47dac8-af89-4554-abca-c78e4d9d84f6",
   "metadata": {},
   "outputs": [
    {
     "name": "stdout",
     "output_type": "stream",
     "text": [
      "t= 0\n",
      "t= 20\n",
      "t= 40\n",
      "t= 0\n",
      "t= 20\n",
      "t= 40\n"
     ]
    }
   ],
   "source": [
    "simulationObj.simulate()\n",
    "simulationObj_dfr.simulate()\n"
   ]
  },
  {
   "cell_type": "code",
   "execution_count": 247,
   "id": "f9a155cc-bac3-4297-bbe8-eacefebc51ef",
   "metadata": {},
   "outputs": [
    {
     "name": "stdout",
     "output_type": "stream",
     "text": [
      "====SIMPLE=====\n",
      "29\n",
      "[1.0, 1.3, 1.5, 1.5, 1.5, 1.3, 1.4545454545454546, 1.6363636363636365, 1.6363636363636365, 1.6666666666666667, 1.6666666666666667, 1.6923076923076923, 1.6428571428571428, 1.8571428571428572, 1.8666666666666667, 1.8666666666666667, 2.0, 2.0, 1.8823529411764706, 1.8823529411764706, 1.8888888888888888, 1.8421052631578947, 1.894736842105263, 1.9, 1.8571428571428572, 1.9047619047619047, 1.9047619047619047, 1.9090909090909092, 1.8181818181818181, 1.7727272727272727, 1.826086956521739, 1.826086956521739, 1.826086956521739, 1.826086956521739, 1.8333333333333333, 1.8333333333333333, 1.8333333333333333, 1.8333333333333333, 1.84, 1.76, 1.7692307692307692, 1.7692307692307692, 1.7692307692307692, 1.8076923076923077, 1.8518518518518519, 1.8518518518518519, 1.8888888888888888, 1.8846153846153846, 1.8846153846153846, 1.8076923076923077, 1.84, 1.8333333333333333, 1.8333333333333333, 1.826086956521739, 1.8181818181818181, 1.8181818181818181, 1.8095238095238095, 1.8, 1.8, 1.8]\n",
      "\n",
      "====DFR=====\n",
      "45\n",
      "[2.0, 2.0, 2.0, 2.0, 2.0, 2.0, 2.0, 2.0, 2.0, 2.0, 1.75, 2.0, 2.0, 2.0, 2.0, 2.0, 2.0, 2.0, 1.5454545454545454, 2.0, 2.0, 2.0, 2.0, 2.0, 1.5384615384615385, 2.0, 2.0, 2.0, 2.0, 2.0, 2.0, 2.0, 2.0, 2.0, 2.0, 2.0, 2.0, 2.0, 2.0, 2.0, 2.0, 2.0, 2.0, 2.0, 2.0, 2.0, 2.0, 2.0, 2.0, 2.0, 2.0, 2.0, 2.0, 2.0, 2.0, 2.0, 2.0, 2.0, 2.0, 1.9333333333333333]\n"
     ]
    }
   ],
   "source": [
    "print(\"====SIMPLE=====\")\n",
    "print(len(simulationObj.cars))\n",
    "print(simulationObj.MEAN_SPEED_LOG)\n",
    "print()\n",
    "print(\"====DFR=====\")\n",
    "print(len(simulationObj_dfr.cars))\n",
    "print(simulationObj_dfr.MEAN_SPEED_LOG)"
   ]
  },
  {
   "cell_type": "code",
   "execution_count": 220,
   "id": "8c346e6c-260c-4e83-8350-5f2cd8993930",
   "metadata": {},
   "outputs": [
    {
     "name": "stdout",
     "output_type": "stream",
     "text": [
      "0 4\n",
      "1 2\n",
      "2 1\n",
      "[0, 0, 3, 0, 0]\n"
     ]
    }
   ],
   "source": [
    "a = [4,2,1]\n",
    "for i,n in enumerate(a):\n",
    "    print(i,n)\n",
    "b = [0] * 5\n",
    "b[2] = 3\n",
    "print(b)"
   ]
  },
  {
   "cell_type": "code",
   "execution_count": 161,
   "id": "19c38b47-5c0f-4acb-ad51-47d283a4616d",
   "metadata": {},
   "outputs": [
    {
     "data": {
      "text/plain": [
       "0.24606190863756439"
      ]
     },
     "execution_count": 161,
     "metadata": {},
     "output_type": "execute_result"
    }
   ],
   "source": [
    "random.random()"
   ]
  },
  {
   "cell_type": "code",
   "execution_count": null,
   "id": "7cbd014c-258d-4613-8f80-8011780e5a22",
   "metadata": {},
   "outputs": [],
   "source": []
  }
 ],
 "metadata": {
  "kernelspec": {
   "display_name": "Python 3 (ipykernel)",
   "language": "python",
   "name": "python3"
  },
  "language_info": {
   "codemirror_mode": {
    "name": "ipython",
    "version": 3
   },
   "file_extension": ".py",
   "mimetype": "text/x-python",
   "name": "python",
   "nbconvert_exporter": "python",
   "pygments_lexer": "ipython3",
   "version": "3.12.0"
  }
 },
 "nbformat": 4,
 "nbformat_minor": 5
}
