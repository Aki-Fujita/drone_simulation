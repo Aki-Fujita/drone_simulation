{
 "cells": [
  {
   "cell_type": "markdown",
   "id": "9dcdca41-89ef-4b75-893e-5b20d1e4d797",
   "metadata": {},
   "source": [
    "### DFRとVFRの未来の擾乱に対する計画収束速度で比較する\n",
    "\n",
    "仮説: DFRで運行すると未来の擾乱に対する周りの人（自分の決定に影響を及ぼしうる人）の反応が瞬時にわかるため、VFRと比べた際に擾乱に対する収束速度が高まる。その結果として交通キャパシティが上昇する。\n",
    "\n",
    "この仮説をシミュレーション実験によって確かめる。\n",
    "\n",
    "#### 組むべき実験系\n",
    "- ノイズは1個だけ（複数にも対応できるようにはしているが速度計算周りが怪しい）\n"
   ]
  },
  {
   "cell_type": "code",
   "execution_count": 1,
   "id": "918b3bb7-ea8a-4db6-b15c-91aa26751fb2",
   "metadata": {},
   "outputs": [],
   "source": [
    "import random\n",
    "import numpy as np\n",
    "from matplotlib.animation import FuncAnimation\n",
    "import matplotlib.pyplot as plt\n",
    "import pandas as pd\n",
    "import sys\n",
    "import copy\n",
    "\n",
    "sys.path.append(\"../\")\n",
    "from models import Cars, ReservationTable, DFRSimulation, VFRSimulation\n",
    "from utils import check_multiple_noise_effect, validate_with_ttc\n",
    "\n",
    "# ↑↑↑↑↑↑↑↑↑この部分は別セルでも良い↑↑↑↑↑↑↑↑↑\n",
    "\n",
    "# 初期設定（独立変数群）\n",
    "CAR_NUM = 50 #時間窓内の車の総数\n",
    "START_TIME = 0\n",
    "TOTAL_LENGTH = 1000 # 入り口から出口までの距離 [m]\n",
    "WAYPOINTS_NUM = 10 #constrained way pointの数\n",
    "MEAN_SPEED = 20 # 秒速[m/s]として定義\n",
    "MAX_SPEED = 30 # 秒速[m/s]として定義\n",
    "MAX_ACC = 3 # m/s^sで定義, maxは0.3gにした\n",
    "TIME_STEP = 0.1\n",
    "COMMUNICATION_SPEED = 0.1\n",
    "TOTAL_TIME = 40\n",
    "GLOBAL_TIME_WINDOW = 100  # Strategic Phaseでの時間幅\n",
    "DENSITY = 4.0 # 車がminimumで何秒に1回くるか. \n",
    "TTC = 2.9 #車間時間を暫定的に定義\n",
    "\n",
    "def generate_arrival_times(car_num, TTC):\n",
    "    sequence = [random.uniform(0, 3)]\n",
    "    while len(sequence) < car_num:\n",
    "        next_value = sequence[-1] + TTC + random.uniform(0, 2) + 0.2 # これは +0.2しておかないと入り口の時点で弾かれる場合がある\n",
    "        sequence.append(next_value)\n",
    "    return sequence\n",
    "\n",
    "arrival_times = generate_arrival_times(CAR_NUM, TTC)\n",
    "car_params = {\"v_mean\":MEAN_SPEED, \"v_max\": MAX_SPEED, \"a_max\":MAX_ACC, \"a_min\":MAX_ACC}\n"
   ]
  },
  {
   "cell_type": "code",
   "execution_count": 2,
   "id": "d863ef69-fa1b-4c2f-ba1f-d38a3e870ec1",
   "metadata": {},
   "outputs": [
    {
     "name": "stdout",
     "output_type": "stream",
     "text": [
      "[2.1, 7.1, 10.0]\n"
     ]
    }
   ],
   "source": [
    "# 従属的に決まるもの\n",
    "WAYPOINTS = [{\"waypoint_idx\": i, \"x\": TOTAL_LENGTH / WAYPOINTS_NUM * (i)} for i in range(WAYPOINTS_NUM+1)]\n",
    "group_id = 0\n",
    "# arrival_times = [2.65457725264784, 5.519023868368322, 8.359514841623813, 12.650984815640962, 15.816654604044085, 20.713123114743784, 25.573249947653295, 29.113823476836664, 34.064221711207054, 37.96199764959094, 41.93319466691726, 44.76571415956607, 49.07509918348945, 53.11313937451763, 57.48319736648235, 61.86162883944515, 66.9300141894827, 71.11763196557857, 73.83862502939377, 78.36291523339247, 83.00284466638122, 87.44586073702, 92.50551132803729, 95.27853797712942, 98.98841776258791, 103.9850018280912, 107.03897894776168, 109.83935708021232, 112.42192623262706, 116.77303621589067]\n",
    "#arrival_times = [1, 4, 9, 15, 18, 20.6, 25, 48.18130400339028, 52.51443649098328, 57.58770193570899, 60.1]\n",
    "arrival_times = [round(t, 1) for t in arrival_times if t <= TOTAL_TIME ]\n",
    "arrival_times = [2.1, 7.1, 10.0, 13.0, 15.0]\n",
    "# arrival_times = [ 7.1, 45.099999999999998]\n",
    "print(arrival_times)\n",
    "arrival_times.append(TOTAL_TIME + TTC +0.2)\n",
    "\n",
    "CARS = [Cars(arrival_time=time, index=index, v_mean=MEAN_SPEED, v_max = MAX_SPEED, a_max=MAX_ACC, a_min=MAX_ACC)\n",
    "              for index, time in enumerate(arrival_times)]"
   ]
  },
  {
   "cell_type": "code",
   "execution_count": 3,
   "id": "f2a09292-beba-464a-83f2-c0ed6ef5182e",
   "metadata": {},
   "outputs": [],
   "source": [
    "reservation_table = ReservationTable(waypoints = WAYPOINTS, global_params = {\"DESIRED_TTC\":TTC})\n",
    "# 各車がETAを決める部分\n",
    "for idx, car in enumerate(CARS):\n",
    "    desired_eta_list = car.create_desired_eta(WAYPOINTS)\n",
    "    is_valid = reservation_table.validate(desired_eta_list)\n",
    "    if is_valid:\n",
    "        reservation_table.register(desired_eta_list)\n",
    "    else:\n",
    "        calibration_info = {\"desired_list\": desired_eta_list}\n",
    "        calibrated_list, _ = reservation_table.calibrate_list(**calibration_info)\n",
    "        # print(calibrated_list)\n",
    "        # print()\n",
    "        reservation_table.register(calibrated_list)\n",
    "        car.my_list = calibrated_list"
   ]
  },
  {
   "cell_type": "code",
   "execution_count": 4,
   "id": "8ecfa7dd-4526-4055-b8a6-029d141e2953",
   "metadata": {
    "scrolled": true
   },
   "outputs": [],
   "source": [
    "# ここからDFRのシミュレーション\n",
    "simulation = DFRSimulation(TOTAL_TIME = TOTAL_TIME, TIME_STEP = TIME_STEP, TOTAL_LENGTH = TOTAL_LENGTH, CARS = CARS, \\\n",
    "                          reservation_table = reservation_table)\n",
    "# simulation.conduct_simulation(should_plot=True)"
   ]
  },
  {
   "cell_type": "markdown",
   "id": "0786a3bf-d215-48d0-a7aa-0c7f664d929d",
   "metadata": {},
   "source": [
    "### 続いて同じ条件でVFRを試す\n",
    "\n",
    "arrival_timeやTTC、ノイズの発生タイミングはそのまま引き継ぐ. \n"
   ]
  },
  {
   "cell_type": "code",
   "execution_count": 5,
   "id": "ecb38b7a-44a7-4462-8110-d9321195d0c0",
   "metadata": {},
   "outputs": [],
   "source": [
    "vfr_simulation = VFRSimulation(dfr_reference=simulation, car_params=car_params)"
   ]
  },
  {
   "cell_type": "code",
   "execution_count": 6,
   "id": "bae87dc1-6410-4380-9fd1-b0703f50162a",
   "metadata": {},
   "outputs": [
    {
     "name": "stdout",
     "output_type": "stream",
     "text": [
      "3\n",
      "40\n"
     ]
    }
   ],
   "source": [
    "cars = vfr_simulation.CARS\n",
    "car_1 = cars[1]\n",
    "print(car_1.a_max)\n",
    "print(vfr_simulation.TOTAL_TIME)"
   ]
  },
  {
   "cell_type": "code",
   "execution_count": 7,
   "id": "72df1933-c04d-4ed0-8c02-2005a2372d33",
   "metadata": {},
   "outputs": [
    {
     "data": {
      "application/vnd.jupyter.widget-view+json": {
       "model_id": "224c9624467f4c8cbd43460ee973cabd",
       "version_major": 2,
       "version_minor": 0
      },
      "text/plain": [
       "Simulation Progress:   0%|          | 0/400 [00:00<?, ?it/s]"
      ]
     },
     "metadata": {},
     "output_type": "display_data"
    },
    {
     "name": "stdout",
     "output_type": "stream",
     "text": [
      "noise created!\n",
      "t=0.0, event_flg=noise created, noise=[{'x': [400, 430], 't': [20, 25]}]\n",
      "t=2.1, event_flg=arrival, noise=[{'x': [400, 430], 't': [20, 25]}]\n",
      "t=7.1000000000000005, event_flg=arrival, noise=[{'x': [400, 430], 't': [20, 25]}]\n",
      "ID: 1, time=7.1000000000000005, xcor=0, v=20, front=0, front_x=136.83000000000007\n",
      "ID: 1, time=7.2, xcor=2.0300000000000002, v=20.3, front=0, front_x=139.83000000000007\n",
      "ID: 1, time=7.300000000000001, xcor=4.09, v=20.6, front=0, front_x=142.83000000000007\n",
      "ID: 1, time=7.4, xcor=6.18, v=20.900000000000002, front=0, front_x=145.83000000000007\n",
      "ID: 1, time=7.5, xcor=8.3, v=21.200000000000003, front=0, front_x=148.83000000000007\n",
      "ID: 1, time=7.6000000000000005, xcor=10.450000000000001, v=21.500000000000004, front=0, front_x=151.83000000000007\n",
      "ID: 1, time=7.7, xcor=12.630000000000003, v=21.800000000000004, front=0, front_x=154.83000000000007\n",
      "ID: 1, time=7.800000000000001, xcor=14.840000000000003, v=22.100000000000005, front=0, front_x=157.83000000000007\n",
      "ID: 1, time=7.9, xcor=17.080000000000005, v=22.400000000000006, front=0, front_x=160.83000000000007\n",
      "ID: 1, time=8.0, xcor=19.350000000000005, v=22.700000000000006, front=0, front_x=163.83000000000007\n",
      "ID: 1, time=8.1, xcor=21.650000000000006, v=23.000000000000007, front=0, front_x=166.83000000000007\n",
      "ID: 1, time=8.200000000000001, xcor=23.980000000000008, v=23.300000000000008, front=0, front_x=169.83000000000007\n",
      "ID: 1, time=8.3, xcor=26.340000000000007, v=23.60000000000001, front=0, front_x=172.83000000000007\n",
      "ID: 1, time=8.4, xcor=28.730000000000008, v=23.90000000000001, front=0, front_x=175.83000000000007\n",
      "ID: 1, time=8.5, xcor=31.15000000000001, v=24.20000000000001, front=0, front_x=178.83000000000007\n",
      "ID: 1, time=8.6, xcor=33.60000000000001, v=24.50000000000001, front=0, front_x=181.83000000000007\n",
      "ID: 1, time=8.700000000000001, xcor=36.08000000000001, v=24.80000000000001, front=0, front_x=184.83000000000007\n",
      "ID: 1, time=8.8, xcor=38.59000000000002, v=25.100000000000012, front=0, front_x=187.83000000000007\n",
      "ID: 1, time=8.9, xcor=41.13000000000002, v=25.400000000000013, front=0, front_x=190.83000000000007\n",
      "ID: 1, time=9.0, xcor=43.70000000000002, v=25.700000000000014, front=0, front_x=193.83000000000007\n",
      "ID: 1, time=9.1, xcor=46.30000000000002, v=26.000000000000014, front=0, front_x=196.83000000000007\n",
      "ID: 1, time=9.200000000000001, xcor=48.93000000000002, v=26.300000000000015, front=0, front_x=199.83000000000007\n",
      "ID: 1, time=9.3, xcor=51.590000000000025, v=26.600000000000016, front=0, front_x=202.83000000000007\n",
      "ID: 1, time=9.4, xcor=54.28000000000003, v=26.900000000000016, front=0, front_x=205.83000000000007\n",
      "ID: 1, time=9.5, xcor=57.00000000000003, v=27.200000000000017, front=0, front_x=208.83000000000007\n",
      "ID: 1, time=9.600000000000001, xcor=59.75000000000003, v=27.500000000000018, front=0, front_x=211.83000000000007\n",
      "ID: 1, time=9.700000000000001, xcor=62.52353407386413, v=27.73534073864099, front=0, front_x=214.83000000000007\n",
      "ID: 1, time=9.8, xcor=65.30584223068911, v=27.823081568249766, front=0, front_x=217.83000000000007\n",
      "ID: 1, time=9.9, xcor=68.09184891357454, v=27.86006682885423, front=0, front_x=220.83000000000007\n",
      "t=10.0, event_flg=arrival, noise=[{'x': [400, 430], 't': [20, 25]}]\n",
      "t=15.0, acc=-2.503136935758602, next_speed=29.749686306424138\n",
      "t=15.100000000000001, acc=-2.5029597379692294, next_speed=29.499390332627215\n",
      "t=15.200000000000001, acc=-2.502779558938717, next_speed=29.249112376733343\n",
      "t=15.3, acc=-2.5025963230163923, next_speed=28.998852744431705\n",
      "t=15.4, acc=-2.502409951976026, next_speed=28.7486117492341\n",
      "t=15.5, acc=-2.5022203649054893, next_speed=28.498389712743553\n",
      "t=15.600000000000001, acc=-2.502027478090701, next_speed=28.248186964934483\n",
      "t=15.700000000000001, acc=-2.5018312048935063, next_speed=27.998003844445133\n",
      "t=15.8, acc=-2.501631455623136, next_speed=27.74784069888282\n",
      "t=15.9, acc=-2.501428137400821, next_speed=27.497697885142735\n",
      "t=16.0, acc=-2.501221154017163, next_speed=27.24757576974102\n",
      "t=16.1, acc=-2.501010405781781, next_speed=26.99747472916284\n",
      "t=16.2, acc=-2.500795789364755, next_speed=26.747395150226364\n",
      "t=16.3, acc=-2.500577197629347, next_speed=26.49733743046343\n",
      "t=16.400000000000002, acc=-2.50035451945541, next_speed=26.24730197851789\n",
      "t=16.5, acc=-2.5001276395529093, next_speed=25.9972892145626\n",
      "t=16.6, acc=-2.499896438264874, next_speed=25.74729957073611\n",
      "t=16.7, acc=-2.4996607913590982, next_speed=25.4973334916002\n",
      "t=16.8, acc=-2.4994205698078176, next_speed=25.24739143461942\n",
      "t=16.900000000000002, acc=-2.4991756395545597, next_speed=24.997473870663963\n",
      "t=17.0, acc=-2.4989258612672827, next_speed=24.747581284537237\n",
      "t=17.1, acc=-2.49867109007685, next_speed=24.497714175529552\n",
      "t=17.2, acc=-2.498411175299826, next_speed=24.24787305799957\n",
      "t=17.3, acc=-2.498145960144485, next_speed=23.99805846198512\n",
      "t=17.400000000000002, acc=-2.497875281398821, next_speed=23.748270933845237\n",
      "t=17.5, acc=-2.497598969099293, next_speed=23.49851103693531\n",
      "t=17.6, acc=-2.4973168461788724, next_speed=23.24877935231742\n",
      "t=17.7, acc=-2.4970287280928916, next_speed=22.99907647950813\n",
      "t=17.8, acc=-2.4967344224210435, next_speed=22.749403037266024\n",
      "t=17.900000000000002, acc=-2.4964337284437352, next_speed=22.49975966442165\n",
      "t=18.0, acc=-2.496126436690854, next_speed=22.250147020752564\n",
      "t=18.1, acc=-2.4958123284608353, next_speed=22.00056578790648\n",
      "t=18.2, acc=-2.495491175307718, next_speed=21.75101667037571\n",
      "t=18.3, acc=-2.4951627384937, next_speed=21.50150039652634\n",
      "t=18.400000000000002, acc=-2.494826768404437, next_speed=21.252017719685895\n",
      "t=18.5, acc=-2.4944830039241106, next_speed=21.002569419293483\n",
      "t=18.6, acc=-2.4941311717670094, next_speed=20.753156302116782\n",
      "t=18.7, acc=-2.4937709857620534, next_speed=20.503779203540578\n",
      "t=18.8, acc=-2.493402146086346, next_speed=20.254438988931945\n",
      "t=18.900000000000002, acc=-2.4930243384435, next_speed=20.005136555087596\n",
      "t=19.0, acc=-2.492637233182031, next_speed=19.75587283176939\n",
      "t=19.1, acc=-2.4922404843486605, next_speed=19.506648783334526\n",
      "t=19.200000000000003, acc=-2.4918337286708945, next_speed=19.257465410467436\n",
      "t=19.3, acc=-2.491416584462604, next_speed=19.008323752021177\n",
      "t=19.400000000000002, acc=-2.4909886504457814, next_speed=18.7592248869766\n",
      "t=19.5, acc=-2.490549504480864, next_speed=18.510169936528513\n",
      "t=19.6, acc=-2.490098702197295, next_speed=18.261160066308783\n",
      "t=19.700000000000003, acc=-2.4896357755150396, next_speed=18.01219648875728\n",
      "t=19.8, acc=-2.489160231046841, next_speed=17.763280465652596\n",
      "t=19.900000000000002, acc=-2.488671548369852, next_speed=17.51441331081561\n",
      "t=20.0, acc=-2.4881691781540414, next_speed=17.265596393000205\n",
      "t=20.1, acc=-2.487652540133387, next_speed=17.016831138986866\n",
      "t=20.200000000000003, acc=-2.4871210209042296, next_speed=16.768119036896444\n",
      "t=20.3, acc=-2.486573971533453, next_speed=16.5194616397431\n",
      "t=20.400000000000002, acc=-2.486010704957052, next_speed=16.270860569247393\n",
      "t=20.5, acc=-2.4854304931474336, next_speed=16.02231751993265\n",
      "t=20.6, acc=-2.484832564025127, next_speed=15.773834263530137\n",
      "t=20.700000000000003, acc=-2.4842160980876984, next_speed=15.525412653721368\n",
      "t=20.8, acc=-2.483580224725248, next_speed=15.277054631248843\n",
      "t=20.900000000000002, acc=-2.482924018188074, next_speed=15.028762229430036\n",
      "t=21.0, acc=-2.482246493167674, next_speed=14.780537580113268\n",
      "t=21.1, acc=-2.4815465999472592, next_speed=14.532382920118543\n",
      "t=21.200000000000003, acc=-2.4808232190722093, next_speed=14.284300598211322\n",
      "t=21.3, acc=-2.4800751554842204, next_speed=14.036293082662901\n",
      "t=21.400000000000002, acc=-2.4793011320553635, next_speed=13.788362969457365\n",
      "t=21.5, acc=-2.4784997824493735, next_speed=13.540512991212427\n",
      "t=21.6, acc=-2.4776696432273524, next_speed=13.292746026889692\n",
      "t=21.700000000000003, acc=-2.4768091451032, next_speed=13.04506511237937\n",
      "t=21.8, acc=-2.475916603240341, next_speed=12.797473452055337\n",
      "t=21.900000000000002, acc=-2.4749902064652947, next_speed=12.549974431408808\n",
      "t=22.0, acc=-2.4740280052548203, next_speed=12.302571630883326\n",
      "t=22.1, acc=-2.4730278983314085, next_speed=12.055268841050186\n",
      "t=22.200000000000003, acc=-2.471987617676069, next_speed=11.80807007928258\n",
      "t=22.3, acc=-2.4709047117367797, next_speed=11.560979608108902\n",
      "t=22.400000000000002, acc=-2.4697765265750737, next_speed=11.314001955451394\n",
      "t=22.5, acc=-2.4686001846503163, next_speed=11.067141936986362\n",
      "t=22.6, acc=-2.4673725608904626, next_speed=10.820404680897315\n",
      "t=22.700000000000003, acc=-2.466090255637322, next_speed=10.573795655333583\n",
      "t=22.8, acc=-2.464749563981463, next_speed=10.327320698935438\n",
      "t=22.900000000000002, acc=-2.46334644091455, next_speed=10.080986054843983\n",
      "t=23.0, acc=-2.4618764616210687, next_speed=9.834798408681877\n",
      "t=23.1, acc=-2.460334776103507, next_speed=9.588764931071527\n",
      "t=23.200000000000003, acc=-2.4587160571792586, next_speed=9.3428933253536\n",
      "t=23.3, acc=-2.457014440697265, next_speed=9.097191881283873\n",
      "t=23.400000000000002, acc=-2.455223456588805, next_speed=8.851669535624993\n",
      "t=23.5, acc=-2.453335949078954, next_speed=8.606335940717097\n",
      "t=23.6, acc=-2.451343984028591, next_speed=8.361201542314237\n",
      "t=23.700000000000003, acc=-2.4492387409324956, next_speed=8.116277668220988\n",
      "t=23.8, acc=-2.4470103865433472, next_speed=7.871576629566653\n",
      "t=23.900000000000002, acc=-2.4446479263915104, next_speed=7.627111836927502\n",
      "t=24.0, acc=-2.44213902958466, next_speed=7.382897933969035\n",
      "t=24.1, acc=-2.4394698211428425, next_speed=7.138950951854751\n",
      "t=24.200000000000003, acc=-2.4366246346781812, next_speed=6.8952884883869325\n",
      "t=24.3, acc=-2.4335857163613603, next_speed=6.651929916750796\n",
      "t=24.400000000000002, acc=-2.4303328686906607, next_speed=6.40889662988173\n",
      "t=24.5, acc=-2.426843019401422, next_speed=6.166212327941588\n",
      "t=24.6, acc=-2.4230896966596034, next_speed=5.923903358275628\n",
      "t=24.700000000000003, acc=-2.4190423860996937, next_speed=5.681999119665659\n",
      "t=24.8, acc=-2.414665737770008, next_speed=5.440532545888658\n",
      "t=24.900000000000002, acc=-2.409918580885057, next_speed=5.199540687800153\n",
      "t=25.0, acc=-2.404752690369809, next_speed=4.9590654187631715\n",
      "noise created!\n",
      "noise created!\n",
      "noise created!\n",
      "noise created!\n",
      "noise created!\n",
      "noise created!\n",
      "noise created!\n",
      "t=32.0, event_flg=noise created, noise=[{'x': [400, 430], 't': [37.0, 40.0]}]\n",
      "ID: 1, time=32.0, xcor=501.5522513365112, v=25.65906541876321, front=0, front_x=878.7753857276182\n",
      "ID: 1, time=32.1, xcor=504.1481578783875, v=25.95906541876321, front=0, front_x=881.3857494616485\n",
      "ID: 1, time=32.2, xcor=506.7740644202638, v=26.25906541876321, front=0, front_x=883.9984701262343\n",
      "ID: 1, time=32.300000000000004, xcor=509.42997096214015, v=26.55906541876321, front=0, front_x=886.5811907908201\n",
      "ID: 1, time=32.4, xcor=512.1158775040165, v=26.859065418763212, front=0, front_x=889.1662911171614\n",
      "ID: 1, time=32.5, xcor=514.8317840458927, v=27.159065418763213, front=0, front_x=891.7213914435027\n",
      "ID: 1, time=32.6, xcor=517.5776905877691, v=27.459065418763213, front=0, front_x=894.2788945829222\n",
      "ID: 1, time=32.7, xcor=520.3535971296454, v=27.759065418763214, front=0, front_x=896.8063977223418\n",
      "ID: 1, time=32.800000000000004, xcor=523.1595036715217, v=28.059065418763215, front=0, front_x=899.3363272573168\n",
      "ID: 1, time=32.9, xcor=525.995410213398, v=28.359065418763215, front=0, front_x=901.8362567922919\n",
      "ID: 1, time=33.0, xcor=528.8613167552744, v=28.659065418763216, front=0, front_x=904.3386367480138\n",
      "ID: 1, time=33.1, xcor=531.7572232971507, v=28.959065418763217, front=0, front_x=906.8110167037356\n",
      "ID: 1, time=33.2, xcor=534.6831298390271, v=29.259065418763218, front=0, front_x=909.2858715601247\n",
      "ID: 1, time=33.300000000000004, xcor=537.6390363809033, v=29.55906541876322, front=0, front_x=911.7307264165138\n",
      "ID: 1, time=33.4, xcor=540.6249429227797, v=29.85906541876322, front=0, front_x=914.1780811206767\n",
      "ID: 1, time=33.5, xcor=543.6249429227797, v=30, front=0, front_x=916.5954358248396\n",
      "ID: 1, time=33.6, xcor=546.6249429227797, v=30, front=0, front_x=919.0153158039742\n",
      "ID: 1, time=33.7, xcor=549.6249429227797, v=30, front=0, front_x=921.4051957831088\n",
      "ID: 1, time=33.800000000000004, xcor=552.6249429227797, v=30, front=0, front_x=923.7976269578734\n",
      "ID: 1, time=33.9, xcor=555.6249429227797, v=30, front=0, front_x=926.160058132638\n",
      "ID: 1, time=34.0, xcor=558.6249429227797, v=30, front=0, front_x=928.5250669310026\n",
      "ID: 1, time=34.1, xcor=561.6249429227797, v=30, front=0, front_x=930.8600757293672\n",
      "ID: 1, time=34.2, xcor=564.6249429227797, v=30, front=0, front_x=933.1976891009664\n",
      "ID: 1, time=34.300000000000004, xcor=567.6249429227797, v=30, front=0, front_x=935.5053024725656\n",
      "ID: 1, time=34.4, xcor=570.6249429227797, v=30, front=0, front_x=937.8155479035772\n",
      "ID: 1, time=34.5, xcor=573.6249429227797, v=30, front=0, front_x=940.0957933345888\n",
      "ID: 1, time=34.6, xcor=576.6249429227797, v=30, front=0, front_x=942.378698863159\n",
      "ID: 1, time=34.7, xcor=579.6249429227797, v=30, front=0, front_x=944.6316043917292\n",
      "ID: 1, time=34.800000000000004, xcor=582.6249429227797, v=30, front=0, front_x=946.8871986239694\n",
      "ID: 1, time=34.9, xcor=585.6249429227797, v=30, front=0, front_x=949.1127928562096\n",
      "ID: 1, time=35.0, xcor=588.6249429227797, v=30, front=0, front_x=951.3411049827915\n",
      "ID: 1, time=35.1, xcor=591.6249429227797, v=30, front=0, front_x=953.5394171093735\n",
      "ID: 1, time=35.2, xcor=594.6249429227797, v=30, front=0, front_x=955.740476922748\n",
      "ID: 1, time=35.300000000000004, xcor=597.6249429227797, v=30, front=0, front_x=957.9115367361226\n",
      "ID: 1, time=35.4, xcor=600.6249429227797, v=30, front=0, front_x=960.0853746483912\n",
      "ID: 1, time=35.5, xcor=603.6249429227797, v=30, front=0, front_x=962.2292125606598\n",
      "ID: 1, time=35.6, xcor=606.6249429227797, v=30, front=0, front_x=964.3758596221292\n",
      "ID: 1, time=35.7, xcor=609.6249429227797, v=30, front=0, front_x=966.4925066835984\n",
      "ID: 1, time=35.800000000000004, xcor=612.6249429227797, v=30, front=0, front_x=968.6119946020484\n",
      "ID: 1, time=35.9, xcor=615.6249429227797, v=30, front=0, front_x=970.7014825204984\n",
      "ID: 1, time=36.0, xcor=618.6249429227797, v=30, front=0, front_x=972.7938436811977\n",
      "ID: 1, time=36.1, xcor=621.6249429227797, v=30, front=0, front_x=974.856204841897\n",
      "ID: 1, time=36.2, xcor=624.6249429227797, v=30, front=0, front_x=976.9214723284002\n",
      "ID: 1, time=36.300000000000004, xcor=627.6249429227797, v=30, front=0, front_x=978.9567398149035\n",
      "ID: 1, time=36.4, xcor=630.6249429227797, v=30, front=0, front_x=980.9949474306674\n",
      "ID: 1, time=36.5, xcor=633.6249429227797, v=30, front=0, front_x=983.0031550464312\n",
      "ID: 1, time=36.6, xcor=636.6249429227797, v=30, front=0, front_x=985.0143373372878\n",
      "ID: 1, time=36.7, xcor=639.6249429227797, v=30, front=0, front_x=986.9955196281444\n",
      "ID: 1, time=36.800000000000004, xcor=642.6249429227797, v=30, front=0, front_x=988.9797119056731\n",
      "ID: 1, time=36.9, xcor=645.6249429227797, v=30, front=0, front_x=990.9339041832018\n",
      "ID: 1, time=37.0, xcor=648.6249429227797, v=30, front=0, front_x=992.891142549042\n",
      "ID: 1, time=37.1, xcor=651.6249429227797, v=30, front=0, front_x=994.8183809148823\n",
      "ID: 1, time=37.2, xcor=654.6249429227797, v=30, front=0, front_x=996.7487022860334\n",
      "ID: 1, time=37.300000000000004, xcor=657.6249429227797, v=30, front=0, front_x=998.6490236571847\n",
      "ID: 1, time=37.4, xcor=660.6249429227797, v=30, front=0, front_x=1000.5524657923404\n",
      "ID: 1, time=37.5, xcor=663.6249429227797, v=30, front=0, front_x=1000.5524657923404\n",
      "ID: 1, time=37.6, xcor=666.6249429227797, v=30, front=0, front_x=1000.5524657923404\n",
      "ID: 1, time=37.7, xcor=669.6249429227797, v=30, front=0, front_x=1000.5524657923404\n",
      "ID: 1, time=37.800000000000004, xcor=672.6249429227797, v=30, front=0, front_x=1000.5524657923404\n",
      "ID: 1, time=37.9, xcor=675.6249429227797, v=30, front=0, front_x=1000.5524657923404\n",
      "ID: 1, time=38.0, xcor=678.6249429227797, v=30, front=0, front_x=1000.5524657923404\n",
      "ID: 1, time=38.1, xcor=681.6249429227797, v=30, front=0, front_x=1000.5524657923404\n",
      "ID: 1, time=38.2, xcor=684.6249429227797, v=30, front=0, front_x=1000.5524657923404\n",
      "ID: 1, time=38.300000000000004, xcor=687.6249429227797, v=30, front=0, front_x=1000.5524657923404\n",
      "ID: 1, time=38.400000000000006, xcor=690.6249429227797, v=30, front=0, front_x=1000.5524657923404\n",
      "ID: 1, time=38.5, xcor=693.6249429227797, v=30, front=0, front_x=1000.5524657923404\n",
      "ID: 1, time=38.6, xcor=696.6249429227797, v=30, front=0, front_x=1000.5524657923404\n",
      "ID: 1, time=38.7, xcor=699.6249429227797, v=30, front=0, front_x=1000.5524657923404\n",
      "ID: 1, time=38.800000000000004, xcor=702.6249429227797, v=30, front=0, front_x=1000.5524657923404\n",
      "ID: 1, time=38.900000000000006, xcor=705.6249429227797, v=30, front=0, front_x=1000.5524657923404\n",
      "ID: 1, time=39.0, xcor=708.6249429227797, v=30, front=0, front_x=1000.5524657923404\n",
      "ID: 1, time=39.1, xcor=711.6249429227797, v=30, front=0, front_x=1000.5524657923404\n",
      "ID: 1, time=39.2, xcor=714.6249429227797, v=30, front=0, front_x=1000.5524657923404\n",
      "ID 1: 減速. delta_x 285.9275228695607 delta_v -10.965578648442921 next_speed 29.7 v_n: 30 front_car_x 1000.5524657923404 front_car_vel: 19.03442135155708\n",
      "ID: 1, time=39.300000000000004, xcor=717.5949429227798, v=29.7, front=0, front_x=1000.5524657923404\n",
      "ID: 1, time=39.400000000000006, xcor=720.5743733169999, v=29.794303942200987, front=0, front_x=1000.5524657923404\n",
      "ID 1: 減速. delta_x 279.97809247534053 delta_v -10.759882590643908 next_speed 29.494303942200986 v_n: 29.794303942200987 front_car_x 1000.5524657923404 front_car_vel: 19.03442135155708\n",
      "ID: 1, time=39.5, xcor=723.52380371122, v=29.494303942200986, front=0, front_x=1000.5524657923404\n",
      "ID: 1, time=39.6, xcor=726.4779829878645, v=29.54179276644425, front=0, front_x=1000.5524657923404\n",
      "ID 1: 減速. delta_x 274.0744828044759 delta_v -10.50737141488717 next_speed 29.24179276644425 v_n: 29.54179276644425 front_car_x 1000.5524657923404 front_car_vel: 19.03442135155708\n",
      "ID: 1, time=39.7, xcor=729.4021622645089, v=29.24179276644425, front=0, front_x=1000.5524657923404\n",
      "ID: 1, time=39.800000000000004, xcor=732.3294251918753, v=29.272629273664705, front=0, front_x=1000.5524657923404\n",
      "ID 1: 減速. delta_x 268.2230406004651 delta_v -10.238207922107627 next_speed 28.972629273664705 v_n: 29.272629273664705 front_car_x 1000.5524657923404 front_car_vel: 19.03442135155708\n",
      "ID: 1, time=39.900000000000006, xcor=735.2266881192418, v=28.972629273664705, front=0, front_x=1000.5524657923404\n"
     ]
    }
   ],
   "source": [
    "vfr_simulation.conduct_simulation(should_plot=True)"
   ]
  },
  {
   "cell_type": "code",
   "execution_count": 8,
   "id": "a848ab7b-0911-4ef9-bbbf-00bd2620281f",
   "metadata": {},
   "outputs": [
    {
     "name": "stdout",
     "output_type": "stream",
     "text": [
      "[20.300000000000004, 20.599999999999994, 20.9, 21.20000000000001, 21.500000000000004, 21.800000000000015, 22.10000000000001, 22.40000000000002, 22.699999999999996, 23.000000000000007, 23.30000000000002, 23.599999999999994, 23.900000000000006, 24.200000000000017, 24.499999999999993, 24.80000000000004, 25.10000000000005, 25.39999999999999, 25.700000000000003, 26.000000000000014, 26.300000000000026, 26.600000000000037, 26.90000000000005, 27.19999999999999, 27.5, 27.80000000000001, 28.100000000000023, 28.400000000000034, 28.700000000000045, 29.000000000000057, 29.300000000000068, 29.60000000000008, 29.90000000000009, 30.0, 30.0, 30.0, 30.0, 30.0, 30.0, 30.0, 30.0, 30.0, 30.0, 30.0, 30.0, 30.0, 30.0, 30.0, 30.0, 30.0, 30.0, 30.0, 30.0, 30.0, 30.0, 30.0, 30.0, 30.0, 30.0, 30.0, 30.0, 30.0, 30.0, 30.0, 30.0, 30.0, 30.0, 30.0, 30.0, 30.0, 30.0, 30.0, 30.0, 30.0, 30.0, 30.0, 30.0, 30.0, 30.0, 30.0, 30.0, 30.0, 30.0, 30.0, 30.0, 30.0, 30.0, 30.0, 30.0, 30.0, 29.999999999999716, 30.0, 30.0, 30.0, 30.0, 30.0, 30.0, 30.0, 30.0, 30.0, 30.0, 30.0, 30.0, 30.0, 30.0, 30.0, 30.0, 29.951908274733228, 29.817629288889407, 29.6067726736095, 29.328127163028626, 29.02812716302833, 28.728127163028603, 28.428127163028307, 28.12812716302858, 27.828127163028284, 27.528127163028557, 27.22812716302826, 26.928127163028535, 26.62812716302824]\n"
     ]
    },
    {
     "data": {
      "text/plain": [
       "[<matplotlib.lines.Line2D at 0xffff69aee5a0>]"
      ]
     },
     "execution_count": 8,
     "metadata": {},
     "output_type": "execute_result"
    },
    {
     "data": {
      "image/png": "[encoded data removed]",
      "text/plain": [
       "<Figure size 400x400 with 1 Axes>"
      ]
     },
     "metadata": {},
     "output_type": "display_data"
    },
    {
     "data": {
      "image/png": "[encoded data removed]",
      "text/plain": [
       "<Figure size 400x400 with 1 Axes>"
      ]
     },
     "metadata": {},
     "output_type": "display_data"
    }
   ],
   "source": [
    "cars = vfr_simulation.CARS\n",
    "car_0 = cars[1]\n",
    "xcors = car_0.xcorList\n",
    "plt.figure(figsize = (4,4))\n",
    "plt.plot(car_0.timeLog, car_0.xcorList)\n",
    "\n",
    "vList = []\n",
    "for i in range(len(xcors)-1):\n",
    "    v = (xcors[i+1] - xcors[i]) * 10\n",
    "    vList.append(v)\n",
    "\n",
    "print(vList[:120])\n",
    "\n",
    "plt.figure(figsize=(4,4))\n",
    "plt.plot(car_0.timeLog[:120], vList[:120])"
   ]
  },
  {
   "cell_type": "code",
   "execution_count": 13,
   "id": "2500ed11-5d99-4101-b37a-df202a1b93cb",
   "metadata": {},
   "outputs": [],
   "source": [
    "# 動画作成\n",
    "import cv2\n",
    "import os\n",
    "import re\n",
    "\n",
    "# カレントディレクトリを取得\n",
    "current_dir = os.getcwd()\n",
    "# 画像フォルダのパス\n",
    "image_folder = os.path.join(current_dir, 'images')\n",
    "video_file = f'output_video_TTC={TTC}.mp4'\n",
    "\n",
    "# 正規表現でファイル名からtの値を抽出\n",
    "def extract_t(filename):\n",
    "    match = re.search(r't=(\\d+\\.\\d+)', filename)\n",
    "    if match:\n",
    "        return float(match.group(1))\n",
    "    return None\n",
    "\n",
    "images = [img for img in os.listdir(image_folder) if img.endswith(\".png\")]\n",
    "images = sorted(images, key=lambda x: extract_t(x))\n",
    "\n",
    "# 画像から動画を作成\n",
    "frame = cv2.imread(os.path.join(image_folder, images[0]))\n",
    "height, width, layers = frame.shape\n",
    "\n",
    "# 動画ライターを設定\n",
    "fourcc = cv2.VideoWriter_fourcc(*'mp4v')\n",
    "video = cv2.VideoWriter(video_file, fourcc, 5, (width, height))  # フレームレートを5fpsに設定\n",
    "\n",
    "for image in images:\n",
    "    video.write(cv2.imread(os.path.join(image_folder, image)))\n",
    "\n",
    "# リソースを解放\n",
    "cv2.destroyAllWindows()\n",
    "video.release()"
   ]
  },
  {
   "cell_type": "markdown",
   "id": "56af06b9-12d0-4b8e-9c7a-b687b60e59b9",
   "metadata": {},
   "source": [
    "# ここから下はDebug用のセル"
   ]
  },
  {
   "cell_type": "code",
   "execution_count": 27,
   "id": "1c11393e-9560-43b3-b8e9-54f5ee9567d6",
   "metadata": {},
   "outputs": [
    {
     "ename": "IndexError",
     "evalue": "list index out of range",
     "output_type": "error",
     "traceback": [
      "\u001b[0;31m---------------------------------------------------------------------------\u001b[0m",
      "\u001b[0;31mIndexError\u001b[0m                                Traceback (most recent call last)",
      "Cell \u001b[0;32mIn[27], line 3\u001b[0m\n\u001b[1;32m      1\u001b[0m \u001b[38;5;66;03m# ↑の DFRのシミュレーションでつっかえた時のデバッグ用のセル\u001b[39;00m\n\u001b[0;32m----> 3\u001b[0m car_1 \u001b[38;5;241m=\u001b[39m \u001b[43mCARS\u001b[49m\u001b[43m[\u001b[49m\u001b[38;5;241;43m14\u001b[39;49m\u001b[43m]\u001b[49m\n\u001b[1;32m      4\u001b[0m \u001b[38;5;28mprint\u001b[39m(\u001b[38;5;124m\"\u001b[39m\u001b[38;5;124mETA\u001b[39m\u001b[38;5;124m\"\u001b[39m,car_1\u001b[38;5;241m.\u001b[39mmy_etas)\n\u001b[1;32m      5\u001b[0m \u001b[38;5;28mprint\u001b[39m(\u001b[38;5;124m\"\u001b[39m\u001b[38;5;124m===  acc_itinerary =====\u001b[39m\u001b[38;5;124m\"\u001b[39m)\n",
      "\u001b[0;31mIndexError\u001b[0m: list index out of range"
     ]
    }
   ],
   "source": [
    "# ↑の DFRのシミュレーションでつっかえた時のデバッグ用のセル. これは適宜上に上げて良い\n",
    "\n",
    "car_1 = CARS[14]\n",
    "print(\"ETA\",car_1.my_etas)\n",
    "print(\"===  acc_itinerary =====\")\n",
    "print(car_1.acc_itinerary)\n",
    "print(car_1.xcor)\n",
    "print(car_1.v_x)\n",
    "\n",
    "# print(\"acc:\",car.acc_itinerary)\n",
    "# table = simulation.reservation_table.eta_table\n",
    "# print(table[table[\"car_idx\"]<=4])"
   ]
  },
  {
   "cell_type": "code",
   "execution_count": 7,
   "id": "92ec4af8-031d-456f-85c1-d8fd5b659433",
   "metadata": {},
   "outputs": [
    {
     "name": "stdout",
     "output_type": "stream",
     "text": [
      "436.1188231038803\n"
     ]
    }
   ],
   "source": [
    "import sys \n",
    "sys.path.append(\"../\")\n",
    "from utils.calc_distance_from_acc_itinerary import calc_distance_from_acc_itinerary\n",
    "acc_itinerary = [{'acc': 0, 't_start': 29.113823476836664, 'v_0': 20, 't_end': 32.6, 'x_start': 0}, {'t_start': 32.6, 'acc': -3, 'v_0': 20.0, 't_end': 33.1}, {'t_start': 33.1, 'acc': 0, 'v_0': 18.5, 't_end': 45.120270270270275}, {'t_start': 45.120270270270275, 'acc': -3, 'v_0': 18.5, 't_end': 45.620270270270275}, {'t_start': 45.620270270270275, 'acc': 0, 'v_0': 17.0, 't_end': 52.745270270270275}, {'t_start': 52.745270270270275, 'acc': 2, 'v_0': 17.0, 't_end': 53.745270270270275}, {'t_start': 53.745270270270275, 'acc': 0, 'v_0': 19.0, 't_end': 56.804093799682036}, {'t_start': 56.804093799682036, 'acc': 2, 'v_0': 19.0, 't_end': 60.804093799682036}, {'t_start': 60.804093799682036, 'acc': 0, 'v_0': 27.0, 't_end': 60.90316500711238}]\n",
    "x = calc_distance_from_acc_itinerary(acc_itinerary, 53)\n",
    "print(x)"
   ]
  },
  {
   "cell_type": "code",
   "execution_count": 6,
   "id": "fa87c50d-339f-4af2-bbd5-eea052def94b",
   "metadata": {},
   "outputs": [
    {
     "data": {
      "text/plain": [
       "442.42488723520705"
      ]
     },
     "execution_count": 6,
     "metadata": {},
     "output_type": "execute_result"
    }
   ],
   "source": [
    "def calc_x_at_pointed_time(pointed_time, carObj, current_time):\n",
    "    acc_itinerary = carObj.acc_itinerary\n",
    "    car_x = carObj.xcor\n",
    "    # print(carObj.xcor, carObj.acc_itinerary)\n",
    "    v_0 = carObj.v_x\n",
    "    acc_itinerary_with_tend = carObj.acc_itinerary\n",
    "    # print(f\"carId: {carObj.car_idx}, acc_itinerary: {acc_itinerary_with_tend}\")\n",
    "\n",
    "    if len(acc_itinerary_with_tend) < 1:\n",
    "        raise ValueError(\"acc_itinerary is empty\")\n",
    "    if len(acc_itinerary_with_tend) == 1:\n",
    "        delta_t = pointed_time - current_time\n",
    "        delta_x = v_0 * delta_t + 0.5 * acc_itinerary_with_tend[0][\"acc\"] * delta_t**2 + car_x\n",
    "        return delta_x\n",
    "    \n",
    "    # 長さ2以上の場合\n",
    "    for idx, accObj in enumerate(acc_itinerary_with_tend):\n",
    "        if accObj[\"t_end\"] < current_time:\n",
    "            continue\n",
    "\n",
    "        # この区間を全うできる場合.\n",
    "        elif accObj[\"t_end\"] <= pointed_time:\n",
    "            delta_t = accObj[\"t_end\"] - accObj[\"t_start\"]\n",
    "            if accObj[\"t_start\"] < current_time:\n",
    "                delta_t = accObj[\"t_end\"] - current_time\n",
    "            delta_x = v_0 * delta_t + 0.5 * accObj[\"acc\"] * delta_t**2\n",
    "            car_x += delta_x\n",
    "            v_0 += delta_t * accObj[\"acc\"]\n",
    "\n",
    "        # 一番最後の区間の場合\n",
    "        elif idx == len(acc_itinerary) - 1 or accObj[\"t_end\"] > pointed_time:\n",
    "            delta_t = pointed_time - accObj[\"t_start\"]\n",
    "            if accObj[\"t_start\"] < current_time:\n",
    "                delta_t = accObj[\"t_end\"] - current_time\n",
    "            delta_x = v_0 * delta_t + 0.5 * accObj[\"acc\"] * delta_t**2\n",
    "            car_x += delta_x\n",
    "            break\n",
    "        else:\n",
    "            print(accObj, current_time, pointed_time, carObj.car_idx)\n",
    "            raise ValueError(\"Something wrong\")\n",
    "\n",
    "    return car_x\n",
    "\n",
    "calc_x_at_pointed_time(53, car_1, 48)"
   ]
  },
  {
   "cell_type": "code",
   "execution_count": null,
   "id": "f7922b2f-760b-431b-a6b1-674fe4a9885f",
   "metadata": {},
   "outputs": [],
   "source": []
  }
 ],
 "metadata": {
  "kernelspec": {
   "display_name": "Python 3 (ipykernel)",
   "language": "python",
   "name": "python3"
  },
  "language_info": {
   "codemirror_mode": {
    "name": "ipython",
    "version": 3
   },
   "file_extension": ".py",
   "mimetype": "text/x-python",
   "name": "python",
   "nbconvert_exporter": "python",
   "pygments_lexer": "ipython3",
   "version": "3.12.0"
  }
 },
 "nbformat": 4,
 "nbformat_minor": 5
}
