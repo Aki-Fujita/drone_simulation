{
 "cells": [
  {
   "cell_type": "markdown",
   "id": "9dcdca41-89ef-4b75-893e-5b20d1e4d797",
   "metadata": {},
   "source": [
    "### DFRとVFRの未来の擾乱に対する計画収束速度で比較する\n",
    "\n",
    "仮説: DFRで運行すると未来の擾乱に対する周りの人（自分の決定に影響を及ぼしうる人）の反応が瞬時にわかるため、VFRと比べた際に擾乱に対する収束速度が高まる。その結果として交通キャパシティが上昇する。\n",
    "\n",
    "この仮説をシミュレーション実験によって確かめる。\n",
    "\n",
    "#### 組むべき実験系\n",
    "- ノイズは1個だけ（複数にも対応できるようにはしているが速度計算周りが怪しい）\n"
   ]
  },
  {
   "cell_type": "code",
   "execution_count": 71,
   "id": "918b3bb7-ea8a-4db6-b15c-91aa26751fb2",
   "metadata": {},
   "outputs": [],
   "source": [
    "import random\n",
    "import numpy as np\n",
    "from matplotlib.animation import FuncAnimation\n",
    "import matplotlib.pyplot as plt\n",
    "import pandas as pd\n",
    "import sys\n",
    "import copy\n",
    "\n",
    "sys.path.append(\"../\")\n",
    "from models import Cars, ReservationTable, DFRSimulation, VFRSimulation\n",
    "from utils import check_multiple_noise_effect, validate_with_ttc\n",
    "\n",
    "# ↑↑↑↑↑↑↑↑↑この部分は別セルでも良い↑↑↑↑↑↑↑↑↑\n",
    "\n",
    "# 初期設定（独立変数群）\n",
    "CAR_NUM = 50 #時間窓内の車の総数\n",
    "START_TIME = 0\n",
    "TOTAL_LENGTH = 1000 # 入り口から出口までの距離 [m]\n",
    "WAYPOINTS_NUM = 10 #constrained way pointの数\n",
    "MEAN_SPEED = 20 # 秒速[m/s]として定義\n",
    "MAX_SPEED = 30 # 秒速[m/s]として定義\n",
    "MAX_ACC = 3 # m/s^sで定義, maxは0.3gにした\n",
    "TIME_STEP = 0.1\n",
    "COMMUNICATION_SPEED = 0.1\n",
    "TOTAL_TIME = 80\n",
    "GLOBAL_TIME_WINDOW = 100  # Strategic Phaseでの時間幅\n",
    "TTC = 2.5 #車間時間を暫定的に定義\n",
    "DENSITY = 4.0 # 台数密度を車間時間として定義\n",
    "\n",
    "def generate_arrival_times(car_num, d, TOTAL_TIME):\n",
    "    sequence = [random.uniform(0, 3)]\n",
    "    while len(sequence) < car_num:\n",
    "        next_value = sequence[-1] + d + random.uniform(0, 2) + 0.2 # これは +0.2しておかないと入り口の時点で弾かれる場合がある\n",
    "        sequence.append(next_value)\n",
    "        if next_value > TOTAL_TIME:\n",
    "            break\n",
    "    return sequence\n",
    "\n",
    "arrival_times = generate_arrival_times(CAR_NUM, DENSITY, TOTAL_TIME)\n",
    "car_params = {\"v_mean\":MEAN_SPEED, \"v_max\": MAX_SPEED, \"a_max\":MAX_ACC, \"a_min\":MAX_ACC}\n"
   ]
  },
  {
   "cell_type": "code",
   "execution_count": 72,
   "id": "d863ef69-fa1b-4c2f-ba1f-d38a3e870ec1",
   "metadata": {},
   "outputs": [],
   "source": [
    "# 従属的に決まるもの\n",
    "WAYPOINTS = [{\"waypoint_idx\": i, \"x\": TOTAL_LENGTH / WAYPOINTS_NUM * (i)} for i in range(WAYPOINTS_NUM+1)]\n",
    "group_id = 0\n",
    "arrival_times = [1.4273960210088035, 7.028347973663408, 11.639908408660311, 16.740031941643533, 22.015044642727, 26.416894484705946, 32.09182682366547, 37.22427821224153, 42.41397208767018, 47.78272557301472, 52.98630607163243, 58.139356970286, 62.882429004587024, 67.65920443074529, 72.54738662027125, 78.23343985655819, 82.76048010111138, 82.7]\n",
    "arrival_times.append(TOTAL_TIME + TTC +0.2)\n",
    "\n",
    "CARS = [Cars(arrival_time=time, index=index, v_mean=MEAN_SPEED, v_max = MAX_SPEED, a_max=MAX_ACC, a_min=MAX_ACC)\n",
    "              for index, time in enumerate(arrival_times)]"
   ]
  },
  {
   "cell_type": "code",
   "execution_count": 73,
   "id": "f2a09292-beba-464a-83f2-c0ed6ef5182e",
   "metadata": {},
   "outputs": [],
   "source": [
    "reservation_table = ReservationTable(waypoints = WAYPOINTS, global_params = {\"DESIRED_TTC\":TTC})\n",
    "# 各車がETAを決める部分\n",
    "\n",
    "def register_initial_eta(cars):\n",
    "    for idx, car in enumerate(CARS):\n",
    "        desired_eta_list = car.create_desired_eta(WAYPOINTS)\n",
    "        is_valid = reservation_table.validate(desired_eta_list)\n",
    "        if is_valid:\n",
    "            reservation_table.register(desired_eta_list)\n",
    "        else:\n",
    "            calibration_info = {\"desired_list\": desired_eta_list}\n",
    "            calibrated_list, _ = reservation_table.calibrate_list(**calibration_info)\n",
    "            # print(calibrated_list)\n",
    "            # print()\n",
    "            reservation_table.register(calibrated_list)\n",
    "            car.my_list = calibrated_list\n",
    "\n",
    "register_initial_eta(CARS)"
   ]
  },
  {
   "cell_type": "code",
   "execution_count": 74,
   "id": "8ecfa7dd-4526-4055-b8a6-029d141e2953",
   "metadata": {
    "scrolled": true
   },
   "outputs": [
    {
     "data": {
      "application/vnd.jupyter.widget-view+json": {
       "model_id": "c659633afcb945f4ab211d4e20309b5c",
       "version_major": 2,
       "version_minor": 0
      },
      "text/plain": [
       "Simulation Progress:   0%|          | 0/800 [00:00<?, ?it/s]"
      ]
     },
     "metadata": {},
     "output_type": "display_data"
    },
    {
     "name": "stdout",
     "output_type": "stream",
     "text": [
      "noise created!\n",
      "\n",
      "t=1.5, next_car=1, current_noise= [{'x': [400, 430], 't': [20, 25]}], event_flg=arrival\n",
      "carID: 0, Start:371.45207957982393, End:471.45207957982393\n",
      "直接ノイズの影響を受けるもの: [0]\n",
      "他の車の影響: []\n",
      "対象車: [0]\n",
      "t=1.5, car_id:0 avoiding noise.\n",
      "avoidance by idx=0\n",
      "{'x': [400, 430], 't': [20, 25]} True\n",
      "18.5 3 30\n",
      "eta: 16.48888888888889, 前の車に当たらない最速の時間:16.38888888888889, ノイズ開始:20\n",
      "solve_acc_itinerary_early_avoid\n",
      "==== START CREATING ETA====\n",
      "acc_itinerary: [{'t_start': 1.5, 'acc': 3, 'v_0': 20, 't_end': 4.833333333333334}, {'t_start': 4.833333333333334, 'acc': 0, 'v_0': 30, 't_end': 10000000.0}]\n",
      "ID: 0の新しいETA（Validate前） [{'waypoint_idx': 0, 'x': 0.0, 'eta': 1.4273960210088035, 'car_idx': 0, 'type': 'waypoint'}, {'waypoint_idx': 1, 'x': 100.0, 'eta': 5.388888888888888, 'car_idx': 0, 'type': 'waypoint'}, {'waypoint_idx': 2, 'x': 200.0, 'eta': 8.722222222222221, 'car_idx': 0, 'type': 'waypoint'}, {'waypoint_idx': 3, 'x': 300.0, 'eta': 12.055555555555554, 'car_idx': 0, 'type': 'waypoint'}, {'waypoint_idx': 4, 'x': 400.0, 'eta': 15.388888888888888, 'car_idx': 0, 'type': 'waypoint'}, {'waypoint_idx': 5, 'x': 500.0, 'eta': 18.72222222222222, 'car_idx': 0, 'type': 'waypoint'}, {'waypoint_idx': 6, 'x': 600.0, 'eta': 22.055555555555557, 'car_idx': 0, 'type': 'waypoint'}, {'waypoint_idx': 7, 'x': 700.0, 'eta': 25.388888888888886, 'car_idx': 0, 'type': 'waypoint'}, {'waypoint_idx': 8, 'x': 800.0, 'eta': 28.72222222222222, 'car_idx': 0, 'type': 'waypoint'}, {'waypoint_idx': 9, 'x': 900.0, 'eta': 32.05555555555556, 'car_idx': 0, 'type': 'waypoint'}, {'waypoint_idx': 10, 'x': 1000.0, 'eta': 35.388888888888886, 'car_idx': 0, 'type': 'waypoint'}, {'eta': 16.388888888888886, 'car_idx': 0, 'type': 'noise', 'x': 430}]\n",
      "\n",
      "t=7.1000000000000005, next_car=2, current_noise= [{'x': [400, 430], 't': [20, 25]}], event_flg=arrival\n",
      "carID: 0, Start:538.3333333333334, End:688.3333333333333\n",
      "carID: 1, Start:259.4330405267318, End:359.4330405267318\n",
      "直接ノイズの影響を受けるもの: []\n",
      "他の車の影響: []\n",
      "対象車: []\n",
      "t=10.0, car_id:0, xcor:242.8900000000004, speed:30.200000000000024\n",
      "t=10.0, car_id:1, xcor:60.0, speed:20.0\n",
      "\n",
      "t=11.700000000000001, next_car=3, current_noise= [{'x': [400, 430], 't': [20, 25]}], event_flg=arrival\n",
      "carID: 0, Start:538.3333333333334, End:688.3333333333333\n",
      "carID: 1, Start:259.4330405267318, End:359.4330405267318\n",
      "carID: 2, Start:167.20183182679378, End:267.20183182679375\n",
      "直接ノイズの影響を受けるもの: []\n",
      "他の車の影響: []\n",
      "対象車: []\n",
      "\n",
      "t=16.8, next_car=4, current_noise= [{'x': [400, 430], 't': [20, 25]}], event_flg=arrival\n",
      "carID: 0, Start:538.3333333333334, End:688.3333333333333\n",
      "carID: 1, Start:259.4330405267318, End:359.4330405267318\n",
      "carID: 2, Start:167.20183182679378, End:267.20183182679375\n",
      "carID: 3, Start:65.19936116712934, End:165.19936116712933\n",
      "直接ノイズの影響を受けるもの: []\n",
      "他の車の影響: []\n",
      "対象車: []\n",
      "t=20.0, car_id:0, xcor:544.8899999999987, speed:30.200000000000024\n",
      "t=20.0, car_id:1, xcor:260.0, speed:20.0\n",
      "t=20.0, car_id:2, xcor:168.0, speed:20.0\n",
      "t=20.0, car_id:3, xcor:66.0, speed:20.0\n",
      "\n",
      "t=22.1, next_car=5, current_noise= [{'x': [400, 430], 't': [20, 25]}], event_flg=arrival\n",
      "carID: 0, Start:538.3333333333334, End:688.3333333333333\n",
      "carID: 1, Start:259.4330405267318, End:359.4330405267318\n",
      "carID: 2, Start:167.20183182679378, End:267.20183182679375\n",
      "carID: 3, Start:65.19936116712934, End:165.19936116712933\n",
      "carID: 4, Start:-40.30089285453997, End:59.69910714546003\n",
      "直接ノイズの影響を受けるもの: []\n",
      "他の車の影響: []\n",
      "対象車: []\n",
      "noise created!\n",
      "\n",
      "t=26.5, next_car=6, current_noise= [], event_flg=arrival\n",
      "直接ノイズの影響を受けるもの: []\n",
      "他の車の影響: []\n",
      "対象車: []\n",
      "noise created!\n",
      "noise created!\n",
      "noise created!\n",
      "noise created!\n",
      "t=30.0, car_id:0, xcor:846.8899999999969, speed:30.200000000000024\n",
      "t=30.0, car_id:1, xcor:460.0, speed:20.0\n",
      "t=30.0, car_id:2, xcor:368.0, speed:20.0\n",
      "t=30.0, car_id:3, xcor:266.0, speed:20.0\n",
      "t=30.0, car_id:4, xcor:160.0, speed:20.0\n",
      "t=30.0, car_id:5, xcor:72.0, speed:20.0\n",
      "noise created!\n",
      "noise created!\n",
      "\n",
      "t=32.0, next_car=6, current_noise= [{'x': [400, 430], 't': [37.0, 40.0]}], event_flg=noise created\n",
      "carID: 0, Start:1048.3333333333333, End:1138.3333333333333\n",
      "carID: 1, Start:599.4330405267318, End:659.4330405267318\n",
      "carID: 2, Start:507.20183182679375, End:567.2018318267938\n",
      "carID: 3, Start:405.1993611671293, End:465.1993611671293\n",
      "carID: 4, Start:299.69910714546006, End:359.69910714546006\n",
      "carID: 5, Start:211.66211030588107, End:271.6621103058811\n",
      "直接ノイズの影響を受けるもの: [3]\n",
      "他の車の影響: []\n",
      "対象車: [3]\n",
      "t=32.0, car_id:3 avoiding noise.\n",
      "avoidance by idx=3\n",
      "{'x': [400, 430], 't': [37.0, 40.0]} True\n",
      "5.0 3 30\n",
      "eta: 35.73990840866031, 前の車に当たらない最速の時間:35.63990840866031, ノイズ開始:37.0\n",
      "solve_acc_itinerary_early_avoid\n",
      "leader_eta      waypoint_idx       x        eta  car_idx      type\n",
      "167           0.0     0.0  11.639908        2  waypoint\n",
      "168           1.0   100.0  16.639908        2  waypoint\n",
      "169           2.0   200.0  21.639908        2  waypoint\n",
      "170           3.0   300.0  26.639908        2  waypoint\n",
      "171           4.0   400.0  31.639908        2  waypoint\n",
      "172           5.0   500.0  36.639908        2  waypoint\n",
      "173           6.0   600.0  41.639908        2  waypoint\n",
      "174           7.0   700.0  46.639908        2  waypoint\n",
      "175           8.0   800.0  51.639908        2  waypoint\n",
      "176           9.0   900.0  56.639908        2  waypoint\n",
      "177          10.0  1000.0  61.639908        2  waypoint\n",
      "178           NaN   430.0  33.139908        2     noise 304.0\n",
      "skipped:  {'x': 0.0, 'eta': 14.139908408660311} 304.0\n",
      "skipped:  {'x': 100.0, 'eta': 19.13990840866031} 304.0\n",
      "skipped:  {'x': 200.0, 'eta': 24.13990840866031} 304.0\n",
      "skipped:  {'x': 300.0, 'eta': 29.13990840866031} 304.0\n",
      "\n",
      "====now testing:  {'x': 400.0, 'eta': 34.13990840866031} ====\n",
      "===start_params:  {'v0': 20.0, 'x0': 304.0, 't0': 32.0} ===\n",
      "===acc_itinerary:  [{'acc': 0, 't_start': 16.740031941643533, 'v_0': 20, 't_end': 10000000.0, 'x_start': 0}] ===\n",
      "L90: 1 {'v0': 21.5, 'x0': 430.0, 't0': 33.395348837209305} 36.8\n",
      "ループ抜ける判定基準2: [True, True]\n",
      "detail:  [{'eta': 34.13990840866031, 'arrival_time': 32.0, 'x': 400.0}, {'eta': 35.63990840866031, 'arrival_time': 33.395348837209305, 'x': 430.0}]\n",
      "\n",
      "====now testing:  {'x': 430.0, 'eta': 35.63990840866031} ====\n",
      "===start_params:  {'v0': 20.0, 'x0': 304.0, 't0': 32.0} ===\n",
      "===acc_itinerary:  [{'acc': 0, 't_start': 16.740031941643533, 'v_0': 20, 't_end': 10000000.0, 'x_start': 0}] ===\n",
      "最速で行ってもノイズに当たってしまうので早避け不可能\n",
      "detail: 405.1993611671293 430 37.0\n",
      "[{'x': [400, 430], 't': [37.0, 40.0]}] [11.998500187476566]\n",
      "Early avoid 不可, late avoidの探索開始.\n",
      "target_time: 40.0\n",
      "cover_distance 63.58499999999998 367.585 400\n",
      "Loops:  0\n",
      "Loops:  1\n",
      "Loops:  2\n",
      "Loops:  3\n",
      "Loops:  4\n",
      "Loops:  5\n",
      "Loops:  6\n",
      "first: start_params. {'v0': 9.5, 'x0': 430.0, 't0': 43.32894736842105}\n",
      "first: start_params. {'v0': 14.5, 'x0': 500.0, 't0': 47.4986388384755}\n",
      "cover_distance 5.362821120996298 505.3628211209963 600.0\n",
      "first: start_params. {'v0': 22.0, 'x0': 600.0, 't0': 51.03752990430622}\n",
      "cover_distance 25.109554849736952 625.1095548497369 700.0\n",
      "first: start_params. {'v0': 24.5, 'x0': 700.0, 't0': 54.72286473573096}\n",
      "cover_distance 43.31715123994444 743.3171512399445 800.0\n",
      "first: start_params. {'v0': 24.5, 'x0': 800.0, 't0': 58.804497388792186}\n",
      "cover_distance 58.99455187838183 858.9945518783818 900.0\n",
      "first: start_params. {'v0': 24.5, 'x0': 900.0, 't0': 62.88613004185341}\n",
      "cover_distance 75.12272263039995 975.1227226304 1000.0\n",
      "first: start_params. {'v0': 25.0, 'x0': 1000.0, 't0': 66.80699738879218}\n",
      " acc: [{'t_start': 32.0, 'acc': -3, 'v_0': 20.0, 't_end': 35.5}, {'t_start': 35.5, 'acc': 0, 'v_0': 9.5, 't_end': 40.171052631578945}, {'t_start': 40.171052631578945, 'acc': 2, 'v_0': 9.5, 't_end': 42.671052631578945}, {'t_start': 42.671052631578945, 'acc': 0, 'v_0': 14.5, 't_end': 42.671052631578945}, {'t_start': 42.671052631578945, 'acc': 2, 'v_0': 14.5, 't_end': 46.421052631578945}, {'t_start': 46.421052631578945, 'acc': 0, 'v_0': 22.0, 't_end': 46.5288112522686}, {'t_start': 46.5288112522686, 'acc': 2, 'v_0': 22.0, 't_end': 47.7788112522686}, {'t_start': 47.7788112522686, 'acc': 0, 'v_0': 24.5, 't_end': 58.804497388792186}, {'t_start': 58.804497388792186, 'acc': 2, 'v_0': 24.5, 't_end': 59.054497388792186}, {'t_start': 59.054497388792186, 'acc': 0, 'v_0': 25.0, 't_end': 66.80699738879218}]\n",
      "pre_itinerary:  [{'acc': 0, 't_start': 16.740031941643533, 'v_0': 20, 't_end': 10000000.0, 'x_start': 0}] new_itinerary:  [{'t_start': 32.0, 'acc': -3, 'v_0': 20.0, 't_end': 35.5}, {'t_start': 35.5, 'acc': 0, 'v_0': 9.5, 't_end': 40.171052631578945}, {'t_start': 40.171052631578945, 'acc': 2, 'v_0': 9.5, 't_end': 42.671052631578945}, {'t_start': 42.671052631578945, 'acc': 0, 'v_0': 14.5, 't_end': 42.671052631578945}, {'t_start': 42.671052631578945, 'acc': 2, 'v_0': 14.5, 't_end': 46.421052631578945}, {'t_start': 46.421052631578945, 'acc': 0, 'v_0': 22.0, 't_end': 46.5288112522686}, {'t_start': 46.5288112522686, 'acc': 2, 'v_0': 22.0, 't_end': 47.7788112522686}, {'t_start': 47.7788112522686, 'acc': 0, 'v_0': 24.5, 't_end': 58.804497388792186}, {'t_start': 58.804497388792186, 'acc': 2, 'v_0': 24.5, 't_end': 59.054497388792186}, {'t_start': 59.054497388792186, 'acc': 0, 'v_0': 25.0, 't_end': 66.80699738879218}]\n",
      "merged: [{'acc': 0, 't_start': 16.740031941643533, 'v_0': 20, 't_end': 32.0, 'x_start': 0}, {'t_start': 32.0, 'acc': -3, 'v_0': 20.0, 't_end': 35.5}, {'t_start': 35.5, 'acc': 0, 'v_0': 9.5, 't_end': 40.171052631578945}, {'t_start': 40.171052631578945, 'acc': 2, 'v_0': 9.5, 't_end': 42.671052631578945}, {'t_start': 42.671052631578945, 'acc': 0, 'v_0': 14.5, 't_end': 42.671052631578945}, {'t_start': 42.671052631578945, 'acc': 2, 'v_0': 14.5, 't_end': 46.421052631578945}, {'t_start': 46.421052631578945, 'acc': 0, 'v_0': 22.0, 't_end': 46.5288112522686}, {'t_start': 46.5288112522686, 'acc': 2, 'v_0': 22.0, 't_end': 47.7788112522686}, {'t_start': 47.7788112522686, 'acc': 0, 'v_0': 24.5, 't_end': 58.804497388792186}, {'t_start': 58.804497388792186, 'acc': 2, 'v_0': 24.5, 't_end': 59.054497388792186}, {'t_start': 59.054497388792186, 'acc': 0, 'v_0': 25.0, 't_end': 66.80699738879218}]\n",
      "==== START CREATING ETA====\n",
      "acc_itinerary: [{'acc': 0, 't_start': 16.740031941643533, 'v_0': 20, 't_end': 32.0, 'x_start': 0}, {'t_start': 32.0, 'acc': -3, 'v_0': 20.0, 't_end': 35.5}, {'t_start': 35.5, 'acc': 0, 'v_0': 9.5, 't_end': 40.171052631578945}, {'t_start': 40.171052631578945, 'acc': 2, 'v_0': 9.5, 't_end': 42.671052631578945}, {'t_start': 42.671052631578945, 'acc': 0, 'v_0': 14.5, 't_end': 42.671052631578945}, {'t_start': 42.671052631578945, 'acc': 2, 'v_0': 14.5, 't_end': 46.421052631578945}, {'t_start': 46.421052631578945, 'acc': 0, 'v_0': 22.0, 't_end': 46.5288112522686}, {'t_start': 46.5288112522686, 'acc': 2, 'v_0': 22.0, 't_end': 47.7788112522686}, {'t_start': 47.7788112522686, 'acc': 0, 'v_0': 24.5, 't_end': 58.804497388792186}, {'t_start': 58.804497388792186, 'acc': 2, 'v_0': 24.5, 't_end': 59.054497388792186}, {'t_start': 59.054497388792186, 'acc': 0, 'v_0': 25.0, 't_end': 66.80699738879218}]\n",
      "ID: 3の新しいETA（Validate前） [{'waypoint_idx': 0, 'x': 0.0, 'eta': 16.740031941643533, 'car_idx': 3, 'type': 'waypoint'}, {'waypoint_idx': 1, 'x': 100.0, 'eta': 21.740031941643533, 'car_idx': 3, 'type': 'waypoint'}, {'waypoint_idx': 2, 'x': 200.0, 'eta': 26.740031941643533, 'car_idx': 3, 'type': 'waypoint'}, {'waypoint_idx': 3, 'x': 300.0, 'eta': 31.740031941643533, 'car_idx': 3, 'type': 'waypoint'}, {'waypoint_idx': 4, 'x': 400.0, 'eta': 40.0448040876706, 'car_idx': 3, 'type': 'waypoint'}, {'waypoint_idx': 5, 'x': 500.0, 'eta': 46.437558942163975, 'car_idx': 3, 'type': 'waypoint'}, {'waypoint_idx': 6, 'x': 600.0, 'eta': 50.59227856564404, 'car_idx': 3, 'type': 'waypoint'}, {'waypoint_idx': 7, 'x': 700.0, 'eta': 54.673911218705264, 'car_idx': 3, 'type': 'waypoint'}, {'waypoint_idx': 8, 'x': 800.0, 'eta': 58.75554387176649, 'car_idx': 3, 'type': 'waypoint'}, {'waypoint_idx': 9, 'x': 900.0, 'eta': 62.759022942107, 'car_idx': 3, 'type': 'waypoint'}, {'waypoint_idx': 10, 'x': 1000.0, 'eta': 66.759022942107, 'car_idx': 3, 'type': 'waypoint'}, {'eta': 42.587860765809324, 'car_idx': 3, 'type': 'noise', 'x': 430}]\n",
      "\n",
      "t=32.1, next_car=7, current_noise= [{'x': [400, 430], 't': [37.0, 40.0]}], event_flg=arrival\n",
      "carID: 0, Start:1048.3333333333333, End:1138.3333333333333\n",
      "carID: 1, Start:599.4330405267318, End:659.4330405267318\n",
      "carID: 2, Start:507.20183182679375, End:567.2018318267938\n",
      "carID: 3, Start:371.0743611671293, End:399.5743611671293\n",
      "carID: 4, Start:299.69910714546006, End:359.69910714546006\n",
      "carID: 5, Start:211.66211030588107, End:271.6621103058811\n",
      "carID: 6, Start:98.16346352669058, End:158.16346352669058\n",
      "直接ノイズの影響を受けるもの: []\n",
      "他の車の影響: [4]\n",
      "対象車: [4]\n",
      "t=32.1, car_id:4 changed by leading car.\n",
      "avoidance by idx=4\n",
      "{'x': [400, 430], 't': [37.0, 40.0]} True\n",
      "4.899999999999999 3 30\n",
      "[{'x': [400, 430], 't': [37.0, 40.0]}] [25.31325148715353]\n",
      "Early avoid 不可, late avoidの探索開始.\n",
      "target_time: 42.5448040876706\n",
      "late avoid with leader: boundary: [{'waypoint_idx': 0.0, 'x': 0.0, 'eta': 19.39003194164353, 'car_idx': 4, 'type': 'waypoint'}, {'waypoint_idx': 1.0, 'x': 100.0, 'eta': 24.39003194164353, 'car_idx': 4, 'type': 'waypoint'}, {'waypoint_idx': 2.0, 'x': 200.0, 'eta': 29.39003194164353, 'car_idx': 4, 'type': 'waypoint'}, {'waypoint_idx': 3.0, 'x': 300.0, 'eta': 34.390031941643535, 'car_idx': 4, 'type': 'waypoint'}, {'waypoint_idx': 4.0, 'x': 400.0, 'eta': 42.6948040876706, 'car_idx': 4, 'type': 'waypoint'}, {'waypoint_idx': nan, 'x': 430.0, 'eta': 45.23786076580932, 'car_idx': 4, 'type': 'noise'}, {'waypoint_idx': 5.0, 'x': 500.0, 'eta': 49.08755894216397, 'car_idx': 4, 'type': 'waypoint'}, {'waypoint_idx': 6.0, 'x': 600.0, 'eta': 53.242278565644035, 'car_idx': 4, 'type': 'waypoint'}, {'waypoint_idx': 7.0, 'x': 700.0, 'eta': 57.32391121870526, 'car_idx': 4, 'type': 'waypoint'}, {'waypoint_idx': 8.0, 'x': 800.0, 'eta': 61.40554387176649, 'car_idx': 4, 'type': 'waypoint'}, {'waypoint_idx': 9.0, 'x': 900.0, 'eta': 65.40902294210701, 'car_idx': 4, 'type': 'waypoint'}, {'waypoint_idx': 10.0, 'x': 1000.0, 'eta': 69.409022942107, 'car_idx': 4, 'type': 'waypoint'}] \n",
      " itinerary: [{'t_start': 32.1, 'acc': 0, 'v_0': 20.0, 't_end': 19.39003194164353}]\n",
      "{'v0': 20.0, 'x0': 200.0, 't0': 32.1} {'xe': 200.0, 'te': 29.39003194164353}\n",
      "{'v0': 20.0, 'x0': 200.0, 't0': 32.1} {'xe': 300.0, 'te': 34.390031941643535}\n",
      "減速すべき区間, goal:400.0, sp:{'v0': 20.0, 'x0': 200.0, 't0': 32.1}\n",
      "Loops:  0\n",
      "cover_distance 37.34584264322747 437.34584264322746 430.0\n",
      "Loops:  1\n",
      "cover_distance 33.53125762601938 433.5312576260194 430.0\n",
      "Loops:  2\n",
      "cover_distance 29.716672608811294 429.7166726088113 430.0\n",
      "{'v0': 15.5, 'x0': 400.0, 't0': 44.785483870967745} {'xe': 430.0, 'te': 45.23786076580932}\n",
      "first: start_params. {'v0': 15.5, 'x0': 430.0, 't0': 46.72096774193549}\n",
      "{'v0': 18.5, 'x0': 430.0, 't0': 46.52872711421099} {'xe': 500.0, 'te': 49.08755894216397}\n",
      "first: start_params. {'v0': 18.5, 'x0': 500.0, 't0': 50.31251089799477}\n",
      "{'v0': 24.5, 'x0': 500.0, 't0': 49.764746543778806} {'xe': 600.0, 'te': 53.242278565644035}\n",
      "first: start_params. {'v0': 24.5, 'x0': 600.0, 't0': 53.84637919684003}\n",
      "{'v0': 25.0, 'x0': 600.0, 't0': 53.76847210113339} {'xe': 700.0, 'te': 57.32391121870526}\n",
      "first: start_params. {'v0': 25.0, 'x0': 700.0, 't0': 57.76847210113339}\n",
      "{'v0': 25.5, 'x0': 700.0, 't0': 57.69396927908042} {'xe': 800.0, 'te': 61.40554387176649}\n",
      "first: start_params. {'v0': 25.5, 'x0': 800.0, 't0': 61.6155379065314}\n",
      "{'v0': 25.5, 'x0': 800.0, 't0': 61.6155379065314} {'xe': 900.0, 'te': 65.40902294210701}\n",
      "first: start_params. {'v0': 25.5, 'x0': 900.0, 't0': 65.53710653398238}\n",
      "{'v0': 25.5, 'x0': 900.0, 't0': 65.53710653398238} {'xe': 1000.0, 'te': 69.409022942107}\n",
      "first: start_params. {'v0': 25.5, 'x0': 1000.0, 't0': 69.45867516143336}\n",
      "pre_itinerary:  [{'acc': 0, 't_start': 22.015044642727, 'v_0': 20, 't_end': 10000000.0, 'x_start': 0}] new_itinerary:  [{'t_start': 32.1, 'acc': -3, 'v_0': 20.0, 't_end': 33.6}, {'t_start': 33.6, 'acc': 0, 'v_0': 15.5, 't_end': 44.785483870967745}, {'t_start': 44.785483870967745, 'acc': 2, 'v_0': 15.5, 't_end': 46.285483870967745}, {'t_start': 46.285483870967745, 'acc': 0, 'v_0': 18.5, 't_end': 46.575806451612905}, {'t_start': 46.575806451612905, 'acc': 2, 'v_0': 18.5, 't_end': 49.575806451612905}, {'t_start': 49.575806451612905, 'acc': 0, 'v_0': 24.5, 't_end': 49.826024411508286}, {'t_start': 49.826024411508286, 'acc': 2, 'v_0': 24.5, 't_end': 50.076024411508286}, {'t_start': 50.076024411508286, 'acc': 0, 'v_0': 25.0, 't_end': 53.84382817643186}, {'t_start': 53.84382817643186, 'acc': 2, 'v_0': 25.0, 't_end': 54.09382817643186}, {'t_start': 54.09382817643186, 'acc': 0, 'v_0': 25.5, 't_end': 69.45867516143336}]\n",
      "merged: [{'acc': 0, 't_start': 22.015044642727, 'v_0': 20, 't_end': 32.1, 'x_start': 0}, {'t_start': 32.1, 'acc': -3, 'v_0': 20.0, 't_end': 33.6}, {'t_start': 33.6, 'acc': 0, 'v_0': 15.5, 't_end': 44.785483870967745}, {'t_start': 44.785483870967745, 'acc': 2, 'v_0': 15.5, 't_end': 46.285483870967745}, {'t_start': 46.285483870967745, 'acc': 0, 'v_0': 18.5, 't_end': 46.575806451612905}, {'t_start': 46.575806451612905, 'acc': 2, 'v_0': 18.5, 't_end': 49.575806451612905}, {'t_start': 49.575806451612905, 'acc': 0, 'v_0': 24.5, 't_end': 49.826024411508286}, {'t_start': 49.826024411508286, 'acc': 2, 'v_0': 24.5, 't_end': 50.076024411508286}, {'t_start': 50.076024411508286, 'acc': 0, 'v_0': 25.0, 't_end': 53.84382817643186}, {'t_start': 53.84382817643186, 'acc': 2, 'v_0': 25.0, 't_end': 54.09382817643186}, {'t_start': 54.09382817643186, 'acc': 0, 'v_0': 25.5, 't_end': 69.45867516143336}]\n",
      "==== START CREATING ETA====\n",
      "acc_itinerary: [{'acc': 0, 't_start': 22.015044642727, 'v_0': 20, 't_end': 32.1, 'x_start': 0}, {'t_start': 32.1, 'acc': -3, 'v_0': 20.0, 't_end': 33.6}, {'t_start': 33.6, 'acc': 0, 'v_0': 15.5, 't_end': 44.785483870967745}, {'t_start': 44.785483870967745, 'acc': 2, 'v_0': 15.5, 't_end': 46.285483870967745}, {'t_start': 46.285483870967745, 'acc': 0, 'v_0': 18.5, 't_end': 46.575806451612905}, {'t_start': 46.575806451612905, 'acc': 2, 'v_0': 18.5, 't_end': 49.575806451612905}, {'t_start': 49.575806451612905, 'acc': 0, 'v_0': 24.5, 't_end': 49.826024411508286}, {'t_start': 49.826024411508286, 'acc': 2, 'v_0': 24.5, 't_end': 50.076024411508286}, {'t_start': 50.076024411508286, 'acc': 0, 'v_0': 25.0, 't_end': 53.84382817643186}, {'t_start': 53.84382817643186, 'acc': 2, 'v_0': 25.0, 't_end': 54.09382817643186}, {'t_start': 54.09382817643186, 'acc': 0, 'v_0': 25.5, 't_end': 69.45867516143336}]\n",
      "ID: 4の新しいETA（Validate前） [{'waypoint_idx': 0, 'x': 0.0, 'eta': 22.015044642727, 'car_idx': 4, 'type': 'waypoint'}, {'waypoint_idx': 1, 'x': 100.0, 'eta': 27.015044642727, 'car_idx': 4, 'type': 'waypoint'}, {'waypoint_idx': 2, 'x': 200.0, 'eta': 32.015044642727, 'car_idx': 4, 'type': 'waypoint'}, {'waypoint_idx': 3, 'x': 300.0, 'eta': 38.224251151905804, 'car_idx': 4, 'type': 'waypoint'}, {'waypoint_idx': 4, 'x': 400.0, 'eta': 44.67586405513161, 'car_idx': 4, 'type': 'waypoint'}, {'waypoint_idx': 5, 'x': 500.0, 'eta': 49.69539523171921, 'car_idx': 4, 'type': 'waypoint'}, {'waypoint_idx': 6, 'x': 600.0, 'eta': 53.70050781531499, 'car_idx': 4, 'type': 'waypoint'}, {'waypoint_idx': 7, 'x': 700.0, 'eta': 57.627337626317285, 'car_idx': 4, 'type': 'waypoint'}, {'waypoint_idx': 8, 'x': 800.0, 'eta': 61.548906253768266, 'car_idx': 4, 'type': 'waypoint'}, {'waypoint_idx': 9, 'x': 900.0, 'eta': 65.47047488121925, 'car_idx': 4, 'type': 'waypoint'}, {'waypoint_idx': 10, 'x': 1000.0, 'eta': 69.39204350867023, 'car_idx': 4, 'type': 'waypoint'}, {'eta': 46.436883484726664, 'car_idx': 4, 'type': 'noise', 'x': 430}]\n",
      "直接ノイズの影響を受けるもの: []\n",
      "他の車の影響: [5]\n",
      "対象車: [5]\n",
      "t=32.2, car_id:5 changed by leading car.\n",
      "avoidance by idx=5\n",
      "{'x': [400, 430], 't': [37.0, 40.0]} True\n",
      "4.799999999999997 3 30\n",
      "[{'x': [400, 430], 't': [37.0, 40.0]}] [36.66196641456225]\n",
      "Early avoid 不可, late avoidの探索開始.\n",
      "target_time: 47.17586405513161\n",
      "late avoid with leader: boundary: [{'waypoint_idx': 0.0, 'x': 0.0, 'eta': 24.665044642726997, 'car_idx': 5, 'type': 'waypoint'}, {'waypoint_idx': 1.0, 'x': 100.0, 'eta': 29.665044642726997, 'car_idx': 5, 'type': 'waypoint'}, {'waypoint_idx': 2.0, 'x': 200.0, 'eta': 34.665044642727, 'car_idx': 5, 'type': 'waypoint'}, {'waypoint_idx': 3.0, 'x': 300.0, 'eta': 40.8742511519058, 'car_idx': 5, 'type': 'waypoint'}, {'waypoint_idx': 4.0, 'x': 400.0, 'eta': 47.32586405513161, 'car_idx': 5, 'type': 'waypoint'}, {'waypoint_idx': nan, 'x': 430.0, 'eta': 49.08688348472666, 'car_idx': 5, 'type': 'noise'}, {'waypoint_idx': 5.0, 'x': 500.0, 'eta': 52.34539523171921, 'car_idx': 5, 'type': 'waypoint'}, {'waypoint_idx': 6.0, 'x': 600.0, 'eta': 56.35050781531499, 'car_idx': 5, 'type': 'waypoint'}, {'waypoint_idx': 7.0, 'x': 700.0, 'eta': 60.27733762631728, 'car_idx': 5, 'type': 'waypoint'}, {'waypoint_idx': 8.0, 'x': 800.0, 'eta': 64.19890625376827, 'car_idx': 5, 'type': 'waypoint'}, {'waypoint_idx': 9.0, 'x': 900.0, 'eta': 68.12047488121925, 'car_idx': 5, 'type': 'waypoint'}, {'waypoint_idx': 10.0, 'x': 1000.0, 'eta': 72.04204350867023, 'car_idx': 5, 'type': 'waypoint'}] \n",
      " itinerary: [{'t_start': 32.2, 'acc': 0, 'v_0': 20.0, 't_end': 24.665044642726997}]\n",
      "{'v0': 20.0, 'x0': 114.0, 't0': 32.2} {'xe': 200.0, 'te': 34.665044642727}\n",
      "{'v0': 20.0, 'x0': 114.0, 't0': 32.2} {'xe': 300.0, 'te': 40.8742511519058}\n",
      "減速すべき区間, goal:400.0, sp:{'v0': 20.0, 'x0': 114.0, 't0': 32.2}\n",
      "Loops:  0\n",
      "cover_distance 27.92707530039154 427.92707530039155 430.0\n",
      "{'v0': 18.5, 'x0': 400.0, 't0': 47.63918918918919} {'xe': 430.0, 'te': 49.08688348472666}\n",
      "first: start_params. {'v0': 18.5, 'x0': 430.0, 't0': 49.26081081081081}\n",
      "{'v0': 21.5, 'x0': 430.0, 't0': 49.13918918918919} {'xe': 500.0, 'te': 52.34539523171921}\n",
      "first: start_params. {'v0': 21.5, 'x0': 500.0, 't0': 52.39500314267756}\n",
      "{'v0': 21.5, 'x0': 500.0, 't0': 52.39500314267756} {'xe': 600.0, 'te': 56.35050781531499}\n",
      "first: start_params. {'v0': 21.5, 'x0': 600.0, 't0': 57.046165933375235}\n",
      "{'v0': 25.5, 'x0': 600.0, 't0': 56.473434515226586} {'xe': 700.0, 'te': 60.27733762631728}\n",
      "first: start_params. {'v0': 25.5, 'x0': 700.0, 't0': 60.39500314267757}\n",
      "{'v0': 25.5, 'x0': 700.0, 't0': 60.39500314267757} {'xe': 800.0, 'te': 64.19890625376827}\n",
      "first: start_params. {'v0': 25.5, 'x0': 800.0, 't0': 64.31657177012855}\n",
      "{'v0': 25.5, 'x0': 800.0, 't0': 64.31657177012855} {'xe': 900.0, 'te': 68.12047488121925}\n",
      "first: start_params. {'v0': 25.5, 'x0': 900.0, 't0': 68.23814039757953}\n",
      "{'v0': 25.5, 'x0': 900.0, 't0': 68.23814039757953} {'xe': 1000.0, 'te': 72.04204350867023}\n",
      "first: start_params. {'v0': 25.5, 'x0': 1000.0, 't0': 72.15970902503051}\n",
      "pre_itinerary:  [{'acc': 0, 't_start': 26.416894484705946, 'v_0': 20, 't_end': 10000000.0, 'x_start': 0}] new_itinerary:  [{'t_start': 32.2, 'acc': -3, 'v_0': 20.0, 't_end': 32.7}, {'t_start': 32.7, 'acc': 0, 'v_0': 18.5, 't_end': 47.63918918918919}, {'t_start': 47.63918918918919, 'acc': 2, 'v_0': 18.5, 't_end': 49.13918918918919}, {'t_start': 49.13918918918919, 'acc': 0, 'v_0': 21.5, 't_end': 52.39500314267756}, {'t_start': 52.39500314267756, 'acc': 2, 'v_0': 21.5, 't_end': 54.39500314267756}, {'t_start': 54.39500314267756, 'acc': 0, 'v_0': 25.5, 't_end': 68.23814039757953}, {'t_start': 68.23814039757953, 'acc': 2, 'v_0': 25.5, 't_end': 68.48814039757953}, {'t_start': 68.48814039757953, 'acc': 0, 'v_0': 26.0, 't_end': 72.15725804463835}]\n",
      "merged: [{'acc': 0, 't_start': 26.416894484705946, 'v_0': 20, 't_end': 32.2, 'x_start': 0}, {'t_start': 32.2, 'acc': -3, 'v_0': 20.0, 't_end': 32.7}, {'t_start': 32.7, 'acc': 0, 'v_0': 18.5, 't_end': 47.63918918918919}, {'t_start': 47.63918918918919, 'acc': 2, 'v_0': 18.5, 't_end': 49.13918918918919}, {'t_start': 49.13918918918919, 'acc': 0, 'v_0': 21.5, 't_end': 52.39500314267756}, {'t_start': 52.39500314267756, 'acc': 2, 'v_0': 21.5, 't_end': 54.39500314267756}, {'t_start': 54.39500314267756, 'acc': 0, 'v_0': 25.5, 't_end': 68.23814039757953}, {'t_start': 68.23814039757953, 'acc': 2, 'v_0': 25.5, 't_end': 68.48814039757953}, {'t_start': 68.48814039757953, 'acc': 0, 'v_0': 26.0, 't_end': 72.15725804463835}]\n",
      "==== START CREATING ETA====\n",
      "acc_itinerary: [{'acc': 0, 't_start': 26.416894484705946, 'v_0': 20, 't_end': 32.2, 'x_start': 0}, {'t_start': 32.2, 'acc': -3, 'v_0': 20.0, 't_end': 32.7}, {'t_start': 32.7, 'acc': 0, 'v_0': 18.5, 't_end': 47.63918918918919}, {'t_start': 47.63918918918919, 'acc': 2, 'v_0': 18.5, 't_end': 49.13918918918919}, {'t_start': 49.13918918918919, 'acc': 0, 'v_0': 21.5, 't_end': 52.39500314267756}, {'t_start': 52.39500314267756, 'acc': 2, 'v_0': 21.5, 't_end': 54.39500314267756}, {'t_start': 54.39500314267756, 'acc': 0, 'v_0': 25.5, 't_end': 68.23814039757953}, {'t_start': 68.23814039757953, 'acc': 2, 'v_0': 25.5, 't_end': 68.48814039757953}, {'t_start': 68.48814039757953, 'acc': 0, 'v_0': 26.0, 't_end': 72.15725804463835}]\n",
      "ID: 5の新しいETA（Validate前） [{'waypoint_idx': 0, 'x': 0.0, 'eta': 26.416894484705946, 'car_idx': 5, 'type': 'waypoint'}, {'waypoint_idx': 1, 'x': 100.0, 'eta': 31.416894484705946, 'car_idx': 5, 'type': 'waypoint'}, {'waypoint_idx': 2, 'x': 200.0, 'eta': 36.73853457806048, 'car_idx': 5, 'type': 'waypoint'}, {'waypoint_idx': 3, 'x': 300.0, 'eta': 42.143939983465884, 'car_idx': 5, 'type': 'waypoint'}, {'waypoint_idx': 4, 'x': 400.0, 'eta': 47.549345388871295, 'car_idx': 5, 'type': 'waypoint'}, {'waypoint_idx': 5, 'x': 500.0, 'eta': 52.31769568659007, 'car_idx': 5, 'type': 'waypoint'}, {'waypoint_idx': 6, 'x': 600.0, 'eta': 56.40825371891752, 'car_idx': 5, 'type': 'waypoint'}, {'waypoint_idx': 7, 'x': 700.0, 'eta': 60.3298223463685, 'car_idx': 5, 'type': 'waypoint'}, {'waypoint_idx': 8, 'x': 800.0, 'eta': 64.25139097381948, 'car_idx': 5, 'type': 'waypoint'}, {'waypoint_idx': 9, 'x': 900.0, 'eta': 68.17295960127046, 'car_idx': 5, 'type': 'waypoint'}, {'waypoint_idx': 10, 'x': 1000.0, 'eta': 72.02277077043026, 'car_idx': 5, 'type': 'waypoint'}, {'eta': 49.06160174184657, 'car_idx': 5, 'type': 'noise', 'x': 430}]\n",
      "\n",
      "t=37.300000000000004, next_car=8, current_noise= [{'x': [400, 430], 't': [37.0, 40.0]}], event_flg=arrival\n",
      "carID: 0, Start:1048.3333333333333, End:1138.3333333333333\n",
      "carID: 1, Start:599.4330405267318, End:659.4330405267318\n",
      "carID: 2, Start:507.20183182679375, End:567.2018318267938\n",
      "carID: 3, Start:371.0743611671293, End:399.5743611671293\n",
      "carID: 4, Start:281.02410714546005, End:327.52410714546005\n",
      "carID: 5, Start:204.83711030588108, End:260.3371103058811\n",
      "carID: 6, Start:98.16346352669058, End:158.16346352669058\n",
      "[{'acc': 0, 't_start': 37.22427821224153, 'v_0': 20, 't_end': 10000000.0, 'x_start': 0}] 37.0 40.0 37.300000000000004 0\n",
      "carID: 7, Start:-4.485564244830584, End:55.514435755169416\n",
      "直接ノイズの影響を受けるもの: []\n",
      "他の車の影響: []\n",
      "対象車: []\n",
      "t=40.0, car_id:0, xcor:1148.889999999995, speed:30.200000000000024\n",
      "t=40.0, car_id:1, xcor:660.0, speed:20.0\n",
      "t=40.0, car_id:2, xcor:568.0, speed:20.0\n",
      "t=40.0, car_id:3, xcor:398.7999999999995, speed:9.499999999999975\n",
      "t=40.0, car_id:4, xcor:327.15000000000066, speed:15.49999999999999\n",
      "t=40.0, car_id:5, xcor:260.44999999999965, speed:18.499999999999996\n",
      "t=40.0, car_id:6, xcor:160.0, speed:20.0\n",
      "t=40.0, car_id:7, xcor:56.0, speed:20.0\n",
      "noise created!\n",
      "noise created!\n",
      "\n",
      "t=42.5, next_car=9, current_noise= [], event_flg=arrival\n",
      "直接ノイズの影響を受けるもの: []\n",
      "他の車の影響: []\n",
      "対象車: []\n",
      "noise created!\n",
      "noise created!\n",
      "noise created!\n",
      "noise created!\n",
      "noise created!\n",
      "\n",
      "t=47.800000000000004, next_car=10, current_noise= [], event_flg=arrival\n",
      "直接ノイズの影響を受けるもの: []\n",
      "他の車の影響: []\n",
      "対象車: []\n",
      "noise created!\n",
      "\n",
      "t=48.0, next_car=10, current_noise= [{'x': [400, 430], 't': [53.0, 56.0]}], event_flg=noise created\n",
      "carID: 0, Start:1528.3333333333333, End:1618.3333333333333\n",
      "carID: 1, Start:919.4330405267318, End:979.4330405267318\n",
      "carID: 2, Start:827.2018318267938, End:887.2018318267938\n",
      "carID: 3, Start:658.989175141721, End:732.489175141721\n",
      "carID: 4, Start:582.4873046171252, End:658.5028905289092\n",
      "carID: 5, Start:515.0355639356835, End:589.5895301676032\n",
      "carID: 6, Start:418.1634635266906, End:478.1634635266906\n",
      "[{'acc': 0, 't_start': 37.22427821224153, 'v_0': 20, 't_end': 10000000.0, 'x_start': 0}] 53.0 56.0 48.0 214.0\n",
      "carID: 7, Start:315.5144357551694, End:375.5144357551694\n",
      "carID: 8, Start:211.72055824659637, End:271.7205582465964\n",
      "carID: 9, Start:104.34548853970554, End:164.34548853970554\n",
      "直接ノイズの影響を受けるもの: [6]\n",
      "他の車の影響: []\n",
      "対象車: [6]\n",
      "t=48.0, car_id:6 avoiding noise.\n",
      "avoidance by idx=6\n",
      "{'x': [400, 430], 't': [53.0, 56.0]} True\n",
      "5.0 3 30\n",
      "eta: 51.661601741846574, 前の車に当たらない最速の時間:51.56160174184657, ノイズ開始:53.0\n",
      "solve_acc_itinerary_early_avoid\n",
      "leader_eta      waypoint_idx       x        eta  car_idx      type\n",
      "159           0.0     0.0  26.416894        5  waypoint\n",
      "160           1.0   100.0  31.416894        5  waypoint\n",
      "161           2.0   200.0  36.738535        5  waypoint\n",
      "162           3.0   300.0  42.143940        5  waypoint\n",
      "163           4.0   400.0  47.549345        5  waypoint\n",
      "164           5.0   500.0  52.317696        5  waypoint\n",
      "165           6.0   600.0  56.408254        5  waypoint\n",
      "166           7.0   700.0  60.329822        5  waypoint\n",
      "167           8.0   800.0  64.251391        5  waypoint\n",
      "168           9.0   900.0  68.172960        5  waypoint\n",
      "169          10.0  1000.0  72.022771        5  waypoint\n",
      "170           NaN   430.0  49.061602        5     noise 318.0\n",
      "skipped:  {'x': 0.0, 'eta': 28.916894484705946} 318.0\n",
      "skipped:  {'x': 100.0, 'eta': 33.91689448470595} 318.0\n",
      "skipped:  {'x': 200.0, 'eta': 39.23853457806048} 318.0\n",
      "skipped:  {'x': 300.0, 'eta': 44.643939983465884} 318.0\n",
      "\n",
      "====now testing:  {'x': 400.0, 'eta': 50.049345388871295} ====\n",
      "===start_params:  {'v0': 20.0, 'x0': 318.0, 't0': 48.0} ===\n",
      "===acc_itinerary:  [{'acc': 0, 't_start': 32.09182682366547, 'v_0': 20, 't_end': 10000000.0, 'x_start': 0}] ===\n",
      "L90: 1 {'v0': 21.5, 'x0': 430.0, 't0': 49.395348837209305} 52.1\n",
      "ループ抜ける判定基準2: [True, True]\n",
      "detail:  [{'eta': 50.049345388871295, 'arrival_time': 48.0, 'x': 400.0}, {'eta': 51.56160174184657, 'arrival_time': 49.395348837209305, 'x': 430.0}]\n",
      "\n",
      "====now testing:  {'x': 430.0, 'eta': 51.56160174184657} ====\n",
      "===start_params:  {'v0': 20.0, 'x0': 318.0, 't0': 48.0} ===\n",
      "===acc_itinerary:  [{'acc': 0, 't_start': 32.09182682366547, 'v_0': 20, 't_end': 10000000.0, 'x_start': 0}] ===\n",
      "最速で行ってもノイズに当たってしまうので早避け不可能\n",
      "detail: 418.1634635266906 430 53.0\n",
      "[{'x': [400, 430], 't': [53.0, 56.0]}] [10.248718910136233]\n",
      "Early avoid 不可, late avoidの探索開始.\n",
      "target_time: 56.0\n",
      "cover_distance 63.58499999999998 381.585 400\n",
      "Loops:  0\n",
      "Loops:  1\n",
      "Loops:  2\n",
      "Loops:  3\n",
      "Loops:  4\n",
      "Loops:  5\n",
      "Loops:  6\n",
      "Loops:  7\n",
      "Loops:  8\n",
      "Loops:  9\n",
      "first: start_params. {'v0': 5.0, 'x0': 430.0, 't0': 62.9}\n",
      "first: start_params. {'v0': 12.0, 'x0': 500.0, 't0': 66.25416666666666}\n",
      "first: start_params. {'v0': 20.5, 'x0': 600.0, 't0': 69.60670731707317}\n",
      "first: start_params. {'v0': 28.5, 'x0': 700.0, 't0': 72.31330409356725}\n",
      "first: start_params. {'v0': 30.0, 'x0': 800.0, 't0': 75.49103319783197}\n",
      "cover_distance 44.17999842624135 844.1799984262414 900.0\n",
      "first: start_params. {'v0': 30.0, 'x0': 900.0, 't0': 78.8243665311653}\n",
      "cover_distance 82.00936363040725 982.0093636304073 1000.0\n",
      "first: start_params. {'v0': 30.0, 'x0': 1000.0, 't0': 82.15769986449862}\n",
      " acc: [{'t_start': 48.0, 'acc': -3, 'v_0': 20.0, 't_end': 53.0}, {'t_start': 53.0, 'acc': 0, 'v_0': 5.0, 't_end': 56.9}, {'t_start': 56.9, 'acc': 2, 'v_0': 5.0, 't_end': 60.4}, {'t_start': 60.4, 'acc': 0, 'v_0': 12.0, 't_end': 60.449999999999996}, {'t_start': 60.449999999999996, 'acc': 2, 'v_0': 12.0, 't_end': 64.69999999999999}, {'t_start': 64.69999999999999, 'acc': 0, 'v_0': 20.5, 't_end': 64.74895833333333}, {'t_start': 64.74895833333333, 'acc': 2, 'v_0': 20.5, 't_end': 68.74895833333333}, {'t_start': 68.74895833333333, 'acc': 0, 'v_0': 28.5, 't_end': 68.82621951219512}, {'t_start': 68.82621951219512, 'acc': 2, 'v_0': 28.5, 't_end': 69.57621951219512}, {'t_start': 69.57621951219512, 'acc': 0, 'v_0': 30.0, 't_end': 82.15769986449862}]\n",
      "pre_itinerary:  [{'acc': 0, 't_start': 32.09182682366547, 'v_0': 20, 't_end': 10000000.0, 'x_start': 0}] new_itinerary:  [{'t_start': 48.0, 'acc': -3, 'v_0': 20.0, 't_end': 53.0}, {'t_start': 53.0, 'acc': 0, 'v_0': 5.0, 't_end': 56.9}, {'t_start': 56.9, 'acc': 2, 'v_0': 5.0, 't_end': 60.4}, {'t_start': 60.4, 'acc': 0, 'v_0': 12.0, 't_end': 60.449999999999996}, {'t_start': 60.449999999999996, 'acc': 2, 'v_0': 12.0, 't_end': 64.69999999999999}, {'t_start': 64.69999999999999, 'acc': 0, 'v_0': 20.5, 't_end': 64.74895833333333}, {'t_start': 64.74895833333333, 'acc': 2, 'v_0': 20.5, 't_end': 68.74895833333333}, {'t_start': 68.74895833333333, 'acc': 0, 'v_0': 28.5, 't_end': 68.82621951219512}, {'t_start': 68.82621951219512, 'acc': 2, 'v_0': 28.5, 't_end': 69.57621951219512}, {'t_start': 69.57621951219512, 'acc': 0, 'v_0': 30.0, 't_end': 82.15769986449862}]\n",
      "merged: [{'acc': 0, 't_start': 32.09182682366547, 'v_0': 20, 't_end': 48.0, 'x_start': 0}, {'t_start': 48.0, 'acc': -3, 'v_0': 20.0, 't_end': 53.0}, {'t_start': 53.0, 'acc': 0, 'v_0': 5.0, 't_end': 56.9}, {'t_start': 56.9, 'acc': 2, 'v_0': 5.0, 't_end': 60.4}, {'t_start': 60.4, 'acc': 0, 'v_0': 12.0, 't_end': 60.449999999999996}, {'t_start': 60.449999999999996, 'acc': 2, 'v_0': 12.0, 't_end': 64.69999999999999}, {'t_start': 64.69999999999999, 'acc': 0, 'v_0': 20.5, 't_end': 64.74895833333333}, {'t_start': 64.74895833333333, 'acc': 2, 'v_0': 20.5, 't_end': 68.74895833333333}, {'t_start': 68.74895833333333, 'acc': 0, 'v_0': 28.5, 't_end': 68.82621951219512}, {'t_start': 68.82621951219512, 'acc': 2, 'v_0': 28.5, 't_end': 69.57621951219512}, {'t_start': 69.57621951219512, 'acc': 0, 'v_0': 30.0, 't_end': 82.15769986449862}]\n",
      "==== START CREATING ETA====\n",
      "acc_itinerary: [{'acc': 0, 't_start': 32.09182682366547, 'v_0': 20, 't_end': 48.0, 'x_start': 0}, {'t_start': 48.0, 'acc': -3, 'v_0': 20.0, 't_end': 53.0}, {'t_start': 53.0, 'acc': 0, 'v_0': 5.0, 't_end': 56.9}, {'t_start': 56.9, 'acc': 2, 'v_0': 5.0, 't_end': 60.4}, {'t_start': 60.4, 'acc': 0, 'v_0': 12.0, 't_end': 60.449999999999996}, {'t_start': 60.449999999999996, 'acc': 2, 'v_0': 12.0, 't_end': 64.69999999999999}, {'t_start': 64.69999999999999, 'acc': 0, 'v_0': 20.5, 't_end': 64.74895833333333}, {'t_start': 64.74895833333333, 'acc': 2, 'v_0': 20.5, 't_end': 68.74895833333333}, {'t_start': 68.74895833333333, 'acc': 0, 'v_0': 28.5, 't_end': 68.82621951219512}, {'t_start': 68.82621951219512, 'acc': 2, 'v_0': 28.5, 't_end': 69.57621951219512}, {'t_start': 69.57621951219512, 'acc': 0, 'v_0': 30.0, 't_end': 82.15769986449862}]\n",
      "ID: 6の新しいETA（Validate前） [{'waypoint_idx': 0, 'x': 0.0, 'eta': 32.09182682366547, 'car_idx': 6, 'type': 'waypoint'}, {'waypoint_idx': 1, 'x': 100.0, 'eta': 37.09182682366547, 'car_idx': 6, 'type': 'waypoint'}, {'waypoint_idx': 2, 'x': 200.0, 'eta': 42.09182682366547, 'car_idx': 6, 'type': 'waypoint'}, {'waypoint_idx': 3, 'x': 300.0, 'eta': 47.09182682366547, 'car_idx': 6, 'type': 'waypoint'}, {'waypoint_idx': 4, 'x': 400.0, 'eta': 56.867307294661884, 'car_idx': 6, 'type': 'waypoint'}, {'waypoint_idx': 5, 'x': 500.0, 'eta': 64.72068470601509, 'car_idx': 6, 'type': 'waypoint'}, {'waypoint_idx': 6, 'x': 600.0, 'eta': 68.79879660140267, 'car_idx': 6, 'type': 'waypoint'}, {'waypoint_idx': 7, 'x': 700.0, 'eta': 72.15225108027562, 'car_idx': 6, 'type': 'waypoint'}, {'waypoint_idx': 8, 'x': 800.0, 'eta': 75.48558441360896, 'car_idx': 6, 'type': 'waypoint'}, {'waypoint_idx': 9, 'x': 900.0, 'eta': 78.81891774694229, 'car_idx': 6, 'type': 'waypoint'}, {'waypoint_idx': 10, 'x': 1000.0, 'eta': 82.15225108027562, 'car_idx': 6, 'type': 'waypoint'}, {'eta': 60.407211372775784, 'car_idx': 6, 'type': 'noise', 'x': 430}]\n",
      "直接ノイズの影響を受けるもの: []\n",
      "他の車の影響: [7]\n",
      "対象車: [7]\n",
      "t=48.1, car_id:7 changed by leading car.\n",
      "avoidance by idx=7\n",
      "{'x': [400, 430], 't': [53.0, 56.0]} True\n",
      "4.899999999999999 3 30\n",
      "[{'x': [400, 430], 't': [53.0, 56.0]}] [23.288191368181245]\n",
      "Early avoid 不可, late avoidの探索開始.\n",
      "target_time: 59.367307294661884\n",
      "late avoid with leader: boundary: [{'waypoint_idx': 0.0, 'x': 0.0, 'eta': 34.74182682366547, 'car_idx': 7, 'type': 'waypoint'}, {'waypoint_idx': 1.0, 'x': 100.0, 'eta': 39.74182682366547, 'car_idx': 7, 'type': 'waypoint'}, {'waypoint_idx': 2.0, 'x': 200.0, 'eta': 44.74182682366547, 'car_idx': 7, 'type': 'waypoint'}, {'waypoint_idx': 3.0, 'x': 300.0, 'eta': 49.74182682366547, 'car_idx': 7, 'type': 'waypoint'}, {'waypoint_idx': 4.0, 'x': 400.0, 'eta': 59.51730729466188, 'car_idx': 7, 'type': 'waypoint'}, {'waypoint_idx': nan, 'x': 430.0, 'eta': 63.05721137277578, 'car_idx': 7, 'type': 'noise'}, {'waypoint_idx': 5.0, 'x': 500.0, 'eta': 67.3706847060151, 'car_idx': 7, 'type': 'waypoint'}, {'waypoint_idx': 6.0, 'x': 600.0, 'eta': 71.44879660140268, 'car_idx': 7, 'type': 'waypoint'}, {'waypoint_idx': 7.0, 'x': 700.0, 'eta': 74.80225108027562, 'car_idx': 7, 'type': 'waypoint'}, {'waypoint_idx': 8.0, 'x': 800.0, 'eta': 78.13558441360897, 'car_idx': 7, 'type': 'waypoint'}, {'waypoint_idx': 9.0, 'x': 900.0, 'eta': 81.4689177469423, 'car_idx': 7, 'type': 'waypoint'}, {'waypoint_idx': 10.0, 'x': 1000.0, 'eta': 84.80225108027562, 'car_idx': 7, 'type': 'waypoint'}] \n",
      " itinerary: [{'t_start': 48.1, 'acc': 0, 'v_0': 20.0, 't_end': 34.74182682366547}]\n",
      "{'v0': 20.0, 'x0': 216.0, 't0': 48.1} {'xe': 300.0, 'te': 49.74182682366547}\n",
      "減速すべき区間, goal:400.0, sp:{'v0': 20.0, 'x0': 216.0, 't0': 48.1}\n",
      "Loops:  0\n",
      "cover_distance 46.69184412173601 446.69184412173604 430.0\n",
      "Loops:  1\n",
      "cover_distance 41.381988004565166 441.3819880045652 430.0\n",
      "Loops:  2\n",
      "cover_distance 36.07213188739432 436.07213188739433 430.0\n",
      "Loops:  3\n",
      "cover_distance 30.762275770223468 430.7622757702235 430.0\n",
      "Loops:  4\n",
      "cover_distance 25.452419653052615 425.45241965305263 430.0\n",
      "{'v0': 12.5, 'x0': 400.0, 't0': 62.07} {'xe': 430.0, 'te': 63.05721137277578}\n",
      "first: start_params. {'v0': 12.5, 'x0': 430.0, 't0': 64.47}\n",
      "{'v0': 16.5, 'x0': 430.0, 't0': 64.13060606060606} {'xe': 500.0, 'te': 67.3706847060151}\n",
      "first: start_params. {'v0': 16.5, 'x0': 500.0, 't0': 68.3730303030303}\n",
      "{'v0': 23.0, 'x0': 500.0, 't0': 67.63880434782608} {'xe': 600.0, 'te': 71.44879660140268}\n",
      "first: start_params. {'v0': 23.0, 'x0': 600.0, 't0': 71.9866304347826}\n",
      "{'v0': 28.0, 'x0': 600.0, 't0': 71.45024621212121} {'xe': 700.0, 'te': 74.80225108027562}\n",
      "first: start_params. {'v0': 28.0, 'x0': 700.0, 't0': 75.02167478354978}\n",
      "{'v0': 30.0, 'x0': 700.0, 't0': 74.83455588493632} {'xe': 800.0, 'te': 78.13558441360897}\n",
      "first: start_params. {'v0': 30.0, 'x0': 800.0, 't0': 78.16788921826965}\n",
      "{'v0': 30.0, 'x0': 800.0, 't0': 78.16788921826965} {'xe': 900.0, 'te': 81.4689177469423}\n",
      "first: start_params. {'v0': 30.0, 'x0': 900.0, 't0': 81.50122255160298}\n",
      "{'v0': 30.0, 'x0': 900.0, 't0': 81.50122255160298} {'xe': 1000.0, 'te': 84.80225108027562}\n",
      "first: start_params. {'v0': 30.0, 'x0': 1000.0, 't0': 84.83455588493631}\n",
      "pre_itinerary:  [{'acc': 0, 't_start': 37.22427821224153, 'v_0': 20, 't_end': 10000000.0, 'x_start': 0}] new_itinerary:  [{'t_start': 48.1, 'acc': -3, 'v_0': 20.0, 't_end': 50.6}, {'t_start': 50.6, 'acc': 0, 'v_0': 12.5, 't_end': 62.07}, {'t_start': 62.07, 'acc': 2, 'v_0': 12.5, 't_end': 64.07}, {'t_start': 64.07, 'acc': 0, 'v_0': 16.5, 't_end': 64.15}, {'t_start': 64.15, 'acc': 2, 'v_0': 16.5, 't_end': 67.4}, {'t_start': 67.4, 'acc': 0, 'v_0': 23.0, 't_end': 67.73287878787879}, {'t_start': 67.73287878787879, 'acc': 2, 'v_0': 23.0, 't_end': 70.23287878787879}, {'t_start': 70.23287878787879, 'acc': 0, 'v_0': 28.0, 't_end': 71.71489130434783}, {'t_start': 71.71489130434783, 'acc': 2, 'v_0': 28.0, 't_end': 72.71489130434783}, {'t_start': 72.71489130434783, 'acc': 0, 'v_0': 30.0, 't_end': 84.83455588493631}]\n",
      "merged: [{'acc': 0, 't_start': 37.22427821224153, 'v_0': 20, 't_end': 48.1, 'x_start': 0}, {'t_start': 48.1, 'acc': -3, 'v_0': 20.0, 't_end': 50.6}, {'t_start': 50.6, 'acc': 0, 'v_0': 12.5, 't_end': 62.07}, {'t_start': 62.07, 'acc': 2, 'v_0': 12.5, 't_end': 64.07}, {'t_start': 64.07, 'acc': 0, 'v_0': 16.5, 't_end': 64.15}, {'t_start': 64.15, 'acc': 2, 'v_0': 16.5, 't_end': 67.4}, {'t_start': 67.4, 'acc': 0, 'v_0': 23.0, 't_end': 67.73287878787879}, {'t_start': 67.73287878787879, 'acc': 2, 'v_0': 23.0, 't_end': 70.23287878787879}, {'t_start': 70.23287878787879, 'acc': 0, 'v_0': 28.0, 't_end': 71.71489130434783}, {'t_start': 71.71489130434783, 'acc': 2, 'v_0': 28.0, 't_end': 72.71489130434783}, {'t_start': 72.71489130434783, 'acc': 0, 'v_0': 30.0, 't_end': 84.83455588493631}]\n",
      "==== START CREATING ETA====\n",
      "acc_itinerary: [{'acc': 0, 't_start': 37.22427821224153, 'v_0': 20, 't_end': 48.1, 'x_start': 0}, {'t_start': 48.1, 'acc': -3, 'v_0': 20.0, 't_end': 50.6}, {'t_start': 50.6, 'acc': 0, 'v_0': 12.5, 't_end': 62.07}, {'t_start': 62.07, 'acc': 2, 'v_0': 12.5, 't_end': 64.07}, {'t_start': 64.07, 'acc': 0, 'v_0': 16.5, 't_end': 64.15}, {'t_start': 64.15, 'acc': 2, 'v_0': 16.5, 't_end': 67.4}, {'t_start': 67.4, 'acc': 0, 'v_0': 23.0, 't_end': 67.73287878787879}, {'t_start': 67.73287878787879, 'acc': 2, 'v_0': 23.0, 't_end': 70.23287878787879}, {'t_start': 70.23287878787879, 'acc': 0, 'v_0': 28.0, 't_end': 71.71489130434783}, {'t_start': 71.71489130434783, 'acc': 2, 'v_0': 28.0, 't_end': 72.71489130434783}, {'t_start': 72.71489130434783, 'acc': 0, 'v_0': 30.0, 't_end': 84.83455588493631}]\n",
      "ID: 7の新しいETA（Validate前） [{'waypoint_idx': 0, 'x': 0.0, 'eta': 37.22427821224153, 'car_idx': 7, 'type': 'waypoint'}, {'waypoint_idx': 1, 'x': 100.0, 'eta': 42.22427821224153, 'car_idx': 7, 'type': 'waypoint'}, {'waypoint_idx': 2, 'x': 200.0, 'eta': 47.22427821224153, 'car_idx': 7, 'type': 'waypoint'}, {'waypoint_idx': 3, 'x': 300.0, 'eta': 53.948845139586446, 'car_idx': 7, 'type': 'waypoint'}, {'waypoint_idx': 4, 'x': 400.0, 'eta': 61.948845139586446, 'car_idx': 7, 'type': 'waypoint'}, {'waypoint_idx': 5, 'x': 500.0, 'eta': 67.57295931499263, 'car_idx': 7, 'type': 'waypoint'}, {'waypoint_idx': 6, 'x': 600.0, 'eta': 71.39615922086516, 'car_idx': 7, 'type': 'waypoint'}, {'waypoint_idx': 7, 'x': 700.0, 'eta': 74.78407469309734, 'car_idx': 7, 'type': 'waypoint'}, {'waypoint_idx': 8, 'x': 800.0, 'eta': 78.11740802643067, 'car_idx': 7, 'type': 'waypoint'}, {'waypoint_idx': 9, 'x': 900.0, 'eta': 81.45074135976401, 'car_idx': 7, 'type': 'waypoint'}, {'waypoint_idx': 10, 'x': 1000.0, 'eta': 84.78407469309734, 'car_idx': 7, 'type': 'waypoint'}, {'eta': 64.03876293883883, 'car_idx': 7, 'type': 'noise', 'x': 430}]\n",
      "直接ノイズの影響を受けるもの: []\n",
      "他の車の影響: [8]\n",
      "対象車: [8]\n",
      "t=48.2, car_id:8 changed by leading car.\n",
      "avoidance by idx=8\n",
      "{'x': [400, 430], 't': [53.0, 56.0]} True\n",
      "4.799999999999997 3 30\n",
      "[{'x': [400, 430], 't': [53.0, 56.0]}] [36.66196641456225]\n",
      "Early avoid 不可, late avoidの探索開始.\n",
      "target_time: 64.44884513958644\n",
      "late avoid with leader: boundary: [{'waypoint_idx': 0.0, 'x': 0.0, 'eta': 39.87427821224153, 'car_idx': 8, 'type': 'waypoint'}, {'waypoint_idx': 1.0, 'x': 100.0, 'eta': 44.87427821224153, 'car_idx': 8, 'type': 'waypoint'}, {'waypoint_idx': 2.0, 'x': 200.0, 'eta': 49.87427821224153, 'car_idx': 8, 'type': 'waypoint'}, {'waypoint_idx': 3.0, 'x': 300.0, 'eta': 56.598845139586444, 'car_idx': 8, 'type': 'waypoint'}, {'waypoint_idx': 4.0, 'x': 400.0, 'eta': 64.59884513958644, 'car_idx': 8, 'type': 'waypoint'}, {'waypoint_idx': nan, 'x': 430.0, 'eta': 66.68876293883883, 'car_idx': 8, 'type': 'noise'}, {'waypoint_idx': 5.0, 'x': 500.0, 'eta': 70.22295931499264, 'car_idx': 8, 'type': 'waypoint'}, {'waypoint_idx': 6.0, 'x': 600.0, 'eta': 74.04615922086516, 'car_idx': 8, 'type': 'waypoint'}, {'waypoint_idx': 7.0, 'x': 700.0, 'eta': 77.43407469309734, 'car_idx': 8, 'type': 'waypoint'}, {'waypoint_idx': 8.0, 'x': 800.0, 'eta': 80.76740802643067, 'car_idx': 8, 'type': 'waypoint'}, {'waypoint_idx': 9.0, 'x': 900.0, 'eta': 84.10074135976402, 'car_idx': 8, 'type': 'waypoint'}, {'waypoint_idx': 10.0, 'x': 1000.0, 'eta': 87.43407469309734, 'car_idx': 8, 'type': 'waypoint'}] \n",
      " itinerary: [{'t_start': 48.2, 'acc': 0, 'v_0': 20.0, 't_end': 39.87427821224153}]\n",
      "{'v0': 20.0, 'x0': 114.0, 't0': 48.2} {'xe': 200.0, 'te': 49.87427821224153}\n",
      "{'v0': 20.0, 'x0': 114.0, 't0': 48.2} {'xe': 300.0, 'te': 56.598845139586444}\n",
      "減速すべき区間, goal:400.0, sp:{'v0': 20.0, 'x0': 114.0, 't0': 48.2}\n",
      "Loops:  0\n",
      "cover_distance 32.11184467472129 432.1118446747213 430.0\n",
      "Loops:  1\n",
      "cover_distance 28.976967975842705 428.9769679758427 430.0\n",
      "{'v0': 17.0, 'x0': 400.0, 't0': 64.93529411764706} {'xe': 430.0, 'te': 66.68876293883883}\n",
      "first: start_params. {'v0': 17.0, 'x0': 430.0, 't0': 66.7}\n",
      "{'v0': 17.0, 'x0': 430.0, 't0': 66.7} {'xe': 500.0, 'te': 70.22295931499264}\n",
      "first: start_params. {'v0': 17.0, 'x0': 500.0, 't0': 70.81764705882352}\n",
      "{'v0': 21.0, 'x0': 500.0, 't0': 70.22380952380952} {'xe': 600.0, 'te': 74.04615922086516}\n",
      "first: start_params. {'v0': 21.0, 'x0': 600.0, 't0': 74.98571428571428}\n",
      "{'v0': 28.0, 'x0': 600.0, 't0': 74.32237394957983} {'xe': 700.0, 'te': 77.43407469309734}\n",
      "first: start_params. {'v0': 28.0, 'x0': 700.0, 't0': 77.8938025210084}\n",
      "{'v0': 30.0, 'x0': 700.0, 't0': 77.69437441643323} {'xe': 800.0, 'te': 80.76740802643067}\n",
      "first: start_params. {'v0': 30.0, 'x0': 800.0, 't0': 81.02770774976656}\n",
      "{'v0': 30.0, 'x0': 800.0, 't0': 81.02770774976656} {'xe': 900.0, 'te': 84.10074135976402}\n",
      "first: start_params. {'v0': 30.0, 'x0': 900.0, 't0': 84.36104108309989}\n",
      "{'v0': 30.0, 'x0': 900.0, 't0': 84.36104108309989} {'xe': 1000.0, 'te': 87.43407469309734}\n",
      "first: start_params. {'v0': 30.0, 'x0': 1000.0, 't0': 87.69437441643322}\n",
      "pre_itinerary:  [{'acc': 0, 't_start': 42.41397208767018, 'v_0': 20, 't_end': 10000000.0, 'x_start': 0}] new_itinerary:  [{'t_start': 48.2, 'acc': -3, 'v_0': 20.0, 't_end': 49.2}, {'t_start': 49.2, 'acc': 0, 'v_0': 17.0, 't_end': 66.7}, {'t_start': 66.7, 'acc': 2, 'v_0': 17.0, 't_end': 68.7}, {'t_start': 68.7, 'acc': 0, 'v_0': 21.0, 't_end': 70.58235294117647}, {'t_start': 70.58235294117647, 'acc': 2, 'v_0': 21.0, 't_end': 74.08235294117647}, {'t_start': 74.08235294117647, 'acc': 0, 'v_0': 28.0, 't_end': 74.40238095238095}, {'t_start': 74.40238095238095, 'acc': 2, 'v_0': 28.0, 't_end': 75.40238095238095}, {'t_start': 75.40238095238095, 'acc': 0, 'v_0': 30.0, 't_end': 87.69437441643322}]\n",
      "merged: [{'acc': 0, 't_start': 42.41397208767018, 'v_0': 20, 't_end': 48.2, 'x_start': 0}, {'t_start': 48.2, 'acc': -3, 'v_0': 20.0, 't_end': 49.2}, {'t_start': 49.2, 'acc': 0, 'v_0': 17.0, 't_end': 66.7}, {'t_start': 66.7, 'acc': 2, 'v_0': 17.0, 't_end': 68.7}, {'t_start': 68.7, 'acc': 0, 'v_0': 21.0, 't_end': 70.58235294117647}, {'t_start': 70.58235294117647, 'acc': 2, 'v_0': 21.0, 't_end': 74.08235294117647}, {'t_start': 74.08235294117647, 'acc': 0, 'v_0': 28.0, 't_end': 74.40238095238095}, {'t_start': 74.40238095238095, 'acc': 2, 'v_0': 28.0, 't_end': 75.40238095238095}, {'t_start': 75.40238095238095, 'acc': 0, 'v_0': 30.0, 't_end': 87.69437441643322}]\n",
      "==== START CREATING ETA====\n",
      "acc_itinerary: [{'acc': 0, 't_start': 42.41397208767018, 'v_0': 20, 't_end': 48.2, 'x_start': 0}, {'t_start': 48.2, 'acc': -3, 'v_0': 20.0, 't_end': 49.2}, {'t_start': 49.2, 'acc': 0, 'v_0': 17.0, 't_end': 66.7}, {'t_start': 66.7, 'acc': 2, 'v_0': 17.0, 't_end': 68.7}, {'t_start': 68.7, 'acc': 0, 'v_0': 21.0, 't_end': 70.58235294117647}, {'t_start': 70.58235294117647, 'acc': 2, 'v_0': 21.0, 't_end': 74.08235294117647}, {'t_start': 74.08235294117647, 'acc': 0, 'v_0': 28.0, 't_end': 74.40238095238095}, {'t_start': 74.40238095238095, 'acc': 2, 'v_0': 28.0, 't_end': 75.40238095238095}, {'t_start': 75.40238095238095, 'acc': 0, 'v_0': 30.0, 't_end': 87.69437441643322}]\n",
      "ID: 8の新しいETA（Validate前） [{'waypoint_idx': 0, 'x': 0.0, 'eta': 42.41397208767018, 'car_idx': 8, 'type': 'waypoint'}, {'waypoint_idx': 1, 'x': 100.0, 'eta': 47.41397208767018, 'car_idx': 8, 'type': 'waypoint'}, {'waypoint_idx': 2, 'x': 200.0, 'eta': 53.0693789266708, 'car_idx': 8, 'type': 'waypoint'}, {'waypoint_idx': 3, 'x': 300.0, 'eta': 58.95173186784727, 'car_idx': 8, 'type': 'waypoint'}, {'waypoint_idx': 4, 'x': 400.0, 'eta': 64.83408480902375, 'car_idx': 8, 'type': 'waypoint'}, {'waypoint_idx': 5, 'x': 500.0, 'eta': 70.1418781787335, 'car_idx': 8, 'type': 'waypoint'}, {'waypoint_idx': 6, 'x': 600.0, 'eta': 74.26092544077282, 'car_idx': 8, 'type': 'waypoint'}, {'waypoint_idx': 7, 'x': 700.0, 'eta': 77.63702247488003, 'car_idx': 8, 'type': 'waypoint'}, {'waypoint_idx': 8, 'x': 800.0, 'eta': 80.97035580821337, 'car_idx': 8, 'type': 'waypoint'}, {'waypoint_idx': 9, 'x': 900.0, 'eta': 84.3036891415467, 'car_idx': 8, 'type': 'waypoint'}, {'waypoint_idx': 10, 'x': 1000.0, 'eta': 87.63702247488003, 'car_idx': 8, 'type': 'waypoint'}, {'eta': 66.59879069137668, 'car_idx': 8, 'type': 'noise', 'x': 430}]\n",
      "t=50.0, car_id:0, xcor:1450.8899999999933, speed:30.200000000000024\n",
      "t=50.0, car_id:1, xcor:860.0, speed:20.0\n",
      "t=50.0, car_id:2, xcor:768.0, speed:20.0\n",
      "t=50.0, car_id:3, xcor:544.3799999999977, speed:16.89999999999995\n",
      "t=50.0, car_id:4, xcor:508.3100000000011, speed:24.899999999999956\n",
      "t=50.0, car_id:5, xcor:450.55000000000115, speed:21.499999999999986\n",
      "t=50.0, car_id:6, xcor:353.07000000000005, speed:13.699999999999985\n",
      "t=50.0, car_id:7, xcor:249.69999999999996, speed:13.999999999999986\n",
      "t=50.0, car_id:8, xcor:147.64999999999986, speed:16.999999999999993\n",
      "t=50.0, car_id:9, xcor:46.0, speed:20.0\n",
      "\n",
      "t=53.0, next_car=11, current_noise= [{'x': [400, 430], 't': [53.0, 56.0]}], event_flg=arrival\n",
      "carID: 0, Start:1528.3333333333333, End:1618.3333333333333\n",
      "carID: 1, Start:919.4330405267318, End:979.4330405267318\n",
      "carID: 2, Start:827.2018318267938, End:887.2018318267938\n",
      "carID: 3, Start:658.989175141721, End:732.489175141721\n",
      "carID: 4, Start:582.4873046171252, End:658.5028905289092\n",
      "carID: 5, Start:515.0355639356835, End:589.5895301676032\n",
      "carID: 6, Start:380.6634635266906, End:395.6634635266906\n",
      "[{'acc': 0, 't_start': 37.22427821224153, 'v_0': 20, 't_end': 48.1, 'x_start': 0}, {'t_start': 48.1, 'acc': -3, 'v_0': 20.0, 't_end': 50.6}, {'t_start': 50.6, 'acc': 0, 'v_0': 12.5, 't_end': 62.07}, {'t_start': 62.07, 'acc': 2, 'v_0': 12.5, 't_end': 64.07}, {'t_start': 64.07, 'acc': 0, 'v_0': 16.5, 't_end': 64.15}, {'t_start': 64.15, 'acc': 2, 'v_0': 16.5, 't_end': 67.4}, {'t_start': 67.4, 'acc': 0, 'v_0': 23.0, 't_end': 67.73287878787879}, {'t_start': 67.73287878787879, 'acc': 2, 'v_0': 23.0, 't_end': 70.23287878787879}, {'t_start': 70.23287878787879, 'acc': 0, 'v_0': 28.0, 't_end': 71.71489130434783}, {'t_start': 71.71489130434783, 'acc': 2, 'v_0': 28.0, 't_end': 72.71489130434783}, {'t_start': 72.71489130434783, 'acc': 0, 'v_0': 30.0, 't_end': 84.83455588493631}] 53.0 56.0 53.0 286.24999999999994\n",
      "carID: 7, Start:288.1394357551694, End:325.6394357551694\n",
      "carID: 8, Start:198.82055824659636, End:249.82055824659636\n",
      "carID: 9, Start:104.34548853970554, End:164.34548853970554\n",
      "carID: 10, Start:0.2738785673514599, End:60.27387856735146\n",
      "直接ノイズの影響を受けるもの: []\n",
      "他の車の影響: []\n",
      "対象車: []\n",
      "noise created!\n",
      "noise created!\n",
      "\n",
      "t=58.2, next_car=12, current_noise= [], event_flg=arrival\n",
      "直接ノイズの影響を受けるもの: []\n",
      "他の車の影響: []\n",
      "対象車: []\n",
      "noise created!\n",
      "noise created!\n",
      "t=60.0, car_id:0, xcor:1752.8899999999915, speed:30.200000000000024\n",
      "t=60.0, car_id:1, xcor:1060.0, speed:20.0\n",
      "t=60.0, car_id:2, xcor:968.0, speed:20.0\n",
      "t=60.0, car_id:3, xcor:713.8399999999928, speed:17.299999999999947\n",
      "t=60.0, car_id:4, xcor:759.7699999999998, speed:25.299999999999955\n",
      "t=60.0, car_id:5, xcor:692.5499999999979, speed:25.49999999999997\n",
      "t=60.0, car_id:6, xcor:425.8099999999999, speed:11.399999999999965\n",
      "t=60.0, car_id:7, xcor:374.99999999999994, speed:12.499999999999982\n",
      "t=60.0, car_id:8, xcor:317.6499999999987, speed:16.999999999999993\n",
      "t=60.0, car_id:9, xcor:246.0, speed:20.0\n",
      "t=60.0, car_id:10, xcor:142.0, speed:20.0\n",
      "t=60.0, car_id:11, xcor:38.0, speed:20.0\n",
      "noise created!\n",
      "noise created!\n",
      "\n",
      "t=62.900000000000006, next_car=13, current_noise= [], event_flg=arrival\n",
      "直接ノイズの影響を受けるもの: []\n",
      "他の車の影響: []\n",
      "対象車: []\n",
      "noise created!\n",
      "noise created!\n",
      "\n",
      "t=64.0, next_car=13, current_noise= [{'x': [400, 430], 't': [69.0, 72.0]}], event_flg=noise created\n",
      "carID: 0, Start:2008.3333333333335, End:2098.3333333333335\n",
      "carID: 1, Start:1239.433040526732, End:1299.4330405267317\n",
      "carID: 2, Start:1147.2018318267938, End:1207.2018318267938\n",
      "carID: 3, Start:1056.024426447325, End:1131.024426447325\n",
      "carID: 4, Start:990.0028905289093, End:1066.5028905289091\n",
      "carID: 5, Start:921.4079599688135, End:999.4079599688135\n",
      "carID: 6, Start:605.7644965179658, End:695.4324675917313\n",
      "[{'acc': 0, 't_start': 37.22427821224153, 'v_0': 20, 't_end': 48.1, 'x_start': 0}, {'t_start': 48.1, 'acc': -3, 'v_0': 20.0, 't_end': 50.6}, {'t_start': 50.6, 'acc': 0, 'v_0': 12.5, 't_end': 62.07}, {'t_start': 62.07, 'acc': 2, 'v_0': 12.5, 't_end': 64.07}, {'t_start': 64.07, 'acc': 0, 'v_0': 16.5, 't_end': 64.15}, {'t_start': 64.15, 'acc': 2, 'v_0': 16.5, 't_end': 67.4}, {'t_start': 67.4, 'acc': 0, 'v_0': 23.0, 't_end': 67.73287878787879}, {'t_start': 67.73287878787879, 'acc': 2, 'v_0': 23.0, 't_end': 70.23287878787879}, {'t_start': 70.23287878787879, 'acc': 0, 'v_0': 28.0, 't_end': 71.71489130434783}, {'t_start': 71.71489130434783, 'acc': 2, 'v_0': 28.0, 't_end': 72.71489130434783}, {'t_start': 72.71489130434783, 'acc': 0, 'v_0': 30.0, 't_end': 84.83455588493631}] 69.0 72.0 64.0 427.5499999999999\n",
      "carID: 7, Start:534.427531921377, End:616.9888287841119\n",
      "carID: 8, Start:476.02055824659635, End:541.0302814299873\n",
      "carID: 9, Start:424.34548853970557, End:484.34548853970557\n",
      "carID: 10, Start:320.27387856735146, End:380.27387856735146\n",
      "carID: 11, Start:217.21286059427996, End:277.21286059427996\n",
      "carID: 12, Start:122.35141990825952, End:182.35141990825952\n",
      "直接ノイズの影響を受けるもの: [9]\n",
      "他の車の影響: []\n",
      "対象車: [9]\n",
      "t=64.0, car_id:9 avoiding noise.\n",
      "avoidance by idx=9\n",
      "{'x': [400, 430], 't': [69.0, 72.0]} True\n",
      "5.0 3 30\n",
      "eta: 69.19879069137667, 前の車に当たらない最速の時間:69.09879069137668, ノイズ開始:69.0\n",
      "[{'x': [400, 430], 't': [69.0, 72.0]}] [9.498812648418948]\n",
      "Early avoid 不可, late avoidの探索開始.\n",
      "target_time: 72.0\n",
      "cover_distance 63.58500000000001 387.58500000000004 400\n",
      "Loops:  0\n",
      "Loops:  1\n",
      "Loops:  2\n",
      "Loops:  3\n",
      "Loops:  4\n",
      "Loops:  5\n",
      "Loops:  6\n",
      "Loops:  7\n",
      "Loops:  8\n",
      "Loops:  9\n",
      "Loops:  10\n",
      "first: start_params. {'v0': 3.5, 'x0': 430.0, 't0': 81.32142857142857}\n",
      "first: start_params. {'v0': 11.5, 'x0': 500.0, 't0': 82.83695652173913}\n",
      "first: start_params. {'v0': 20.0, 'x0': 600.0, 't0': 86.153125}\n",
      "first: start_params. {'v0': 28.0, 'x0': 700.0, 't0': 88.89974767080746}\n",
      "first: start_params. {'v0': 30.0, 'x0': 800.0, 't0': 92.02997282608695}\n",
      "cover_distance 21.732627360822107 821.7326273608221 900.0\n",
      "first: start_params. {'v0': 30.0, 'x0': 900.0, 't0': 95.36330615942028}\n",
      "cover_distance 63.802196959516706 963.8021969595167 1000.0\n",
      "first: start_params. {'v0': 30.0, 'x0': 1000.0, 't0': 98.6966394927536}\n",
      " acc: [{'t_start': 64.0, 'acc': -3, 'v_0': 20.0, 't_end': 69.5}, {'t_start': 69.5, 'acc': 0, 'v_0': 3.5, 't_end': 72.75}, {'t_start': 72.75, 'acc': 2, 'v_0': 3.5, 't_end': 76.75}, {'t_start': 76.75, 'acc': 0, 'v_0': 11.5, 't_end': 76.75}, {'t_start': 76.75, 'acc': 2, 'v_0': 11.5, 't_end': 81.0}, {'t_start': 81.0, 'acc': 0, 'v_0': 20.0, 't_end': 81.2663043478261}, {'t_start': 81.2663043478261, 'acc': 2, 'v_0': 20.0, 't_end': 85.2663043478261}, {'t_start': 85.2663043478261, 'acc': 0, 'v_0': 28.0, 't_end': 85.353125}, {'t_start': 85.353125, 'acc': 2, 'v_0': 28.0, 't_end': 86.353125}, {'t_start': 86.353125, 'acc': 0, 'v_0': 30.0, 't_end': 98.6966394927536}]\n",
      "pre_itinerary:  [{'acc': 0, 't_start': 47.78272557301472, 'v_0': 20, 't_end': 10000000.0, 'x_start': 0}] new_itinerary:  [{'t_start': 64.0, 'acc': -3, 'v_0': 20.0, 't_end': 69.5}, {'t_start': 69.5, 'acc': 0, 'v_0': 3.5, 't_end': 72.75}, {'t_start': 72.75, 'acc': 2, 'v_0': 3.5, 't_end': 76.75}, {'t_start': 76.75, 'acc': 0, 'v_0': 11.5, 't_end': 76.75}, {'t_start': 76.75, 'acc': 2, 'v_0': 11.5, 't_end': 81.0}, {'t_start': 81.0, 'acc': 0, 'v_0': 20.0, 't_end': 81.2663043478261}, {'t_start': 81.2663043478261, 'acc': 2, 'v_0': 20.0, 't_end': 85.2663043478261}, {'t_start': 85.2663043478261, 'acc': 0, 'v_0': 28.0, 't_end': 85.353125}, {'t_start': 85.353125, 'acc': 2, 'v_0': 28.0, 't_end': 86.353125}, {'t_start': 86.353125, 'acc': 0, 'v_0': 30.0, 't_end': 98.6966394927536}]\n",
      "merged: [{'acc': 0, 't_start': 47.78272557301472, 'v_0': 20, 't_end': 64.0, 'x_start': 0}, {'t_start': 64.0, 'acc': -3, 'v_0': 20.0, 't_end': 69.5}, {'t_start': 69.5, 'acc': 0, 'v_0': 3.5, 't_end': 72.75}, {'t_start': 72.75, 'acc': 2, 'v_0': 3.5, 't_end': 76.75}, {'t_start': 76.75, 'acc': 0, 'v_0': 11.5, 't_end': 76.75}, {'t_start': 76.75, 'acc': 2, 'v_0': 11.5, 't_end': 81.0}, {'t_start': 81.0, 'acc': 0, 'v_0': 20.0, 't_end': 81.2663043478261}, {'t_start': 81.2663043478261, 'acc': 2, 'v_0': 20.0, 't_end': 85.2663043478261}, {'t_start': 85.2663043478261, 'acc': 0, 'v_0': 28.0, 't_end': 85.353125}, {'t_start': 85.353125, 'acc': 2, 'v_0': 28.0, 't_end': 86.353125}, {'t_start': 86.353125, 'acc': 0, 'v_0': 30.0, 't_end': 98.6966394927536}]\n",
      "==== START CREATING ETA====\n",
      "acc_itinerary: [{'acc': 0, 't_start': 47.78272557301472, 'v_0': 20, 't_end': 64.0, 'x_start': 0}, {'t_start': 64.0, 'acc': -3, 'v_0': 20.0, 't_end': 69.5}, {'t_start': 69.5, 'acc': 0, 'v_0': 3.5, 't_end': 72.75}, {'t_start': 72.75, 'acc': 2, 'v_0': 3.5, 't_end': 76.75}, {'t_start': 76.75, 'acc': 0, 'v_0': 11.5, 't_end': 76.75}, {'t_start': 76.75, 'acc': 2, 'v_0': 11.5, 't_end': 81.0}, {'t_start': 81.0, 'acc': 0, 'v_0': 20.0, 't_end': 81.2663043478261}, {'t_start': 81.2663043478261, 'acc': 2, 'v_0': 20.0, 't_end': 85.2663043478261}, {'t_start': 85.2663043478261, 'acc': 0, 'v_0': 28.0, 't_end': 85.353125}, {'t_start': 85.353125, 'acc': 2, 'v_0': 28.0, 't_end': 86.353125}, {'t_start': 86.353125, 'acc': 0, 'v_0': 30.0, 't_end': 98.6966394927536}]\n",
      "ID: 9の新しいETA（Validate前） [{'waypoint_idx': 0, 'x': 0.0, 'eta': 47.78272557301472, 'car_idx': 9, 'type': 'waypoint'}, {'waypoint_idx': 1, 'x': 100.0, 'eta': 52.78272557301472, 'car_idx': 9, 'type': 'waypoint'}, {'waypoint_idx': 2, 'x': 200.0, 'eta': 57.78272557301472, 'car_idx': 9, 'type': 'waypoint'}, {'waypoint_idx': 3, 'x': 300.0, 'eta': 62.78272557301472, 'car_idx': 9, 'type': 'waypoint'}, {'waypoint_idx': 4, 'x': 400.0, 'eta': 72.65128898865555, 'car_idx': 9, 'type': 'waypoint'}, {'waypoint_idx': 5, 'x': 500.0, 'eta': 81.13585057301472, 'car_idx': 9, 'type': 'waypoint'}, {'waypoint_idx': 6, 'x': 600.0, 'eta': 85.31598022296083, 'car_idx': 9, 'type': 'waypoint'}, {'waypoint_idx': 7, 'x': 700.0, 'eta': 88.68512320809677, 'car_idx': 9, 'type': 'waypoint'}, {'waypoint_idx': 8, 'x': 800.0, 'eta': 92.01845654143011, 'car_idx': 9, 'type': 'waypoint'}, {'waypoint_idx': 9, 'x': 900.0, 'eta': 95.35178987476344, 'car_idx': 9, 'type': 'waypoint'}, {'waypoint_idx': 10, 'x': 1000.0, 'eta': 98.68512320809677, 'car_idx': 9, 'type': 'waypoint'}, {'eta': 76.71987862286382, 'car_idx': 9, 'type': 'noise', 'x': 430}]\n",
      "直接ノイズの影響を受けるもの: []\n",
      "他の車の影響: [10, 11]\n",
      "対象車: [10, 11]\n",
      "t=64.10000000000001, car_id:10 changed by leading car.\n",
      "avoidance by idx=10\n",
      "{'x': [400, 430], 't': [69.0, 72.0]} True\n",
      "4.8999999999999915 3 30\n",
      "[{'x': [400, 430], 't': [69.0, 72.0]}] [22.528793823566662]\n",
      "Early avoid 不可, late avoidの探索開始.\n",
      "target_time: 75.15128898865555\n",
      "late avoid with leader: boundary: [{'waypoint_idx': 0.0, 'x': 0.0, 'eta': 50.43272557301472, 'car_idx': 10, 'type': 'waypoint'}, {'waypoint_idx': 1.0, 'x': 100.0, 'eta': 55.43272557301472, 'car_idx': 10, 'type': 'waypoint'}, {'waypoint_idx': 2.0, 'x': 200.0, 'eta': 60.43272557301472, 'car_idx': 10, 'type': 'waypoint'}, {'waypoint_idx': 3.0, 'x': 300.0, 'eta': 65.43272557301472, 'car_idx': 10, 'type': 'waypoint'}, {'waypoint_idx': 4.0, 'x': 400.0, 'eta': 75.30128898865556, 'car_idx': 10, 'type': 'waypoint'}, {'waypoint_idx': nan, 'x': 430.0, 'eta': 79.36987862286382, 'car_idx': 10, 'type': 'noise'}, {'waypoint_idx': 5.0, 'x': 500.0, 'eta': 83.78585057301473, 'car_idx': 10, 'type': 'waypoint'}, {'waypoint_idx': 6.0, 'x': 600.0, 'eta': 87.96598022296084, 'car_idx': 10, 'type': 'waypoint'}, {'waypoint_idx': 7.0, 'x': 700.0, 'eta': 91.33512320809677, 'car_idx': 10, 'type': 'waypoint'}, {'waypoint_idx': 8.0, 'x': 800.0, 'eta': 94.66845654143012, 'car_idx': 10, 'type': 'waypoint'}, {'waypoint_idx': 9.0, 'x': 900.0, 'eta': 98.00178987476345, 'car_idx': 10, 'type': 'waypoint'}, {'waypoint_idx': 10.0, 'x': 1000.0, 'eta': 101.33512320809677, 'car_idx': 10, 'type': 'waypoint'}] \n",
      " itinerary: [{'t_start': 64.10000000000001, 'acc': 0, 'v_0': 20.0, 't_end': 50.43272557301472}]\n",
      "{'v0': 20.0, 'x0': 222.0, 't0': 64.10000000000001} {'xe': 300.0, 'te': 65.43272557301472}\n",
      "減速すべき区間, goal:400.0, sp:{'v0': 20.0, 'x0': 222.0, 't0': 64.10000000000001}\n",
      "Loops:  0\n",
      "cover_distance 50.43877581547248 450.43877581547247 430.0\n",
      "Loops:  1\n",
      "cover_distance 44.33589136416009 444.3358913641601 430.0\n",
      "Loops:  2\n",
      "cover_distance 38.2330069128477 438.2330069128477 430.0\n",
      "Loops:  3\n",
      "cover_distance 32.130122461535294 432.1301224615353 430.0\n",
      "Loops:  4\n",
      "cover_distance 26.0272380102229 426.0272380102229 430.0\n",
      "{'v0': 12.5, 'x0': 400.0, 't0': 77.59} {'xe': 430.0, 'te': 79.36987862286382}\n",
      "first: start_params. {'v0': 12.5, 'x0': 430.0, 't0': 79.99000000000001}\n",
      "{'v0': 16.5, 'x0': 430.0, 't0': 79.65060606060607} {'xe': 500.0, 'te': 83.78585057301473}\n",
      "first: start_params. {'v0': 16.5, 'x0': 500.0, 't0': 83.89303030303032}\n",
      "{'v0': 16.5, 'x0': 500.0, 't0': 83.89303030303032} {'xe': 600.0, 'te': 87.96598022296084}\n",
      "first: start_params. {'v0': 16.5, 'x0': 600.0, 't0': 89.95363636363638}\n",
      "{'v0': 25.5, 'x0': 600.0, 't0': 88.60871657754011} {'xe': 700.0, 'te': 91.33512320809677}\n",
      "first: start_params. {'v0': 25.5, 'x0': 700.0, 't0': 92.53028520499109}\n",
      "{'v0': 30.0, 'x0': 700.0, 't0': 92.12844696969698} {'xe': 800.0, 'te': 94.66845654143012}\n",
      "first: start_params. {'v0': 30.0, 'x0': 800.0, 't0': 95.46178030303031}\n",
      "{'v0': 30.0, 'x0': 800.0, 't0': 95.46178030303031} {'xe': 900.0, 'te': 98.00178987476345}\n",
      "first: start_params. {'v0': 30.0, 'x0': 900.0, 't0': 98.79511363636364}\n",
      "{'v0': 30.0, 'x0': 900.0, 't0': 98.79511363636364} {'xe': 1000.0, 'te': 101.33512320809677}\n",
      "first: start_params. {'v0': 30.0, 'x0': 1000.0, 't0': 102.12844696969697}\n",
      "pre_itinerary:  [{'acc': 0, 't_start': 52.98630607163243, 'v_0': 20, 't_end': 10000000.0, 'x_start': 0}] new_itinerary:  [{'t_start': 64.10000000000001, 'acc': -3, 'v_0': 20.0, 't_end': 66.60000000000001}, {'t_start': 66.60000000000001, 'acc': 0, 'v_0': 12.5, 't_end': 77.59}, {'t_start': 77.59, 'acc': 2, 'v_0': 12.5, 't_end': 79.59}, {'t_start': 79.59, 'acc': 0, 'v_0': 16.5, 't_end': 83.89303030303032}, {'t_start': 83.89303030303032, 'acc': 2, 'v_0': 16.5, 't_end': 88.39303030303032}, {'t_start': 88.39303030303032, 'acc': 0, 'v_0': 25.5, 't_end': 88.72636363636364}, {'t_start': 88.72636363636364, 'acc': 2, 'v_0': 25.5, 't_end': 90.97636363636364}, {'t_start': 90.97636363636364, 'acc': 0, 'v_0': 30.0, 't_end': 102.12844696969697}]\n",
      "merged: [{'acc': 0, 't_start': 52.98630607163243, 'v_0': 20, 't_end': 64.10000000000001, 'x_start': 0}, {'t_start': 64.10000000000001, 'acc': -3, 'v_0': 20.0, 't_end': 66.60000000000001}, {'t_start': 66.60000000000001, 'acc': 0, 'v_0': 12.5, 't_end': 77.59}, {'t_start': 77.59, 'acc': 2, 'v_0': 12.5, 't_end': 79.59}, {'t_start': 79.59, 'acc': 0, 'v_0': 16.5, 't_end': 83.89303030303032}, {'t_start': 83.89303030303032, 'acc': 2, 'v_0': 16.5, 't_end': 88.39303030303032}, {'t_start': 88.39303030303032, 'acc': 0, 'v_0': 25.5, 't_end': 88.72636363636364}, {'t_start': 88.72636363636364, 'acc': 2, 'v_0': 25.5, 't_end': 90.97636363636364}, {'t_start': 90.97636363636364, 'acc': 0, 'v_0': 30.0, 't_end': 102.12844696969697}]\n",
      "==== START CREATING ETA====\n",
      "acc_itinerary: [{'acc': 0, 't_start': 52.98630607163243, 'v_0': 20, 't_end': 64.10000000000001, 'x_start': 0}, {'t_start': 64.10000000000001, 'acc': -3, 'v_0': 20.0, 't_end': 66.60000000000001}, {'t_start': 66.60000000000001, 'acc': 0, 'v_0': 12.5, 't_end': 77.59}, {'t_start': 77.59, 'acc': 2, 'v_0': 12.5, 't_end': 79.59}, {'t_start': 79.59, 'acc': 0, 'v_0': 16.5, 't_end': 83.89303030303032}, {'t_start': 83.89303030303032, 'acc': 2, 'v_0': 16.5, 't_end': 88.39303030303032}, {'t_start': 88.39303030303032, 'acc': 0, 'v_0': 25.5, 't_end': 88.72636363636364}, {'t_start': 88.72636363636364, 'acc': 2, 'v_0': 25.5, 't_end': 90.97636363636364}, {'t_start': 90.97636363636364, 'acc': 0, 'v_0': 30.0, 't_end': 102.12844696969697}]\n",
      "ID: 10の新しいETA（Validate前） [{'waypoint_idx': 0, 'x': 0.0, 'eta': 52.98630607163243, 'car_idx': 10, 'type': 'waypoint'}, {'waypoint_idx': 1, 'x': 100.0, 'eta': 57.98630607163243, 'car_idx': 10, 'type': 'waypoint'}, {'waypoint_idx': 2, 'x': 200.0, 'eta': 62.98630607163243, 'car_idx': 10, 'type': 'waypoint'}, {'waypoint_idx': 3, 'x': 300.0, 'eta': 69.56808971461187, 'car_idx': 10, 'type': 'waypoint'}, {'waypoint_idx': 4, 'x': 400.0, 'eta': 77.56808971461187, 'car_idx': 10, 'type': 'waypoint'}, {'waypoint_idx': 5, 'x': 500.0, 'eta': 83.8764316019787, 'car_idx': 10, 'type': 'waypoint'}, {'waypoint_idx': 6, 'x': 600.0, 'eta': 88.59797624156555, 'car_idx': 10, 'type': 'waypoint'}, {'waypoint_idx': 7, 'x': 700.0, 'eta': 92.11931768411858, 'car_idx': 10, 'type': 'waypoint'}, {'waypoint_idx': 8, 'x': 800.0, 'eta': 95.45265101745193, 'car_idx': 10, 'type': 'waypoint'}, {'waypoint_idx': 9, 'x': 900.0, 'eta': 98.78598435078526, 'car_idx': 10, 'type': 'waypoint'}, {'waypoint_idx': 10, 'x': 1000.0, 'eta': 102.11931768411858, 'car_idx': 10, 'type': 'waypoint'}, {'eta': 79.63400735955446, 'car_idx': 10, 'type': 'noise', 'x': 430}]\n",
      "直接ノイズの影響を受けるもの: []\n",
      "他の車の影響: [11]\n",
      "対象車: [11]\n",
      "t=64.2, car_id:11 changed by leading car.\n",
      "avoidance by idx=11\n",
      "{'x': [400, 430], 't': [69.0, 72.0]} True\n",
      "4.799999999999997 3 30\n",
      "[{'x': [400, 430], 't': [69.0, 72.0]}] [35.892834252018986]\n",
      "Early avoid 不可, late avoidの探索開始.\n",
      "target_time: 80.06808971461187\n",
      "late avoid with leader: boundary: [{'waypoint_idx': 0.0, 'x': 0.0, 'eta': 55.636306071632426, 'car_idx': 11, 'type': 'waypoint'}, {'waypoint_idx': 1.0, 'x': 100.0, 'eta': 60.636306071632426, 'car_idx': 11, 'type': 'waypoint'}, {'waypoint_idx': 2.0, 'x': 200.0, 'eta': 65.63630607163243, 'car_idx': 11, 'type': 'waypoint'}, {'waypoint_idx': 3.0, 'x': 300.0, 'eta': 72.21808971461188, 'car_idx': 11, 'type': 'waypoint'}, {'waypoint_idx': 4.0, 'x': 400.0, 'eta': 80.21808971461188, 'car_idx': 11, 'type': 'waypoint'}, {'waypoint_idx': nan, 'x': 430.0, 'eta': 82.28400735955447, 'car_idx': 11, 'type': 'noise'}, {'waypoint_idx': 5.0, 'x': 500.0, 'eta': 86.5264316019787, 'car_idx': 11, 'type': 'waypoint'}, {'waypoint_idx': 6.0, 'x': 600.0, 'eta': 91.24797624156555, 'car_idx': 11, 'type': 'waypoint'}, {'waypoint_idx': 7.0, 'x': 700.0, 'eta': 94.76931768411859, 'car_idx': 11, 'type': 'waypoint'}, {'waypoint_idx': 8.0, 'x': 800.0, 'eta': 98.10265101745193, 'car_idx': 11, 'type': 'waypoint'}, {'waypoint_idx': 9.0, 'x': 900.0, 'eta': 101.43598435078526, 'car_idx': 11, 'type': 'waypoint'}, {'waypoint_idx': 10.0, 'x': 1000.0, 'eta': 104.76931768411859, 'car_idx': 11, 'type': 'waypoint'}] \n",
      " itinerary: [{'t_start': 64.2, 'acc': 0, 'v_0': 20.0, 't_end': 55.636306071632426}]\n",
      "{'v0': 20.0, 'x0': 120.0, 't0': 64.2} {'xe': 200.0, 'te': 65.63630607163243}\n",
      "{'v0': 20.0, 'x0': 120.0, 't0': 64.2} {'xe': 300.0, 'te': 72.21808971461188}\n",
      "減速すべき区間, goal:400.0, sp:{'v0': 20.0, 'x0': 120.0, 't0': 64.2}\n",
      "Loops:  0\n",
      "cover_distance 31.817452857910173 431.81745285791015 430.0\n",
      "Loops:  1\n",
      "cover_distance 28.718576390496292 428.7185763904963 430.0\n",
      "{'v0': 17.0, 'x0': 400.0, 't0': 80.58235294117648} {'xe': 430.0, 'te': 82.28400735955447}\n",
      "減速すべき区間, goal:500.0, sp:{'v0': 17.0, 'x0': 400.0, 't0': 80.58235294117648}\n",
      "Loops:  0\n",
      "cover_distance 39.7444662381792 539.7444662381793 600.0\n",
      "{'v0': 15.5, 'x0': 500.0, 't0': 87.00977229601519} {'xe': 600.0, 'te': 91.24797624156555}\n",
      "first: start_params. {'v0': 15.5, 'x0': 600.0, 't0': 93.461385199241}\n",
      "{'v0': 25.0, 'x0': 600.0, 't0': 91.91227229601519} {'xe': 700.0, 'te': 94.76931768411859}\n",
      "first: start_params. {'v0': 25.0, 'x0': 700.0, 't0': 95.91227229601519}\n",
      "{'v0': 30.0, 'x0': 700.0, 't0': 95.4695169196711} {'xe': 800.0, 'te': 98.10265101745193}\n",
      "first: start_params. {'v0': 30.0, 'x0': 800.0, 't0': 98.80285025300442}\n",
      "{'v0': 30.0, 'x0': 800.0, 't0': 98.80285025300442} {'xe': 900.0, 'te': 101.43598435078526}\n",
      "first: start_params. {'v0': 30.0, 'x0': 900.0, 't0': 102.13618358633775}\n",
      "{'v0': 30.0, 'x0': 900.0, 't0': 102.13618358633775} {'xe': 1000.0, 'te': 104.76931768411859}\n",
      "first: start_params. {'v0': 30.0, 'x0': 1000.0, 't0': 105.46951691967108}\n",
      "pre_itinerary:  [{'acc': 0, 't_start': 58.139356970286, 'v_0': 20, 't_end': 10000000.0, 'x_start': 0}] new_itinerary:  [{'t_start': 64.2, 'acc': -3, 'v_0': 20.0, 't_end': 65.2}, {'t_start': 65.2, 'acc': 0, 'v_0': 17.0, 't_end': 80.58235294117648}, {'t_start': 80.58235294117648, 'acc': -3, 'v_0': 17.0, 't_end': 81.08235294117648}, {'t_start': 81.08235294117648, 'acc': 0, 'v_0': 15.5, 't_end': 87.00977229601519}, {'t_start': 87.00977229601519, 'acc': 2, 'v_0': 15.5, 't_end': 91.75977229601519}, {'t_start': 91.75977229601519, 'acc': 0, 'v_0': 25.0, 't_end': 92.00574003795067}, {'t_start': 92.00574003795067, 'acc': 2, 'v_0': 25.0, 't_end': 94.50574003795067}, {'t_start': 94.50574003795067, 'acc': 0, 'v_0': 30.0, 't_end': 105.46951691967108}]\n",
      "merged: [{'acc': 0, 't_start': 58.139356970286, 'v_0': 20, 't_end': 64.2, 'x_start': 0}, {'t_start': 64.2, 'acc': -3, 'v_0': 20.0, 't_end': 65.2}, {'t_start': 65.2, 'acc': 0, 'v_0': 17.0, 't_end': 80.58235294117648}, {'t_start': 80.58235294117648, 'acc': -3, 'v_0': 17.0, 't_end': 81.08235294117648}, {'t_start': 81.08235294117648, 'acc': 0, 'v_0': 15.5, 't_end': 87.00977229601519}, {'t_start': 87.00977229601519, 'acc': 2, 'v_0': 15.5, 't_end': 91.75977229601519}, {'t_start': 91.75977229601519, 'acc': 0, 'v_0': 25.0, 't_end': 92.00574003795067}, {'t_start': 92.00574003795067, 'acc': 2, 'v_0': 25.0, 't_end': 94.50574003795067}, {'t_start': 94.50574003795067, 'acc': 0, 'v_0': 30.0, 't_end': 105.46951691967108}]\n",
      "==== START CREATING ETA====\n",
      "acc_itinerary: [{'acc': 0, 't_start': 58.139356970286, 'v_0': 20, 't_end': 64.2, 'x_start': 0}, {'t_start': 64.2, 'acc': -3, 'v_0': 20.0, 't_end': 65.2}, {'t_start': 65.2, 'acc': 0, 'v_0': 17.0, 't_end': 80.58235294117648}, {'t_start': 80.58235294117648, 'acc': -3, 'v_0': 17.0, 't_end': 81.08235294117648}, {'t_start': 81.08235294117648, 'acc': 0, 'v_0': 15.5, 't_end': 87.00977229601519}, {'t_start': 87.00977229601519, 'acc': 2, 'v_0': 15.5, 't_end': 91.75977229601519}, {'t_start': 91.75977229601519, 'acc': 0, 'v_0': 25.0, 't_end': 92.00574003795067}, {'t_start': 92.00574003795067, 'acc': 2, 'v_0': 25.0, 't_end': 94.50574003795067}, {'t_start': 94.50574003795067, 'acc': 0, 'v_0': 30.0, 't_end': 105.46951691967108}]\n",
      "ID: 11の新しいETA（Validate前） [{'waypoint_idx': 0, 'x': 0.0, 'eta': 58.139356970286, 'car_idx': 11, 'type': 'waypoint'}, {'waypoint_idx': 1, 'x': 100.0, 'eta': 63.139356970286, 'car_idx': 11, 'type': 'waypoint'}, {'waypoint_idx': 2, 'x': 200.0, 'eta': 68.74630231798353, 'car_idx': 11, 'type': 'waypoint'}, {'waypoint_idx': 3, 'x': 300.0, 'eta': 74.62865525916, 'car_idx': 11, 'type': 'waypoint'}, {'waypoint_idx': 4, 'x': 400.0, 'eta': 80.51100820033648, 'car_idx': 11, 'type': 'waypoint'}, {'waypoint_idx': 5, 'x': 500.0, 'eta': 86.93152322541647, 'car_idx': 11, 'type': 'waypoint'}, {'waypoint_idx': 6, 'x': 600.0, 'eta': 91.86375787224398, 'car_idx': 11, 'type': 'waypoint'}, {'waypoint_idx': 7, 'x': 700.0, 'eta': 95.4290882331951, 'car_idx': 11, 'type': 'waypoint'}, {'waypoint_idx': 8, 'x': 800.0, 'eta': 98.76242156652843, 'car_idx': 11, 'type': 'waypoint'}, {'waypoint_idx': 9, 'x': 900.0, 'eta': 102.09575489986176, 'car_idx': 11, 'type': 'waypoint'}, {'waypoint_idx': 10, 'x': 1000.0, 'eta': 105.4290882331951, 'car_idx': 11, 'type': 'waypoint'}, {'eta': 82.4153941931584, 'car_idx': 11, 'type': 'noise', 'x': 430}]\n",
      "直接ノイズの影響を受けるもの: []\n",
      "他の車の影響: [12]\n",
      "対象車: [12]\n",
      "t=64.3, car_id:12 changed by leading car.\n",
      "avoidance by idx=12\n",
      "{'x': [400, 430], 't': [69.0, 72.0]} True\n",
      "4.700000000000003 3 30\n",
      "[{'x': [400, 430], 't': [69.0, 72.0]}] [48.30541488118424]\n",
      "Early avoid 不可, late avoidの探索開始.\n",
      "target_time: 83.01100820033648\n",
      "late avoid with leader: boundary: [{'waypoint_idx': 0.0, 'x': 0.0, 'eta': 60.789356970286, 'car_idx': 12, 'type': 'waypoint'}, {'waypoint_idx': 1.0, 'x': 100.0, 'eta': 65.78935697028601, 'car_idx': 12, 'type': 'waypoint'}, {'waypoint_idx': 2.0, 'x': 200.0, 'eta': 71.39630231798354, 'car_idx': 12, 'type': 'waypoint'}, {'waypoint_idx': 3.0, 'x': 300.0, 'eta': 77.27865525916, 'car_idx': 12, 'type': 'waypoint'}, {'waypoint_idx': 4.0, 'x': 400.0, 'eta': 83.16100820033648, 'car_idx': 12, 'type': 'waypoint'}, {'waypoint_idx': nan, 'x': 430.0, 'eta': 85.06539419315841, 'car_idx': 12, 'type': 'noise'}, {'waypoint_idx': 5.0, 'x': 500.0, 'eta': 89.58152322541648, 'car_idx': 12, 'type': 'waypoint'}, {'waypoint_idx': 6.0, 'x': 600.0, 'eta': 94.51375787224399, 'car_idx': 12, 'type': 'waypoint'}, {'waypoint_idx': 7.0, 'x': 700.0, 'eta': 98.07908823319511, 'car_idx': 12, 'type': 'waypoint'}, {'waypoint_idx': 8.0, 'x': 800.0, 'eta': 101.41242156652844, 'car_idx': 12, 'type': 'waypoint'}, {'waypoint_idx': 9.0, 'x': 900.0, 'eta': 104.74575489986177, 'car_idx': 12, 'type': 'waypoint'}, {'waypoint_idx': 10.0, 'x': 1000.0, 'eta': 108.07908823319511, 'car_idx': 12, 'type': 'waypoint'}] \n",
      " itinerary: [{'t_start': 64.3, 'acc': 0, 'v_0': 20.0, 't_end': 60.789356970286}]\n",
      "{'v0': 20.0, 'x0': 28.0, 't0': 64.3} {'xe': 100.0, 'te': 65.78935697028601}\n",
      "{'v0': 20.0, 'x0': 28.0, 't0': 64.3} {'xe': 200.0, 'te': 71.39630231798354}\n",
      "{'v0': 20.0, 'x0': 28.0, 't0': 64.3} {'xe': 300.0, 'te': 77.27865525916}\n",
      "減速すべき区間, goal:400.0, sp:{'v0': 20.0, 'x0': 28.0, 't0': 64.3}\n",
      "Loops:  0\n",
      "cover_distance 29.79111185272114 429.79111185272114 430.0\n",
      "{'v0': 18.5, 'x0': 400.0, 't0': 84.38783783783784} {'xe': 430.0, 'te': 85.06539419315841}\n",
      "first: start_params. {'v0': 18.5, 'x0': 430.0, 't0': 86.00945945945946}\n",
      "{'v0': 19.0, 'x0': 430.0, 't0': 85.9700746799431} {'xe': 500.0, 'te': 89.58152322541648}\n",
      "first: start_params. {'v0': 19.0, 'x0': 500.0, 't0': 89.65428520625889}\n",
      "{'v0': 19.0, 'x0': 500.0, 't0': 89.65428520625889} {'xe': 600.0, 'te': 94.51375787224399}\n",
      "first: start_params. {'v0': 19.0, 'x0': 600.0, 't0': 94.91744310099574}\n",
      "{'v0': 20.5, 'x0': 600.0, 't0': 94.55977301113694} {'xe': 700.0, 'te': 98.07908823319511}\n",
      "first: start_params. {'v0': 20.5, 'x0': 700.0, 't0': 99.43782179162474}\n",
      "{'v0': 28.0, 'x0': 700.0, 't0': 98.72130823257467} {'xe': 800.0, 'te': 101.41242156652844}\n",
      "first: start_params. {'v0': 28.0, 'x0': 800.0, 't0': 102.29273680400324}\n",
      "{'v0': 30.0, 'x0': 800.0, 't0': 102.09001076252761} {'xe': 900.0, 'te': 104.74575489986177}\n",
      "first: start_params. {'v0': 30.0, 'x0': 900.0, 't0': 105.42334409586094}\n",
      "{'v0': 30.0, 'x0': 900.0, 't0': 105.42334409586094} {'xe': 1000.0, 'te': 108.07908823319511}\n",
      "first: start_params. {'v0': 30.0, 'x0': 1000.0, 't0': 108.75667742919427}\n",
      "pre_itinerary:  [{'acc': 0, 't_start': 62.882429004587024, 'v_0': 20, 't_end': 10000000.0, 'x_start': 0}] new_itinerary:  [{'t_start': 64.3, 'acc': -3, 'v_0': 20.0, 't_end': 64.8}, {'t_start': 64.8, 'acc': 0, 'v_0': 18.5, 't_end': 84.38783783783784}, {'t_start': 84.38783783783784, 'acc': 2, 'v_0': 18.5, 't_end': 84.63783783783784}, {'t_start': 84.63783783783784, 'acc': 0, 'v_0': 19.0, 't_end': 89.65428520625889}, {'t_start': 89.65428520625889, 'acc': 2, 'v_0': 19.0, 't_end': 90.40428520625889}, {'t_start': 90.40428520625889, 'acc': 0, 'v_0': 20.5, 't_end': 94.88783783783784}, {'t_start': 94.88783783783784, 'acc': 2, 'v_0': 20.5, 't_end': 98.63783783783784}, {'t_start': 98.63783783783784, 'acc': 0, 'v_0': 28.0, 't_end': 98.75184618186864}, {'t_start': 98.75184618186864, 'acc': 2, 'v_0': 28.0, 't_end': 99.75184618186864}, {'t_start': 99.75184618186864, 'acc': 0, 'v_0': 30.0, 't_end': 108.75667742919427}]\n",
      "merged: [{'acc': 0, 't_start': 62.882429004587024, 'v_0': 20, 't_end': 64.3, 'x_start': 0}, {'t_start': 64.3, 'acc': -3, 'v_0': 20.0, 't_end': 64.8}, {'t_start': 64.8, 'acc': 0, 'v_0': 18.5, 't_end': 84.38783783783784}, {'t_start': 84.38783783783784, 'acc': 2, 'v_0': 18.5, 't_end': 84.63783783783784}, {'t_start': 84.63783783783784, 'acc': 0, 'v_0': 19.0, 't_end': 89.65428520625889}, {'t_start': 89.65428520625889, 'acc': 2, 'v_0': 19.0, 't_end': 90.40428520625889}, {'t_start': 90.40428520625889, 'acc': 0, 'v_0': 20.5, 't_end': 94.88783783783784}, {'t_start': 94.88783783783784, 'acc': 2, 'v_0': 20.5, 't_end': 98.63783783783784}, {'t_start': 98.63783783783784, 'acc': 0, 'v_0': 28.0, 't_end': 98.75184618186864}, {'t_start': 98.75184618186864, 'acc': 2, 'v_0': 28.0, 't_end': 99.75184618186864}, {'t_start': 99.75184618186864, 'acc': 0, 'v_0': 30.0, 't_end': 108.75667742919427}]\n",
      "==== START CREATING ETA====\n",
      "acc_itinerary: [{'acc': 0, 't_start': 62.882429004587024, 'v_0': 20, 't_end': 64.3, 'x_start': 0}, {'t_start': 64.3, 'acc': -3, 'v_0': 20.0, 't_end': 64.8}, {'t_start': 64.8, 'acc': 0, 'v_0': 18.5, 't_end': 84.38783783783784}, {'t_start': 84.38783783783784, 'acc': 2, 'v_0': 18.5, 't_end': 84.63783783783784}, {'t_start': 84.63783783783784, 'acc': 0, 'v_0': 19.0, 't_end': 89.65428520625889}, {'t_start': 89.65428520625889, 'acc': 2, 'v_0': 19.0, 't_end': 90.40428520625889}, {'t_start': 90.40428520625889, 'acc': 0, 'v_0': 20.5, 't_end': 94.88783783783784}, {'t_start': 94.88783783783784, 'acc': 2, 'v_0': 20.5, 't_end': 98.63783783783784}, {'t_start': 98.63783783783784, 'acc': 0, 'v_0': 28.0, 't_end': 98.75184618186864}, {'t_start': 98.75184618186864, 'acc': 2, 'v_0': 28.0, 't_end': 99.75184618186864}, {'t_start': 99.75184618186864, 'acc': 0, 'v_0': 30.0, 't_end': 108.75667742919427}]\n",
      "ID: 12の新しいETA（Validate前） [{'waypoint_idx': 0, 'x': 0.0, 'eta': 62.882429004587024, 'car_idx': 12, 'type': 'waypoint'}, {'waypoint_idx': 1, 'x': 100.0, 'eta': 68.15262595090489, 'car_idx': 12, 'type': 'waypoint'}, {'waypoint_idx': 2, 'x': 200.0, 'eta': 73.5580313563103, 'car_idx': 12, 'type': 'waypoint'}, {'waypoint_idx': 3, 'x': 300.0, 'eta': 78.9634367617157, 'car_idx': 12, 'type': 'waypoint'}, {'waypoint_idx': 4, 'x': 400.0, 'eta': 84.3688421671211, 'car_idx': 12, 'type': 'waypoint'}, {'waypoint_idx': 5, 'x': 500.0, 'eta': 89.63578942161365, 'car_idx': 12, 'type': 'waypoint'}, {'waypoint_idx': 6, 'x': 600.0, 'eta': 94.5426305765877, 'car_idx': 12, 'type': 'waypoint'}, {'waypoint_idx': 7, 'x': 700.0, 'eta': 98.70875752156542, 'car_idx': 12, 'type': 'waypoint'}, {'waypoint_idx': 8, 'x': 800.0, 'eta': 102.07829676558563, 'car_idx': 12, 'type': 'waypoint'}, {'waypoint_idx': 9, 'x': 900.0, 'eta': 105.41163009891896, 'car_idx': 12, 'type': 'waypoint'}, {'waypoint_idx': 10, 'x': 1000.0, 'eta': 108.74496343225229, 'car_idx': 12, 'type': 'waypoint'}, {'eta': 85.95157889529787, 'car_idx': 12, 'type': 'noise', 'x': 430}]\n",
      "\n",
      "t=67.7, next_car=14, current_noise= [{'x': [400, 430], 't': [69.0, 72.0]}], event_flg=arrival\n",
      "carID: 0, Start:2008.3333333333335, End:2098.3333333333335\n",
      "carID: 1, Start:1239.433040526732, End:1299.4330405267317\n",
      "carID: 2, Start:1147.2018318267938, End:1207.2018318267938\n",
      "carID: 3, Start:1056.024426447325, End:1131.024426447325\n",
      "carID: 4, Start:990.0028905289093, End:1066.5028905289091\n",
      "carID: 5, Start:921.4079599688135, End:999.4079599688135\n",
      "carID: 6, Start:605.7644965179658, End:695.4324675917313\n",
      "[{'acc': 0, 't_start': 37.22427821224153, 'v_0': 20, 't_end': 48.1, 'x_start': 0}, {'t_start': 48.1, 'acc': -3, 'v_0': 20.0, 't_end': 50.6}, {'t_start': 50.6, 'acc': 0, 'v_0': 12.5, 't_end': 62.07}, {'t_start': 62.07, 'acc': 2, 'v_0': 12.5, 't_end': 64.07}, {'t_start': 64.07, 'acc': 0, 'v_0': 16.5, 't_end': 64.15}, {'t_start': 64.15, 'acc': 2, 'v_0': 16.5, 't_end': 67.4}, {'t_start': 67.4, 'acc': 0, 'v_0': 23.0, 't_end': 67.73287878787879}, {'t_start': 67.73287878787879, 'acc': 2, 'v_0': 23.0, 't_end': 70.23287878787879}, {'t_start': 70.23287878787879, 'acc': 0, 'v_0': 28.0, 't_end': 71.71489130434783}, {'t_start': 71.71489130434783, 'acc': 2, 'v_0': 28.0, 't_end': 72.71489130434783}, {'t_start': 72.71489130434783, 'acc': 0, 'v_0': 30.0, 't_end': 84.83455588493631}] 69.0 72.0 67.7 501.0799999999998\n",
      "carID: 7, Start:534.427531921377, End:616.9888287841119\n",
      "carID: 8, Start:476.02055824659635, End:541.0302814299873\n",
      "carID: 9, Start:386.84548853970557, End:397.72048853970557\n",
      "carID: 10, Start:292.8988785673515, End:330.3988785673515\n",
      "carID: 11, Start:204.31286059427998, End:255.31286059427998\n",
      "carID: 12, Start:115.6764199082595, End:171.1764199082595\n",
      "carID: 13, Start:26.815911385094182, End:86.81591138509418\n",
      "直接ノイズの影響を受けるもの: []\n",
      "他の車の影響: []\n",
      "対象車: []\n",
      "t=70.0, car_id:0, xcor:2054.88999999999, speed:30.200000000000024\n",
      "t=70.0, car_id:1, xcor:1260.0, speed:20.0\n",
      "t=70.0, car_id:2, xcor:1168.0, speed:20.0\n",
      "t=70.0, car_id:3, xcor:886.8399999999946, speed:17.299999999999947\n",
      "t=70.0, car_id:4, xcor:1012.769999999997, speed:25.299999999999955\n",
      "t=70.0, car_id:5, xcor:948.2499999999948, speed:25.89999999999997\n",
      "t=70.0, car_id:6, xcor:637.2299999999993, speed:29.7999999999999\n",
      "t=70.0, car_id:7, xcor:561.5599999999997, speed:27.49999999999993\n",
      "t=70.0, car_id:8, xcor:497.4499999999983, speed:20.99999999999998\n",
      "t=70.0, car_id:9, xcor:389.9000000000001, speed:3.499999999999975\n",
      "t=70.0, car_id:10, xcor:305.9999999999999, speed:12.499999999999982\n",
      "t=70.0, car_id:11, xcor:221.64999999999938, speed:16.999999999999993\n",
      "t=70.0, car_id:12, xcor:135.59999999999982, speed:18.499999999999996\n",
      "t=70.0, car_id:13, xcor:48.0, speed:20.0\n",
      "\n",
      "t=72.60000000000001, next_car=15, current_noise= [], event_flg=arrival\n",
      "直接ノイズの影響を受けるもの: []\n",
      "他の車の影響: []\n",
      "対象車: []\n",
      "noise created!\n",
      "noise created!\n",
      "noise created!\n",
      "noise created!\n",
      "noise created!\n",
      "noise created!\n",
      "\n",
      "t=78.30000000000001, next_car=16, current_noise= [], event_flg=arrival\n",
      "直接ノイズの影響を受けるもの: []\n",
      "他の車の影響: []\n",
      "対象車: []\n",
      "noise created!\n"
     ]
    }
   ],
   "source": [
    "# ここからDFRのシミュレーション\n",
    "simulation = DFRSimulation(TOTAL_TIME = TOTAL_TIME, TIME_STEP = TIME_STEP, TOTAL_LENGTH = TOTAL_LENGTH, CARS = CARS, \\\n",
    "                          reservation_table = reservation_table)\n",
    "simulation.conduct_simulation(should_plot=True)"
   ]
  },
  {
   "cell_type": "code",
   "execution_count": 5,
   "id": "7ffcc666-e95d-4fa1-9d80-ec7bd3890604",
   "metadata": {},
   "outputs": [
    {
     "name": "stdout",
     "output_type": "stream",
     "text": [
      "[1.4273960210088035, 7.028347973663408, 11.639908408660311, 16.740031941643533, 22.015044642727, 26.416894484705946, 32.09182682366547, 37.22427821224153, 42.41397208767018, 47.78272557301472, 52.98630607163243, 58.139356970286, 62.882429004587024, 67.65920443074529, 72.54738662027125, 78.23343985655819, 82.76048010111138, 82.7]\n"
     ]
    }
   ],
   "source": [
    "print(arrival_times)"
   ]
  },
  {
   "cell_type": "markdown",
   "id": "0786a3bf-d215-48d0-a7aa-0c7f664d929d",
   "metadata": {},
   "source": [
    "### 続いて同じ条件でVFRを試す\n",
    "\n",
    "arrival_timeやTTC、ノイズの発生タイミングはそのまま引き継ぐ. \n"
   ]
  },
  {
   "cell_type": "code",
   "execution_count": 10,
   "id": "ecb38b7a-44a7-4462-8110-d9321195d0c0",
   "metadata": {},
   "outputs": [],
   "source": [
    "vfr_simulation = VFRSimulation(TOTAL_TIME = TOTAL_TIME, TIME_STEP = TIME_STEP, TOTAL_LENGTH = TOTAL_LENGTH, dfr_reference=simulation, car_params=car_params)"
   ]
  },
  {
   "cell_type": "code",
   "execution_count": 11,
   "id": "bae87dc1-6410-4380-9fd1-b0703f50162a",
   "metadata": {},
   "outputs": [
    {
     "name": "stdout",
     "output_type": "stream",
     "text": [
      "3\n",
      "80\n"
     ]
    }
   ],
   "source": [
    "cars = vfr_simulation.CARS\n",
    "car_1 = cars[1]\n",
    "print(car_1.a_max)\n",
    "print(vfr_simulation.TOTAL_TIME)"
   ]
  },
  {
   "cell_type": "code",
   "execution_count": 12,
   "id": "72df1933-c04d-4ed0-8c02-2005a2372d33",
   "metadata": {},
   "outputs": [
    {
     "data": {
      "application/vnd.jupyter.widget-view+json": {
       "model_id": "3cf105b9f0374e6ebf39dd9fb5ae451a",
       "version_major": 2,
       "version_minor": 0
      },
      "text/plain": [
       "Simulation Progress:   0%|          | 0/800 [00:00<?, ?it/s]"
      ]
     },
     "metadata": {},
     "output_type": "display_data"
    },
    {
     "name": "stdout",
     "output_type": "stream",
     "text": [
      "noise created!\n",
      "t=1.5, event_flg=arrival, noise=[{'x': [400, 430], 't': [20, 25]}]\n",
      "t=7.1000000000000005, event_flg=arrival, noise=[{'x': [400, 430], 't': [20, 25]}]\n",
      "t=11.700000000000001, event_flg=arrival, noise=[{'x': [400, 430], 't': [20, 25]}]\n",
      "t=16.8, event_flg=arrival, noise=[{'x': [400, 430], 't': [20, 25]}]\n",
      "t=22.1, event_flg=arrival, noise=[{'x': [400, 430], 't': [20, 25]}]\n",
      "noise created!\n",
      "t=26.5, event_flg=arrival, noise=[]\n",
      "noise created!\n",
      "noise created!\n",
      "noise created!\n",
      "noise created!\n",
      "noise created!\n",
      "noise created!\n",
      "t=32.0, event_flg=noise created, noise=[{'x': [400, 430], 't': [37.0, 40.0]}]\n",
      "t=32.1, event_flg=arrival, noise=[{'x': [400, 430], 't': [37.0, 40.0]}]\n",
      "t=37.300000000000004, event_flg=arrival, noise=[{'x': [400, 430], 't': [37.0, 40.0]}]\n",
      "noise created!\n",
      "noise created!\n",
      "t=42.5, event_flg=arrival, noise=[]\n",
      "noise created!\n",
      "noise created!\n",
      "noise created!\n",
      "noise created!\n",
      "noise created!\n",
      "t=47.800000000000004, event_flg=arrival, noise=[]\n",
      "noise created!\n",
      "t=48.0, event_flg=noise created, noise=[{'x': [400, 430], 't': [53.0, 56.0]}]\n",
      "t=53.0, event_flg=arrival, noise=[{'x': [400, 430], 't': [53.0, 56.0]}]\n",
      "noise created!\n",
      "noise created!\n",
      "t=58.2, event_flg=arrival, noise=[]\n",
      "noise created!\n",
      "noise created!\n",
      "noise created!\n",
      "noise created!\n",
      "t=62.900000000000006, event_flg=arrival, noise=[]\n",
      "noise created!\n",
      "noise created!\n",
      "t=64.0, event_flg=noise created, noise=[{'x': [400, 430], 't': [69.0, 72.0]}]\n",
      "t=67.7, event_flg=arrival, noise=[{'x': [400, 430], 't': [69.0, 72.0]}]\n",
      "t=72.60000000000001, event_flg=arrival, noise=[]\n",
      "noise created!\n",
      "noise created!\n",
      "noise created!\n",
      "noise created!\n",
      "noise created!\n",
      "noise created!\n",
      "t=78.30000000000001, event_flg=arrival, noise=[]\n",
      "noise created!\n"
     ]
    }
   ],
   "source": [
    "vfr_simulation.conduct_simulation(should_plot=True)"
   ]
  },
  {
   "cell_type": "code",
   "execution_count": 20,
   "id": "ce4b9716-2f7c-44b4-896c-56cd611623b1",
   "metadata": {},
   "outputs": [
    {
     "data": {
      "image/png": "[encoded data removed]",
      "text/plain": [
       "<Figure size 1000x500 with 1 Axes>"
      ]
     },
     "metadata": {},
     "output_type": "display_data"
    },
    {
     "data": {
      "image/png": "[encoded data removed]",
      "text/plain": [
       "<Figure size 1000x500 with 1 Axes>"
      ]
     },
     "metadata": {},
     "output_type": "display_data"
    }
   ],
   "source": [
    "vfr_simulation.plot_v_mean_log(\"./images/vfr/v_mean_log_vfr.png\")\n",
    "simulation.plot_v_mean_log(\"./images/dfr/v_mean_log_dfr.png\")"
   ]
  },
  {
   "cell_type": "code",
   "execution_count": 18,
   "id": "537fb227-590c-453b-8921-087c91ce7049",
   "metadata": {},
   "outputs": [
    {
     "data": {
      "image/png": "[encoded data removed]",
      "text/plain": [
       "<Figure size 1000x800 with 1 Axes>"
      ]
     },
     "metadata": {},
     "output_type": "display_data"
    }
   ],
   "source": [
    "def plot_v_mean_log(path, v_mean_dfr, v_mean_vfr):\n",
    "    v_mean_log = v_mean_dfr\n",
    "    # event_flgが\"noise\"のデータポイントを抽出する\n",
    "    noise_time = [entry[\"time\"]\n",
    "                  for entry in v_mean_log if entry.get(\"event_flg\") == \"noise\"]\n",
    "    noise_v_mean = [entry[\"v_mean\"]\n",
    "                    for entry in v_mean_log if entry.get(\"event_flg\") == \"noise\"]\n",
    "    noise_times = [entry[\"time\"]\n",
    "                   for entry in v_mean_vfr if entry.get(\"event_flg\") == \"noise\"]\n",
    "\n",
    "    # timeとv_meanをそれぞれリストに抽出する\n",
    "    time = [entry[\"time\"] for entry in v_mean_log]\n",
    "    v_mean = [entry[\"v_mean\"] for entry in v_mean_log]\n",
    "    v_mean_vfr = [entry[\"v_mean\"] for entry in v_mean_vfr]\n",
    "\n",
    "    # グラフを描画する\n",
    "    plt.figure(figsize=(10, 8))\n",
    "    plt.plot(time, v_mean, label=\"DFR\",)\n",
    "    plt.plot(time, v_mean_vfr, label=\"VFR\")\n",
    "\n",
    "    # ノイズのデータポイントを赤丸でプロットする\n",
    "    # plt.scatter(noise_time, noise_v_mean, color='red', label='Noise Event', zorder=5)\n",
    "\n",
    "    # ノイズ発生タイミングに赤線\n",
    "    for n in noise_times:\n",
    "        plt.axvline(x=n, color='orange', linestyle='--', alpha=0.5,\n",
    "                    linewidth=1)\n",
    "\n",
    "    # グラフのタイトルとラベルを設定する\n",
    "    plt.title('Mean Velocity Over Time')\n",
    "    plt.xlabel('Time')\n",
    "    plt.ylabel('Mean Velocity')\n",
    "\n",
    "    plt.xlim(0, 85)\n",
    "    plt.ylim(0, 32)\n",
    "    plt.legend()\n",
    "\n",
    "    # グリッドを表示する\n",
    "    plt.grid(True)\n",
    "    plt.savefig(path)\n",
    "\n",
    "plot_v_mean_log(\"./images/dfr/v_mean_log_dfr_vs_vfr.png\", simulation.v_mean_log, vfr_simulation.v_mean_log)"
   ]
  },
  {
   "cell_type": "code",
   "execution_count": 49,
   "id": "e820a6b9-b3ec-4298-bb39-0d282905d7ef",
   "metadata": {},
   "outputs": [
    {
     "data": {
      "application/vnd.jupyter.widget-view+json": {
       "model_id": "ad2131ffcdf24592be10cea6edd93383",
       "version_major": 2,
       "version_minor": 0
      },
      "text/plain": [
       "Simulation Progress:   0%|          | 0/800 [00:00<?, ?it/s]"
      ]
     },
     "metadata": {},
     "output_type": "display_data"
    },
    {
     "name": "stdout",
     "output_type": "stream",
     "text": [
      "d=20\n"
     ]
    },
    {
     "data": {
      "application/vnd.jupyter.widget-view+json": {
       "model_id": "62f3f0f83fff48a99e21ec8d0a94cb69",
       "version_major": 2,
       "version_minor": 0
      },
      "text/plain": [
       "Simulation Progress:   0%|          | 0/800 [00:00<?, ?it/s]"
      ]
     },
     "metadata": {},
     "output_type": "display_data"
    },
    {
     "data": {
      "application/vnd.jupyter.widget-view+json": {
       "model_id": "30d4f5cf19ff468f8c45200295e44a60",
       "version_major": 2,
       "version_minor": 0
      },
      "text/plain": [
       "Simulation Progress:   0%|          | 0/800 [00:00<?, ?it/s]"
      ]
     },
     "metadata": {},
     "output_type": "display_data"
    },
    {
     "name": "stdout",
     "output_type": "stream",
     "text": [
      "d=18\n"
     ]
    },
    {
     "data": {
      "application/vnd.jupyter.widget-view+json": {
       "model_id": "6c163d82007c4f0397bc03ce985d01b1",
       "version_major": 2,
       "version_minor": 0
      },
      "text/plain": [
       "Simulation Progress:   0%|          | 0/800 [00:00<?, ?it/s]"
      ]
     },
     "metadata": {},
     "output_type": "display_data"
    },
    {
     "data": {
      "application/vnd.jupyter.widget-view+json": {
       "model_id": "64e38f0fc9be4b44863e7d9926754a9e",
       "version_major": 2,
       "version_minor": 0
      },
      "text/plain": [
       "Simulation Progress:   0%|          | 0/800 [00:00<?, ?it/s]"
      ]
     },
     "metadata": {},
     "output_type": "display_data"
    },
    {
     "name": "stdout",
     "output_type": "stream",
     "text": [
      "d=16\n"
     ]
    },
    {
     "data": {
      "application/vnd.jupyter.widget-view+json": {
       "model_id": "4467bfdff8b848f281de5e31164a224d",
       "version_major": 2,
       "version_minor": 0
      },
      "text/plain": [
       "Simulation Progress:   0%|          | 0/800 [00:00<?, ?it/s]"
      ]
     },
     "metadata": {},
     "output_type": "display_data"
    },
    {
     "data": {
      "application/vnd.jupyter.widget-view+json": {
       "model_id": "0a6cde8223554107afefda280492032c",
       "version_major": 2,
       "version_minor": 0
      },
      "text/plain": [
       "Simulation Progress:   0%|          | 0/800 [00:00<?, ?it/s]"
      ]
     },
     "metadata": {},
     "output_type": "display_data"
    },
    {
     "name": "stdout",
     "output_type": "stream",
     "text": [
      "d=14\n"
     ]
    },
    {
     "data": {
      "application/vnd.jupyter.widget-view+json": {
       "model_id": "531762899fc04d5aa90d7b77b366493e",
       "version_major": 2,
       "version_minor": 0
      },
      "text/plain": [
       "Simulation Progress:   0%|          | 0/800 [00:00<?, ?it/s]"
      ]
     },
     "metadata": {},
     "output_type": "display_data"
    },
    {
     "data": {
      "application/vnd.jupyter.widget-view+json": {
       "model_id": "1d307b33686a43c8b860c441249ecdfd",
       "version_major": 2,
       "version_minor": 0
      },
      "text/plain": [
       "Simulation Progress:   0%|          | 0/800 [00:00<?, ?it/s]"
      ]
     },
     "metadata": {},
     "output_type": "display_data"
    },
    {
     "name": "stdout",
     "output_type": "stream",
     "text": [
      "d=12\n"
     ]
    },
    {
     "data": {
      "application/vnd.jupyter.widget-view+json": {
       "model_id": "d89a0357dd244f11a0228ade0cf98cc4",
       "version_major": 2,
       "version_minor": 0
      },
      "text/plain": [
       "Simulation Progress:   0%|          | 0/800 [00:00<?, ?it/s]"
      ]
     },
     "metadata": {},
     "output_type": "display_data"
    },
    {
     "data": {
      "application/vnd.jupyter.widget-view+json": {
       "model_id": "4d9a9340977b4d05b8a7303b43921a5b",
       "version_major": 2,
       "version_minor": 0
      },
      "text/plain": [
       "Simulation Progress:   0%|          | 0/800 [00:00<?, ?it/s]"
      ]
     },
     "metadata": {},
     "output_type": "display_data"
    },
    {
     "name": "stdout",
     "output_type": "stream",
     "text": [
      "d=10\n"
     ]
    },
    {
     "data": {
      "application/vnd.jupyter.widget-view+json": {
       "model_id": "273a1e16d07345979ca5eb183a446450",
       "version_major": 2,
       "version_minor": 0
      },
      "text/plain": [
       "Simulation Progress:   0%|          | 0/800 [00:00<?, ?it/s]"
      ]
     },
     "metadata": {},
     "output_type": "display_data"
    },
    {
     "data": {
      "application/vnd.jupyter.widget-view+json": {
       "model_id": "ab6bb0661b69474d944f967bf7c5b009",
       "version_major": 2,
       "version_minor": 0
      },
      "text/plain": [
       "Simulation Progress:   0%|          | 0/800 [00:00<?, ?it/s]"
      ]
     },
     "metadata": {},
     "output_type": "display_data"
    },
    {
     "name": "stdout",
     "output_type": "stream",
     "text": [
      "d=8\n"
     ]
    },
    {
     "data": {
      "application/vnd.jupyter.widget-view+json": {
       "model_id": "b864aca70a34495d940b7bb3870f23b7",
       "version_major": 2,
       "version_minor": 0
      },
      "text/plain": [
       "Simulation Progress:   0%|          | 0/800 [00:00<?, ?it/s]"
      ]
     },
     "metadata": {},
     "output_type": "display_data"
    },
    {
     "data": {
      "application/vnd.jupyter.widget-view+json": {
       "model_id": "4edea06efd7840d3a60857af4ea054c9",
       "version_major": 2,
       "version_minor": 0
      },
      "text/plain": [
       "Simulation Progress:   0%|          | 0/800 [00:00<?, ?it/s]"
      ]
     },
     "metadata": {},
     "output_type": "display_data"
    },
    {
     "name": "stdout",
     "output_type": "stream",
     "text": [
      "d=6\n"
     ]
    },
    {
     "data": {
      "application/vnd.jupyter.widget-view+json": {
       "model_id": "59bccdd53a574536be126c989436ba54",
       "version_major": 2,
       "version_minor": 0
      },
      "text/plain": [
       "Simulation Progress:   0%|          | 0/800 [00:00<?, ?it/s]"
      ]
     },
     "metadata": {},
     "output_type": "display_data"
    },
    {
     "data": {
      "application/vnd.jupyter.widget-view+json": {
       "model_id": "75e53aa0a8824714bdfc6748ee672f27",
       "version_major": 2,
       "version_minor": 0
      },
      "text/plain": [
       "Simulation Progress:   0%|          | 0/800 [00:00<?, ?it/s]"
      ]
     },
     "metadata": {},
     "output_type": "display_data"
    },
    {
     "name": "stdout",
     "output_type": "stream",
     "text": [
      "d=5\n"
     ]
    },
    {
     "data": {
      "application/vnd.jupyter.widget-view+json": {
       "model_id": "91e22cd2bf4140c19b64413099da4124",
       "version_major": 2,
       "version_minor": 0
      },
      "text/plain": [
       "Simulation Progress:   0%|          | 0/800 [00:00<?, ?it/s]"
      ]
     },
     "metadata": {},
     "output_type": "display_data"
    },
    {
     "data": {
      "application/vnd.jupyter.widget-view+json": {
       "model_id": "858a8028ffc547149d5655f698c5c4eb",
       "version_major": 2,
       "version_minor": 0
      },
      "text/plain": [
       "Simulation Progress:   0%|          | 0/800 [00:00<?, ?it/s]"
      ]
     },
     "metadata": {},
     "output_type": "display_data"
    },
    {
     "name": "stdout",
     "output_type": "stream",
     "text": [
      "d=4\n"
     ]
    },
    {
     "data": {
      "application/vnd.jupyter.widget-view+json": {
       "model_id": "86fd2614193a465b943037afefbd1cda",
       "version_major": 2,
       "version_minor": 0
      },
      "text/plain": [
       "Simulation Progress:   0%|          | 0/800 [00:00<?, ?it/s]"
      ]
     },
     "metadata": {},
     "output_type": "display_data"
    },
    {
     "data": {
      "application/vnd.jupyter.widget-view+json": {
       "model_id": "fd1d119595114d30952675cfb07a28d4",
       "version_major": 2,
       "version_minor": 0
      },
      "text/plain": [
       "Simulation Progress:   0%|          | 0/800 [00:00<?, ?it/s]"
      ]
     },
     "metadata": {},
     "output_type": "display_data"
    },
    {
     "name": "stdout",
     "output_type": "stream",
     "text": [
      "d=3.5\n"
     ]
    },
    {
     "data": {
      "application/vnd.jupyter.widget-view+json": {
       "model_id": "61f758077c4549bbac13d85eb204afdf",
       "version_major": 2,
       "version_minor": 0
      },
      "text/plain": [
       "Simulation Progress:   0%|          | 0/800 [00:00<?, ?it/s]"
      ]
     },
     "metadata": {},
     "output_type": "display_data"
    },
    {
     "data": {
      "application/vnd.jupyter.widget-view+json": {
       "model_id": "81f177e5d5cc4507a2789336481ed2e4",
       "version_major": 2,
       "version_minor": 0
      },
      "text/plain": [
       "Simulation Progress:   0%|          | 0/800 [00:00<?, ?it/s]"
      ]
     },
     "metadata": {},
     "output_type": "display_data"
    },
    {
     "name": "stdout",
     "output_type": "stream",
     "text": [
      "d=3\n"
     ]
    },
    {
     "data": {
      "application/vnd.jupyter.widget-view+json": {
       "model_id": "e5a6a6f4d99f44ca89703555c9c55f43",
       "version_major": 2,
       "version_minor": 0
      },
      "text/plain": [
       "Simulation Progress:   0%|          | 0/800 [00:00<?, ?it/s]"
      ]
     },
     "metadata": {},
     "output_type": "display_data"
    },
    {
     "data": {
      "application/vnd.jupyter.widget-view+json": {
       "model_id": "c48d3220a2754c428fd886421c33a88e",
       "version_major": 2,
       "version_minor": 0
      },
      "text/plain": [
       "Simulation Progress:   0%|          | 0/800 [00:00<?, ?it/s]"
      ]
     },
     "metadata": {},
     "output_type": "display_data"
    },
    {
     "name": "stdout",
     "output_type": "stream",
     "text": [
      "d=2.8\n"
     ]
    },
    {
     "data": {
      "application/vnd.jupyter.widget-view+json": {
       "model_id": "5597635b07b7410fa936243c5f77a650",
       "version_major": 2,
       "version_minor": 0
      },
      "text/plain": [
       "Simulation Progress:   0%|          | 0/800 [00:00<?, ?it/s]"
      ]
     },
     "metadata": {},
     "output_type": "display_data"
    },
    {
     "data": {
      "application/vnd.jupyter.widget-view+json": {
       "model_id": "f0ab00c4e1d94fce90fed7ceeaf7b03e",
       "version_major": 2,
       "version_minor": 0
      },
      "text/plain": [
       "Simulation Progress:   0%|          | 0/800 [00:00<?, ?it/s]"
      ]
     },
     "metadata": {},
     "output_type": "display_data"
    },
    {
     "name": "stdout",
     "output_type": "stream",
     "text": [
      "d=2.6\n"
     ]
    },
    {
     "data": {
      "application/vnd.jupyter.widget-view+json": {
       "model_id": "99f3117a993c4c97b446baec231afba6",
       "version_major": 2,
       "version_minor": 0
      },
      "text/plain": [
       "Simulation Progress:   0%|          | 0/800 [00:00<?, ?it/s]"
      ]
     },
     "metadata": {},
     "output_type": "display_data"
    },
    {
     "data": {
      "application/vnd.jupyter.widget-view+json": {
       "model_id": "b9c32408f03546bdb2b7e0ea067b6258",
       "version_major": 2,
       "version_minor": 0
      },
      "text/plain": [
       "Simulation Progress:   0%|          | 0/800 [00:00<?, ?it/s]"
      ]
     },
     "metadata": {},
     "output_type": "display_data"
    },
    {
     "name": "stdout",
     "output_type": "stream",
     "text": [
      "d=2.5\n"
     ]
    },
    {
     "data": {
      "application/vnd.jupyter.widget-view+json": {
       "model_id": "c53d86988c204c9d9c0c0997835ce362",
       "version_major": 2,
       "version_minor": 0
      },
      "text/plain": [
       "Simulation Progress:   0%|          | 0/800 [00:00<?, ?it/s]"
      ]
     },
     "metadata": {},
     "output_type": "display_data"
    },
    {
     "data": {
      "application/vnd.jupyter.widget-view+json": {
       "model_id": "9e36db56ce664048b11973dbe1635575",
       "version_major": 2,
       "version_minor": 0
      },
      "text/plain": [
       "Simulation Progress:   0%|          | 0/800 [00:00<?, ?it/s]"
      ]
     },
     "metadata": {},
     "output_type": "display_data"
    },
    {
     "data": {
      "application/vnd.jupyter.widget-view+json": {
       "model_id": "a09ef98bd5ab4c1ebb82ab3943054c8e",
       "version_major": 2,
       "version_minor": 0
      },
      "text/plain": [
       "Simulation Progress:   0%|          | 0/800 [00:00<?, ?it/s]"
      ]
     },
     "metadata": {},
     "output_type": "display_data"
    },
    {
     "name": "stdout",
     "output_type": "stream",
     "text": [
      "d=2\n",
      "DONE!\n"
     ]
    }
   ],
   "source": [
    "# Fundamental Diagram作るように一気にやるためのコードを書く. \n",
    "DENSITY_LIST = [20, 18, 16, 14, 12,10, 8,6,5,4,3.5, 3 ,2.8, 2.6, 2.5, 2]\n",
    "results = []\n",
    "arrival_time_log = []\n",
    "import sys\n",
    "import io\n",
    "sys.stdout = original_stdout\n",
    "\n",
    "\n",
    "def collect_v_mean_by_density(data):\n",
    "    density_groups = defaultdict(list)\n",
    "    for entry in data:\n",
    "        density_groups[entry['density']].append(entry['v_mean'])\n",
    "    \n",
    "    # 各densityのv_meanの平均を計算\n",
    "    density_mean_v_mean = {density: sum(v_means)/len(v_means) for density, v_means in density_groups.items()}\n",
    "    return density_mean_v_mean\n",
    "\n",
    "\n",
    "for idx, density in enumerate(DENSITY_LIST):\n",
    "    print(f\"d={density}\")\n",
    "\n",
    "    arrival_times = generate_arrival_times(CAR_NUM, density, TOTAL_TIME)\n",
    "    arrival_times.append(TOTAL_TIME + TTC +0.2)\n",
    "    CARS = [Cars(arrival_time=time, index=index, v_mean=MEAN_SPEED, v_max = MAX_SPEED, a_max=MAX_ACC, a_min=MAX_ACC)\n",
    "              for index, time in enumerate(arrival_times)]\n",
    "    arrival_time_log.append({\"density\": density, \"arrival_times\":arrival_times})\n",
    "\n",
    "    # まずはDFR\n",
    "    reservation_table = ReservationTable(waypoints = WAYPOINTS, global_params = {\"DESIRED_TTC\":TTC})\n",
    "    register_initial_eta(CARS)\n",
    "    # 標準出力を無効化\n",
    "    original_stdout = sys.stdout\n",
    "    sys.stdout = io.StringIO()\n",
    "\n",
    "    dfr_simulation = DFRSimulation(TOTAL_TIME = TOTAL_TIME, TIME_STEP = TIME_STEP, TOTAL_LENGTH = TOTAL_LENGTH, CARS = CARS, \\\n",
    "                          reservation_table = reservation_table)\n",
    "    result = {\n",
    "        \"type\":\"dfr\",\n",
    "        \"density\": density,\n",
    "        \"v_mean\":None,\n",
    "    }\n",
    "    try:\n",
    "        dfr_simulation.conduct_simulation(should_plot=False)\n",
    "        dfr_log = dfr_simulation.v_mean_log\n",
    "        v_mean_by_density = collect_v_mean_by_density(dfr_log)\n",
    "        result[\"v_mean\"] = v_mean_by_density\n",
    "        \n",
    "    except: \n",
    "        pass\n",
    "\n",
    "    results.append(result)\n",
    "\n",
    "    # 続いてVFR\n",
    "    result = {\n",
    "        \"type\":\"vfr\",\n",
    "        \"density\": density,\n",
    "        \"v_mean\":None,\n",
    "    }\n",
    "    try:\n",
    "        vfr_simulation = VFRSimulation(TOTAL_TIME = TOTAL_TIME, TIME_STEP = TIME_STEP, TOTAL_LENGTH = TOTAL_LENGTH, dfr_reference=dfr_simulation, car_params=car_params)\n",
    "        vfr_simulation.conduct_simulation(should_plot=False)\n",
    "        vfr_log = vfr_simulation.v_mean_log\n",
    "        v_mean_by_density = collect_v_mean_by_density(vfr_log)\n",
    "        result[\"v_mean\"] = v_mean_by_density\n",
    "        \n",
    "    except: \n",
    "        pass\n",
    "    finally:\n",
    "        # 標準出力を元に戻す\n",
    "        sys.stdout = original_stdout\n",
    "    results.append(result)\n",
    "print(\"DONE!\")\n"
   ]
  },
  {
   "cell_type": "code",
   "execution_count": 50,
   "id": "f0b32622-82b8-40ba-9dbf-2d08a66264f5",
   "metadata": {},
   "outputs": [
    {
     "name": "stdout",
     "output_type": "stream",
     "text": [
      "[{'type': 'dfr', 'density': 20, 'v_mean': {0.006: 21.61651785714286, 0.005: 20.0, 0.004: 20.0}}, {'type': 'vfr', 'density': 20, 'v_mean': {0.006: 21.994707382706256, 0.005: 21.430845103714095, 0.004: 23.08744344933797}}, {'type': 'dfr', 'density': 18, 'v_mean': {0.007: 21.38558673469388, 0.006: 20.0, 0.005: 20.0}}, {'type': 'vfr', 'density': 18, 'v_mean': {0.007: 21.76235946441596, 0.006: 20.973410128443533, 0.005: 22.275954836392863}}, {'type': 'dfr', 'density': 16, 'v_mean': {0.007: 21.358801020408166, 0.006: 19.129127358490557, 0.005: 20.49999999999999}}, {'type': 'vfr', 'density': 16, 'v_mean': {0.007: 21.883259907993565, 0.006: 22.33370039405251, 0.005: 22.37308271337011, 0.004: 23.53599800616644}}, {'type': 'dfr', 'density': 14, 'v_mean': {0.008: 21.14040178571429, 0.007: 20.08490310950878, 0.006: 20.0}}, {'type': 'vfr', 'density': 14, 'v_mean': {0.008: 21.83537189680306, 0.007: 22.311010480506717, 0.006: 21.833944368596896, 0.005: 22.66010021418053}}, {'type': 'dfr', 'density': 12, 'v_mean': {0.008: 21.212388392857147, 0.007: 20.0, 0.006: 20.0, 0.005: 20.0}}, {'type': 'vfr', 'density': 12, 'v_mean': None}, {'type': 'dfr', 'density': 10, 'v_mean': {0.01: 20.969910714285717, 0.009: 19.849756690997566, 0.008: 20.187499999999996, 0.007: 20.21428571428571}}, {'type': 'vfr', 'density': 10, 'v_mean': {0.01: 21.5316926048571, 0.009: 21.60137638819728, 0.008: 21.59955370176672, 0.007: 19.458578310249095}}, {'type': 'dfr', 'density': 8, 'v_mean': {0.011: 20.881737012987017, 0.01: 20.162209302325582, 0.009: 19.638333333333332, 0.008: 19.875471698113206, 0.007: 20.419875776397507}}, {'type': 'vfr', 'density': 8, 'v_mean': None}, {'type': 'dfr', 'density': 6, 'v_mean': {0.013: 20.6956043956044, 0.012: 19.084100418410035, 0.011: 20.090043290043276, 0.01: 21.609999999999978, 0.009: 22.06666666666665}}, {'type': 'vfr', 'density': 6, 'v_mean': {0.013: 21.381815983491315, 0.012: 21.661768616854634, 0.011: 20.218723340885482, 0.01: 19.06070052401552, 0.009: 19.769576203635218}}, {'type': 'dfr', 'density': 5, 'v_mean': {0.015: 20.627857142857145, 0.014: 19.972007722007724, 0.013: 20.115384615384617, 0.012: 19.798360655737703, 0.011: 19.282887700534758, 0.01: 20.08791666666666}}, {'type': 'vfr', 'density': 5, 'v_mean': {0.015: 20.801104608334143, 0.014: 20.19899095413592, 0.013: 19.56919397353284, 0.012: 17.796590763575853, 0.011: 17.612653212077255}}, {'type': 'dfr', 'density': 4, 'v_mean': {0.018: 20.5140376984127, 0.017: 19.666288578211553, 0.016: 19.84525862068965, 0.015: 19.98703030303029, 0.014: 19.6122857142857, 0.013: 19.732827735644623, 0.012: 20.600980392156846}}, {'type': 'vfr', 'density': 4, 'v_mean': {0.018: 20.669010197817503, 0.017: 19.69350757669545, 0.016: 18.628684477886175, 0.015: 17.591040839163952, 0.014: 17.438697264143723}}, {'type': 'dfr', 'density': 3.5, 'v_mean': {0.019: 20.468609022556393, 0.018: 19.96105794790005, 0.017: 19.781882352941174, 0.016: 20.11875, 0.015: 18.651428571428564, 0.014: 18.289682539682534, 0.013: 18.769822485207094, 0.012: 19.20833333333332}}, {'type': 'vfr', 'density': 3.5, 'v_mean': {0.019: 20.260355278728664, 0.018: 18.770104947649404, 0.017: 17.49860967939038, 0.016: 16.316269859252817, 0.015: 16.21817938883081}}, {'type': 'dfr', 'density': 3, 'v_mean': {0.021: 20.46186224489796, 0.02: 19.65213567839196, 0.019: 19.10336842105263, 0.018: 19.617208672086715, 0.017: 19.7150588235294, 0.016: 20.341860465116266, 0.015: 20.817829457364326, 0.014: 21.51734693877549}}, {'type': 'vfr', 'density': 3, 'v_mean': {0.021: 20.284772140951976, 0.02: 18.56203176127955, 0.019: 17.08036606891565, 0.018: 15.639684916071717, 0.017: 14.888364118105727}}, {'type': 'dfr', 'density': 2.8, 'v_mean': {0.022: 20.408400974025977, 0.021: 19.781186957541635, 0.02: 19.84146341463414, 0.019: 20.2132253711201, 0.018: 19.969152046783616, 0.017: 19.914117647058816, 0.016: 20.038793103448267, 0.015: 20.820888888888877}}, {'type': 'vfr', 'density': 2.8, 'v_mean': {0.022: 20.29810098395339, 0.021: 19.05267797912631, 0.02: 17.237158598343843, 0.019: 16.135839925349746, 0.018: 14.463023634306207}}, {'type': 'dfr', 'density': 2.6, 'v_mean': {0.023: 20.37861024844721, 0.022: 19.159639877031175, 0.021: 19.46344916344915, 0.02: 20.1242857142857, 0.019: 20.222504537205058, 0.018: 19.763293650793624, 0.017: 20.037556561085946, 0.016: 20.033223684210498, 0.015: 20.263076923076895, 0.014: 19.570535714285686}}, {'type': 'vfr', 'density': 2.6, 'v_mean': {0.023: 20.064678280365996, 0.022: 18.706160143874225, 0.021: 16.61207511327683, 0.02: 15.548961202210302, 0.019: 13.817268282655933}}, {'type': 'dfr', 'density': 2.5, 'v_mean': {0.024: 20.365252976190476, 0.023: 19.649374004097425, 0.022: 19.14743083003952, 0.021: 19.61776061776061, 0.02: 19.592045454545442, 0.019: 19.655263157894723, 0.018: 19.84400871459693, 0.017: 20.59579831932771, 0.016: 21.31160714285712}}, {'type': 'vfr', 'density': 2.5, 'v_mean': {0.024: 20.103238621399214, 0.023: 18.896271098877914, 0.022: 17.055464542347362, 0.021: 15.82870593798741, 0.02: 13.975171251573588}}, {'type': 'dfr', 'density': 2, 'v_mean': None}, {'type': 'vfr', 'density': 2, 'v_mean': {0.028: 19.502948607970957, 0.027: 17.32899022222302, 0.026: 14.848985113373292, 0.025: 14.265701616492125, 0.024: 12.732962928281895}}]\n"
     ]
    }
   ],
   "source": [
    "print(results)\n"
   ]
  },
  {
   "cell_type": "code",
   "execution_count": 44,
   "id": "0e3cabae-f426-46ad-b584-23bdc05e21b0",
   "metadata": {},
   "outputs": [
    {
     "name": "stdout",
     "output_type": "stream",
     "text": [
      "[{'density': 16, 'arrival_times': [2.57974038768497, 19.15046296752963, 35.62277323547397, 53.425072171380904, 70.51843144668362, 88.6699885552426, 82.7]}, {'density': 8, 'arrival_times': [2.0275780112149135, 10.331682989033165, 19.836774715717983, 29.944829414982454, 39.52301137520881, 48.563067171228354, 57.46230398809321, 66.42996776278405, 74.87280038510644, 84.50275208708288, 82.7]}]\n"
     ]
    }
   ],
   "source": [
    "print(arrival_time_log)"
   ]
  },
  {
   "cell_type": "code",
   "execution_count": 51,
   "id": "912be61b-56df-48c0-8a57-46d903096eff",
   "metadata": {},
   "outputs": [],
   "source": [
    "results_to_analyze = results"
   ]
  },
  {
   "cell_type": "code",
   "execution_count": 70,
   "id": "111e5179-3f41-4c21-aee1-9a5c91a0c793",
   "metadata": {},
   "outputs": [
    {
     "data": {
      "image/png": "[encoded data removed]",
      "text/plain": [
       "<Figure size 1000x1200 with 2 Axes>"
      ]
     },
     "metadata": {},
     "output_type": "display_data"
    }
   ],
   "source": [
    "dfr_data = {'density': [], 'v_mean': [], 'flow': []}\n",
    "vfr_data = {'density': [], 'v_mean': [], 'flow': []}\n",
    "\n",
    "# 各densityに対するv_meanの平均を計算するための辞書\n",
    "dfr_density_v_mean = defaultdict(list)\n",
    "vfr_density_v_mean = defaultdict(list)\n",
    "\n",
    "for entry in results:\n",
    "    if entry['v_mean'] is not None:\n",
    "        for density, v_mean in entry['v_mean'].items():\n",
    "            if entry['type'] == 'dfr':\n",
    "                dfr_data['density'].append(density)\n",
    "                dfr_data['v_mean'].append(v_mean)\n",
    "                dfr_data['flow'].append(density * v_mean)\n",
    "                dfr_density_v_mean[density].append(v_mean)\n",
    "            elif entry['type'] == 'vfr':\n",
    "                vfr_data['density'].append(density)\n",
    "                vfr_data['v_mean'].append(v_mean)\n",
    "                vfr_data['flow'].append(density * v_mean)\n",
    "                vfr_density_v_mean[density].append(v_mean)\n",
    "\n",
    "plot_densities = [0.005, 0.010, 0.015, 0.020, 0.025]\n",
    "\n",
    "# 各指定されたdensityごとのv_meanとflowの平均を計算\n",
    "dfr_density_avg_v_mean = {density: np.mean(dfr_density_v_mean[density]) for density in plot_densities if density in dfr_density_v_mean}\n",
    "vfr_density_avg_v_mean = {density: np.mean(vfr_density_v_mean[density]) for density in plot_densities if density in vfr_density_v_mean}\n",
    "\n",
    "dfr_density_avg_flow = {density: density * np.mean(dfr_density_v_mean[density]) for density in plot_densities if density in dfr_density_v_mean}\n",
    "vfr_density_avg_flow = {density: density * np.mean(vfr_density_v_mean[density]) for density in plot_densities if density in vfr_density_v_mean}\n",
    "\n",
    "\n",
    "# ソートしてリスト化\n",
    "dfr_density_sorted_v_mean = sorted(dfr_density_avg_v_mean.items())\n",
    "vfr_density_sorted_v_mean = sorted(vfr_density_avg_v_mean.items())\n",
    "\n",
    "dfr_density_sorted_flow = sorted(dfr_density_avg_flow.items())\n",
    "vfr_density_sorted_flow = sorted(vfr_density_avg_flow.items())\n",
    "\n",
    "# プロット\n",
    "fig, axs = plt.subplots(2, 1, figsize=(10, 12))\n",
    "\n",
    "# v_mean vs density\n",
    "axs[0].scatter(dfr_data['density'], dfr_data['v_mean'], color='blue', label='DFR', alpha=0.3)\n",
    "axs[0].scatter(vfr_data['density'], vfr_data['v_mean'], color='red', label='VFR', alpha=0.3)\n",
    "\n",
    "# 平均線を引く\n",
    "axs[0].plot([item[0] for item in dfr_density_sorted_v_mean], [item[1] for item in dfr_density_sorted_v_mean], color='blue', linestyle='--', alpha=0.5)\n",
    "axs[0].plot([item[0] for item in vfr_density_sorted_v_mean], [item[1] for item in vfr_density_sorted_v_mean], color='red', linestyle='--', alpha=0.5)\n",
    "\n",
    "\n",
    "axs[0].set_xlabel('Density')\n",
    "axs[0].set_ylabel('V_mean')\n",
    "axs[0].set_title('Scatter Plot of V_mean vs Density')\n",
    "axs[0].legend()\n",
    "axs[0].grid(True)\n",
    "\n",
    "# flow vs density\n",
    "axs[1].scatter(dfr_data['density'], dfr_data['flow'], color='blue', label='DFR', alpha=0.3)\n",
    "axs[1].scatter(vfr_data['density'], vfr_data['flow'], color='red', label='VFR', alpha=0.3)\n",
    "\n",
    "# 平均線を引く\n",
    "axs[1].plot([item[0] for item in dfr_density_sorted_flow], [item[1] for item in dfr_density_sorted_flow], color='blue', linestyle='--', alpha=0.5)\n",
    "axs[1].plot([item[0] for item in vfr_density_sorted_flow], [item[1] for item in vfr_density_sorted_flow], color='red', linestyle='--', alpha=0.5)\n",
    "\n",
    "\n",
    "axs[1].set_xlabel('Density')\n",
    "axs[1].set_ylabel('Flow')\n",
    "axs[1].set_title('Scatter Plot of Flow vs Density')\n",
    "axs[1].legend()\n",
    "axs[1].grid(True)\n",
    "\n",
    "# グラフを表示\n",
    "plt.tight_layout()\n",
    "plt.show()"
   ]
  },
  {
   "cell_type": "code",
   "execution_count": 15,
   "id": "41afb3dd-d9cd-4c33-b3a3-704449af66dc",
   "metadata": {},
   "outputs": [
    {
     "name": "stdout",
     "output_type": "stream",
     "text": [
      "{0.018: 20.484771825396827, 0.017: 19.699868697478987, 0.016: 21.25565476190475, 0.015: 21.408666666666655, 0.014: 20.885714285714275, 0.013: 20.38461538461538, 0.012: 20.00185185185185}\n"
     ]
    }
   ],
   "source": [
    "from collections import defaultdict\n",
    "\n",
    "data = results[0][\"v_mean\"]\n",
    "# densityごとにデータをグループ化\n",
    "density_groups = defaultdict(list)\n",
    "for entry in data:\n",
    "    density_groups[entry['density']].append(entry['v_mean'])\n",
    "\n",
    "# 各densityのv_meanの平均を計算\n",
    "density_mean_v_mean = {density: sum(v_means)/len(v_means) for density, v_means in density_groups.items()}\n",
    "\n",
    "print(density_mean_v_mean)"
   ]
  },
  {
   "cell_type": "code",
   "execution_count": 16,
   "id": "8c376765-96ba-4374-aa64-85f798c25a17",
   "metadata": {},
   "outputs": [
    {
     "name": "stdout",
     "output_type": "stream",
     "text": [
      "[{'time': 33.0, 'v_mean': 20.04736842105263, 'density': 0.019, 'event_flg': None}, {'time': 33.1, 'v_mean': 20.031578947368423, 'density': 0.019, 'event_flg': None}, {'time': 33.2, 'v_mean': 20.01578947368421, 'density': 0.019, 'event_flg': None}, {'time': 33.300000000000004, 'v_mean': 20.0, 'density': 0.019, 'event_flg': None}, {'time': 33.4, 'v_mean': 19.98421052631579, 'density': 0.019, 'event_flg': None}, {'time': 33.5, 'v_mean': 19.968421052631577, 'density': 0.019, 'event_flg': None}, {'time': 33.6, 'v_mean': 19.95263157894737, 'density': 0.019, 'event_flg': None}, {'time': 33.7, 'v_mean': 19.936842105263157, 'density': 0.019, 'event_flg': None}, {'time': 33.800000000000004, 'v_mean': 19.92105263157895, 'density': 0.019, 'event_flg': None}, {'time': 33.9, 'v_mean': 19.905263157894737, 'density': 0.019, 'event_flg': None}, {'time': 34.0, 'v_mean': 19.905263157894737, 'density': 0.019, 'event_flg': None}, {'time': 34.1, 'v_mean': 19.905263157894737, 'density': 0.019, 'event_flg': None}, {'time': 34.2, 'v_mean': 19.905263157894737, 'density': 0.019, 'event_flg': None}, {'time': 34.300000000000004, 'v_mean': 19.905263157894737, 'density': 0.019, 'event_flg': None}, {'time': 34.4, 'v_mean': 19.905263157894737, 'density': 0.019, 'event_flg': None}, {'time': 34.5, 'v_mean': 19.905263157894737, 'density': 0.019, 'event_flg': None}, {'time': 34.6, 'v_mean': 19.905263157894737, 'density': 0.019, 'event_flg': None}, {'time': 34.7, 'v_mean': 19.905263157894737, 'density': 0.019, 'event_flg': None}, {'time': 34.800000000000004, 'v_mean': 19.905263157894737, 'density': 0.019, 'event_flg': None}, {'time': 34.9, 'v_mean': 19.905263157894737, 'density': 0.019, 'event_flg': None}, {'time': 35.0, 'v_mean': 19.905263157894737, 'density': 0.019, 'event_flg': None}, {'time': 35.1, 'v_mean': 19.905263157894737, 'density': 0.019, 'event_flg': None}, {'time': 35.2, 'v_mean': 19.905263157894737, 'density': 0.019, 'event_flg': None}, {'time': 35.300000000000004, 'v_mean': 19.905263157894737, 'density': 0.019, 'event_flg': None}, {'time': 35.4, 'v_mean': 19.905263157894737, 'density': 0.019, 'event_flg': None}, {'time': 35.5, 'v_mean': 19.905263157894737, 'density': 0.019, 'event_flg': None}, {'time': 35.6, 'v_mean': 19.905263157894737, 'density': 0.019, 'event_flg': None}, {'time': 35.7, 'v_mean': 19.905263157894737, 'density': 0.019, 'event_flg': None}, {'time': 35.800000000000004, 'v_mean': 19.905263157894737, 'density': 0.019, 'event_flg': None}, {'time': 35.9, 'v_mean': 19.905263157894737, 'density': 0.019, 'event_flg': None}, {'time': 36.0, 'v_mean': 19.905263157894737, 'density': 0.019, 'event_flg': None}, {'time': 36.1, 'v_mean': 19.905263157894737, 'density': 0.019, 'event_flg': None}, {'time': 36.2, 'v_mean': 19.905263157894737, 'density': 0.019, 'event_flg': None}, {'time': 36.300000000000004, 'v_mean': 19.905263157894737, 'density': 0.019, 'event_flg': None}, {'time': 36.4, 'v_mean': 19.905263157894737, 'density': 0.019, 'event_flg': None}, {'time': 36.5, 'v_mean': 19.905263157894737, 'density': 0.019, 'event_flg': None}, {'time': 36.6, 'v_mean': 19.333333333333332, 'density': 0.018, 'event_flg': None}, {'time': 36.7, 'v_mean': 19.333333333333332, 'density': 0.018, 'event_flg': None}, {'time': 36.800000000000004, 'v_mean': 19.333333333333332, 'density': 0.018, 'event_flg': None}, {'time': 36.9, 'v_mean': 19.333333333333332, 'density': 0.018, 'event_flg': None}]\n",
      "    waypoint_idx       x        eta  car_idx      type\n",
      "22           0.0     0.0   2.903434        0  waypoint\n",
      "23           1.0   100.0   6.888889        0  waypoint\n",
      "24           2.0   200.0  10.222222        0  waypoint\n",
      "25           3.0   300.0  13.555556        0  waypoint\n",
      "26           4.0   400.0  16.888889        0  waypoint\n",
      "27           5.0   500.0  20.222222        0  waypoint\n",
      "28           6.0   600.0  23.555556        0  waypoint\n",
      "29           7.0   700.0  26.888889        0  waypoint\n",
      "30           8.0   800.0  30.222222        0  waypoint\n",
      "31           9.0   900.0  33.555556        0  waypoint\n",
      "32          10.0  1000.0  36.888889        0  waypoint\n",
      "33           NaN   430.0  17.888889        0     noise\n"
     ]
    }
   ],
   "source": [
    "vlog = simulation.v_mean_log\n",
    "print(vlog[300:340])\n",
    "table = simulation.reservation_table.eta_table\n",
    "print(table[table[\"car_idx\"] == 0])"
   ]
  },
  {
   "cell_type": "code",
   "execution_count": 15,
   "id": "a848ab7b-0911-4ef9-bbbf-00bd2620281f",
   "metadata": {},
   "outputs": [
    {
     "name": "stdout",
     "output_type": "stream",
     "text": [
      "[20.300000000000004, 20.599999999999994, 20.9, 21.20000000000001, 21.500000000000004, 21.800000000000015, 22.10000000000001, 22.40000000000002, 22.699999999999996, 23.000000000000007, 23.30000000000002, 23.599999999999994, 23.900000000000006, 24.200000000000017, 24.499999999999993, 24.80000000000004, 24.933763884510753, 25.00205455537177, 25.045066351248195, 25.078284478181345, 25.107649150798323, 25.13543427568102, 25.162509497197192, 25.189207542893186, 25.21565612084416, 25.241904739377077, 25.26797310634123, 25.29386957926704, 25.319598191088915, 25.34516132271463, 25.37056071867525, 25.39579787278342, 25.420874174509436, 25.44579096457028, 25.470549556103492, 25.49515124281058, 25.51959730216808, 25.54388899677207, 25.568027574976497, 25.592014271262684, 25.615850306503347, 25.639536888187706, 25.66307521062626, 25.686466455148178, 25.709711790291863, 25.73281237199282, 26.032812371992833, 26.332812371992844, 26.632812371992856, 26.932812371992867, 27.23281237199288, 27.532812371992748, 27.83281237199276, 28.13281237199277, 28.43281237199278, 28.732812371992793, 29.032812371992804, 29.332812371992816, 29.632812371992827, 29.93281237199284, 30.0, 30.0, 30.0, 30.0, 30.0, 30.0, 30.0, 30.0, 30.0, 30.0, 30.0, 30.0, 30.0, 30.0, 30.0, 30.0, 30.0, 30.0, 30.0, 30.0, 30.0, 30.0, 30.0, 29.72948962523475, 29.45933653369451, 29.189543618449818, 28.920113818856237, 28.651050121660546, 28.38235556214073, 28.114033225284345, 27.846086247002688, 27.578517815387613, 27.31133117200585, 27.044529613239376, 26.778116491668413, 26.51209521750161, 26.24646926005539, 25.98124214928248, 25.716417477352707, 25.451998900293233, 25.187990139677936, 24.924394984385003, 24.66121729241138, 24.398460992755986, 24.13613008736661, 23.874228653165233, 23.612760844139302, 23.351730893518265, 23.09114311602798, 22.831001910230384, 22.57131176095527, 22.312077241822408, 22.05330301786489, 21.794993848253057, 21.537154589129273, 21.27979019655413, 21.02290572957088, 20.766506353398313, 20.51059734275327, 20.255184085310702]\n"
     ]
    },
    {
     "data": {
      "text/plain": [
       "[<matplotlib.lines.Line2D at 0xffff482a1970>]"
      ]
     },
     "execution_count": 15,
     "metadata": {},
     "output_type": "execute_result"
    },
    {
     "data": {
      "image/png": "[encoded data removed]",
      "text/plain": [
       "<Figure size 400x400 with 1 Axes>"
      ]
     },
     "metadata": {},
     "output_type": "display_data"
    },
    {
     "data": {
      "image/png": "[encoded data removed]",
      "text/plain": [
       "<Figure size 400x400 with 1 Axes>"
      ]
     },
     "metadata": {},
     "output_type": "display_data"
    }
   ],
   "source": [
    "cars = vfr_simulation.CARS\n",
    "car_0 = cars[1]\n",
    "xcors = car_0.xcorList\n",
    "plt.figure(figsize = (4,4))\n",
    "plt.plot(car_0.timeLog, car_0.xcorList)\n",
    "\n",
    "vList = []\n",
    "for i in range(len(xcors)-1):\n",
    "    v = (xcors[i+1] - xcors[i]) * 10\n",
    "    vList.append(v)\n",
    "\n",
    "print(vList[:120])\n",
    "\n",
    "plt.figure(figsize=(4,4))\n",
    "plt.plot(car_0.timeLog[:120], vList[:120])\n",
    "\n"
   ]
  },
  {
   "cell_type": "code",
   "execution_count": 13,
   "id": "2500ed11-5d99-4101-b37a-df202a1b93cb",
   "metadata": {},
   "outputs": [],
   "source": [
    "# 動画作成\n",
    "import cv2\n",
    "import os\n",
    "import re\n",
    "\n",
    "# カレントディレクトリを取得\n",
    "current_dir = os.getcwd()\n",
    "# 画像フォルダのパス\n",
    "image_folder = os.path.join(current_dir, 'images')\n",
    "video_file = f'output_video_TTC={TTC}.mp4'\n",
    "\n",
    "# 正規表現でファイル名からtの値を抽出\n",
    "def extract_t(filename):\n",
    "    match = re.search(r't=(\\d+\\.\\d+)', filename)\n",
    "    if match:\n",
    "        return float(match.group(1))\n",
    "    return None\n",
    "\n",
    "images = [img for img in os.listdir(image_folder) if img.endswith(\".png\")]\n",
    "images = sorted(images, key=lambda x: extract_t(x))\n",
    "\n",
    "# 画像から動画を作成\n",
    "frame = cv2.imread(os.path.join(image_folder, images[0]))\n",
    "height, width, layers = frame.shape\n",
    "\n",
    "# 動画ライターを設定\n",
    "fourcc = cv2.VideoWriter_fourcc(*'mp4v')\n",
    "video = cv2.VideoWriter(video_file, fourcc, 5, (width, height))  # フレームレートを5fpsに設定\n",
    "\n",
    "for image in images:\n",
    "    video.write(cv2.imread(os.path.join(image_folder, image)))\n",
    "\n",
    "# リソースを解放\n",
    "cv2.destroyAllWindows()\n",
    "video.release()"
   ]
  },
  {
   "cell_type": "markdown",
   "id": "56af06b9-12d0-4b8e-9c7a-b687b60e59b9",
   "metadata": {},
   "source": [
    "# ここから下はDebug用のセル"
   ]
  },
  {
   "cell_type": "code",
   "execution_count": 27,
   "id": "1c11393e-9560-43b3-b8e9-54f5ee9567d6",
   "metadata": {},
   "outputs": [
    {
     "ename": "IndexError",
     "evalue": "list index out of range",
     "output_type": "error",
     "traceback": [
      "\u001b[0;31m---------------------------------------------------------------------------\u001b[0m",
      "\u001b[0;31mIndexError\u001b[0m                                Traceback (most recent call last)",
      "Cell \u001b[0;32mIn[27], line 3\u001b[0m\n\u001b[1;32m      1\u001b[0m \u001b[38;5;66;03m# ↑の DFRのシミュレーションでつっかえた時のデバッグ用のセル\u001b[39;00m\n\u001b[0;32m----> 3\u001b[0m car_1 \u001b[38;5;241m=\u001b[39m \u001b[43mCARS\u001b[49m\u001b[43m[\u001b[49m\u001b[38;5;241;43m14\u001b[39;49m\u001b[43m]\u001b[49m\n\u001b[1;32m      4\u001b[0m \u001b[38;5;28mprint\u001b[39m(\u001b[38;5;124m\"\u001b[39m\u001b[38;5;124mETA\u001b[39m\u001b[38;5;124m\"\u001b[39m,car_1\u001b[38;5;241m.\u001b[39mmy_etas)\n\u001b[1;32m      5\u001b[0m \u001b[38;5;28mprint\u001b[39m(\u001b[38;5;124m\"\u001b[39m\u001b[38;5;124m===  acc_itinerary =====\u001b[39m\u001b[38;5;124m\"\u001b[39m)\n",
      "\u001b[0;31mIndexError\u001b[0m: list index out of range"
     ]
    }
   ],
   "source": [
    "# ↑の DFRのシミュレーションでつっかえた時のデバッグ用のセル. これは適宜上に上げて良い\n",
    "\n",
    "car_1 = CARS[14]\n",
    "print(\"ETA\",car_1.my_etas)\n",
    "print(\"===  acc_itinerary =====\")\n",
    "print(car_1.acc_itinerary)\n",
    "print(car_1.xcor)\n",
    "print(car_1.v_x)\n",
    "\n",
    "# print(\"acc:\",car.acc_itinerary)\n",
    "# table = simulation.reservation_table.eta_table\n",
    "# print(table[table[\"car_idx\"]<=4])"
   ]
  },
  {
   "cell_type": "code",
   "execution_count": 7,
   "id": "92ec4af8-031d-456f-85c1-d8fd5b659433",
   "metadata": {},
   "outputs": [
    {
     "name": "stdout",
     "output_type": "stream",
     "text": [
      "436.1188231038803\n"
     ]
    }
   ],
   "source": [
    "import sys \n",
    "sys.path.append(\"../\")\n",
    "from utils.calc_distance_from_acc_itinerary import calc_distance_from_acc_itinerary\n",
    "acc_itinerary = [{'acc': 0, 't_start': 29.113823476836664, 'v_0': 20, 't_end': 32.6, 'x_start': 0}, {'t_start': 32.6, 'acc': -3, 'v_0': 20.0, 't_end': 33.1}, {'t_start': 33.1, 'acc': 0, 'v_0': 18.5, 't_end': 45.120270270270275}, {'t_start': 45.120270270270275, 'acc': -3, 'v_0': 18.5, 't_end': 45.620270270270275}, {'t_start': 45.620270270270275, 'acc': 0, 'v_0': 17.0, 't_end': 52.745270270270275}, {'t_start': 52.745270270270275, 'acc': 2, 'v_0': 17.0, 't_end': 53.745270270270275}, {'t_start': 53.745270270270275, 'acc': 0, 'v_0': 19.0, 't_end': 56.804093799682036}, {'t_start': 56.804093799682036, 'acc': 2, 'v_0': 19.0, 't_end': 60.804093799682036}, {'t_start': 60.804093799682036, 'acc': 0, 'v_0': 27.0, 't_end': 60.90316500711238}]\n",
    "x = calc_distance_from_acc_itinerary(acc_itinerary, 53)\n",
    "print(x)"
   ]
  },
  {
   "cell_type": "code",
   "execution_count": 6,
   "id": "fa87c50d-339f-4af2-bbd5-eea052def94b",
   "metadata": {},
   "outputs": [
    {
     "data": {
      "text/plain": [
       "442.42488723520705"
      ]
     },
     "execution_count": 6,
     "metadata": {},
     "output_type": "execute_result"
    }
   ],
   "source": [
    "def calc_x_at_pointed_time(pointed_time, carObj, current_time):\n",
    "    acc_itinerary = carObj.acc_itinerary\n",
    "    car_x = carObj.xcor\n",
    "    # print(carObj.xcor, carObj.acc_itinerary)\n",
    "    v_0 = carObj.v_x\n",
    "    acc_itinerary_with_tend = carObj.acc_itinerary\n",
    "    # print(f\"carId: {carObj.car_idx}, acc_itinerary: {acc_itinerary_with_tend}\")\n",
    "\n",
    "    if len(acc_itinerary_with_tend) < 1:\n",
    "        raise ValueError(\"acc_itinerary is empty\")\n",
    "    if len(acc_itinerary_with_tend) == 1:\n",
    "        delta_t = pointed_time - current_time\n",
    "        delta_x = v_0 * delta_t + 0.5 * acc_itinerary_with_tend[0][\"acc\"] * delta_t**2 + car_x\n",
    "        return delta_x\n",
    "    \n",
    "    # 長さ2以上の場合\n",
    "    for idx, accObj in enumerate(acc_itinerary_with_tend):\n",
    "        if accObj[\"t_end\"] < current_time:\n",
    "            continue\n",
    "\n",
    "        # この区間を全うできる場合.\n",
    "        elif accObj[\"t_end\"] <= pointed_time:\n",
    "            delta_t = accObj[\"t_end\"] - accObj[\"t_start\"]\n",
    "            if accObj[\"t_start\"] < current_time:\n",
    "                delta_t = accObj[\"t_end\"] - current_time\n",
    "            delta_x = v_0 * delta_t + 0.5 * accObj[\"acc\"] * delta_t**2\n",
    "            car_x += delta_x\n",
    "            v_0 += delta_t * accObj[\"acc\"]\n",
    "\n",
    "        # 一番最後の区間の場合\n",
    "        elif idx == len(acc_itinerary) - 1 or accObj[\"t_end\"] > pointed_time:\n",
    "            delta_t = pointed_time - accObj[\"t_start\"]\n",
    "            if accObj[\"t_start\"] < current_time:\n",
    "                delta_t = accObj[\"t_end\"] - current_time\n",
    "            delta_x = v_0 * delta_t + 0.5 * accObj[\"acc\"] * delta_t**2\n",
    "            car_x += delta_x\n",
    "            break\n",
    "        else:\n",
    "            print(accObj, current_time, pointed_time, carObj.car_idx)\n",
    "            raise ValueError(\"Something wrong\")\n",
    "\n",
    "    return car_x\n",
    "\n",
    "calc_x_at_pointed_time(53, car_1, 48)"
   ]
  },
  {
   "cell_type": "code",
   "execution_count": null,
   "id": "f7922b2f-760b-431b-a6b1-674fe4a9885f",
   "metadata": {},
   "outputs": [],
   "source": []
  }
 ],
 "metadata": {
  "kernelspec": {
   "display_name": "Python 3 (ipykernel)",
   "language": "python",
   "name": "python3"
  },
  "language_info": {
   "codemirror_mode": {
    "name": "ipython",
    "version": 3
   },
   "file_extension": ".py",
   "mimetype": "text/x-python",
   "name": "python",
   "nbconvert_exporter": "python",
   "pygments_lexer": "ipython3",
   "version": "3.12.0"
  }
 },
 "nbformat": 4,
 "nbformat_minor": 5
}
