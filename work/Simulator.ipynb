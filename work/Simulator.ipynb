{
 "cells": [
  {
   "cell_type": "code",
   "execution_count": 27,
   "id": "6575b9cc-7c9f-4a31-999d-24cfb49cfbed",
   "metadata": {
    "tags": []
   },
   "outputs": [],
   "source": [
    "from simulation_classes.drones import Drones"
   ]
  },
  {
   "attachments": {},
   "cell_type": "markdown",
   "id": "89e0b1b2",
   "metadata": {},
   "source": [
    "### 続いてドローンの初期化を行う。\n",
    "まずは、ドローン2台でシンプルな追従モデルを作る。"
   ]
  },
  {
   "cell_type": "code",
   "execution_count": 28,
   "id": "fb3bd78b-ab70-48f6-a935-2569b0dd098f",
   "metadata": {},
   "outputs": [],
   "source": [
    "leader = Drones(1,0,1,1,1)\n",
    "follower = Drones(0,0,0,0.5,1)"
   ]
  },
  {
   "attachments": {},
   "cell_type": "markdown",
   "id": "dc62014e",
   "metadata": {},
   "source": []
  },
  {
   "cell_type": "code",
   "execution_count": 32,
   "id": "9a67482a",
   "metadata": {},
   "outputs": [
    {
     "name": "stdout",
     "output_type": "stream",
     "text": [
      "t=0.0\n",
      "2.6000000000000014\n",
      "0.6001241774563267\n",
      "\n",
      "t=0.1\n",
      "2.7000000000000015\n",
      "0.6752569139813338\n",
      "\n",
      "t=0.2\n",
      "2.8000000000000016\n",
      "0.7542037930002091\n",
      "\n",
      "t=0.30000000000000004\n",
      "2.9000000000000017\n",
      "0.836819643194925\n",
      "\n",
      "t=0.4\n",
      "3.0000000000000018\n",
      "0.9229582586887513\n",
      "\n"
     ]
    }
   ],
   "source": [
    "# start simulation\n",
    "\n",
    "delta_t = 0.1\n",
    "N = 5\n",
    "\n",
    "for i in range(N):\n",
    "  print(\"t={0}\".format(i * delta_t))\n",
    "  delta_x = leader.xcor - follower.xcor\n",
    "  leader.leader_update(delta_t)\n",
    "  follower.update(delta_t, delta_x)\n",
    "  print(\"\")\n",
    "\n",
    "\n"
   ]
  },
  {
   "cell_type": "code",
   "execution_count": null,
   "id": "83e0914a",
   "metadata": {},
   "outputs": [],
   "source": []
  }
 ],
 "metadata": {
  "kernelspec": {
   "display_name": "Python 3 (ipykernel)",
   "language": "python",
   "name": "python3"
  },
  "language_info": {
   "codemirror_mode": {
    "name": "ipython",
    "version": 3
   },
   "file_extension": ".py",
   "mimetype": "text/x-python",
   "name": "python",
   "nbconvert_exporter": "python",
   "pygments_lexer": "ipython3",
   "version": "3.11.2"
  },
  "vscode": {
   "interpreter": {
    "hash": "31f2aee4e71d21fbe5cf8b01ff0e069b9275f58929596ceb00d14d90e3e16cd6"
   }
  }
 },
 "nbformat": 4,
 "nbformat_minor": 5
}
