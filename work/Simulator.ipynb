{
 "cells": [
  {
   "cell_type": "code",
   "execution_count": 1,
   "id": "6575b9cc-7c9f-4a31-999d-24cfb49cfbed",
   "metadata": {
    "tags": []
   },
   "outputs": [],
   "source": [
    "from simulation_classes.drones import Drones\n",
    "%matplotlib inline\n",
    "import matplotlib.pyplot as plt"
   ]
  },
  {
   "attachments": {},
   "cell_type": "markdown",
   "id": "89e0b1b2",
   "metadata": {},
   "source": [
    "### 続いてドローンの初期化を行う。\n",
    "まずは、ドローン2台でシンプルな追従モデルを作る。"
   ]
  },
  {
   "cell_type": "code",
   "execution_count": 12,
   "id": "fb3bd78b-ab70-48f6-a935-2569b0dd098f",
   "metadata": {},
   "outputs": [],
   "source": [
    "leader = Drones(1,0,1,1,1)\n",
    "follower = Drones(0,0,0,1,1)"
   ]
  },
  {
   "cell_type": "code",
   "execution_count": 13,
   "id": "9a67482a",
   "metadata": {},
   "outputs": [],
   "source": [
    "# start simulation\n",
    "\n",
    "delta_t = 0.1\n",
    "N = 10\n",
    "\n",
    "for i in range(N):\n",
    "  delta_x = leader.xcor - follower.xcor\n",
    "  leader.leader_update(delta_t)\n",
    "  leader.record()\n",
    "\n",
    "  follower.update(delta_t, delta_x)\n",
    "  follower.record()\n",
    "\n",
    "  \n"
   ]
  },
  {
   "cell_type": "code",
   "execution_count": 15,
   "id": "83e0914a",
   "metadata": {},
   "outputs": [
    {
     "name": "stdout",
     "output_type": "stream",
     "text": [
      "[0, 0.007247520386614047, 0.021933002296045993, 0.04414534179155642, 0.07387442390588837, 0.11101988588048517, 0.15540359979743662, 0.2067837002109289, 0.26486855629322625, 0.3293296748937308, 0.3998130035474107]\n"
     ]
    }
   ],
   "source": [
    "print(follower.xcorList)"
   ]
  },
  {
   "cell_type": "code",
   "execution_count": null,
   "id": "fd5ef2cc",
   "metadata": {},
   "outputs": [],
   "source": []
  }
 ],
 "metadata": {
  "kernelspec": {
   "display_name": "Python 3 (ipykernel)",
   "language": "python",
   "name": "python3"
  },
  "language_info": {
   "codemirror_mode": {
    "name": "ipython",
    "version": 3
   },
   "file_extension": ".py",
   "mimetype": "text/x-python",
   "name": "python",
   "nbconvert_exporter": "python",
   "pygments_lexer": "ipython3",
   "version": "3.11.2"
  },
  "vscode": {
   "interpreter": {
    "hash": "31f2aee4e71d21fbe5cf8b01ff0e069b9275f58929596ceb00d14d90e3e16cd6"
   }
  }
 },
 "nbformat": 4,
 "nbformat_minor": 5
}
